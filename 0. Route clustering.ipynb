{
 "cells": [
  {
   "cell_type": "markdown",
   "id": "815e10fc",
   "metadata": {},
   "source": [
    "# I. Import and clean data"
   ]
  },
  {
   "cell_type": "code",
   "execution_count": 1,
   "id": "00ef820d",
   "metadata": {},
   "outputs": [],
   "source": [
    "import numpy as np\n",
    "import pandas as pd\n",
    "import matplotlib.pyplot as plt\n",
    "import seaborn as sns\n",
    "from statsmodels.tsa.vector_ar.vecm import coint_johansen\n",
    "import optuna"
   ]
  },
  {
   "cell_type": "code",
   "execution_count": 2,
   "id": "8b442812",
   "metadata": {},
   "outputs": [],
   "source": [
    "TTT = pd.read_excel('TTT.xlsx')"
   ]
  },
  {
   "cell_type": "code",
   "execution_count": 6,
   "id": "4666d119",
   "metadata": {},
   "outputs": [
    {
     "data": {
      "text/plain": [
       "YEAR         0\n",
       "FLT_MONTH    0\n",
       "FLT_DATE     0\n",
       "NET3         0\n",
       "AREA         4\n",
       "Country      4\n",
       "SECTOR_2W    0\n",
       "Pax          0\n",
       "dtype: int64"
      ]
     },
     "execution_count": 6,
     "metadata": {},
     "output_type": "execute_result"
    }
   ],
   "source": [
    "TTT.isna().sum()"
   ]
  },
  {
   "cell_type": "code",
   "execution_count": 9,
   "id": "de135b44",
   "metadata": {},
   "outputs": [],
   "source": [
    "TTT.dropna(inplace = True)"
   ]
  },
  {
   "cell_type": "code",
   "execution_count": 10,
   "id": "4c91679d",
   "metadata": {},
   "outputs": [
    {
     "name": "stdout",
     "output_type": "stream",
     "text": [
      "<class 'pandas.core.frame.DataFrame'>\n",
      "Int64Index: 349504 entries, 0 to 349507\n",
      "Data columns (total 8 columns):\n",
      " #   Column     Non-Null Count   Dtype         \n",
      "---  ------     --------------   -----         \n",
      " 0   YEAR       349504 non-null  int64         \n",
      " 1   FLT_MONTH  349504 non-null  int64         \n",
      " 2   FLT_DATE   349504 non-null  datetime64[ns]\n",
      " 3   NET3       349504 non-null  object        \n",
      " 4   AREA       349504 non-null  object        \n",
      " 5   Country    349504 non-null  object        \n",
      " 6   SECTOR_2W  349504 non-null  object        \n",
      " 7   Pax        349504 non-null  int64         \n",
      "dtypes: datetime64[ns](1), int64(3), object(4)\n",
      "memory usage: 24.0+ MB\n"
     ]
    }
   ],
   "source": [
    "TTT.info()"
   ]
  },
  {
   "cell_type": "code",
   "execution_count": 11,
   "id": "d134686e",
   "metadata": {},
   "outputs": [
    {
     "data": {
      "text/plain": [
       "array(['DOM', 'INT'], dtype=object)"
      ]
     },
     "execution_count": 11,
     "metadata": {},
     "output_type": "execute_result"
    }
   ],
   "source": [
    "TTT['NET3'].unique()"
   ]
  },
  {
   "cell_type": "code",
   "execution_count": 16,
   "id": "3944a697",
   "metadata": {},
   "outputs": [
    {
     "data": {
      "text/plain": [
       "array(['DIA PHUONG', 'DU LICH', 'HANDAD', 'HANSGN', 'SGNDAD', 'TRUC LE',\n",
       "       '(blank)', 'CLMV', 'EUR', 'MID', 'NEA', 'NOA', 'SEA', 'SWP', 'ZZ',\n",
       "       'AFR', 'CSA', 'SAS', 'ĐỊA PHƯƠNG', 'SAR', 'CCA'], dtype=object)"
      ]
     },
     "execution_count": 16,
     "metadata": {},
     "output_type": "execute_result"
    }
   ],
   "source": [
    "TTT['AREA'].unique()"
   ]
  },
  {
   "cell_type": "code",
   "execution_count": 18,
   "id": "f336f561",
   "metadata": {},
   "outputs": [],
   "source": [
    "TTT.drop(TTT.loc[TTT['AREA']=='(blank)'].index, inplace=True)"
   ]
  },
  {
   "cell_type": "code",
   "execution_count": 20,
   "id": "58b4f151",
   "metadata": {},
   "outputs": [
    {
     "data": {
      "text/plain": [
       "array(['VN', 'KH', 'LA', 'MM', 'DE', 'FR', 'RU', 'AE', 'QA', 'CN', 'HK',\n",
       "       'JP', 'KR', 'MO', 'TW', 'US', 'BN', 'ID', 'MY', 'PH', 'SG', 'TH',\n",
       "       'AU', 'GB', 'PL', 'ZZ', 'KE', 'FI', 'NZ', 'TR', 'UZ', 'IR', 'IN',\n",
       "       'IQ', 'BD', 'SZ', 'IT', 'SE', 'DK', 'NO', 'CZ', 'ES', 'BE', 'PT',\n",
       "       'AO', 'CO', 'BY', 'RO', 'GQ', 'CY', 'SA', 'UA', 'JO', 'NL', 'LK',\n",
       "       'IL', 'BH', 'OM', 'TK', 'AT', 'CA', 'HU', 'KZ', 'BT'], dtype=object)"
      ]
     },
     "execution_count": 20,
     "metadata": {},
     "output_type": "execute_result"
    }
   ],
   "source": [
    "TTT['Country'].unique()"
   ]
  },
  {
   "cell_type": "code",
   "execution_count": 22,
   "id": "b789e00c",
   "metadata": {},
   "outputs": [
    {
     "data": {
      "text/html": [
       "<div>\n",
       "<style scoped>\n",
       "    .dataframe tbody tr th:only-of-type {\n",
       "        vertical-align: middle;\n",
       "    }\n",
       "\n",
       "    .dataframe tbody tr th {\n",
       "        vertical-align: top;\n",
       "    }\n",
       "\n",
       "    .dataframe thead th {\n",
       "        text-align: right;\n",
       "    }\n",
       "</style>\n",
       "<table border=\"1\" class=\"dataframe\">\n",
       "  <thead>\n",
       "    <tr style=\"text-align: right;\">\n",
       "      <th></th>\n",
       "      <th>YEAR</th>\n",
       "      <th>FLT_MONTH</th>\n",
       "      <th>FLT_DATE</th>\n",
       "      <th>NET3</th>\n",
       "      <th>AREA</th>\n",
       "      <th>Country</th>\n",
       "      <th>SECTOR_2W</th>\n",
       "      <th>Pax</th>\n",
       "    </tr>\n",
       "  </thead>\n",
       "  <tbody>\n",
       "  </tbody>\n",
       "</table>\n",
       "</div>"
      ],
      "text/plain": [
       "Empty DataFrame\n",
       "Columns: [YEAR, FLT_MONTH, FLT_DATE, NET3, AREA, Country, SECTOR_2W, Pax]\n",
       "Index: []"
      ]
     },
     "execution_count": 22,
     "metadata": {},
     "output_type": "execute_result"
    }
   ],
   "source": [
    "TTT[TTT['SECTOR_2W']=='(blank)']"
   ]
  },
  {
   "cell_type": "code",
   "execution_count": 23,
   "id": "cfe21a19",
   "metadata": {},
   "outputs": [],
   "source": [
    "dom = TTT[TTT['NET3']=='DOM'].copy()"
   ]
  },
  {
   "cell_type": "code",
   "execution_count": 24,
   "id": "27a358c0",
   "metadata": {},
   "outputs": [
    {
     "data": {
      "text/html": [
       "<div>\n",
       "<style scoped>\n",
       "    .dataframe tbody tr th:only-of-type {\n",
       "        vertical-align: middle;\n",
       "    }\n",
       "\n",
       "    .dataframe tbody tr th {\n",
       "        vertical-align: top;\n",
       "    }\n",
       "\n",
       "    .dataframe thead th {\n",
       "        text-align: right;\n",
       "    }\n",
       "</style>\n",
       "<table border=\"1\" class=\"dataframe\">\n",
       "  <thead>\n",
       "    <tr style=\"text-align: right;\">\n",
       "      <th></th>\n",
       "      <th>YEAR</th>\n",
       "      <th>FLT_MONTH</th>\n",
       "      <th>FLT_DATE</th>\n",
       "      <th>NET3</th>\n",
       "      <th>AREA</th>\n",
       "      <th>Country</th>\n",
       "      <th>SECTOR_2W</th>\n",
       "      <th>Pax</th>\n",
       "    </tr>\n",
       "  </thead>\n",
       "  <tbody>\n",
       "    <tr>\n",
       "      <th>0</th>\n",
       "      <td>2015</td>\n",
       "      <td>1</td>\n",
       "      <td>2015-01-01</td>\n",
       "      <td>DOM</td>\n",
       "      <td>DIA PHUONG</td>\n",
       "      <td>VN</td>\n",
       "      <td>DADBMV</td>\n",
       "      <td>134</td>\n",
       "    </tr>\n",
       "    <tr>\n",
       "      <th>1</th>\n",
       "      <td>2015</td>\n",
       "      <td>1</td>\n",
       "      <td>2015-01-01</td>\n",
       "      <td>DOM</td>\n",
       "      <td>DIA PHUONG</td>\n",
       "      <td>VN</td>\n",
       "      <td>DADHPH</td>\n",
       "      <td>203</td>\n",
       "    </tr>\n",
       "    <tr>\n",
       "      <th>2</th>\n",
       "      <td>2015</td>\n",
       "      <td>1</td>\n",
       "      <td>2015-01-01</td>\n",
       "      <td>DOM</td>\n",
       "      <td>DIA PHUONG</td>\n",
       "      <td>VN</td>\n",
       "      <td>DADPXU</td>\n",
       "      <td>123</td>\n",
       "    </tr>\n",
       "    <tr>\n",
       "      <th>3</th>\n",
       "      <td>2015</td>\n",
       "      <td>1</td>\n",
       "      <td>2015-01-01</td>\n",
       "      <td>DOM</td>\n",
       "      <td>DIA PHUONG</td>\n",
       "      <td>VN</td>\n",
       "      <td>DADVCA</td>\n",
       "      <td>334</td>\n",
       "    </tr>\n",
       "    <tr>\n",
       "      <th>4</th>\n",
       "      <td>2015</td>\n",
       "      <td>1</td>\n",
       "      <td>2015-01-01</td>\n",
       "      <td>DOM</td>\n",
       "      <td>DIA PHUONG</td>\n",
       "      <td>VN</td>\n",
       "      <td>DADVII</td>\n",
       "      <td>118</td>\n",
       "    </tr>\n",
       "    <tr>\n",
       "      <th>...</th>\n",
       "      <td>...</td>\n",
       "      <td>...</td>\n",
       "      <td>...</td>\n",
       "      <td>...</td>\n",
       "      <td>...</td>\n",
       "      <td>...</td>\n",
       "      <td>...</td>\n",
       "      <td>...</td>\n",
       "    </tr>\n",
       "    <tr>\n",
       "      <th>349469</th>\n",
       "      <td>2023</td>\n",
       "      <td>2</td>\n",
       "      <td>2023-02-21</td>\n",
       "      <td>DOM</td>\n",
       "      <td>SGNDAD</td>\n",
       "      <td>VN</td>\n",
       "      <td>SGNDAD</td>\n",
       "      <td>4499</td>\n",
       "    </tr>\n",
       "    <tr>\n",
       "      <th>349470</th>\n",
       "      <td>2023</td>\n",
       "      <td>2</td>\n",
       "      <td>2023-02-21</td>\n",
       "      <td>DOM</td>\n",
       "      <td>TRUC LE</td>\n",
       "      <td>VN</td>\n",
       "      <td>HANVCA</td>\n",
       "      <td>938</td>\n",
       "    </tr>\n",
       "    <tr>\n",
       "      <th>349471</th>\n",
       "      <td>2023</td>\n",
       "      <td>2</td>\n",
       "      <td>2023-02-21</td>\n",
       "      <td>DOM</td>\n",
       "      <td>TRUC LE</td>\n",
       "      <td>VN</td>\n",
       "      <td>SGNHPH</td>\n",
       "      <td>1480</td>\n",
       "    </tr>\n",
       "    <tr>\n",
       "      <th>349472</th>\n",
       "      <td>2023</td>\n",
       "      <td>2</td>\n",
       "      <td>2023-02-21</td>\n",
       "      <td>DOM</td>\n",
       "      <td>TRUC LE</td>\n",
       "      <td>VN</td>\n",
       "      <td>SGNTHD</td>\n",
       "      <td>553</td>\n",
       "    </tr>\n",
       "    <tr>\n",
       "      <th>349473</th>\n",
       "      <td>2023</td>\n",
       "      <td>2</td>\n",
       "      <td>2023-02-21</td>\n",
       "      <td>DOM</td>\n",
       "      <td>TRUC LE</td>\n",
       "      <td>VN</td>\n",
       "      <td>SGNVII</td>\n",
       "      <td>1360</td>\n",
       "    </tr>\n",
       "  </tbody>\n",
       "</table>\n",
       "<p>133326 rows × 8 columns</p>\n",
       "</div>"
      ],
      "text/plain": [
       "        YEAR  FLT_MONTH   FLT_DATE NET3        AREA Country SECTOR_2W   Pax\n",
       "0       2015          1 2015-01-01  DOM  DIA PHUONG      VN    DADBMV   134\n",
       "1       2015          1 2015-01-01  DOM  DIA PHUONG      VN    DADHPH   203\n",
       "2       2015          1 2015-01-01  DOM  DIA PHUONG      VN    DADPXU   123\n",
       "3       2015          1 2015-01-01  DOM  DIA PHUONG      VN    DADVCA   334\n",
       "4       2015          1 2015-01-01  DOM  DIA PHUONG      VN    DADVII   118\n",
       "...      ...        ...        ...  ...         ...     ...       ...   ...\n",
       "349469  2023          2 2023-02-21  DOM      SGNDAD      VN    SGNDAD  4499\n",
       "349470  2023          2 2023-02-21  DOM     TRUC LE      VN    HANVCA   938\n",
       "349471  2023          2 2023-02-21  DOM     TRUC LE      VN    SGNHPH  1480\n",
       "349472  2023          2 2023-02-21  DOM     TRUC LE      VN    SGNTHD   553\n",
       "349473  2023          2 2023-02-21  DOM     TRUC LE      VN    SGNVII  1360\n",
       "\n",
       "[133326 rows x 8 columns]"
      ]
     },
     "execution_count": 24,
     "metadata": {},
     "output_type": "execute_result"
    }
   ],
   "source": [
    "dom"
   ]
  },
  {
   "cell_type": "code",
   "execution_count": 25,
   "id": "0f87f4b7",
   "metadata": {},
   "outputs": [
    {
     "data": {
      "text/plain": [
       "array(['DIA PHUONG', 'DU LICH', 'HANDAD', 'HANSGN', 'SGNDAD', 'TRUC LE',\n",
       "       'ĐỊA PHƯƠNG'], dtype=object)"
      ]
     },
     "execution_count": 25,
     "metadata": {},
     "output_type": "execute_result"
    }
   ],
   "source": [
    "dom['AREA'].unique()"
   ]
  },
  {
   "cell_type": "code",
   "execution_count": null,
   "id": "6f47481c",
   "metadata": {},
   "outputs": [],
   "source": []
  }
 ],
 "metadata": {
  "kernelspec": {
   "display_name": "Python 3 (ipykernel)",
   "language": "python",
   "name": "python3"
  },
  "language_info": {
   "codemirror_mode": {
    "name": "ipython",
    "version": 3
   },
   "file_extension": ".py",
   "mimetype": "text/x-python",
   "name": "python",
   "nbconvert_exporter": "python",
   "pygments_lexer": "ipython3",
   "version": "3.9.7"
  }
 },
 "nbformat": 4,
 "nbformat_minor": 5
}
