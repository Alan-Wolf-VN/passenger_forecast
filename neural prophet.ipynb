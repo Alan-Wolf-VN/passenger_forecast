{
 "cells": [
  {
   "cell_type": "markdown",
   "id": "349e4f84",
   "metadata": {},
   "source": [
    "# 1. Import libraries and data"
   ]
  },
  {
   "cell_type": "code",
   "execution_count": 1,
   "id": "3c9d1b5e",
   "metadata": {},
   "outputs": [
    {
     "name": "stderr",
     "output_type": "stream",
     "text": [
      "C:\\Users\\namtrantuan\\AppData\\Roaming\\Python\\Python39\\site-packages\\plotly_resampler\\aggregation\\aggregators.py:25: UserWarning: Could not import lttbc; will use a (slower) python alternative.\n",
      "  warnings.warn(\"Could not import lttbc; will use a (slower) python alternative.\")\n"
     ]
    }
   ],
   "source": [
    "import numpy as np\n",
    "import pandas as pd\n",
    "import matplotlib.pyplot as plt\n",
    "import seaborn as sns\n",
    "from sklearn.metrics import mean_squared_error, mean_absolute_error\n",
    "import optuna\n",
    "from neuralprophet import NeuralProphet\n",
    "from neuralprophet import set_random_seed\n",
    "import warnings\n",
    "warnings.filterwarnings(\"ignore\")\n",
    "set_random_seed(99)"
   ]
  },
  {
   "cell_type": "code",
   "execution_count": 2,
   "id": "2a45dd6d",
   "metadata": {},
   "outputs": [],
   "source": [
    "pd.options.display.float_format = '{:20,.0f}'.format"
   ]
  },
  {
   "cell_type": "code",
   "execution_count": 3,
   "id": "47e42727",
   "metadata": {},
   "outputs": [],
   "source": [
    "dom = pd.read_excel('dom.xlsx')\n",
    "dom = dom.rename(columns={'DATE': 'ds', 'Pax': 'y'})"
   ]
  },
  {
   "cell_type": "code",
   "execution_count": 4,
   "id": "5d2d35b2",
   "metadata": {},
   "outputs": [
    {
     "data": {
      "text/html": [
       "<div>\n",
       "<style scoped>\n",
       "    .dataframe tbody tr th:only-of-type {\n",
       "        vertical-align: middle;\n",
       "    }\n",
       "\n",
       "    .dataframe tbody tr th {\n",
       "        vertical-align: top;\n",
       "    }\n",
       "\n",
       "    .dataframe thead th {\n",
       "        text-align: right;\n",
       "    }\n",
       "</style>\n",
       "<table border=\"1\" class=\"dataframe\">\n",
       "  <thead>\n",
       "    <tr style=\"text-align: right;\">\n",
       "      <th></th>\n",
       "      <th>ds</th>\n",
       "      <th>y</th>\n",
       "      <th>seat</th>\n",
       "    </tr>\n",
       "  </thead>\n",
       "  <tbody>\n",
       "    <tr>\n",
       "      <th>0</th>\n",
       "      <td>2015-01-01</td>\n",
       "      <td>52356</td>\n",
       "      <td>59972</td>\n",
       "    </tr>\n",
       "    <tr>\n",
       "      <th>1</th>\n",
       "      <td>2015-01-02</td>\n",
       "      <td>47811</td>\n",
       "      <td>56277</td>\n",
       "    </tr>\n",
       "    <tr>\n",
       "      <th>2</th>\n",
       "      <td>2015-01-03</td>\n",
       "      <td>49555</td>\n",
       "      <td>60035</td>\n",
       "    </tr>\n",
       "    <tr>\n",
       "      <th>3</th>\n",
       "      <td>2015-01-04</td>\n",
       "      <td>57680</td>\n",
       "      <td>62548</td>\n",
       "    </tr>\n",
       "    <tr>\n",
       "      <th>4</th>\n",
       "      <td>2015-01-05</td>\n",
       "      <td>50193</td>\n",
       "      <td>58566</td>\n",
       "    </tr>\n",
       "  </tbody>\n",
       "</table>\n",
       "</div>"
      ],
      "text/plain": [
       "          ds      y   seat\n",
       "0 2015-01-01  52356  59972\n",
       "1 2015-01-02  47811  56277\n",
       "2 2015-01-03  49555  60035\n",
       "3 2015-01-04  57680  62548\n",
       "4 2015-01-05  50193  58566"
      ]
     },
     "execution_count": 4,
     "metadata": {},
     "output_type": "execute_result"
    }
   ],
   "source": [
    "dom.head()"
   ]
  },
  {
   "cell_type": "code",
   "execution_count": 5,
   "id": "bf2da834",
   "metadata": {},
   "outputs": [
    {
     "name": "stdout",
     "output_type": "stream",
     "text": [
      "<class 'pandas.core.frame.DataFrame'>\n",
      "RangeIndex: 2977 entries, 0 to 2976\n",
      "Data columns (total 3 columns):\n",
      " #   Column  Non-Null Count  Dtype         \n",
      "---  ------  --------------  -----         \n",
      " 0   ds      2977 non-null   datetime64[ns]\n",
      " 1   y       2977 non-null   int64         \n",
      " 2   seat    2977 non-null   int64         \n",
      "dtypes: datetime64[ns](1), int64(2)\n",
      "memory usage: 69.9 KB\n"
     ]
    }
   ],
   "source": [
    "dom.info()"
   ]
  },
  {
   "cell_type": "code",
   "execution_count": 6,
   "id": "06d77aba",
   "metadata": {},
   "outputs": [
    {
     "data": {
      "text/plain": [
       "<AxesSubplot:xlabel='ds'>"
      ]
     },
     "execution_count": 6,
     "metadata": {},
     "output_type": "execute_result"
    },
    {
     "data": {
      "image/png": "[encoded data removed]",
      "text/plain": [
       "<Figure size 432x288 with 1 Axes>"
      ]
     },
     "metadata": {
      "needs_background": "light"
     },
     "output_type": "display_data"
    }
   ],
   "source": [
    "dom.set_index('ds').plot()"
   ]
  },
  {
   "cell_type": "code",
   "execution_count": 7,
   "id": "6c35af08",
   "metadata": {},
   "outputs": [],
   "source": [
    "holidays = pd.read_excel('holidays.xlsx')"
   ]
  },
  {
   "cell_type": "code",
   "execution_count": 8,
   "id": "b4906063",
   "metadata": {},
   "outputs": [],
   "source": [
    "# changepoints là những mốc bắt đầu và kết thúc của các đợt dịch covid hoặc thay đổi về trend:\n",
    "changepoints = ['2020-03-09','2020-05-31','2020-07-28','2020-09-30','2021-01-25','2021-03-31','2021-04-30','2021-10-22']"
   ]
  },
  {
   "cell_type": "markdown",
   "id": "c58635f4",
   "metadata": {},
   "source": [
    "# 2. Build models"
   ]
  },
  {
   "cell_type": "code",
   "execution_count": 9,
   "id": "46df8d37",
   "metadata": {},
   "outputs": [],
   "source": [
    "train = dom[dom['ds'] < '2022-07-01'].copy()\n",
    "val = dom[(dom['ds'] >= '2022-07-01')&(dom['ds'] < '2023-01-01')].copy()\n",
    "test = dom[dom['ds'] >= '2023-01-01'].copy()"
   ]
  },
  {
   "cell_type": "code",
   "execution_count": 10,
   "id": "a5a80dab",
   "metadata": {},
   "outputs": [],
   "source": [
    "holidays = holidays.rename(columns={'holiday': 'event'})\n",
    "train_holidays = holidays[holidays['ds'] < '2022-07-01'].copy()\n",
    "val_holidays = holidays[(holidays['ds'] >= '2022-07-01')&(holidays['ds'] < '2023-01-01')].copy()\n",
    "test_holidays = holidays[holidays['ds'] >= '2023-01-01'].copy()"
   ]
  },
  {
   "cell_type": "code",
   "execution_count": 11,
   "id": "177e1bdb",
   "metadata": {},
   "outputs": [
    {
     "name": "stdout",
     "output_type": "stream",
     "text": [
      "Help on class NeuralProphet in module neuralprophet.forecaster:\n",
      "\n",
      "class NeuralProphet(builtins.object)\n",
      " |  NeuralProphet(growth: Literal['off', 'linear', 'discontinuous'] = 'linear', changepoints: Optional[list] = None, n_changepoints: int = 10, changepoints_range: float = 0.8, trend_reg: float = 0, trend_reg_threshold: Union[bool, float, NoneType] = False, trend_global_local: str = 'global', yearly_seasonality: Union[Literal['auto'], bool, int] = 'auto', weekly_seasonality: Union[Literal['auto'], bool, int] = 'auto', daily_seasonality: Union[Literal['auto'], bool, int] = 'auto', seasonality_mode: Literal['additive', 'multiplicative'] = 'additive', seasonality_reg: float = 0, season_global_local: Literal['global', 'local'] = 'global', n_forecasts: int = 1, n_lags: int = 0, num_hidden_layers: int = 0, d_hidden: Optional[int] = None, ar_reg: Optional[float] = None, learning_rate: Optional[float] = None, epochs: Optional[int] = None, batch_size: Optional[int] = None, loss_func: Union[str, torch.nn.modules.loss._Loss, Callable] = 'Huber', optimizer: Union[str, Type[torch.optim.optimizer.Optimizer]] = 'AdamW', newer_samples_weight: float = 2, newer_samples_start: float = 0.0, quantiles: List[float] = [], impute_missing: bool = True, impute_linear: int = 10, impute_rolling: int = 10, drop_missing: bool = False, collect_metrics: Union[List[str], bool, Dict[str, torchmetrics.metric.Metric]] = True, normalize: Literal['auto', 'soft', 'soft1', 'minmax', 'standardize', 'off'] = 'auto', global_normalization: bool = False, global_time_normalization: bool = True, unknown_data_normalization: bool = False, accelerator: Optional[str] = None, trainer_config: dict = {})\n",
      " |  \n",
      " |  NeuralProphet forecaster.\n",
      " |  \n",
      " |  A simple yet powerful forecaster that models:\n",
      " |  Trend, seasonality, events, holidays, auto-regression, lagged covariates, and future-known regressors.\n",
      " |  Can be regularized and configured to model nonlinear relationships.\n",
      " |  \n",
      " |  Parameters\n",
      " |  ----------\n",
      " |      COMMENT\n",
      " |      Trend Config\n",
      " |      COMMENT\n",
      " |      growth : {'off' or 'linear'}, default 'linear'\n",
      " |          Set use of trend growth type.\n",
      " |  \n",
      " |          Options:\n",
      " |              * ``off``: no trend.\n",
      " |              * (default) ``linear``: fits a piece-wise linear trend with ``n_changepoints + 1`` segments\n",
      " |              * ``discontinuous``: For advanced users only - not a conventional trend,\n",
      " |              allows arbitrary jumps at each trend changepoint\n",
      " |  \n",
      " |      changepoints : {list of str, list of np.datetimes or np.array of np.datetimes}, optional\n",
      " |          Manually set dates at which to include potential changepoints.\n",
      " |  \n",
      " |          Note\n",
      " |          ----\n",
      " |          Does not accept ``np.array`` of ``np.str``. If not specified, potential changepoints are selected automatically.\n",
      " |  \n",
      " |      n_changepoints : int\n",
      " |          Number of potential trend changepoints to include.\n",
      " |  \n",
      " |          Note\n",
      " |          ----\n",
      " |          Changepoints are selected uniformly from the first ``changepoint_range`` proportion of the history.\n",
      " |          Ignored if manual ``changepoints`` list is supplied.\n",
      " |      changepoints_range : float\n",
      " |          Proportion of history in which trend changepoints will be estimated.\n",
      " |  \n",
      " |          e.g. set to 0.8 to allow changepoints only in the first 80% of training data.\n",
      " |          Ignored if  manual ``changepoints`` list is supplied.\n",
      " |      trend_reg : float, optional\n",
      " |          Parameter modulating the flexibility of the automatic changepoint selection.\n",
      " |  \n",
      " |          Note\n",
      " |          ----\n",
      " |          Large values (~1-100) will limit the variability of changepoints.\n",
      " |          Small values (~0.001-1.0) will allow changepoints to change faster.\n",
      " |          default: 0 will fully fit a trend to each segment.\n",
      " |  \n",
      " |      trend_reg_threshold : bool, optional\n",
      " |          Allowance for trend to change without regularization.\n",
      " |  \n",
      " |          Options\n",
      " |              * ``True``: Automatically set to a value that leads to a smooth trend.\n",
      " |              * (default) ``False``: All changes in changepoints are regularized\n",
      " |  \n",
      " |      trend_global_local : str, default 'global'\n",
      " |          Modelling strategy of the trend when multiple time series are present.\n",
      " |  \n",
      " |          Options:\n",
      " |              * ``global``: All the elements are modelled with the same trend.\n",
      " |              * ``local``: Each element is modelled with a different trend.\n",
      " |  \n",
      " |          Note\n",
      " |          ----\n",
      " |          When only one time series is input, this parameter should not be provided.\n",
      " |          Internally it will be set to ``global``, meaning that all the elements(only one in this case)\n",
      " |          are modelled with the same trend.\n",
      " |  \n",
      " |      COMMENT\n",
      " |      Seasonality Config\n",
      " |      COMMENT\n",
      " |      yearly_seasonality : bool, int\n",
      " |          Fit yearly seasonality.\n",
      " |  \n",
      " |          Options\n",
      " |              * ``True`` or ``False``\n",
      " |              * ``auto``: set automatically\n",
      " |              * ``value``: number of Fourier/linear terms to generate\n",
      " |      weekly_seasonality : bool, int\n",
      " |          Fit monthly seasonality.\n",
      " |  \n",
      " |          Options\n",
      " |              * ``True`` or ``False``\n",
      " |              * ``auto``: set automatically\n",
      " |              * ``value``: number of Fourier/linear terms to generate\n",
      " |      daily_seasonality : bool, int\n",
      " |          Fit daily seasonality.\n",
      " |  \n",
      " |          Options\n",
      " |              * ``True`` or ``False``\n",
      " |              * ``auto``: set automatically\n",
      " |              * ``value``: number of Fourier/linear terms to generate\n",
      " |      seasonality_mode : str\n",
      " |          Specifies mode of seasonality\n",
      " |  \n",
      " |          Options\n",
      " |              * (default) ``additive``\n",
      " |              * ``multiplicative``\n",
      " |      seasonality_reg : float, optional\n",
      " |          Parameter modulating the strength of the seasonality model.\n",
      " |  \n",
      " |          Note\n",
      " |          ----\n",
      " |          Smaller values (~0.1-1) allow the model to fit larger seasonal fluctuations,\n",
      " |          larger values (~1-100) dampen the seasonality.\n",
      " |          default: None, no regularization\n",
      " |      season_global_local : str, default 'global'\n",
      " |          Modelling strategy of the seasonality when multiple time series are present.\n",
      " |          Options:\n",
      " |              * ``global``: All the elements are modelled with the same seasonality.\n",
      " |              * ``local``: Each element is modelled with a different seasonality.\n",
      " |          Note\n",
      " |          ----\n",
      " |          When only one time series is input, this parameter should not be provided.\n",
      " |          Internally it will be set to ``global``, meaning that all the elements(only one in this case)\n",
      " |          are modelled with the same seasonality.\n",
      " |  \n",
      " |      COMMENT\n",
      " |      AR Config\n",
      " |      COMMENT\n",
      " |      n_lags : int\n",
      " |          Previous time series steps to include in auto-regression. Aka AR-order\n",
      " |      ar_reg : float, optional\n",
      " |          how much sparsity to induce in the AR-coefficients\n",
      " |  \n",
      " |          Note\n",
      " |          ----\n",
      " |          Large values (~1-100) will limit the number of nonzero coefficients dramatically.\n",
      " |          Small values (~0.001-1.0) will allow more non-zero coefficients.\n",
      " |          default: 0 no regularization of coefficients.\n",
      " |  \n",
      " |      COMMENT\n",
      " |      Model Config\n",
      " |      COMMENT\n",
      " |      n_forecasts : int\n",
      " |          Number of steps ahead of prediction time step to forecast.\n",
      " |      num_hidden_layers : int, optional\n",
      " |          number of hidden layer to include in AR-Net (defaults to 0)\n",
      " |      d_hidden : int, optional\n",
      " |          dimension of hidden layers of the AR-Net. Ignored if ``num_hidden_layers`` == 0.\n",
      " |  \n",
      " |      COMMENT\n",
      " |      Train Config\n",
      " |      COMMENT\n",
      " |      learning_rate : float\n",
      " |          Maximum learning rate setting for 1cycle policy scheduler.\n",
      " |  \n",
      " |          Note\n",
      " |          ----\n",
      " |          Default ``None``: Automatically sets the ``learning_rate`` based on a learning rate range test.\n",
      " |          For manual user input, (try values ~0.001-10).\n",
      " |      epochs : int\n",
      " |          Number of epochs (complete iterations over dataset) to train model.\n",
      " |  \n",
      " |          Note\n",
      " |          ----\n",
      " |          Default ``None``: Automatically sets the number of epochs based on dataset size.\n",
      " |          For best results also leave batch_size to None. For manual values, try ~5-500.\n",
      " |      batch_size : int\n",
      " |          Number of samples per mini-batch.\n",
      " |  \n",
      " |          If not provided, ``batch_size`` is approximated based on dataset size.\n",
      " |          For manual values, try ~8-1024.\n",
      " |          For best results also leave ``epochs`` to ``None``.\n",
      " |      newer_samples_weight: float, default 2.0\n",
      " |          Sets factor by which the model fit is skewed towards more recent observations.\n",
      " |  \n",
      " |          Controls the factor by which final samples are weighted more compared to initial samples.\n",
      " |          Applies a positional weighting to each sample's loss value.\n",
      " |  \n",
      " |          e.g. ``newer_samples_weight = 2``: final samples are weighted twice as much as initial samples.\n",
      " |      newer_samples_start: float, default 0.0\n",
      " |          Sets beginning of 'newer' samples as fraction of training data.\n",
      " |  \n",
      " |          Throughout the range of 'newer' samples, the weight is increased\n",
      " |          from ``1.0/newer_samples_weight`` initially to 1.0 at the end,\n",
      " |          in a monotonously increasing function (cosine from pi to 2*pi).\n",
      " |      loss_func : str, torch.nn.functional.loss\n",
      " |          Type of loss to use:\n",
      " |  \n",
      " |          Options\n",
      " |              * (default) ``Huber``: Huber loss function\n",
      " |              * ``MSE``: Mean Squared Error loss function\n",
      " |              * ``MAE``: Mean Absolute Error loss function\n",
      " |              * ``torch.nn.functional.loss.``: loss or callable for custom loss, eg. L1-Loss\n",
      " |  \n",
      " |          Examples\n",
      " |          --------\n",
      " |          >>> from neuralprophet import NeuralProphet\n",
      " |          >>> import torch\n",
      " |          >>> import torch.nn as nn\n",
      " |          >>> m = NeuralProphet(loss_func=torch.nn.L1Loss)\n",
      " |  \n",
      " |      collect_metrics : list of str, dict, bool\n",
      " |          Set metrics to compute.\n",
      " |  \n",
      " |          Options\n",
      " |              * (default) ``True``: [``mae``, ``rmse``]\n",
      " |              * ``False``: No metrics\n",
      " |              * ``list``:  Valid options: [``mae``, ``rmse``, ``mse``]\n",
      " |              * ``dict``:  Collection of torchmetrics.Metric objects\n",
      " |  \n",
      " |          Examples\n",
      " |          --------\n",
      " |          >>> from neuralprophet import NeuralProphet\n",
      " |          >>> m = NeuralProphet(collect_metrics=[\"MSE\", \"MAE\", \"RMSE\"])\n",
      " |  \n",
      " |      COMMENT\n",
      " |      Uncertainty Estimation\n",
      " |      COMMENT\n",
      " |      quantiles : list, default None\n",
      " |          A list of float values between (0, 1) which indicate the set of quantiles to be estimated.\n",
      " |  \n",
      " |      COMMENT\n",
      " |      Missing Data\n",
      " |      COMMENT\n",
      " |      impute_missing : bool\n",
      " |          whether to automatically impute missing dates/values\n",
      " |  \n",
      " |          Note\n",
      " |          ----\n",
      " |          imputation follows a linear method up to 20 missing values, more are filled with trend.\n",
      " |      impute_linear : int\n",
      " |          maximal number of missing dates/values to be imputed linearly (default: ``10``)\n",
      " |      impute_rolling : int\n",
      " |          maximal number of missing dates/values to be imputed\n",
      " |          using rolling average (default: ``10``)\n",
      " |      drop_missing : bool\n",
      " |          whether to automatically drop missing samples from the data\n",
      " |  \n",
      " |          Options\n",
      " |              * (default) ``False``: Samples containing NaN values are not dropped.\n",
      " |              * ``True``: Any sample containing at least one NaN value will be dropped.\n",
      " |  \n",
      " |      COMMENT\n",
      " |      Data Normalization\n",
      " |      COMMENT\n",
      " |      normalize : str\n",
      " |          Type of normalization to apply to the time series.\n",
      " |  \n",
      " |          Options\n",
      " |              * ``off`` bypasses data normalization\n",
      " |              * (default, binary timeseries) ``minmax`` scales the minimum value to 0.0 and the maximum value to 1.0\n",
      " |              * ``standardize`` zero-centers and divides by the standard deviation\n",
      " |              * (default) ``soft`` scales the minimum value to 0.0 and the 95th quantile to 1.0\n",
      " |              * ``soft1`` scales the minimum value to 0.1 and the 90th quantile to 0.9\n",
      " |      global_normalization : bool\n",
      " |          Activation of global normalization\n",
      " |  \n",
      " |          Options\n",
      " |              * ``True``: dict of dataframes is used as global_time_normalization\n",
      " |              * (default) ``False``: local normalization\n",
      " |      global_time_normalization : bool\n",
      " |          Specifies global time normalization\n",
      " |  \n",
      " |          Options\n",
      " |              * (default) ``True``: only valid in case of global modeling local normalization\n",
      " |              * ``False``: set time data_params locally\n",
      " |      unknown_data_normalization : bool\n",
      " |          Specifies unknown data normalization\n",
      " |  \n",
      " |          Options\n",
      " |              * ``True``: test data is normalized with global data params even if trained with local data params (global modeling with local normalization)\n",
      " |              * (default) ``False``: no global modeling with local normalization\n",
      " |      accelerator: str\n",
      " |          Name of accelerator from pytorch_lightning.accelerators to use for training. Use \"auto\" to automatically select an available accelerator.\n",
      " |          Provide `None` to deactivate the use of accelerators.\n",
      " |      trainer_config: dict\n",
      " |          Dictionary of additional trainer configuration parameters.\n",
      " |  \n",
      " |  Methods defined here:\n",
      " |  \n",
      " |  __init__(self, growth: Literal['off', 'linear', 'discontinuous'] = 'linear', changepoints: Optional[list] = None, n_changepoints: int = 10, changepoints_range: float = 0.8, trend_reg: float = 0, trend_reg_threshold: Union[bool, float, NoneType] = False, trend_global_local: str = 'global', yearly_seasonality: Union[Literal['auto'], bool, int] = 'auto', weekly_seasonality: Union[Literal['auto'], bool, int] = 'auto', daily_seasonality: Union[Literal['auto'], bool, int] = 'auto', seasonality_mode: Literal['additive', 'multiplicative'] = 'additive', seasonality_reg: float = 0, season_global_local: Literal['global', 'local'] = 'global', n_forecasts: int = 1, n_lags: int = 0, num_hidden_layers: int = 0, d_hidden: Optional[int] = None, ar_reg: Optional[float] = None, learning_rate: Optional[float] = None, epochs: Optional[int] = None, batch_size: Optional[int] = None, loss_func: Union[str, torch.nn.modules.loss._Loss, Callable] = 'Huber', optimizer: Union[str, Type[torch.optim.optimizer.Optimizer]] = 'AdamW', newer_samples_weight: float = 2, newer_samples_start: float = 0.0, quantiles: List[float] = [], impute_missing: bool = True, impute_linear: int = 10, impute_rolling: int = 10, drop_missing: bool = False, collect_metrics: Union[List[str], bool, Dict[str, torchmetrics.metric.Metric]] = True, normalize: Literal['auto', 'soft', 'soft1', 'minmax', 'standardize', 'off'] = 'auto', global_normalization: bool = False, global_time_normalization: bool = True, unknown_data_normalization: bool = False, accelerator: Optional[str] = None, trainer_config: dict = {})\n",
      " |      Initialize self.  See help(type(self)) for accurate signature.\n",
      " |  \n",
      " |  add_country_holidays(self, country_name, lower_window=0, upper_window=0, regularization=None, mode='additive')\n",
      " |      Add a country into the NeuralProphet object to include country specific holidays\n",
      " |      and create the corresponding configs such as lower, upper windows and the regularization\n",
      " |      parameters\n",
      " |      \n",
      " |      Holidays can only be added for a single country. Calling the function\n",
      " |      multiple times will override already added country holidays.\n",
      " |      \n",
      " |      Parameters\n",
      " |      ----------\n",
      " |          country_name : str, list\n",
      " |              name or list of names of the country\n",
      " |          lower_window : int\n",
      " |              the lower window for all the country holidays\n",
      " |          upper_window : int\n",
      " |              the upper window for all the country holidays\n",
      " |          regularization : float\n",
      " |              optional  scale for regularization strength\n",
      " |          mode : str\n",
      " |              ``additive`` (default) or ``multiplicative``.\n",
      " |  \n",
      " |  add_events(self, events, lower_window=0, upper_window=0, regularization=None, mode='additive')\n",
      " |      Add user specified events and their corresponding lower, upper windows and the\n",
      " |      regularization parameters into the NeuralProphet object\n",
      " |      \n",
      " |      Parameters\n",
      " |      ----------\n",
      " |          events : str, list\n",
      " |              name or list of names of user specified events\n",
      " |          lower_window : int\n",
      " |              the lower window for the events in the list of events\n",
      " |          upper_window : int\n",
      " |              the upper window for the events in the list of events\n",
      " |          regularization : float\n",
      " |              optional  scale for regularization strength\n",
      " |          mode : str\n",
      " |              ``additive`` (default) or ``multiplicative``.\n",
      " |  \n",
      " |  add_future_regressor(self, name, regularization=None, normalize='auto', mode='additive')\n",
      " |      Add a regressor as lagged covariate with order 1 (scalar) or as known in advance (also scalar).\n",
      " |      \n",
      " |      The dataframe passed to :meth:`fit`  and :meth:`predict` will have a column with the specified name to be used as\n",
      " |      a regressor. When normalize=True, the regressor will be normalized unless it is binary.\n",
      " |      \n",
      " |      Note\n",
      " |      ----\n",
      " |      Future Regressors have to be known for the entire forecast horizon, e.g. ``n_forecasts`` into the future.\n",
      " |      \n",
      " |      Parameters\n",
      " |      ----------\n",
      " |          name : string\n",
      " |              name of the regressor.\n",
      " |          regularization : float\n",
      " |              optional  scale for regularization strength\n",
      " |          normalize : bool\n",
      " |              optional, specify whether this regressor will be normalized prior to fitting.\n",
      " |      \n",
      " |              Note\n",
      " |              ----\n",
      " |              if ``auto``, binary regressors will not be normalized.\n",
      " |          mode : str\n",
      " |              ``additive`` (default) or ``multiplicative``.\n",
      " |  \n",
      " |  add_lagged_regressor(self, names, n_lags: Union[int, Literal['auto', 'scalar']] = 'auto', regularization: Optional[float] = None, normalize='auto')\n",
      " |      Add a covariate or list of covariate time series as additional lagged regressors to be used for fitting and predicting.\n",
      " |      The dataframe passed to ``fit`` and ``predict`` will have the column with the specified name to be used as\n",
      " |      lagged regressor. When normalize=True, the covariate will be normalized unless it is binary.\n",
      " |      \n",
      " |      Parameters\n",
      " |      ----------\n",
      " |          names : string or list\n",
      " |              name of the regressor/list of regressors.\n",
      " |          n_lags : int\n",
      " |              previous regressors time steps to use as input in the predictor (covar order)\n",
      " |              if ``auto``, time steps will be equivalent to the AR order (default)\n",
      " |              if ``scalar``, all the regressors will only use last known value as input\n",
      " |          regularization : float\n",
      " |              optional  scale for regularization strength\n",
      " |          normalize : bool\n",
      " |              optional, specify whether this regressor will benormalized prior to fitting.\n",
      " |              if ``auto``, binary regressors will not be normalized.\n",
      " |  \n",
      " |  add_seasonality(self, name, period, fourier_order, condition_name=None)\n",
      " |      Add a seasonal component with specified period, number of Fourier components, and regularization.\n",
      " |      \n",
      " |      Increasing the number of Fourier components allows the seasonality to change more quickly\n",
      " |      (at risk of overfitting).\n",
      " |      Note: regularization and mode (additive/multiplicative) are set in the main init.\n",
      " |      \n",
      " |      If condition_name is provided, the dataframe passed to `fit` and\n",
      " |      `predict` should have a column with the specified condition_name\n",
      " |      containing only zeros and ones, deciding when to apply seasonality.\n",
      " |      Floats between 0 and 1 can be used to apply seasonality partially.\n",
      " |      \n",
      " |      Parameters\n",
      " |      ----------\n",
      " |          name : string\n",
      " |              name of the seasonality component.\n",
      " |          period : float\n",
      " |              number of days in one period.\n",
      " |          fourier_order : int\n",
      " |              number of Fourier components to use.\n",
      " |          condition_name : string\n",
      " |              string name of the seasonality condition.\n",
      " |  \n",
      " |  conformal_predict(self, df: pandas.core.frame.DataFrame, calibration_df: pandas.core.frame.DataFrame, alpha: float, method: str = 'naive', plotting_backend: str = 'default', **kwargs) -> pandas.core.frame.DataFrame\n",
      " |      Apply a given conformal prediction technique to get the uncertainty prediction intervals (or q-hats). Then predict.\n",
      " |      \n",
      " |      Parameters\n",
      " |      ----------\n",
      " |          df : pd.DataFrame\n",
      " |              test dataframe containing column ``ds``, ``y``, and optionally ``ID`` with data\n",
      " |          calibration_df : pd.DataFrame\n",
      " |              holdout calibration dataframe for split conformal prediction\n",
      " |          alpha : float\n",
      " |              user-specified significance level of the prediction interval\n",
      " |          method : str\n",
      " |              name of conformal prediction technique used\n",
      " |      \n",
      " |              Options\n",
      " |                  * (default) ``naive``: Naive or Absolute Residual\n",
      " |                  * ``cqr``: Conformalized Quantile Regression\n",
      " |          plotting_backend : str\n",
      " |              specifies the plotting backend for the nonconformity scores plot, if any\n",
      " |      \n",
      " |              Options\n",
      " |                  * ``None``: No plotting is shown\n",
      " |                  * ``plotly``: Use the plotly backend for plotting\n",
      " |                  * ``matplotlib``: Use matplotlib backend for plotting\n",
      " |                  * ``default`` (default): Use matplotlib backend for plotting\n",
      " |          kwargs : dict\n",
      " |              additional predict parameters for test df\n",
      " |  \n",
      " |  create_df_with_events(self, df, events_df)\n",
      " |      Create a concatenated dataframe with the time series data along with the events data expanded.\n",
      " |      \n",
      " |      Parameters\n",
      " |      ----------\n",
      " |          df : pd.DataFrame\n",
      " |              dataframe containing column ``ds``, ``y``, and optionally``ID`` with all data\n",
      " |          events_df : dict, pd.DataFrame\n",
      " |              containing column ``ds`` and ``event``\n",
      " |      \n",
      " |      Returns\n",
      " |      -------\n",
      " |          dict, pd.DataFrame\n",
      " |              columns ``y``, ``ds`` and other user specified events\n",
      " |  \n",
      " |  crossvalidation_split_df(self, df, freq='auto', k=5, fold_pct=0.1, fold_overlap_pct=0.5, global_model_cv_type='global-time')\n",
      " |      Splits timeseries data in k folds for crossvalidation.\n",
      " |      \n",
      " |      Parameters\n",
      " |      ----------\n",
      " |          df : pd.DataFrame\n",
      " |              dataframe containing column ``ds``, ``y``, and optionally``ID`` with all data\n",
      " |          freq : str\n",
      " |              data step sizes. Frequency of data recording,\n",
      " |      \n",
      " |              Note\n",
      " |              ----\n",
      " |              Any valid frequency for pd.date_range, such as ``5min``, ``D``, ``MS`` or ``auto`` (default) to automatically set frequency.\n",
      " |          k : int\n",
      " |              number of CV folds\n",
      " |          fold_pct : float\n",
      " |              percentage of overall samples to be in each fold\n",
      " |          fold_overlap_pct : float\n",
      " |              percentage of overlap between the validation folds.\n",
      " |          global_model_cv_type : str\n",
      " |              Type of crossvalidation to apply to the dict of time series.\n",
      " |      \n",
      " |                  options:\n",
      " |      \n",
      " |                      ``global-time`` (default) crossvalidation is performed according to a timestamp threshold.\n",
      " |      \n",
      " |                      ``local`` each episode will be crossvalidated locally (may cause time leakage among different episodes)\n",
      " |      \n",
      " |                      ``intersect`` only the time intersection of all the episodes will be considered. A considerable amount of data may not be used. However, this approach guarantees an equal number of train/test samples for each episode.\n",
      " |      \n",
      " |      Returns\n",
      " |      -------\n",
      " |          list of k tuples [(df_train, df_val), ...]\n",
      " |      \n",
      " |              training data\n",
      " |      \n",
      " |              validation data\n",
      " |      See Also\n",
      " |      --------\n",
      " |          split_df : Splits timeseries df into train and validation sets.\n",
      " |          double_crossvalidation_split_df : Splits timeseries data in two sets of k folds for crossvalidation on training and testing data.\n",
      " |      \n",
      " |      Examples\n",
      " |      --------\n",
      " |          >>> df1 = pd.DataFrame({'ds': pd.date_range(start = '2022-12-01', periods = 10, freq = 'D'),\n",
      " |          ...                     'y': [9.59, 8.52, 8.18, 8.07, 7.89, 8.09, 7.84, 7.65, 8.71, 8.09]})\n",
      " |          >>> df2 = pd.DataFrame({'ds': pd.date_range(start = '2022-12-02', periods = 10, freq = 'D'),\n",
      " |          ...                     'y': [8.71, 8.09, 7.84, 7.65, 8.02, 8.52, 8.18, 8.07, 8.25, 8.30]})\n",
      " |          >>> df3 = pd.DataFrame({'ds': pd.date_range(start = '2022-12-03', periods = 10, freq = 'D'),\n",
      " |          ...                     'y': [7.67, 7.64, 7.55, 8.25, 8.32, 9.59, 8.52, 7.55, 8.25, 8.09]})\n",
      " |          >>> df3\n",
      " |              ds              y\n",
      " |          0   2022-12-03      7.67\n",
      " |          1   2022-12-04      7.64\n",
      " |          2   2022-12-05      7.55\n",
      " |          3   2022-12-06      8.25\n",
      " |          4   2022-12-07      8.32\n",
      " |          5   2022-12-08      9.59\n",
      " |          6   2022-12-09      8.52\n",
      " |          7   2022-12-10      7.55\n",
      " |          8   2022-12-11      8.25\n",
      " |          9   2022-12-12      8.09\n",
      " |      \n",
      " |      You can create folds for a single dataframe.\n",
      " |          >>> folds = m.crossvalidation_split_df(df3, k = 2, fold_pct = 0.2)\n",
      " |          >>> folds\n",
      " |          [(  ds            y\n",
      " |              0 2022-12-03  7.67\n",
      " |              1 2022-12-04  7.64\n",
      " |              2 2022-12-05  7.55\n",
      " |              3 2022-12-06  8.25\n",
      " |              4 2022-12-07  8.32\n",
      " |              5 2022-12-08  9.59\n",
      " |              6 2022-12-09  8.52,\n",
      " |              ds            y\n",
      " |              0 2022-12-10  7.55\n",
      " |              1 2022-12-11  8.25),\n",
      " |          (   ds            y\n",
      " |              0 2022-12-03  7.67\n",
      " |              1 2022-12-04  7.64\n",
      " |              2 2022-12-05  7.55\n",
      " |              3 2022-12-06  8.25\n",
      " |              4 2022-12-07  8.32\n",
      " |              5 2022-12-08  9.59\n",
      " |              6 2022-12-09  8.52\n",
      " |              7 2022-12-10  7.55,\n",
      " |              ds            y\n",
      " |              0 2022-12-11  8.25\n",
      " |              1 2022-12-12  8.09)]\n",
      " |      \n",
      " |      We can also create a df with many IDs.\n",
      " |          >>> df1['ID'] = 'data1'\n",
      " |          >>> df2['ID'] = 'data2'\n",
      " |          >>> df3['ID'] = 'data3'\n",
      " |          >>> df = pd.concat((df1, df2, df3))\n",
      " |      \n",
      " |      When using the df with many IDs, there are three types of possible crossvalidation. The default crossvalidation is performed according to a timestamp threshold. In this case, we can have a different number of samples for each time series per fold. This approach prevents time leakage.\n",
      " |          >>> folds = m.crossvalidation_split_df(df, k = 2, fold_pct = 0.2)\n",
      " |      One can notice how each of the folds has a different number of samples for the validation set. Nonetheless, time leakage does not occur.\n",
      " |          >>> folds[0][1]\n",
      " |              ds      y       ID\n",
      " |          0   2022-12-10      8.09    data1\n",
      " |          1   2022-12-10      8.25    data2\n",
      " |          2   2022-12-11      8.30    data2\n",
      " |          3   2022-12-10      7.55    data3\n",
      " |          4   2022-12-11      8.25    data3\n",
      " |          >>> folds[1][1]\n",
      " |              ds      y       ID\n",
      " |          0   2022-12-11      8.30    data2\n",
      " |          1   2022-12-11      8.25    data3\n",
      " |          2   2022-12-12      8.09    data3\n",
      " |      In some applications, crossvalidating each of the time series locally may be more adequate.\n",
      " |          >>> folds = m.crossvalidation_split_df(df, k = 2, fold_pct = 0.2, global_model_cv_type = 'local')\n",
      " |      In this way, we prevent a different number of validation samples in each fold.\n",
      " |          >>> folds[0][1]\n",
      " |              ds      y       ID\n",
      " |          0   2022-12-08      7.65    data1\n",
      " |          1   2022-12-09      8.71    data1\n",
      " |          2   2022-12-09      8.07    data2\n",
      " |          3   2022-12-10      8.25    data2\n",
      " |          4   2022-12-10      7.55    data3\n",
      " |          5   2022-12-11      8.25    data3\n",
      " |          >>> folds[1][1]\n",
      " |              ds      y       ID\n",
      " |          0   2022-12-09      8.71    data1\n",
      " |          1   2022-12-10      8.09    data1\n",
      " |          2   2022-12-10      8.25    data2\n",
      " |          3   2022-12-11      8.30    data2\n",
      " |          4   2022-12-11      8.25    data3\n",
      " |          5   2022-12-12      8.09    data3\n",
      " |      The last type of global model crossvalidation gets the time intersection among all the time series used. There is no time leakage in this case, and we preserve the same number of samples per fold. The only drawback of this approach is that some of the samples may not be used (those not in the time intersection).\n",
      " |          >>> folds = m.crossvalidation_split_df(df, k = 2, fold_pct = 0.2, global_model_cv_type = 'intersect')\n",
      " |          >>> folds[0][1]\n",
      " |              ds      y       ID\n",
      " |          0   2022-12-09      8.71    data1\n",
      " |          1   2022-12-09      8.07    data2\n",
      " |          2   2022-12-09      8.52    data3\n",
      " |          0 2022-12-09  8.52}\n",
      " |          >>> folds[1][1]\n",
      " |              ds      y       ID\n",
      " |          0   2022-12-10      8.09    data1\n",
      " |          1   2022-12-10      8.25    data2\n",
      " |          2   2022-12-10      7.55    data3\n",
      " |  \n",
      " |  double_crossvalidation_split_df(self, df, freq='auto', k=5, valid_pct=0.1, test_pct=0.1)\n",
      " |      Splits timeseries data in two sets of k folds for crossvalidation on training and testing data.\n",
      " |      \n",
      " |      Parameters\n",
      " |      ----------\n",
      " |          df : pd.DataFrame\n",
      " |              dataframe containing column ``ds``, ``y``, and optionally``ID`` with all data\n",
      " |          freq : str\n",
      " |              data step sizes. Frequency of data recording,\n",
      " |      \n",
      " |              Note\n",
      " |              ----\n",
      " |              Any valid frequency for pd.date_range, such as ``5min``, ``D``, ``MS`` or ``auto`` (default) to automatically set frequency.\n",
      " |          k : int\n",
      " |              number of CV folds\n",
      " |          valid_pct : float\n",
      " |              percentage of overall samples to be in validation\n",
      " |          test_pct : float\n",
      " |              percentage of overall samples to be in test\n",
      " |      \n",
      " |      Returns\n",
      " |      -------\n",
      " |          tuple of k tuples [(folds_val, folds_test), …]\n",
      " |              elements same as :meth:`crossvalidation_split_df` returns\n",
      " |  \n",
      " |  fit(self, df: pandas.core.frame.DataFrame, freq: str = 'auto', validation_df: pandas.core.frame.DataFrame = None, epochs: int = None, batch_size: int = None, learning_rate: float = None, early_stopping: bool = False, minimal: bool = False, metrics: Union[List[str], bool, Dict[str, torchmetrics.metric.Metric]] = None, progress: Optional[str] = 'bar', checkpointing: bool = False, continue_training: bool = False, num_workers: int = 0)\n",
      " |      Train, and potentially evaluate model.\n",
      " |      \n",
      " |      Training/validation metrics may be distorted in case of auto-regression,\n",
      " |      if a large number of NaN values are present in df and/or validation_df.\n",
      " |      \n",
      " |      Parameters\n",
      " |      ----------\n",
      " |          df : pd.DataFrame\n",
      " |              containing column ``ds``, ``y``, and optionally``ID`` with all data\n",
      " |          freq : str\n",
      " |              Data step sizes. Frequency of data recording,\n",
      " |      \n",
      " |              Note\n",
      " |              ----\n",
      " |              Any valid frequency for pd.date_range, such as ``5min``, ``D``, ``MS`` or ``auto`` (default) to automatically set frequency.\n",
      " |          validation_df : pd.DataFrame, dict\n",
      " |              If provided, model with performance  will be evaluated after each training epoch over this data.\n",
      " |          epochs : int\n",
      " |              Number of epochs to train for. If None, uses the number of epochs specified in the model config.\n",
      " |          batch_size : int\n",
      " |              Batch size for training. If None, uses the batch size specified in the model config.\n",
      " |          learning_rate : float\n",
      " |              Learning rate for training. If None, uses the learning rate specified in the model config.\n",
      " |          early_stopping : bool\n",
      " |              Flag whether to use early stopping to stop training when training / validation loss is no longer improving.\n",
      " |          minimal : bool\n",
      " |              Minimal mode deactivates metrics, the progress bar and checkpointing. Control more granular by using the `metrics`, `progress` and `checkpointing` parameters.\n",
      " |          metrics : bool\n",
      " |              Flag whether to collect metrics during training. If None, uses the metrics specified in the model config.\n",
      " |          progress : str\n",
      " |              Flag whether to show a progress bar during training. If None, uses the progress specified in the model config.\n",
      " |      \n",
      " |              Options\n",
      " |              * (default) ``bar``\n",
      " |              * ``plot``\n",
      " |              * `None`\n",
      " |          checkpointing : bool\n",
      " |              Flag whether to save checkpoints during training\n",
      " |          continue_training : bool\n",
      " |              Flag whether to continue training from the last checkpoint\n",
      " |          num_workers : int\n",
      " |              Number of workers for data loading. If 0, data will be loaded in the main process.\n",
      " |              Note: using multiple workers and therefore distributed training might significantly increase\n",
      " |              the training time since each batch needs to be copied to each worker for each epoch. Keeping\n",
      " |              all data on the main process might be faster for most datasets.\n",
      " |      \n",
      " |      Returns\n",
      " |      -------\n",
      " |          pd.DataFrame\n",
      " |              metrics with training and potentially evaluation metrics\n",
      " |  \n",
      " |  get_latest_forecast(self, fcst, df_name=None, include_history_data=False, include_previous_forecasts=0)\n",
      " |      Get the latest NeuralProphet forecast, optional including historical data.\n",
      " |      \n",
      " |      Parameters\n",
      " |      ----------\n",
      " |          fcst : pd.DataFrame, dict\n",
      " |              output of self.predict.\n",
      " |          df_name : str\n",
      " |              ID from time series that should forecast\n",
      " |          include_history_data : bool\n",
      " |              specifies whether to include historical data\n",
      " |          include_previous_forecasts : int\n",
      " |              specifies how many forecasts before latest forecast to include\n",
      " |      Returns\n",
      " |      -------\n",
      " |          pd.DataFrame\n",
      " |              columns ``ds``, ``y``, and [``origin-<i>``]\n",
      " |      \n",
      " |              Note\n",
      " |              ----\n",
      " |              where origin-<i> refers to the (i+1)-th latest prediction for this row's datetime.\n",
      " |              e.g. origin-3 is the prediction for this datetime, predicted 4 steps before the last step.\n",
      " |              The very latest predcition is origin-0.\n",
      " |      Examples\n",
      " |      --------\n",
      " |      We may get the df of the latest forecast:\n",
      " |          >>> forecast = m.predict(df)\n",
      " |          >>> df_forecast = m.get_latest_forecast(forecast)\n",
      " |      \n",
      " |      Number of steps before latest forecast could be included:\n",
      " |          >>> df_forecast = m.get_latest_forecast(forecast, include_previous_forecast=3)\n",
      " |      \n",
      " |      Historical data could be included, however be aware that the df could be large:\n",
      " |          >>> df_forecast = m.get_latest_forecast(forecast, include_history_data=True)\n",
      " |  \n",
      " |  handle_negative_values(self, df, handle='remove', columns=None)\n",
      " |      Handle negative values in the given columns.\n",
      " |      If no column or handling are provided, negative values in all numeric columns are removed.\n",
      " |      \n",
      " |      Parameters\n",
      " |      ----------\n",
      " |          df : pd.DataFrame\n",
      " |              dataframe containing column ``ds``, ``y`` with all data\n",
      " |          handling : {str, int, float}, optional\n",
      " |              specified handling of negative values in the regressor column. Can be one of the following options:\n",
      " |      \n",
      " |              Options\n",
      " |                      * (default) ``remove``: Remove all negative values in the specified columns.\n",
      " |                      * ``error``: Raise an error in case of a negative value.\n",
      " |                      * ``float`` or ``int``: Replace negative values with the provided value.\n",
      " |          columns : list of str, optional\n",
      " |              names of the columns to process\n",
      " |      \n",
      " |      Returns\n",
      " |      -------\n",
      " |          pd.DataFrame\n",
      " |              input df with negative values handled\n",
      " |  \n",
      " |  highlight_nth_step_ahead_of_each_forecast(self, step_number=None)\n",
      " |      Set which forecast step to focus on for metrics evaluation and plotting.\n",
      " |      \n",
      " |      Parameters\n",
      " |      ----------\n",
      " |          step_number : int\n",
      " |              i-th step ahead forecast to use for statistics and plotting.\n",
      " |      \n",
      " |              Note\n",
      " |              ----\n",
      " |              Set to None to reset.\n",
      " |  \n",
      " |  make_future_dataframe(self, df, events_df=None, regressors_df=None, periods=None, n_historic_predictions=False)\n",
      " |      Extends dataframe a number of periods (time steps) into the future.\n",
      " |      \n",
      " |      Only use if you predict into the *unknown* future.\n",
      " |      New timestamps are added to the historic dataframe, with the 'y' column being NaN, as it remains to be predicted.\n",
      " |      Further, the given future events and regressors are added to the periods new timestamps.\n",
      " |      The returned dataframe will include historic data needed to additionally produce `n_historic_predictions`,\n",
      " |      for which there are historic observances of the series 'y'.\n",
      " |      \n",
      " |      Parameters\n",
      " |      ----------\n",
      " |          df: pd.DataFrame\n",
      " |              History to date. DataFrame containing all columns up to present\n",
      " |          events_df : pd.DataFrame\n",
      " |              Future event occurrences corresponding to `periods` steps into future.\n",
      " |              Contains columns ``ds`` and ``event``. The event column contains the name of the event.\n",
      " |          regressor_df : pd.DataFrame\n",
      " |              Future regressor values corresponding to `periods` steps into future.\n",
      " |              Contains column ``ds`` and one column for each of the external regressors.\n",
      " |          periods : int\n",
      " |              number of steps to extend the DataFrame into the future\n",
      " |          n_historic_predictions : bool, int\n",
      " |              Includes historic data needed to predict `n_historic_predictions` timesteps,\n",
      " |              for which there are historic observances of the series 'y'.\n",
      " |              False: drop historic data except for needed inputs to predict future.\n",
      " |              True: include entire history.\n",
      " |      \n",
      " |      Returns\n",
      " |      -------\n",
      " |          pd.DataFrame\n",
      " |              input df with ``ds`` extended into future, ``y`` set to None,\n",
      " |              with future events and regressors added.\n",
      " |      \n",
      " |      Examples\n",
      " |      --------\n",
      " |          >>> from neuralprophet import NeuralProphet\n",
      " |          >>> m = NeuralProphet()\n",
      " |          >>> # set the model to expect these events\n",
      " |          >>> m = m.add_events([\"playoff\", \"superbowl\"])\n",
      " |          >>> # create the data df with events\n",
      " |          >>> history_df = m.create_df_with_events(df, events_df)\n",
      " |          >>> metrics = m.fit(history_df, freq=\"D\")\n",
      " |          >>> # forecast with events known ahead\n",
      " |          >>> future = m.make_future_dataframe(\n",
      " |          >>>     history_df, events_df, periods=365, n_historic_predictions=180\n",
      " |          >>> )\n",
      " |          >>> # get 180 past and 365 future predictions.\n",
      " |          >>> forecast = m.predict(df=future)\n",
      " |  \n",
      " |  plot(self, fcst, df_name=None, ax=None, xlabel='ds', ylabel='y', figsize=(10, 6), plotting_backend='default', forecast_in_focus=None)\n",
      " |      Plot the NeuralProphet forecast, including history.\n",
      " |      \n",
      " |      Parameters\n",
      " |      ----------\n",
      " |          fcst : pd.DataFrame\n",
      " |              output of self.predict.\n",
      " |          df_name : str\n",
      " |              ID from time series that should be plotted\n",
      " |          ax : matplotlib axes\n",
      " |              optional, matplotlib axes on which to plot.\n",
      " |          xlabel : string\n",
      " |              label name on X-axis\n",
      " |          ylabel : string\n",
      " |              label name on Y-axis\n",
      " |          figsize : tuple\n",
      " |              width, height in inches. default: (10, 6)\n",
      " |          plotting_backend : str\n",
      " |              optional, overwrites the default plotting backend.\n",
      " |      \n",
      " |              Options\n",
      " |              * ``plotly``: Use plotly for plotting\n",
      " |              * ``matplotlib``: use matplotlib for plotting\n",
      " |              * (default) ``default``: use the global default for plotting\n",
      " |          forecast_in_focus: int\n",
      " |              optinal, i-th step ahead forecast to plot\n",
      " |      \n",
      " |              Note\n",
      " |              ----\n",
      " |              None (default): plot self.highlight_forecast_step_n by default\n",
      " |  \n",
      " |  plot_components(self, fcst, df_name='__df__', figsize=None, forecast_in_focus=None, plotting_backend='default', components=None, one_period_per_season=False)\n",
      " |      Plot the NeuralProphet forecast components.\n",
      " |      \n",
      " |      Parameters\n",
      " |      ----------\n",
      " |          fcst : pd.DataFrame\n",
      " |              output of self.predict\n",
      " |          df_name : str\n",
      " |              ID from time series that should be plotted\n",
      " |          figsize : tuple\n",
      " |              width, height in inches.\n",
      " |      \n",
      " |              Note\n",
      " |              ----\n",
      " |              None (default):  automatic (10, 3 * npanel)\n",
      " |          forecast_in_focus: int\n",
      " |              optinal, i-th step ahead forecast to plot\n",
      " |      \n",
      " |              Note\n",
      " |              ----\n",
      " |              None (default): plot self.highlight_forecast_step_n by default\n",
      " |          plotting_backend : str\n",
      " |              optional, overwrites the default plotting backend.\n",
      " |      \n",
      " |              Options\n",
      " |              * ``plotly``: Use plotly for plotting\n",
      " |              * ``matplotlib``: use matplotlib for plotting\n",
      " |              * (default) ``default``: use the global default for plotting\n",
      " |      \n",
      " |          components: str or list, optional\n",
      " |              name or list of names of components to plot\n",
      " |      \n",
      " |              Options\n",
      " |              ----\n",
      " |              * (default)``None``:  All components the user set in the model configuration are plotted.\n",
      " |              * ``trend``\n",
      " |              * ``seasonality``: select all seasonalities\n",
      " |              * ``autoregression``\n",
      " |              * ``lagged_regressors``: select all lagged regressors\n",
      " |              * ``future_regressors``: select all future regressors\n",
      " |              * ``events``: select all events and country holidays\n",
      " |              * ``uncertainty``\n",
      " |          one_period_per_season : bool\n",
      " |              Plot one period per season, instead of the true seasonal components of the forecast.\n",
      " |      \n",
      " |      Returns\n",
      " |      -------\n",
      " |          matplotlib.axes.Axes\n",
      " |              plot of NeuralProphet components\n",
      " |  \n",
      " |  plot_last_forecast(self, fcst, df_name=None, ax=None, xlabel='ds', ylabel='y', figsize=(10, 6), include_previous_forecasts=0, plot_history_data=None, plotting_backend='default')\n",
      " |  \n",
      " |  plot_latest_forecast(self, fcst, df_name=None, ax=None, xlabel='ds', ylabel='y', figsize=(10, 6), include_previous_forecasts=0, plot_history_data=None, plotting_backend='default')\n",
      " |      Plot the latest NeuralProphet forecast(s), including history.\n",
      " |      \n",
      " |      Parameters\n",
      " |      ----------\n",
      " |          fcst : pd.DataFrame\n",
      " |              output of self.predict.\n",
      " |          df_name : str\n",
      " |              ID from time series that should be plotted\n",
      " |          ax : matplotlib axes\n",
      " |              Optional, matplotlib axes on which to plot.\n",
      " |          xlabel : str\n",
      " |              label name on X-axis\n",
      " |          ylabel : str\n",
      " |              abel name on Y-axis\n",
      " |          figsize : tuple\n",
      " |               width, height in inches. default: (10, 6)\n",
      " |          include_previous_forecasts : int\n",
      " |              number of previous forecasts to include in plot\n",
      " |          plot_history_data : bool\n",
      " |              specifies plot of historical data\n",
      " |          plotting_backend : str\n",
      " |              optional, overwrites the default plotting backend.\n",
      " |      \n",
      " |              Options\n",
      " |              * ``plotly``: Use plotly for plotting\n",
      " |              * ``matplotlib``: use matplotlib for plotting\n",
      " |              * (default) ``default``: use the global default for plotting\n",
      " |      Returns\n",
      " |      -------\n",
      " |          matplotlib.axes.Axes\n",
      " |              plot of NeuralProphet forecasting\n",
      " |  \n",
      " |  plot_parameters(self, weekly_start=0, yearly_start=0, figsize=None, forecast_in_focus=None, df_name=None, plotting_backend='default', quantile=None, components=None)\n",
      " |      Plot the NeuralProphet forecast components.\n",
      " |      \n",
      " |      Parameters\n",
      " |      ----------\n",
      " |          weekly_start : int\n",
      " |              specifying the start day of the weekly seasonality plot.\n",
      " |      \n",
      " |              Note\n",
      " |              ----\n",
      " |              0 (default) starts the week on Sunday. 1 shifts by 1 day to Monday, and so on.\n",
      " |          yearly_start : int\n",
      " |              specifying the start day of the yearly seasonality plot.\n",
      " |      \n",
      " |              Note\n",
      " |              ----\n",
      " |              0 (default) starts the year on Jan 1. 1 shifts by 1 day to Jan 2, and so on.\n",
      " |          df_name : str\n",
      " |              name of dataframe to refer to data params from original keys of train dataframes (used for local normalization in global modeling)\n",
      " |          figsize : tuple\n",
      " |              width, height in inches.\n",
      " |      \n",
      " |              Note\n",
      " |              ----\n",
      " |              None (default):  automatic (10, 3 * npanel)\n",
      " |          forecast_in_focus: int\n",
      " |              optinal, i-th step ahead forecast to plot\n",
      " |      \n",
      " |              Note\n",
      " |              ----\n",
      " |              None (default): plot self.highlight_forecast_step_n by default\n",
      " |          plotting_backend : str\n",
      " |              optional, overwrites the default plotting backend.\n",
      " |      \n",
      " |              Options\n",
      " |              * ``plotly``: Use plotly for plotting\n",
      " |              * ``matplotlib``: use matplotlib for plotting\n",
      " |              * (default) ``default``: use the global default for plotting\n",
      " |      \n",
      " |      \n",
      " |              Note\n",
      " |              ----\n",
      " |              For multiple time series and local modeling of at least one component, the df_name parameter is required.\n",
      " |      \n",
      " |          quantile : float\n",
      " |              The quantile for which the model parameters are to be plotted\n",
      " |      \n",
      " |              Note\n",
      " |              ----\n",
      " |              None (default):  Parameters will be plotted for the median quantile.\n",
      " |      \n",
      " |          components: str or list, optional\n",
      " |              name or list of names of parameters to plot\n",
      " |      \n",
      " |             Options\n",
      " |              ----\n",
      " |              * (default) ``None``:  All parameter the user set in the model configuration are plotted.\n",
      " |              * ``trend``\n",
      " |              * ``trend_rate_change``\n",
      " |              * ``seasonality``: : select all seasonalities\n",
      " |              * ``autoregression``\n",
      " |              * ``lagged_regressors``: select all lagged regressors\n",
      " |              * ``events``: select all events and country holidays\n",
      " |              * ``future_regressors``: select all future regressors\n",
      " |      \n",
      " |      Returns\n",
      " |      -------\n",
      " |          matplotlib.axes.Axes\n",
      " |              plot of NeuralProphet forecasting\n",
      " |  \n",
      " |  predict(self, df, decompose=True, raw=False)\n",
      " |      Runs the model to make predictions.\n",
      " |      \n",
      " |      Expects all data needed to be present in dataframe.\n",
      " |      If you are predicting into the unknown future and need to add future regressors or events,\n",
      " |      please prepare data with make_future_dataframe.\n",
      " |      \n",
      " |      Parameters\n",
      " |      ----------\n",
      " |          df : pd.DataFrame\n",
      " |              dataframe containing column ``ds``, ``y``, and optionally``ID`` with data\n",
      " |          decompose : bool\n",
      " |              whether to add individual components of forecast to the dataframe\n",
      " |          raw : bool\n",
      " |              specifies raw data\n",
      " |      \n",
      " |              Options\n",
      " |                  * (default) ``False``: returns forecasts sorted by target (highlighting forecast age)\n",
      " |                  * ``True``: return the raw forecasts sorted by forecast start date\n",
      " |      \n",
      " |      Returns\n",
      " |      -------\n",
      " |          pd.DataFrame\n",
      " |              dependent on ``raw``\n",
      " |      \n",
      " |              Note\n",
      " |              ----\n",
      " |      \n",
      " |              ``raw == True``: columns ``ds``, ``y``, and [``step<i>``] where step<i> refers to the i-step-ahead\n",
      " |              prediction *made at* this row's datetime, e.g. step3 is the prediction for 3 steps into the future,\n",
      " |              predicted using information up to (excluding) this datetime.\n",
      " |      \n",
      " |              ``raw == False``: columns ``ds``, ``y``, ``trend`` and [``yhat<i>``] where yhat<i> refers to\n",
      " |              the i-step-ahead prediction for this row's datetime,\n",
      " |              e.g. yhat3 is the prediction for this datetime, predicted 3 steps ago, \"3 steps old\".\n",
      " |  \n",
      " |  predict_seasonal_components(self, df, quantile=0.5)\n",
      " |      Predict seasonality components\n",
      " |      \n",
      " |      Parameters\n",
      " |      ----------\n",
      " |          df : pd.DataFrame\n",
      " |              dataframe containing columns ``ds``, ``y``, and optionally``ID`` with all data\n",
      " |          quantile : float\n",
      " |              the quantile in (0, 1) that needs to be predicted\n",
      " |      \n",
      " |      Returns\n",
      " |      -------\n",
      " |          pd.DataFrame, dict\n",
      " |              seasonal components with columns of name <seasonality component name>\n",
      " |  \n",
      " |  predict_trend(self, df, quantile=0.5)\n",
      " |      Predict only trend component of the model.\n",
      " |      \n",
      " |      Parameters\n",
      " |      ----------\n",
      " |          df : pd.DataFrame\n",
      " |              dataframe containing column ``ds``, ``y``, and optionally``ID`` with all data\n",
      " |          quantile : float\n",
      " |              the quantile in (0, 1) that needs to be predicted\n",
      " |      \n",
      " |      Returns\n",
      " |      -------\n",
      " |          pd.DataFrame, dict\n",
      " |              trend on prediction dates.\n",
      " |  \n",
      " |  restore_trainer(self)\n",
      " |      Restore the trainer based on the forecaster configuration.\n",
      " |  \n",
      " |  set_plotting_backend(self, plotting_backend)\n",
      " |      Set plotting backend.\n",
      " |      \n",
      " |      Parameters\n",
      " |      ----------\n",
      " |          plotting_backend : str\n",
      " |          Specifies plotting backend to use for all plots. Can be configured individually for each plot.\n",
      " |      \n",
      " |          Options\n",
      " |              * ``plotly``: Use the plotly backend for plotting\n",
      " |              * (default) ``matplotlib``: use matplotlib for plotting\n",
      " |  \n",
      " |  set_true_ar_for_eval(self, true_ar_weights)\n",
      " |      Configures model to evaluate closeness of AR weights to true weights.\n",
      " |      \n",
      " |      Parameters\n",
      " |      ----------\n",
      " |          true_ar_weights : np.array\n",
      " |              true AR-parameters, if known.\n",
      " |  \n",
      " |  split_df(self, df, freq='auto', valid_p=0.2, local_split=False)\n",
      " |      Splits timeseries df into train and validation sets.\n",
      " |      Prevents leakage of targets. Sharing/Overbleed of inputs can be configured.\n",
      " |      Also performs basic data checks and fills in missing data, unless impute_missing is set to ``False``.\n",
      " |      \n",
      " |      Parameters\n",
      " |      ----------\n",
      " |          df : pd.DataFrame\n",
      " |              dataframe containing column ``ds``, ``y``, and optionally``ID`` with all data\n",
      " |          freq : str\n",
      " |              data step sizes. Frequency of data recording,\n",
      " |      \n",
      " |              Note\n",
      " |              ----\n",
      " |              Any valid frequency for pd.date_range, such as ``5min``, ``D``, ``MS`` or ``auto`` (default) to automatically set frequency.\n",
      " |          valid_p : float\n",
      " |              fraction of data to use for holdout validation set, targets will still never be shared.\n",
      " |          local_split : bool\n",
      " |              Each dataframe will be split according to valid_p locally (in case of dict of dataframes\n",
      " |      \n",
      " |      Returns\n",
      " |      -------\n",
      " |          tuple of two pd.DataFrames\n",
      " |      \n",
      " |              training data\n",
      " |      \n",
      " |              validation data\n",
      " |      \n",
      " |      See Also\n",
      " |      --------\n",
      " |          crossvalidation_split_df : Splits timeseries data in k folds for crossvalidation.\n",
      " |          double_crossvalidation_split_df : Splits timeseries data in two sets of k folds for crossvalidation on training and testing data.\n",
      " |      \n",
      " |      Examples\n",
      " |      --------\n",
      " |          >>> df1 = pd.DataFrame({'ds': pd.date_range(start = '2022-12-01', periods = 5,\n",
      " |          ...                     freq='D'), 'y': [9.59, 8.52, 8.18, 8.07, 7.89]})\n",
      " |          >>> df2 = pd.DataFrame({'ds': pd.date_range(start = '2022-12-09', periods = 5,\n",
      " |          ...                     freq='D'), 'y': [8.71, 8.09, 7.84, 7.65, 8.02]})\n",
      " |          >>> df3 = pd.DataFrame({'ds': pd.date_range(start = '2022-12-09', periods = 5,\n",
      " |          ...                     freq='D'), 'y': [7.67, 7.64, 7.55, 8.25, 8.3]})\n",
      " |          >>> df3\n",
      " |              ds              y\n",
      " |          0   2022-12-09      7.67\n",
      " |          1   2022-12-10      7.64\n",
      " |          2   2022-12-11      7.55\n",
      " |          3   2022-12-12      8.25\n",
      " |          4   2022-12-13      8.30\n",
      " |      \n",
      " |      You can split a single dataframe, which also may contain NaN values.\n",
      " |      Please be aware this may affect training/validation performance.\n",
      " |          >>> (df_train, df_val) = m.split_df(df3, valid_p = 0.2)\n",
      " |          >>> df_train\n",
      " |              ds              y\n",
      " |          0   2022-12-09      7.67\n",
      " |          1   2022-12-10      7.64\n",
      " |          2   2022-12-11      7.55\n",
      " |          3   2022-12-12      8.25\n",
      " |          >>> df_val\n",
      " |              ds              y\n",
      " |          0   2022-12-13      8.3\n",
      " |      \n",
      " |      One can define a single df with many time series identified by an 'ID' column.\n",
      " |          >>> df1['ID'] = 'data1'\n",
      " |          >>> df2['ID'] = 'data2'\n",
      " |          >>> df3['ID'] = 'data3'\n",
      " |          >>> df = pd.concat((df1, df2, df3))\n",
      " |      \n",
      " |      You can use a df with many IDs (especially useful for global modeling), which will account for the time range of the whole group of time series as default.\n",
      " |          >>> (df_train, df_val) = m.split_df(df, valid_p = 0.2)\n",
      " |          >>> df_train\n",
      " |              ds      y       ID\n",
      " |          0   2022-12-01      9.59    data1\n",
      " |          1   2022-12-02      8.52    data1\n",
      " |          2   2022-12-03      8.18    data1\n",
      " |          3   2022-12-04      8.07    data1\n",
      " |          4   2022-12-05      7.89    data1\n",
      " |          5   2022-12-09      8.71    data2\n",
      " |          6   2022-12-10      8.09    data2\n",
      " |          7   2022-12-11      7.84    data2\n",
      " |          8   2022-12-09      7.67    data3\n",
      " |          9   2022-12-10      7.64    data3\n",
      " |          10  2022-12-11      7.55    data3\n",
      " |          >>> df_val\n",
      " |              ds      y       ID\n",
      " |          0   2022-12-12      7.65    data2\n",
      " |          1   2022-12-13      8.02    data2\n",
      " |          2   2022-12-12      8.25    data3\n",
      " |          3   2022-12-13      8.30    data3\n",
      " |      \n",
      " |      In some applications, splitting locally each time series may be helpful. In this case, one should set `local_split` to True.\n",
      " |          >>> (df_train, df_val) = m.split_df(df, valid_p = 0.2, local_split = True)\n",
      " |          >>> df_train\n",
      " |              ds      y       ID\n",
      " |          0   2022-12-01      9.59    data1\n",
      " |          1   2022-12-02      8.52    data1\n",
      " |          2   2022-12-03      8.18    data1\n",
      " |          3   2022-12-04      8.07    data1\n",
      " |          4   2022-12-09      8.71    data2\n",
      " |          5   2022-12-10      8.09    data2\n",
      " |          6   2022-12-11      7.84    data2\n",
      " |          7   2022-12-12      7.65    data2\n",
      " |          8   2022-12-09      7.67    data3\n",
      " |          9   2022-12-10      7.64    data3\n",
      " |          10  2022-12-11      7.55    data3\n",
      " |          11  2022-12-12      8.25    data3\n",
      " |          >>> df_val\n",
      " |              ds      y       ID\n",
      " |          0   2022-12-05      7.89    data1\n",
      " |          1   2022-12-13      8.02    data2\n",
      " |          2   2022-12-13      8.30    data3\n",
      " |  \n",
      " |  test(self, df)\n",
      " |      Evaluate model on holdout data.\n",
      " |      \n",
      " |      Parameters\n",
      " |      ----------\n",
      " |          df : pd.DataFrame\n",
      " |              dataframe containing column ``ds``, ``y``, and optionally``ID`` with with holdout data\n",
      " |      Returns\n",
      " |      -------\n",
      " |          pd.DataFrame\n",
      " |              evaluation metrics\n",
      " |  \n",
      " |  ----------------------------------------------------------------------\n",
      " |  Data descriptors defined here:\n",
      " |  \n",
      " |  __dict__\n",
      " |      dictionary for instance variables (if defined)\n",
      " |  \n",
      " |  __weakref__\n",
      " |      list of weak references to the object (if defined)\n",
      "\n"
     ]
    }
   ],
   "source": [
    "help(NeuralProphet)"
   ]
  },
  {
   "cell_type": "code",
   "execution_count": 12,
   "id": "47656632",
   "metadata": {},
   "outputs": [],
   "source": [
    "def objective(trial):\n",
    "    set_random_seed(99)\n",
    "    \"\"\"Define the objective function\"\"\"\n",
    "\n",
    "    params = {\n",
    "        'trend_reg': trial.suggest_float('trend_reg',0.001,10),\n",
    "        'seasonality_reg': trial.suggest_float('seasonality_reg',0.1, 10),\n",
    "        'seasonality_mode': trial.suggest_categorical('seasonality_mode',['multiplicative', 'additive']),\n",
    "        'yearly_seasonality':trial.suggest_int('yearly_seasonality',10,40),\n",
    "        'weekly_seasonality':trial.suggest_int('weekly_seasonality',1,20),\n",
    "        'n_lags':trial.suggest_int('n_lags',1,365*3),\n",
    "        'ar_reg':trial.suggest_float('ar_reg',0,10),\n",
    "        #'newer_samples_weight':trial.suggest_float('newer_samples_weight',0,10),\n",
    "        'learning_rate':trial.suggest_float('learning_rate',0.001,5),\n",
    "        'num_hidden_layers':trial.suggest_int('num_hidden_layers',0,3)\n",
    "    }\n",
    "    lagged_regressor_params = {'regularization':trial.suggest_float('regularization',0,1)}\n",
    "    \n",
    "    # Create the model\n",
    "    optuna_model = NeuralProphet(**params, changepoints = changepoints, daily_seasonality = False, n_forecasts = 365)\n",
    "    optuna_model.add_events(events = ['covid_1','covid_2','covid_3','covid_4'], mode='multiplicative')  \n",
    "    optuna_model.add_events(events = ['Labor','Lunar','Summer'], mode='multiplicative')\n",
    "    optuna_model.add_lagged_regressor('seat', **lagged_regressor_params)\n",
    "    \n",
    "    # create the data df with events\n",
    "    train_df = optuna_model.create_df_with_events(train, train_holidays)\n",
    "    val_df = optuna_model.create_df_with_events(val, val_holidays)\n",
    "    \n",
    "    # Fit the model\n",
    "    metrics = optuna_model.fit(train_df, freq=\"D\")\n",
    "\n",
    "    # Make predictions\n",
    "    future_df = optuna_model.make_future_dataframe(train_df, events_df=holidays)\n",
    "    optuna_forecast = optuna_model.predict(df=future_df)\n",
    "    latest = optuna_model.get_latest_forecast(optuna_forecast)\n",
    "\n",
    "    # Evaluate prediction\n",
    "    result = val_df.merge(latest,how = 'left', on = 'ds')\n",
    "    result.set_index('ds', inplace = True)\n",
    "    rmse = np.sqrt(mean_squared_error(result['y_x'], result['origin-0'])).round(0)\n",
    "    return rmse"
   ]
  },
  {
   "cell_type": "code",
   "execution_count": 13,
   "id": "9622bb35",
   "metadata": {},
   "outputs": [
    {
     "name": "stderr",
     "output_type": "stream",
     "text": [
      "\u001b[32m[I 2023-03-02 09:07:46,569]\u001b[0m A new study created in memory with name: no-name-cac3218a-c2c9-4bc1-896d-4cc17e7c9588\u001b[0m\n"
     ]
    }
   ],
   "source": [
    "study = optuna.create_study(direction='minimize', sampler=optuna.samplers.TPESampler(seed=99))"
   ]
  },
  {
   "cell_type": "code",
   "execution_count": 14,
   "id": "3efda25e",
   "metadata": {},
   "outputs": [
    {
     "name": "stderr",
     "output_type": "stream",
     "text": [
      "INFO - (NP.config.__post_init__) - Note: Trend changepoint regularization is experimental.\n",
      "INFO - (NP.config.__post_init__) - Note: Fourier-based seasonality regularization is experimental.\n",
      "INFO - (NP.forecaster.add_lagged_regressor) - n_lags = 'auto', number of lags for regressor is set to Autoregression number of lags (326)\n",
      "INFO - (NP.df_utils.return_df_in_original_format) - Returning df with no ID column\n",
      "INFO - (NP.df_utils.return_df_in_original_format) - Returning df with no ID column\n",
      "WARNING - (NP.forecaster.fit) - When Global modeling with local normalization, metrics are displayed in normalized scale.\n",
      "INFO - (NP.df_utils._infer_frequency) - Major frequency D corresponds to 99.963% of the data.\n",
      "INFO - (NP.df_utils._infer_frequency) - Defined frequency is equal to major frequency - D\n",
      "INFO - (NP.config.init_data_params) - Setting normalization to global as only one dataframe provided for training.\n",
      "INFO - (NP.config.set_auto_batch_epoch) - Auto-set batch_size to 32\n",
      "INFO - (NP.config.set_auto_batch_epoch) - Auto-set epochs to 157\n"
     ]
    },
    {
     "data": {
      "application/vnd.jupyter.widget-view+json": {
       "model_id": "c5052f411c9143b7944884f32946a748",
       "version_major": 2,
       "version_minor": 0
      },
      "text/plain": [
       "Training: 0it [00:00, ?it/s]"
      ]
     },
     "metadata": {},
     "output_type": "display_data"
    },
    {
     "name": "stderr",
     "output_type": "stream",
     "text": [
      "INFO - (NP.df_utils._infer_frequency) - Major frequency D corresponds to 99.963% of the data.\n",
      "INFO - (NP.df_utils._infer_frequency) - Defined frequency is equal to major frequency - D\n",
      "INFO - (NP.df_utils.return_df_in_original_format) - Returning df with no ID column\n",
      "INFO - (NP.df_utils._infer_frequency) - Major frequency D corresponds to 99.855% of the data.\n",
      "INFO - (NP.df_utils._infer_frequency) - Defined frequency is equal to major frequency - D\n",
      "INFO - (NP.df_utils._infer_frequency) - Major frequency D corresponds to 99.855% of the data.\n",
      "INFO - (NP.df_utils._infer_frequency) - Defined frequency is equal to major frequency - D\n"
     ]
    },
    {
     "data": {
      "application/vnd.jupyter.widget-view+json": {
       "model_id": "965e8508d7184785894bad949ea5a437",
       "version_major": 2,
       "version_minor": 0
      },
      "text/plain": [
       "Predicting: 64it [00:00, ?it/s]"
      ]
     },
     "metadata": {},
     "output_type": "display_data"
    },
    {
     "name": "stderr",
     "output_type": "stream",
     "text": [
      "INFO - (NP.df_utils.return_df_in_original_format) - Returning df with no ID column\n",
      "\u001b[32m[I 2023-03-02 09:10:24,905]\u001b[0m Trial 0 finished with value: 69141.0 and parameters: {'trend_reg': 6.723113307749288, 'seasonality_reg': 4.931976152481779, 'seasonality_mode': 'multiplicative', 'yearly_seasonality': 35, 'weekly_seasonality': 12, 'n_lags': 326, 'ar_reg': 0.46695720506953253, 'learning_rate': 4.95314636995451, 'num_hidden_layers': 0, 'regularization': 0.7697930281899398}. Best is trial 0 with value: 69141.0.\u001b[0m\n",
      "INFO - (NP.config.__post_init__) - Note: Trend changepoint regularization is experimental.\n",
      "INFO - (NP.config.__post_init__) - Note: Fourier-based seasonality regularization is experimental.\n",
      "INFO - (NP.forecaster.add_lagged_regressor) - n_lags = 'auto', number of lags for regressor is set to Autoregression number of lags (575)\n",
      "INFO - (NP.df_utils.return_df_in_original_format) - Returning df with no ID column\n",
      "INFO - (NP.df_utils.return_df_in_original_format) - Returning df with no ID column\n",
      "WARNING - (NP.forecaster.fit) - When Global modeling with local normalization, metrics are displayed in normalized scale.\n",
      "INFO - (NP.df_utils._infer_frequency) - Major frequency D corresponds to 99.963% of the data.\n",
      "INFO - (NP.df_utils._infer_frequency) - Defined frequency is equal to major frequency - D\n",
      "INFO - (NP.config.init_data_params) - Setting normalization to global as only one dataframe provided for training.\n",
      "INFO - (NP.config.set_auto_batch_epoch) - Auto-set batch_size to 32\n",
      "INFO - (NP.config.set_auto_batch_epoch) - Auto-set epochs to 163\n"
     ]
    },
    {
     "data": {
      "application/vnd.jupyter.widget-view+json": {
       "model_id": "0d51718ef8e34eecae552084f51c3d6b",
       "version_major": 2,
       "version_minor": 0
      },
      "text/plain": [
       "Training: 0it [00:00, ?it/s]"
      ]
     },
     "metadata": {},
     "output_type": "display_data"
    },
    {
     "name": "stderr",
     "output_type": "stream",
     "text": [
      "INFO - (NP.df_utils._infer_frequency) - Major frequency D corresponds to 99.963% of the data.\n",
      "INFO - (NP.df_utils._infer_frequency) - Defined frequency is equal to major frequency - D\n",
      "INFO - (NP.df_utils.return_df_in_original_format) - Returning df with no ID column\n",
      "INFO - (NP.df_utils._infer_frequency) - Major frequency D corresponds to 99.894% of the data.\n",
      "INFO - (NP.df_utils._infer_frequency) - Defined frequency is equal to major frequency - D\n",
      "INFO - (NP.df_utils._infer_frequency) - Major frequency D corresponds to 99.894% of the data.\n",
      "INFO - (NP.df_utils._infer_frequency) - Defined frequency is equal to major frequency - D\n"
     ]
    },
    {
     "data": {
      "application/vnd.jupyter.widget-view+json": {
       "model_id": "42b72d71cc9a4a659041f4b477def9cb",
       "version_major": 2,
       "version_minor": 0
      },
      "text/plain": [
       "Predicting: 57it [00:00, ?it/s]"
      ]
     },
     "metadata": {},
     "output_type": "display_data"
    },
    {
     "name": "stderr",
     "output_type": "stream",
     "text": [
      "INFO - (NP.df_utils.return_df_in_original_format) - Returning df with no ID column\n",
      "\u001b[32m[I 2023-03-02 09:12:54,895]\u001b[0m Trial 1 finished with value: 368134.0 and parameters: {'trend_reg': 7.467924242842003, 'seasonality_reg': 3.8366454697161556, 'seasonality_mode': 'additive', 'yearly_seasonality': 22, 'weekly_seasonality': 20, 'n_lags': 575, 'ar_reg': 0.9361309329775258, 'learning_rate': 4.066728755497863, 'num_hidden_layers': 0, 'regularization': 0.5543457845906854}. Best is trial 0 with value: 69141.0.\u001b[0m\n",
      "INFO - (NP.config.__post_init__) - Note: Trend changepoint regularization is experimental.\n",
      "INFO - (NP.config.__post_init__) - Note: Fourier-based seasonality regularization is experimental.\n",
      "INFO - (NP.forecaster.add_lagged_regressor) - n_lags = 'auto', number of lags for regressor is set to Autoregression number of lags (451)\n",
      "INFO - (NP.df_utils.return_df_in_original_format) - Returning df with no ID column\n",
      "INFO - (NP.df_utils.return_df_in_original_format) - Returning df with no ID column\n",
      "WARNING - (NP.forecaster.fit) - When Global modeling with local normalization, metrics are displayed in normalized scale.\n",
      "INFO - (NP.df_utils._infer_frequency) - Major frequency D corresponds to 99.963% of the data.\n",
      "INFO - (NP.df_utils._infer_frequency) - Defined frequency is equal to major frequency - D\n",
      "INFO - (NP.config.init_data_params) - Setting normalization to global as only one dataframe provided for training.\n",
      "INFO - (NP.config.set_auto_batch_epoch) - Auto-set batch_size to 32\n",
      "INFO - (NP.config.set_auto_batch_epoch) - Auto-set epochs to 159\n"
     ]
    },
    {
     "data": {
      "application/vnd.jupyter.widget-view+json": {
       "model_id": "9933e4411f124d8ab4ce3912c656f5e5",
       "version_major": 2,
       "version_minor": 0
      },
      "text/plain": [
       "Training: 0it [00:00, ?it/s]"
      ]
     },
     "metadata": {},
     "output_type": "display_data"
    },
    {
     "name": "stderr",
     "output_type": "stream",
     "text": [
      "INFO - (NP.df_utils._infer_frequency) - Major frequency D corresponds to 99.963% of the data.\n",
      "INFO - (NP.df_utils._infer_frequency) - Defined frequency is equal to major frequency - D\n",
      "INFO - (NP.df_utils.return_df_in_original_format) - Returning df with no ID column\n",
      "INFO - (NP.df_utils._infer_frequency) - Major frequency D corresponds to 99.877% of the data.\n",
      "INFO - (NP.df_utils._infer_frequency) - Defined frequency is equal to major frequency - D\n",
      "INFO - (NP.df_utils._infer_frequency) - Major frequency D corresponds to 99.877% of the data.\n",
      "INFO - (NP.df_utils._infer_frequency) - Defined frequency is equal to major frequency - D\n"
     ]
    },
    {
     "data": {
      "application/vnd.jupyter.widget-view+json": {
       "model_id": "db61bb7c1b704225b0a3081ba33b1c5a",
       "version_major": 2,
       "version_minor": 0
      },
      "text/plain": [
       "Predicting: 61it [00:00, ?it/s]"
      ]
     },
     "metadata": {},
     "output_type": "display_data"
    },
    {
     "name": "stderr",
     "output_type": "stream",
     "text": [
      "INFO - (NP.df_utils.return_df_in_original_format) - Returning df with no ID column\n",
      "\u001b[32m[I 2023-03-02 09:15:07,300]\u001b[0m Trial 2 finished with value: 170841.0 and parameters: {'trend_reg': 2.923398890475657, 'seasonality_reg': 8.179809363873163, 'seasonality_mode': 'multiplicative', 'yearly_seasonality': 29, 'weekly_seasonality': 2, 'n_lags': 451, 'ar_reg': 0.9686526126266715, 'learning_rate': 0.7209109835395155, 'num_hidden_layers': 0, 'regularization': 0.47665615445585996}. Best is trial 0 with value: 69141.0.\u001b[0m\n",
      "INFO - (NP.config.__post_init__) - Note: Trend changepoint regularization is experimental.\n",
      "INFO - (NP.config.__post_init__) - Note: Fourier-based seasonality regularization is experimental.\n",
      "INFO - (NP.forecaster.add_lagged_regressor) - n_lags = 'auto', number of lags for regressor is set to Autoregression number of lags (1018)\n",
      "INFO - (NP.df_utils.return_df_in_original_format) - Returning df with no ID column\n",
      "INFO - (NP.df_utils.return_df_in_original_format) - Returning df with no ID column\n",
      "WARNING - (NP.forecaster.fit) - When Global modeling with local normalization, metrics are displayed in normalized scale.\n",
      "INFO - (NP.df_utils._infer_frequency) - Major frequency D corresponds to 99.963% of the data.\n",
      "INFO - (NP.df_utils._infer_frequency) - Defined frequency is equal to major frequency - D\n",
      "INFO - (NP.config.init_data_params) - Setting normalization to global as only one dataframe provided for training.\n",
      "INFO - (NP.config.set_auto_batch_epoch) - Auto-set batch_size to 32\n",
      "INFO - (NP.config.set_auto_batch_epoch) - Auto-set epochs to 177\n"
     ]
    },
    {
     "data": {
      "application/vnd.jupyter.widget-view+json": {
       "model_id": "02961f87d418413d9cb83abe0cd5783b",
       "version_major": 2,
       "version_minor": 0
      },
      "text/plain": [
       "Training: 0it [00:00, ?it/s]"
      ]
     },
     "metadata": {},
     "output_type": "display_data"
    },
    {
     "name": "stderr",
     "output_type": "stream",
     "text": [
      "INFO - (NP.df_utils._infer_frequency) - Major frequency D corresponds to 99.963% of the data.\n",
      "INFO - (NP.df_utils._infer_frequency) - Defined frequency is equal to major frequency - D\n",
      "INFO - (NP.df_utils.return_df_in_original_format) - Returning df with no ID column\n",
      "INFO - (NP.df_utils._infer_frequency) - Major frequency D corresponds to 99.928% of the data.\n",
      "INFO - (NP.df_utils._infer_frequency) - Defined frequency is equal to major frequency - D\n",
      "INFO - (NP.df_utils._infer_frequency) - Major frequency D corresponds to 99.928% of the data.\n",
      "INFO - (NP.df_utils._infer_frequency) - Defined frequency is equal to major frequency - D\n"
     ]
    },
    {
     "data": {
      "application/vnd.jupyter.widget-view+json": {
       "model_id": "596b30262f1549ea8d045975f7badd02",
       "version_major": 2,
       "version_minor": 0
      },
      "text/plain": [
       "Predicting: 43it [00:00, ?it/s]"
      ]
     },
     "metadata": {},
     "output_type": "display_data"
    },
    {
     "name": "stderr",
     "output_type": "stream",
     "text": [
      "INFO - (NP.df_utils.return_df_in_original_format) - Returning df with no ID column\n",
      "\u001b[32m[I 2023-03-02 09:18:04,008]\u001b[0m Trial 3 finished with value: 257479.0 and parameters: {'trend_reg': 0.7770607521635486, 'seasonality_reg': 2.426933437092893, 'seasonality_mode': 'additive', 'yearly_seasonality': 27, 'weekly_seasonality': 4, 'n_lags': 1018, 'ar_reg': 5.420876988179221, 'learning_rate': 0.20975089793990523, 'num_hidden_layers': 2, 'regularization': 0.6401425405143248}. Best is trial 0 with value: 69141.0.\u001b[0m\n",
      "INFO - (NP.config.__post_init__) - Note: Trend changepoint regularization is experimental.\n",
      "INFO - (NP.config.__post_init__) - Note: Fourier-based seasonality regularization is experimental.\n",
      "INFO - (NP.forecaster.add_lagged_regressor) - n_lags = 'auto', number of lags for regressor is set to Autoregression number of lags (602)\n",
      "INFO - (NP.df_utils.return_df_in_original_format) - Returning df with no ID column\n",
      "INFO - (NP.df_utils.return_df_in_original_format) - Returning df with no ID column\n",
      "WARNING - (NP.forecaster.fit) - When Global modeling with local normalization, metrics are displayed in normalized scale.\n",
      "INFO - (NP.df_utils._infer_frequency) - Major frequency D corresponds to 99.963% of the data.\n",
      "INFO - (NP.df_utils._infer_frequency) - Defined frequency is equal to major frequency - D\n",
      "INFO - (NP.config.init_data_params) - Setting normalization to global as only one dataframe provided for training.\n",
      "INFO - (NP.config.set_auto_batch_epoch) - Auto-set batch_size to 32\n",
      "INFO - (NP.config.set_auto_batch_epoch) - Auto-set epochs to 163\n"
     ]
    },
    {
     "data": {
      "application/vnd.jupyter.widget-view+json": {
       "model_id": "71d7cad3d5e7470f818f73ef012d6d45",
       "version_major": 2,
       "version_minor": 0
      },
      "text/plain": [
       "Training: 0it [00:00, ?it/s]"
      ]
     },
     "metadata": {},
     "output_type": "display_data"
    },
    {
     "name": "stderr",
     "output_type": "stream",
     "text": [
      "INFO - (NP.df_utils._infer_frequency) - Major frequency D corresponds to 99.963% of the data.\n",
      "INFO - (NP.df_utils._infer_frequency) - Defined frequency is equal to major frequency - D\n",
      "INFO - (NP.df_utils.return_df_in_original_format) - Returning df with no ID column\n",
      "INFO - (NP.df_utils._infer_frequency) - Major frequency D corresponds to 99.897% of the data.\n",
      "INFO - (NP.df_utils._infer_frequency) - Defined frequency is equal to major frequency - D\n",
      "INFO - (NP.df_utils._infer_frequency) - Major frequency D corresponds to 99.897% of the data.\n",
      "INFO - (NP.df_utils._infer_frequency) - Defined frequency is equal to major frequency - D\n"
     ]
    },
    {
     "data": {
      "application/vnd.jupyter.widget-view+json": {
       "model_id": "f33dd505b0a343dca205423b3bdff7c5",
       "version_major": 2,
       "version_minor": 0
      },
      "text/plain": [
       "Predicting: 56it [00:00, ?it/s]"
      ]
     },
     "metadata": {},
     "output_type": "display_data"
    },
    {
     "name": "stderr",
     "output_type": "stream",
     "text": [
      "INFO - (NP.df_utils.return_df_in_original_format) - Returning df with no ID column\n",
      "\u001b[32m[I 2023-03-02 09:21:02,618]\u001b[0m Trial 4 finished with value: 20196.0 and parameters: {'trend_reg': 8.00678097830046, 'seasonality_reg': 8.365696631737041, 'seasonality_mode': 'additive', 'yearly_seasonality': 24, 'weekly_seasonality': 6, 'n_lags': 602, 'ar_reg': 3.773337872453968, 'learning_rate': 1.0194380115679886, 'num_hidden_layers': 3, 'regularization': 0.9391774228853117}. Best is trial 4 with value: 20196.0.\u001b[0m\n",
      "INFO - (NP.config.__post_init__) - Note: Trend changepoint regularization is experimental.\n",
      "INFO - (NP.config.__post_init__) - Note: Fourier-based seasonality regularization is experimental.\n",
      "INFO - (NP.forecaster.add_lagged_regressor) - n_lags = 'auto', number of lags for regressor is set to Autoregression number of lags (703)\n",
      "INFO - (NP.df_utils.return_df_in_original_format) - Returning df with no ID column\n",
      "INFO - (NP.df_utils.return_df_in_original_format) - Returning df with no ID column\n",
      "WARNING - (NP.forecaster.fit) - When Global modeling with local normalization, metrics are displayed in normalized scale.\n",
      "INFO - (NP.df_utils._infer_frequency) - Major frequency D corresponds to 99.963% of the data.\n",
      "INFO - (NP.df_utils._infer_frequency) - Defined frequency is equal to major frequency - D\n",
      "INFO - (NP.config.init_data_params) - Setting normalization to global as only one dataframe provided for training.\n",
      "INFO - (NP.config.set_auto_batch_epoch) - Auto-set batch_size to 32\n",
      "INFO - (NP.config.set_auto_batch_epoch) - Auto-set epochs to 166\n"
     ]
    },
    {
     "data": {
      "application/vnd.jupyter.widget-view+json": {
       "model_id": "b8403db94c74476f9c09d1b61575428d",
       "version_major": 2,
       "version_minor": 0
      },
      "text/plain": [
       "Training: 0it [00:00, ?it/s]"
      ]
     },
     "metadata": {},
     "output_type": "display_data"
    },
    {
     "name": "stderr",
     "output_type": "stream",
     "text": [
      "INFO - (NP.df_utils._infer_frequency) - Major frequency D corresponds to 99.963% of the data.\n",
      "INFO - (NP.df_utils._infer_frequency) - Defined frequency is equal to major frequency - D\n",
      "INFO - (NP.df_utils.return_df_in_original_format) - Returning df with no ID column\n",
      "INFO - (NP.df_utils._infer_frequency) - Major frequency D corresponds to 99.906% of the data.\n",
      "INFO - (NP.df_utils._infer_frequency) - Defined frequency is equal to major frequency - D\n",
      "INFO - (NP.df_utils._infer_frequency) - Major frequency D corresponds to 99.906% of the data.\n",
      "INFO - (NP.df_utils._infer_frequency) - Defined frequency is equal to major frequency - D\n"
     ]
    },
    {
     "data": {
      "application/vnd.jupyter.widget-view+json": {
       "model_id": "47159850f20a45fea3dddf2e1230d21c",
       "version_major": 2,
       "version_minor": 0
      },
      "text/plain": [
       "Predicting: 53it [00:00, ?it/s]"
      ]
     },
     "metadata": {},
     "output_type": "display_data"
    },
    {
     "name": "stderr",
     "output_type": "stream",
     "text": [
      "INFO - (NP.df_utils.return_df_in_original_format) - Returning df with no ID column\n",
      "\u001b[32m[I 2023-03-02 09:23:56,915]\u001b[0m Trial 5 finished with value: 20380.0 and parameters: {'trend_reg': 8.375098432159971, 'seasonality_reg': 4.38461441839196, 'seasonality_mode': 'additive', 'yearly_seasonality': 12, 'weekly_seasonality': 9, 'n_lags': 703, 'ar_reg': 9.7645132221686, 'learning_rate': 3.5267365078750386, 'num_hidden_layers': 2, 'regularization': 0.20538671086664506}. Best is trial 4 with value: 20196.0.\u001b[0m\n",
      "INFO - (NP.config.__post_init__) - Note: Trend changepoint regularization is experimental.\n",
      "INFO - (NP.config.__post_init__) - Note: Fourier-based seasonality regularization is experimental.\n",
      "INFO - (NP.forecaster.add_lagged_regressor) - n_lags = 'auto', number of lags for regressor is set to Autoregression number of lags (343)\n",
      "INFO - (NP.df_utils.return_df_in_original_format) - Returning df with no ID column\n",
      "INFO - (NP.df_utils.return_df_in_original_format) - Returning df with no ID column\n",
      "WARNING - (NP.forecaster.fit) - When Global modeling with local normalization, metrics are displayed in normalized scale.\n",
      "INFO - (NP.df_utils._infer_frequency) - Major frequency D corresponds to 99.963% of the data.\n",
      "INFO - (NP.df_utils._infer_frequency) - Defined frequency is equal to major frequency - D\n",
      "INFO - (NP.config.init_data_params) - Setting normalization to global as only one dataframe provided for training.\n",
      "INFO - (NP.config.set_auto_batch_epoch) - Auto-set batch_size to 32\n",
      "INFO - (NP.config.set_auto_batch_epoch) - Auto-set epochs to 157\n"
     ]
    },
    {
     "data": {
      "application/vnd.jupyter.widget-view+json": {
       "model_id": "847259014ce74e61a4241b989f9e7990",
       "version_major": 2,
       "version_minor": 0
      },
      "text/plain": [
       "Training: 0it [00:00, ?it/s]"
      ]
     },
     "metadata": {},
     "output_type": "display_data"
    },
    {
     "name": "stderr",
     "output_type": "stream",
     "text": [
      "INFO - (NP.df_utils._infer_frequency) - Major frequency D corresponds to 99.963% of the data.\n",
      "INFO - (NP.df_utils._infer_frequency) - Defined frequency is equal to major frequency - D\n",
      "INFO - (NP.df_utils.return_df_in_original_format) - Returning df with no ID column\n",
      "INFO - (NP.df_utils._infer_frequency) - Major frequency D corresponds to 99.859% of the data.\n",
      "INFO - (NP.df_utils._infer_frequency) - Defined frequency is equal to major frequency - D\n",
      "INFO - (NP.df_utils._infer_frequency) - Major frequency D corresponds to 99.859% of the data.\n",
      "INFO - (NP.df_utils._infer_frequency) - Defined frequency is equal to major frequency - D\n"
     ]
    },
    {
     "data": {
      "application/vnd.jupyter.widget-view+json": {
       "model_id": "d082ae4f432c4a52bbdd2efac5ec4f61",
       "version_major": 2,
       "version_minor": 0
      },
      "text/plain": [
       "Predicting: 64it [00:00, ?it/s]"
      ]
     },
     "metadata": {},
     "output_type": "display_data"
    },
    {
     "name": "stderr",
     "output_type": "stream",
     "text": [
      "INFO - (NP.df_utils.return_df_in_original_format) - Returning df with no ID column\n",
      "\u001b[32m[I 2023-03-02 09:27:10,167]\u001b[0m Trial 6 finished with value: 20906.0 and parameters: {'trend_reg': 2.93135806422597, 'seasonality_reg': 1.6840997329118812, 'seasonality_mode': 'additive', 'yearly_seasonality': 39, 'weekly_seasonality': 1, 'n_lags': 343, 'ar_reg': 0.489126869760389, 'learning_rate': 4.373979691374203, 'num_hidden_layers': 2, 'regularization': 0.826558523971149}. Best is trial 4 with value: 20196.0.\u001b[0m\n",
      "INFO - (NP.config.__post_init__) - Note: Trend changepoint regularization is experimental.\n",
      "INFO - (NP.config.__post_init__) - Note: Fourier-based seasonality regularization is experimental.\n",
      "INFO - (NP.forecaster.add_lagged_regressor) - n_lags = 'auto', number of lags for regressor is set to Autoregression number of lags (901)\n",
      "INFO - (NP.df_utils.return_df_in_original_format) - Returning df with no ID column\n",
      "INFO - (NP.df_utils.return_df_in_original_format) - Returning df with no ID column\n",
      "WARNING - (NP.forecaster.fit) - When Global modeling with local normalization, metrics are displayed in normalized scale.\n",
      "INFO - (NP.df_utils._infer_frequency) - Major frequency D corresponds to 99.963% of the data.\n",
      "INFO - (NP.df_utils._infer_frequency) - Defined frequency is equal to major frequency - D\n",
      "INFO - (NP.config.init_data_params) - Setting normalization to global as only one dataframe provided for training.\n",
      "INFO - (NP.config.set_auto_batch_epoch) - Auto-set batch_size to 32\n",
      "INFO - (NP.config.set_auto_batch_epoch) - Auto-set epochs to 172\n"
     ]
    },
    {
     "data": {
      "application/vnd.jupyter.widget-view+json": {
       "model_id": "df5ccc2d740c46bfbaa6095097b690bd",
       "version_major": 2,
       "version_minor": 0
      },
      "text/plain": [
       "Training: 0it [00:00, ?it/s]"
      ]
     },
     "metadata": {},
     "output_type": "display_data"
    },
    {
     "name": "stderr",
     "output_type": "stream",
     "text": [
      "INFO - (NP.df_utils._infer_frequency) - Major frequency D corresponds to 99.963% of the data.\n",
      "INFO - (NP.df_utils._infer_frequency) - Defined frequency is equal to major frequency - D\n",
      "INFO - (NP.df_utils.return_df_in_original_format) - Returning df with no ID column\n",
      "INFO - (NP.df_utils._infer_frequency) - Major frequency D corresponds to 99.921% of the data.\n",
      "INFO - (NP.df_utils._infer_frequency) - Defined frequency is equal to major frequency - D\n",
      "INFO - (NP.df_utils._infer_frequency) - Major frequency D corresponds to 99.921% of the data.\n",
      "INFO - (NP.df_utils._infer_frequency) - Defined frequency is equal to major frequency - D\n"
     ]
    },
    {
     "data": {
      "application/vnd.jupyter.widget-view+json": {
       "model_id": "dbb91e2d190c4d88af26f322f6ad078b",
       "version_major": 2,
       "version_minor": 0
      },
      "text/plain": [
       "Predicting: 47it [00:00, ?it/s]"
      ]
     },
     "metadata": {},
     "output_type": "display_data"
    },
    {
     "name": "stderr",
     "output_type": "stream",
     "text": [
      "INFO - (NP.df_utils.return_df_in_original_format) - Returning df with no ID column\n",
      "\u001b[32m[I 2023-03-02 09:30:18,452]\u001b[0m Trial 7 finished with value: 1196782.0 and parameters: {'trend_reg': 9.183563138936316, 'seasonality_reg': 1.6158727024981934, 'seasonality_mode': 'additive', 'yearly_seasonality': 26, 'weekly_seasonality': 15, 'n_lags': 901, 'ar_reg': 2.3526653942787257, 'learning_rate': 0.5285945052378606, 'num_hidden_layers': 2, 'regularization': 0.24365630403016658}. Best is trial 4 with value: 20196.0.\u001b[0m\n",
      "INFO - (NP.config.__post_init__) - Note: Trend changepoint regularization is experimental.\n",
      "INFO - (NP.config.__post_init__) - Note: Fourier-based seasonality regularization is experimental.\n",
      "INFO - (NP.forecaster.add_lagged_regressor) - n_lags = 'auto', number of lags for regressor is set to Autoregression number of lags (179)\n",
      "INFO - (NP.df_utils.return_df_in_original_format) - Returning df with no ID column\n",
      "INFO - (NP.df_utils.return_df_in_original_format) - Returning df with no ID column\n",
      "WARNING - (NP.forecaster.fit) - When Global modeling with local normalization, metrics are displayed in normalized scale.\n",
      "INFO - (NP.df_utils._infer_frequency) - Major frequency D corresponds to 99.963% of the data.\n",
      "INFO - (NP.df_utils._infer_frequency) - Defined frequency is equal to major frequency - D\n",
      "INFO - (NP.config.init_data_params) - Setting normalization to global as only one dataframe provided for training.\n",
      "INFO - (NP.config.set_auto_batch_epoch) - Auto-set batch_size to 32\n",
      "INFO - (NP.config.set_auto_batch_epoch) - Auto-set epochs to 154\n"
     ]
    },
    {
     "data": {
      "application/vnd.jupyter.widget-view+json": {
       "model_id": "a7bd9a39fb4a4f80be5a407df0bb1e18",
       "version_major": 2,
       "version_minor": 0
      },
      "text/plain": [
       "Training: 0it [00:00, ?it/s]"
      ]
     },
     "metadata": {},
     "output_type": "display_data"
    },
    {
     "name": "stderr",
     "output_type": "stream",
     "text": [
      "INFO - (NP.df_utils._infer_frequency) - Major frequency D corresponds to 99.963% of the data.\n",
      "INFO - (NP.df_utils._infer_frequency) - Defined frequency is equal to major frequency - D\n",
      "INFO - (NP.df_utils.return_df_in_original_format) - Returning df with no ID column\n",
      "INFO - (NP.df_utils._infer_frequency) - Major frequency D corresponds to 99.816% of the data.\n",
      "INFO - (NP.df_utils._infer_frequency) - Defined frequency is equal to major frequency - D\n",
      "INFO - (NP.df_utils._infer_frequency) - Major frequency D corresponds to 99.816% of the data.\n",
      "INFO - (NP.df_utils._infer_frequency) - Defined frequency is equal to major frequency - D\n"
     ]
    },
    {
     "data": {
      "application/vnd.jupyter.widget-view+json": {
       "model_id": "177ba2bccd454c1c930551784d25203f",
       "version_major": 2,
       "version_minor": 0
      },
      "text/plain": [
       "Predicting: 69it [00:00, ?it/s]"
      ]
     },
     "metadata": {},
     "output_type": "display_data"
    },
    {
     "name": "stderr",
     "output_type": "stream",
     "text": [
      "INFO - (NP.df_utils.return_df_in_original_format) - Returning df with no ID column\n",
      "\u001b[32m[I 2023-03-02 09:32:56,109]\u001b[0m Trial 8 finished with value: 18945.0 and parameters: {'trend_reg': 8.26963766824501, 'seasonality_reg': 4.70873922914925, 'seasonality_mode': 'multiplicative', 'yearly_seasonality': 13, 'weekly_seasonality': 6, 'n_lags': 179, 'ar_reg': 2.328241446167479, 'learning_rate': 2.7225426462097873, 'num_hidden_layers': 1, 'regularization': 0.7446472519957872}. Best is trial 8 with value: 18945.0.\u001b[0m\n",
      "INFO - (NP.config.__post_init__) - Note: Trend changepoint regularization is experimental.\n",
      "INFO - (NP.config.__post_init__) - Note: Fourier-based seasonality regularization is experimental.\n",
      "INFO - (NP.forecaster.add_lagged_regressor) - n_lags = 'auto', number of lags for regressor is set to Autoregression number of lags (117)\n",
      "INFO - (NP.df_utils.return_df_in_original_format) - Returning df with no ID column\n",
      "INFO - (NP.df_utils.return_df_in_original_format) - Returning df with no ID column\n",
      "WARNING - (NP.forecaster.fit) - When Global modeling with local normalization, metrics are displayed in normalized scale.\n",
      "INFO - (NP.df_utils._infer_frequency) - Major frequency D corresponds to 99.963% of the data.\n",
      "INFO - (NP.df_utils._infer_frequency) - Defined frequency is equal to major frequency - D\n",
      "INFO - (NP.config.init_data_params) - Setting normalization to global as only one dataframe provided for training.\n",
      "INFO - (NP.config.set_auto_batch_epoch) - Auto-set batch_size to 32\n",
      "INFO - (NP.config.set_auto_batch_epoch) - Auto-set epochs to 152\n"
     ]
    },
    {
     "data": {
      "application/vnd.jupyter.widget-view+json": {
       "model_id": "0ee0fc87b02941478e59f87555907a4c",
       "version_major": 2,
       "version_minor": 0
      },
      "text/plain": [
       "Training: 0it [00:00, ?it/s]"
      ]
     },
     "metadata": {},
     "output_type": "display_data"
    },
    {
     "name": "stderr",
     "output_type": "stream",
     "text": [
      "INFO - (NP.df_utils._infer_frequency) - Major frequency D corresponds to 99.963% of the data.\n",
      "INFO - (NP.df_utils._infer_frequency) - Defined frequency is equal to major frequency - D\n",
      "INFO - (NP.df_utils.return_df_in_original_format) - Returning df with no ID column\n",
      "INFO - (NP.df_utils._infer_frequency) - Major frequency D corresponds to 99.793% of the data.\n",
      "INFO - (NP.df_utils._infer_frequency) - Defined frequency is equal to major frequency - D\n",
      "INFO - (NP.df_utils._infer_frequency) - Major frequency D corresponds to 99.793% of the data.\n",
      "INFO - (NP.df_utils._infer_frequency) - Defined frequency is equal to major frequency - D\n"
     ]
    },
    {
     "data": {
      "application/vnd.jupyter.widget-view+json": {
       "model_id": "d0796414bd7c4995ba24d3135b52f1c7",
       "version_major": 2,
       "version_minor": 0
      },
      "text/plain": [
       "Predicting: 71it [00:00, ?it/s]"
      ]
     },
     "metadata": {},
     "output_type": "display_data"
    },
    {
     "name": "stderr",
     "output_type": "stream",
     "text": [
      "INFO - (NP.df_utils.return_df_in_original_format) - Returning df with no ID column\n",
      "\u001b[32m[I 2023-03-02 09:36:02,870]\u001b[0m Trial 9 finished with value: 19223.0 and parameters: {'trend_reg': 6.481940045150245, 'seasonality_reg': 7.723372542380457, 'seasonality_mode': 'multiplicative', 'yearly_seasonality': 17, 'weekly_seasonality': 20, 'n_lags': 117, 'ar_reg': 4.14941284161412, 'learning_rate': 0.7739460456125055, 'num_hidden_layers': 2, 'regularization': 0.8068766138390322}. Best is trial 8 with value: 18945.0.\u001b[0m\n",
      "INFO - (NP.config.__post_init__) - Note: Trend changepoint regularization is experimental.\n",
      "INFO - (NP.config.__post_init__) - Note: Fourier-based seasonality regularization is experimental.\n",
      "INFO - (NP.forecaster.add_lagged_regressor) - n_lags = 'auto', number of lags for regressor is set to Autoregression number of lags (60)\n",
      "INFO - (NP.df_utils.return_df_in_original_format) - Returning df with no ID column\n",
      "INFO - (NP.df_utils.return_df_in_original_format) - Returning df with no ID column\n",
      "WARNING - (NP.forecaster.fit) - When Global modeling with local normalization, metrics are displayed in normalized scale.\n",
      "INFO - (NP.df_utils._infer_frequency) - Major frequency D corresponds to 99.963% of the data.\n",
      "INFO - (NP.df_utils._infer_frequency) - Defined frequency is equal to major frequency - D\n",
      "INFO - (NP.config.init_data_params) - Setting normalization to global as only one dataframe provided for training.\n",
      "INFO - (NP.config.set_auto_batch_epoch) - Auto-set batch_size to 32\n",
      "INFO - (NP.config.set_auto_batch_epoch) - Auto-set epochs to 151\n"
     ]
    },
    {
     "data": {
      "application/vnd.jupyter.widget-view+json": {
       "model_id": "32591dd4c81d42de90c92ec21760dc70",
       "version_major": 2,
       "version_minor": 0
      },
      "text/plain": [
       "Training: 0it [00:00, ?it/s]"
      ]
     },
     "metadata": {},
     "output_type": "display_data"
    },
    {
     "name": "stderr",
     "output_type": "stream",
     "text": [
      "INFO - (NP.df_utils._infer_frequency) - Major frequency D corresponds to 99.963% of the data.\n",
      "INFO - (NP.df_utils._infer_frequency) - Defined frequency is equal to major frequency - D\n",
      "INFO - (NP.df_utils.return_df_in_original_format) - Returning df with no ID column\n",
      "INFO - (NP.df_utils._infer_frequency) - Major frequency D corresponds to 99.765% of the data.\n",
      "INFO - (NP.df_utils._infer_frequency) - Defined frequency is equal to major frequency - D\n",
      "INFO - (NP.df_utils._infer_frequency) - Major frequency D corresponds to 99.765% of the data.\n",
      "INFO - (NP.df_utils._infer_frequency) - Defined frequency is equal to major frequency - D\n"
     ]
    },
    {
     "data": {
      "application/vnd.jupyter.widget-view+json": {
       "model_id": "ed658c5bd65b4df48d5614b915b9ffa7",
       "version_major": 2,
       "version_minor": 0
      },
      "text/plain": [
       "Predicting: 73it [00:00, ?it/s]"
      ]
     },
     "metadata": {},
     "output_type": "display_data"
    },
    {
     "name": "stderr",
     "output_type": "stream",
     "text": [
      "INFO - (NP.df_utils.return_df_in_original_format) - Returning df with no ID column\n",
      "\u001b[32m[I 2023-03-02 09:38:08,970]\u001b[0m Trial 10 finished with value: 18227.0 and parameters: {'trend_reg': 4.862223554813209, 'seasonality_reg': 6.260365290152034, 'seasonality_mode': 'multiplicative', 'yearly_seasonality': 10, 'weekly_seasonality': 8, 'n_lags': 60, 'ar_reg': 6.161359721478034, 'learning_rate': 2.334133758747457, 'num_hidden_layers': 1, 'regularization': 0.42342746178093477}. Best is trial 10 with value: 18227.0.\u001b[0m\n",
      "INFO - (NP.config.__post_init__) - Note: Trend changepoint regularization is experimental.\n",
      "INFO - (NP.config.__post_init__) - Note: Fourier-based seasonality regularization is experimental.\n",
      "INFO - (NP.forecaster.add_lagged_regressor) - n_lags = 'auto', number of lags for regressor is set to Autoregression number of lags (42)\n",
      "INFO - (NP.df_utils.return_df_in_original_format) - Returning df with no ID column\n",
      "INFO - (NP.df_utils.return_df_in_original_format) - Returning df with no ID column\n",
      "WARNING - (NP.forecaster.fit) - When Global modeling with local normalization, metrics are displayed in normalized scale.\n",
      "INFO - (NP.df_utils._infer_frequency) - Major frequency D corresponds to 99.963% of the data.\n",
      "INFO - (NP.df_utils._infer_frequency) - Defined frequency is equal to major frequency - D\n",
      "INFO - (NP.config.init_data_params) - Setting normalization to global as only one dataframe provided for training.\n",
      "INFO - (NP.config.set_auto_batch_epoch) - Auto-set batch_size to 32\n",
      "INFO - (NP.config.set_auto_batch_epoch) - Auto-set epochs to 151\n"
     ]
    },
    {
     "data": {
      "application/vnd.jupyter.widget-view+json": {
       "model_id": "dec69d6d33194fd3a344a830fbe240cd",
       "version_major": 2,
       "version_minor": 0
      },
      "text/plain": [
       "Training: 0it [00:00, ?it/s]"
      ]
     },
     "metadata": {},
     "output_type": "display_data"
    },
    {
     "name": "stderr",
     "output_type": "stream",
     "text": [
      "INFO - (NP.df_utils._infer_frequency) - Major frequency D corresponds to 99.963% of the data.\n",
      "INFO - (NP.df_utils._infer_frequency) - Defined frequency is equal to major frequency - D\n",
      "INFO - (NP.df_utils.return_df_in_original_format) - Returning df with no ID column\n",
      "INFO - (NP.df_utils._infer_frequency) - Major frequency D corresponds to 99.754% of the data.\n",
      "INFO - (NP.df_utils._infer_frequency) - Defined frequency is equal to major frequency - D\n",
      "INFO - (NP.df_utils._infer_frequency) - Major frequency D corresponds to 99.754% of the data.\n",
      "INFO - (NP.df_utils._infer_frequency) - Defined frequency is equal to major frequency - D\n"
     ]
    },
    {
     "data": {
      "application/vnd.jupyter.widget-view+json": {
       "model_id": "fa4a120a67d442c89285e7cb9e18fc60",
       "version_major": 2,
       "version_minor": 0
      },
      "text/plain": [
       "Predicting: 73it [00:00, ?it/s]"
      ]
     },
     "metadata": {},
     "output_type": "display_data"
    },
    {
     "name": "stderr",
     "output_type": "stream",
     "text": [
      "INFO - (NP.df_utils.return_df_in_original_format) - Returning df with no ID column\n",
      "\u001b[32m[I 2023-03-02 09:40:11,739]\u001b[0m Trial 11 finished with value: 18119.0 and parameters: {'trend_reg': 4.4047488755799975, 'seasonality_reg': 6.366583029484113, 'seasonality_mode': 'multiplicative', 'yearly_seasonality': 10, 'weekly_seasonality': 8, 'n_lags': 42, 'ar_reg': 6.837014863548054, 'learning_rate': 2.282703310928876, 'num_hidden_layers': 1, 'regularization': 0.38255236262525505}. Best is trial 11 with value: 18119.0.\u001b[0m\n",
      "INFO - (NP.config.__post_init__) - Note: Trend changepoint regularization is experimental.\n",
      "INFO - (NP.config.__post_init__) - Note: Fourier-based seasonality regularization is experimental.\n",
      "INFO - (NP.forecaster.add_lagged_regressor) - n_lags = 'auto', number of lags for regressor is set to Autoregression number of lags (11)\n",
      "INFO - (NP.df_utils.return_df_in_original_format) - Returning df with no ID column\n",
      "INFO - (NP.df_utils.return_df_in_original_format) - Returning df with no ID column\n",
      "WARNING - (NP.forecaster.fit) - When Global modeling with local normalization, metrics are displayed in normalized scale.\n",
      "INFO - (NP.df_utils._infer_frequency) - Major frequency D corresponds to 99.963% of the data.\n",
      "INFO - (NP.df_utils._infer_frequency) - Defined frequency is equal to major frequency - D\n",
      "INFO - (NP.config.init_data_params) - Setting normalization to global as only one dataframe provided for training.\n",
      "INFO - (NP.config.set_auto_batch_epoch) - Auto-set batch_size to 32\n",
      "INFO - (NP.config.set_auto_batch_epoch) - Auto-set epochs to 150\n"
     ]
    },
    {
     "data": {
      "application/vnd.jupyter.widget-view+json": {
       "model_id": "75e85eeefc4647199d9f350bb89594be",
       "version_major": 2,
       "version_minor": 0
      },
      "text/plain": [
       "Training: 0it [00:00, ?it/s]"
      ]
     },
     "metadata": {},
     "output_type": "display_data"
    },
    {
     "name": "stderr",
     "output_type": "stream",
     "text": [
      "INFO - (NP.df_utils._infer_frequency) - Major frequency D corresponds to 99.963% of the data.\n",
      "INFO - (NP.df_utils._infer_frequency) - Defined frequency is equal to major frequency - D\n",
      "INFO - (NP.df_utils.return_df_in_original_format) - Returning df with no ID column\n",
      "INFO - (NP.df_utils._infer_frequency) - Major frequency D corresponds to 99.734% of the data.\n",
      "INFO - (NP.df_utils._infer_frequency) - Defined frequency is equal to major frequency - D\n",
      "INFO - (NP.df_utils._infer_frequency) - Major frequency D corresponds to 99.734% of the data.\n",
      "INFO - (NP.df_utils._infer_frequency) - Defined frequency is equal to major frequency - D\n"
     ]
    },
    {
     "data": {
      "application/vnd.jupyter.widget-view+json": {
       "model_id": "13ad4674ca4141e4bee41870505461ab",
       "version_major": 2,
       "version_minor": 0
      },
      "text/plain": [
       "Predicting: 74it [00:00, ?it/s]"
      ]
     },
     "metadata": {},
     "output_type": "display_data"
    },
    {
     "name": "stderr",
     "output_type": "stream",
     "text": [
      "INFO - (NP.df_utils.return_df_in_original_format) - Returning df with no ID column\n",
      "\u001b[32m[I 2023-03-02 09:42:14,082]\u001b[0m Trial 12 finished with value: 18151.0 and parameters: {'trend_reg': 4.576437084943687, 'seasonality_reg': 6.347551013914456, 'seasonality_mode': 'multiplicative', 'yearly_seasonality': 10, 'weekly_seasonality': 10, 'n_lags': 11, 'ar_reg': 7.224664567895566, 'learning_rate': 1.9593499797271277, 'num_hidden_layers': 1, 'regularization': 0.3969590662083109}. Best is trial 11 with value: 18119.0.\u001b[0m\n",
      "INFO - (NP.config.__post_init__) - Note: Trend changepoint regularization is experimental.\n",
      "INFO - (NP.config.__post_init__) - Note: Fourier-based seasonality regularization is experimental.\n",
      "INFO - (NP.forecaster.add_lagged_regressor) - n_lags = 'auto', number of lags for regressor is set to Autoregression number of lags (7)\n",
      "INFO - (NP.df_utils.return_df_in_original_format) - Returning df with no ID column\n",
      "INFO - (NP.df_utils.return_df_in_original_format) - Returning df with no ID column\n",
      "WARNING - (NP.forecaster.fit) - When Global modeling with local normalization, metrics are displayed in normalized scale.\n",
      "INFO - (NP.df_utils._infer_frequency) - Major frequency D corresponds to 99.963% of the data.\n",
      "INFO - (NP.df_utils._infer_frequency) - Defined frequency is equal to major frequency - D\n",
      "INFO - (NP.config.init_data_params) - Setting normalization to global as only one dataframe provided for training.\n",
      "INFO - (NP.config.set_auto_batch_epoch) - Auto-set batch_size to 32\n",
      "INFO - (NP.config.set_auto_batch_epoch) - Auto-set epochs to 150\n"
     ]
    },
    {
     "data": {
      "application/vnd.jupyter.widget-view+json": {
       "model_id": "75cbec0e96b44164a83c51a379b76451",
       "version_major": 2,
       "version_minor": 0
      },
      "text/plain": [
       "Training: 0it [00:00, ?it/s]"
      ]
     },
     "metadata": {},
     "output_type": "display_data"
    },
    {
     "name": "stderr",
     "output_type": "stream",
     "text": [
      "INFO - (NP.df_utils._infer_frequency) - Major frequency D corresponds to 99.963% of the data.\n",
      "INFO - (NP.df_utils._infer_frequency) - Defined frequency is equal to major frequency - D\n",
      "INFO - (NP.df_utils.return_df_in_original_format) - Returning df with no ID column\n",
      "INFO - (NP.df_utils._infer_frequency) - Major frequency D corresponds to 99.731% of the data.\n",
      "INFO - (NP.df_utils._infer_frequency) - Defined frequency is equal to major frequency - D\n",
      "INFO - (NP.df_utils._infer_frequency) - Major frequency D corresponds to 99.731% of the data.\n",
      "INFO - (NP.df_utils._infer_frequency) - Defined frequency is equal to major frequency - D\n"
     ]
    },
    {
     "data": {
      "application/vnd.jupyter.widget-view+json": {
       "model_id": "eecdbc83a6224ef8ba5be23762d818ca",
       "version_major": 2,
       "version_minor": 0
      },
      "text/plain": [
       "Predicting: 74it [00:00, ?it/s]"
      ]
     },
     "metadata": {},
     "output_type": "display_data"
    },
    {
     "name": "stderr",
     "output_type": "stream",
     "text": [
      "INFO - (NP.df_utils.return_df_in_original_format) - Returning df with no ID column\n",
      "\u001b[32m[I 2023-03-02 09:44:48,550]\u001b[0m Trial 13 finished with value: 18319.0 and parameters: {'trend_reg': 4.925916849291945, 'seasonality_reg': 9.999105924610591, 'seasonality_mode': 'multiplicative', 'yearly_seasonality': 17, 'weekly_seasonality': 12, 'n_lags': 7, 'ar_reg': 8.014097092184898, 'learning_rate': 1.784613443431125, 'num_hidden_layers': 1, 'regularization': 0.0001748519866672793}. Best is trial 11 with value: 18119.0.\u001b[0m\n",
      "INFO - (NP.config.__post_init__) - Note: Trend changepoint regularization is experimental.\n",
      "INFO - (NP.config.__post_init__) - Note: Fourier-based seasonality regularization is experimental.\n",
      "INFO - (NP.forecaster.add_lagged_regressor) - n_lags = 'auto', number of lags for regressor is set to Autoregression number of lags (243)\n",
      "INFO - (NP.df_utils.return_df_in_original_format) - Returning df with no ID column\n",
      "INFO - (NP.df_utils.return_df_in_original_format) - Returning df with no ID column\n",
      "WARNING - (NP.forecaster.fit) - When Global modeling with local normalization, metrics are displayed in normalized scale.\n",
      "INFO - (NP.df_utils._infer_frequency) - Major frequency D corresponds to 99.963% of the data.\n",
      "INFO - (NP.df_utils._infer_frequency) - Defined frequency is equal to major frequency - D\n",
      "INFO - (NP.config.init_data_params) - Setting normalization to global as only one dataframe provided for training.\n",
      "INFO - (NP.config.set_auto_batch_epoch) - Auto-set batch_size to 32\n",
      "INFO - (NP.config.set_auto_batch_epoch) - Auto-set epochs to 155\n"
     ]
    },
    {
     "data": {
      "application/vnd.jupyter.widget-view+json": {
       "model_id": "085b14f751f24286a50b24987861141e",
       "version_major": 2,
       "version_minor": 0
      },
      "text/plain": [
       "Training: 0it [00:00, ?it/s]"
      ]
     },
     "metadata": {},
     "output_type": "display_data"
    },
    {
     "name": "stderr",
     "output_type": "stream",
     "text": [
      "INFO - (NP.df_utils._infer_frequency) - Major frequency D corresponds to 99.963% of the data.\n",
      "INFO - (NP.df_utils._infer_frequency) - Defined frequency is equal to major frequency - D\n",
      "INFO - (NP.df_utils.return_df_in_original_format) - Returning df with no ID column\n",
      "INFO - (NP.df_utils._infer_frequency) - Major frequency D corresponds to 99.836% of the data.\n",
      "INFO - (NP.df_utils._infer_frequency) - Defined frequency is equal to major frequency - D\n",
      "INFO - (NP.df_utils._infer_frequency) - Major frequency D corresponds to 99.836% of the data.\n",
      "INFO - (NP.df_utils._infer_frequency) - Defined frequency is equal to major frequency - D\n"
     ]
    },
    {
     "data": {
      "application/vnd.jupyter.widget-view+json": {
       "model_id": "cd761276aeab47c3966596f88b8092d1",
       "version_major": 2,
       "version_minor": 0
      },
      "text/plain": [
       "Predicting: 67it [00:00, ?it/s]"
      ]
     },
     "metadata": {},
     "output_type": "display_data"
    },
    {
     "name": "stderr",
     "output_type": "stream",
     "text": [
      "INFO - (NP.df_utils.return_df_in_original_format) - Returning df with no ID column\n",
      "\u001b[32m[I 2023-03-02 09:47:46,222]\u001b[0m Trial 14 finished with value: 19529.0 and parameters: {'trend_reg': 3.427508194690936, 'seasonality_reg': 6.367674204421199, 'seasonality_mode': 'multiplicative', 'yearly_seasonality': 17, 'weekly_seasonality': 15, 'n_lags': 243, 'ar_reg': 7.0543768126269875, 'learning_rate': 1.7987303101286938, 'num_hidden_layers': 1, 'regularization': 0.3264135204121042}. Best is trial 11 with value: 18119.0.\u001b[0m\n",
      "INFO - (NP.config.__post_init__) - Note: Trend changepoint regularization is experimental.\n",
      "INFO - (NP.config.__post_init__) - Note: Fourier-based seasonality regularization is experimental.\n",
      "INFO - (NP.forecaster.add_lagged_regressor) - n_lags = 'auto', number of lags for regressor is set to Autoregression number of lags (28)\n",
      "INFO - (NP.df_utils.return_df_in_original_format) - Returning df with no ID column\n",
      "INFO - (NP.df_utils.return_df_in_original_format) - Returning df with no ID column\n",
      "WARNING - (NP.forecaster.fit) - When Global modeling with local normalization, metrics are displayed in normalized scale.\n",
      "INFO - (NP.df_utils._infer_frequency) - Major frequency D corresponds to 99.963% of the data.\n",
      "INFO - (NP.df_utils._infer_frequency) - Defined frequency is equal to major frequency - D\n",
      "INFO - (NP.config.init_data_params) - Setting normalization to global as only one dataframe provided for training.\n",
      "INFO - (NP.config.set_auto_batch_epoch) - Auto-set batch_size to 32\n",
      "INFO - (NP.config.set_auto_batch_epoch) - Auto-set epochs to 151\n"
     ]
    },
    {
     "data": {
      "application/vnd.jupyter.widget-view+json": {
       "model_id": "4ce6b6d4683744baa4c32e73fc00c932",
       "version_major": 2,
       "version_minor": 0
      },
      "text/plain": [
       "Training: 0it [00:00, ?it/s]"
      ]
     },
     "metadata": {},
     "output_type": "display_data"
    },
    {
     "name": "stderr",
     "output_type": "stream",
     "text": [
      "INFO - (NP.df_utils._infer_frequency) - Major frequency D corresponds to 99.963% of the data.\n",
      "INFO - (NP.df_utils._infer_frequency) - Defined frequency is equal to major frequency - D\n",
      "INFO - (NP.df_utils.return_df_in_original_format) - Returning df with no ID column\n",
      "INFO - (NP.df_utils._infer_frequency) - Major frequency D corresponds to 99.746% of the data.\n",
      "INFO - (NP.df_utils._infer_frequency) - Defined frequency is equal to major frequency - D\n",
      "INFO - (NP.df_utils._infer_frequency) - Major frequency D corresponds to 99.746% of the data.\n",
      "INFO - (NP.df_utils._infer_frequency) - Defined frequency is equal to major frequency - D\n"
     ]
    },
    {
     "data": {
      "application/vnd.jupyter.widget-view+json": {
       "model_id": "57bdcb999e6f4e9f9a16d82f1fbce029",
       "version_major": 2,
       "version_minor": 0
      },
      "text/plain": [
       "Predicting: 74it [00:00, ?it/s]"
      ]
     },
     "metadata": {},
     "output_type": "display_data"
    },
    {
     "name": "stderr",
     "output_type": "stream",
     "text": [
      "INFO - (NP.df_utils.return_df_in_original_format) - Returning df with no ID column\n",
      "\u001b[32m[I 2023-03-02 09:50:19,658]\u001b[0m Trial 15 finished with value: 20252.0 and parameters: {'trend_reg': 1.107659999572721, 'seasonality_reg': 6.25818611939244, 'seasonality_mode': 'multiplicative', 'yearly_seasonality': 14, 'weekly_seasonality': 11, 'n_lags': 28, 'ar_reg': 8.660019133243592, 'learning_rate': 3.185853082578281, 'num_hidden_layers': 3, 'regularization': 0.11087063387096197}. Best is trial 11 with value: 18119.0.\u001b[0m\n",
      "INFO - (NP.config.__post_init__) - Note: Trend changepoint regularization is experimental.\n",
      "INFO - (NP.config.__post_init__) - Note: Fourier-based seasonality regularization is experimental.\n",
      "INFO - (NP.forecaster.add_lagged_regressor) - n_lags = 'auto', number of lags for regressor is set to Autoregression number of lags (232)\n",
      "INFO - (NP.df_utils.return_df_in_original_format) - Returning df with no ID column\n",
      "INFO - (NP.df_utils.return_df_in_original_format) - Returning df with no ID column\n",
      "WARNING - (NP.forecaster.fit) - When Global modeling with local normalization, metrics are displayed in normalized scale.\n",
      "INFO - (NP.df_utils._infer_frequency) - Major frequency D corresponds to 99.963% of the data.\n",
      "INFO - (NP.df_utils._infer_frequency) - Defined frequency is equal to major frequency - D\n",
      "INFO - (NP.config.init_data_params) - Setting normalization to global as only one dataframe provided for training.\n",
      "INFO - (NP.config.set_auto_batch_epoch) - Auto-set batch_size to 32\n",
      "INFO - (NP.config.set_auto_batch_epoch) - Auto-set epochs to 155\n"
     ]
    },
    {
     "data": {
      "application/vnd.jupyter.widget-view+json": {
       "model_id": "a1dfda96c1304d7f93b8b30a6f40d6b7",
       "version_major": 2,
       "version_minor": 0
      },
      "text/plain": [
       "Training: 0it [00:00, ?it/s]"
      ]
     },
     "metadata": {},
     "output_type": "display_data"
    },
    {
     "name": "stderr",
     "output_type": "stream",
     "text": [
      "INFO - (NP.df_utils._infer_frequency) - Major frequency D corresponds to 99.963% of the data.\n",
      "INFO - (NP.df_utils._infer_frequency) - Defined frequency is equal to major frequency - D\n",
      "INFO - (NP.df_utils.return_df_in_original_format) - Returning df with no ID column\n",
      "INFO - (NP.df_utils._infer_frequency) - Major frequency D corresponds to 99.832% of the data.\n",
      "INFO - (NP.df_utils._infer_frequency) - Defined frequency is equal to major frequency - D\n",
      "INFO - (NP.df_utils._infer_frequency) - Major frequency D corresponds to 99.832% of the data.\n",
      "INFO - (NP.df_utils._infer_frequency) - Defined frequency is equal to major frequency - D\n"
     ]
    },
    {
     "data": {
      "application/vnd.jupyter.widget-view+json": {
       "model_id": "f44da9679e4b4dd29b88a0f80913cd2e",
       "version_major": 2,
       "version_minor": 0
      },
      "text/plain": [
       "Predicting: 67it [00:00, ?it/s]"
      ]
     },
     "metadata": {},
     "output_type": "display_data"
    },
    {
     "name": "stderr",
     "output_type": "stream",
     "text": [
      "INFO - (NP.df_utils.return_df_in_original_format) - Returning df with no ID column\n",
      "\u001b[32m[I 2023-03-02 09:53:18,570]\u001b[0m Trial 16 finished with value: 19700.0 and parameters: {'trend_reg': 3.8592512696498464, 'seasonality_reg': 3.3437928556334886, 'seasonality_mode': 'multiplicative', 'yearly_seasonality': 20, 'weekly_seasonality': 15, 'n_lags': 232, 'ar_reg': 6.881669558317799, 'learning_rate': 1.6389180437476298, 'num_hidden_layers': 1, 'regularization': 0.35960237569890613}. Best is trial 11 with value: 18119.0.\u001b[0m\n",
      "INFO - (NP.config.__post_init__) - Note: Trend changepoint regularization is experimental.\n",
      "INFO - (NP.config.__post_init__) - Note: Fourier-based seasonality regularization is experimental.\n",
      "INFO - (NP.forecaster.add_lagged_regressor) - n_lags = 'auto', number of lags for regressor is set to Autoregression number of lags (403)\n",
      "INFO - (NP.df_utils.return_df_in_original_format) - Returning df with no ID column\n",
      "INFO - (NP.df_utils.return_df_in_original_format) - Returning df with no ID column\n",
      "WARNING - (NP.forecaster.fit) - When Global modeling with local normalization, metrics are displayed in normalized scale.\n",
      "INFO - (NP.df_utils._infer_frequency) - Major frequency D corresponds to 99.963% of the data.\n",
      "INFO - (NP.df_utils._infer_frequency) - Defined frequency is equal to major frequency - D\n",
      "INFO - (NP.config.init_data_params) - Setting normalization to global as only one dataframe provided for training.\n",
      "INFO - (NP.config.set_auto_batch_epoch) - Auto-set batch_size to 32\n",
      "INFO - (NP.config.set_auto_batch_epoch) - Auto-set epochs to 158\n"
     ]
    },
    {
     "data": {
      "application/vnd.jupyter.widget-view+json": {
       "model_id": "3254928fbb3c4f09abb872da56566930",
       "version_major": 2,
       "version_minor": 0
      },
      "text/plain": [
       "Training: 0it [00:00, ?it/s]"
      ]
     },
     "metadata": {},
     "output_type": "display_data"
    },
    {
     "name": "stderr",
     "output_type": "stream",
     "text": [
      "INFO - (NP.df_utils._infer_frequency) - Major frequency D corresponds to 99.963% of the data.\n",
      "INFO - (NP.df_utils._infer_frequency) - Defined frequency is equal to major frequency - D\n",
      "INFO - (NP.df_utils.return_df_in_original_format) - Returning df with no ID column\n",
      "INFO - (NP.df_utils._infer_frequency) - Major frequency D corresponds to 99.87% of the data.\n",
      "INFO - (NP.df_utils._infer_frequency) - Defined frequency is equal to major frequency - D\n",
      "INFO - (NP.df_utils._infer_frequency) - Major frequency D corresponds to 99.87% of the data.\n",
      "INFO - (NP.df_utils._infer_frequency) - Defined frequency is equal to major frequency - D\n"
     ]
    },
    {
     "data": {
      "application/vnd.jupyter.widget-view+json": {
       "model_id": "9d4697709c4841b0a478c0f789008de9",
       "version_major": 2,
       "version_minor": 0
      },
      "text/plain": [
       "Predicting: 62it [00:00, ?it/s]"
      ]
     },
     "metadata": {},
     "output_type": "display_data"
    },
    {
     "name": "stderr",
     "output_type": "stream",
     "text": [
      "INFO - (NP.df_utils.return_df_in_original_format) - Returning df with no ID column\n",
      "\u001b[32m[I 2023-03-02 09:54:59,662]\u001b[0m Trial 17 finished with value: 94087.0 and parameters: {'trend_reg': 5.92738355568111, 'seasonality_reg': 7.123316041050951, 'seasonality_mode': 'multiplicative', 'yearly_seasonality': 10, 'weekly_seasonality': 8, 'n_lags': 403, 'ar_reg': 8.334187212709624, 'learning_rate': 2.509961444368495, 'num_hidden_layers': 0, 'regularization': 0.5779037090563984}. Best is trial 11 with value: 18119.0.\u001b[0m\n",
      "INFO - (NP.config.__post_init__) - Note: Trend changepoint regularization is experimental.\n",
      "INFO - (NP.config.__post_init__) - Note: Fourier-based seasonality regularization is experimental.\n",
      "INFO - (NP.forecaster.add_lagged_regressor) - n_lags = 'auto', number of lags for regressor is set to Autoregression number of lags (839)\n",
      "INFO - (NP.df_utils.return_df_in_original_format) - Returning df with no ID column\n",
      "INFO - (NP.df_utils.return_df_in_original_format) - Returning df with no ID column\n",
      "WARNING - (NP.forecaster.fit) - When Global modeling with local normalization, metrics are displayed in normalized scale.\n",
      "INFO - (NP.df_utils._infer_frequency) - Major frequency D corresponds to 99.963% of the data.\n",
      "INFO - (NP.df_utils._infer_frequency) - Defined frequency is equal to major frequency - D\n",
      "INFO - (NP.config.init_data_params) - Setting normalization to global as only one dataframe provided for training.\n",
      "INFO - (NP.config.set_auto_batch_epoch) - Auto-set batch_size to 32\n",
      "INFO - (NP.config.set_auto_batch_epoch) - Auto-set epochs to 170\n"
     ]
    },
    {
     "data": {
      "application/vnd.jupyter.widget-view+json": {
       "model_id": "686f59eb412641a98e830a9cabda4016",
       "version_major": 2,
       "version_minor": 0
      },
      "text/plain": [
       "Training: 0it [00:00, ?it/s]"
      ]
     },
     "metadata": {},
     "output_type": "display_data"
    },
    {
     "name": "stderr",
     "output_type": "stream",
     "text": [
      "INFO - (NP.df_utils._infer_frequency) - Major frequency D corresponds to 99.963% of the data.\n",
      "INFO - (NP.df_utils._infer_frequency) - Defined frequency is equal to major frequency - D\n",
      "INFO - (NP.df_utils.return_df_in_original_format) - Returning df with no ID column\n",
      "INFO - (NP.df_utils._infer_frequency) - Major frequency D corresponds to 99.917% of the data.\n",
      "INFO - (NP.df_utils._infer_frequency) - Defined frequency is equal to major frequency - D\n",
      "INFO - (NP.df_utils._infer_frequency) - Major frequency D corresponds to 99.917% of the data.\n",
      "INFO - (NP.df_utils._infer_frequency) - Defined frequency is equal to major frequency - D\n"
     ]
    },
    {
     "data": {
      "application/vnd.jupyter.widget-view+json": {
       "model_id": "d6107351372c4148bdad7ac7e23e1c7e",
       "version_major": 2,
       "version_minor": 0
      },
      "text/plain": [
       "Predicting: 48it [00:00, ?it/s]"
      ]
     },
     "metadata": {},
     "output_type": "display_data"
    },
    {
     "name": "stderr",
     "output_type": "stream",
     "text": [
      "INFO - (NP.df_utils.return_df_in_original_format) - Returning df with no ID column\n",
      "\u001b[32m[I 2023-03-02 09:57:58,282]\u001b[0m Trial 18 finished with value: 248401.0 and parameters: {'trend_reg': 2.0760821302643544, 'seasonality_reg': 0.22949111939312594, 'seasonality_mode': 'multiplicative', 'yearly_seasonality': 31, 'weekly_seasonality': 5, 'n_lags': 839, 'ar_reg': 5.66072648835196, 'learning_rate': 1.2799180497886198, 'num_hidden_layers': 1, 'regularization': 0.2596901497525121}. Best is trial 11 with value: 18119.0.\u001b[0m\n",
      "INFO - (NP.config.__post_init__) - Note: Trend changepoint regularization is experimental.\n",
      "INFO - (NP.config.__post_init__) - Note: Fourier-based seasonality regularization is experimental.\n",
      "INFO - (NP.forecaster.add_lagged_regressor) - n_lags = 'auto', number of lags for regressor is set to Autoregression number of lags (170)\n",
      "INFO - (NP.df_utils.return_df_in_original_format) - Returning df with no ID column\n",
      "INFO - (NP.df_utils.return_df_in_original_format) - Returning df with no ID column\n",
      "WARNING - (NP.forecaster.fit) - When Global modeling with local normalization, metrics are displayed in normalized scale.\n",
      "INFO - (NP.df_utils._infer_frequency) - Major frequency D corresponds to 99.963% of the data.\n",
      "INFO - (NP.df_utils._infer_frequency) - Defined frequency is equal to major frequency - D\n",
      "INFO - (NP.config.init_data_params) - Setting normalization to global as only one dataframe provided for training.\n",
      "INFO - (NP.config.set_auto_batch_epoch) - Auto-set batch_size to 32\n",
      "INFO - (NP.config.set_auto_batch_epoch) - Auto-set epochs to 153\n"
     ]
    },
    {
     "data": {
      "application/vnd.jupyter.widget-view+json": {
       "model_id": "67754e9a056e414b8a454357439a190c",
       "version_major": 2,
       "version_minor": 0
      },
      "text/plain": [
       "Training: 0it [00:00, ?it/s]"
      ]
     },
     "metadata": {},
     "output_type": "display_data"
    },
    {
     "name": "stderr",
     "output_type": "stream",
     "text": [
      "INFO - (NP.df_utils._infer_frequency) - Major frequency D corresponds to 99.963% of the data.\n",
      "INFO - (NP.df_utils._infer_frequency) - Defined frequency is equal to major frequency - D\n",
      "INFO - (NP.df_utils.return_df_in_original_format) - Returning df with no ID column\n",
      "INFO - (NP.df_utils._infer_frequency) - Major frequency D corresponds to 99.813% of the data.\n",
      "INFO - (NP.df_utils._infer_frequency) - Defined frequency is equal to major frequency - D\n",
      "INFO - (NP.df_utils._infer_frequency) - Major frequency D corresponds to 99.813% of the data.\n",
      "INFO - (NP.df_utils._infer_frequency) - Defined frequency is equal to major frequency - D\n"
     ]
    },
    {
     "data": {
      "application/vnd.jupyter.widget-view+json": {
       "model_id": "6639682049e24fcaa59be66c1fb647bd",
       "version_major": 2,
       "version_minor": 0
      },
      "text/plain": [
       "Predicting: 69it [00:00, ?it/s]"
      ]
     },
     "metadata": {},
     "output_type": "display_data"
    },
    {
     "name": "stderr",
     "output_type": "stream",
     "text": [
      "INFO - (NP.df_utils.return_df_in_original_format) - Returning df with no ID column\n",
      "\u001b[32m[I 2023-03-02 09:59:56,017]\u001b[0m Trial 19 finished with value: 101678.0 and parameters: {'trend_reg': 4.103638429684504, 'seasonality_reg': 9.539519334470631, 'seasonality_mode': 'multiplicative', 'yearly_seasonality': 15, 'weekly_seasonality': 10, 'n_lags': 170, 'ar_reg': 9.956223640417912, 'learning_rate': 3.0645579222099077, 'num_hidden_layers': 0, 'regularization': 0.4186425647699078}. Best is trial 11 with value: 18119.0.\u001b[0m\n",
      "INFO - (NP.config.__post_init__) - Note: Trend changepoint regularization is experimental.\n",
      "INFO - (NP.config.__post_init__) - Note: Fourier-based seasonality regularization is experimental.\n",
      "INFO - (NP.forecaster.add_lagged_regressor) - n_lags = 'auto', number of lags for regressor is set to Autoregression number of lags (478)\n",
      "INFO - (NP.df_utils.return_df_in_original_format) - Returning df with no ID column\n",
      "INFO - (NP.df_utils.return_df_in_original_format) - Returning df with no ID column\n",
      "WARNING - (NP.forecaster.fit) - When Global modeling with local normalization, metrics are displayed in normalized scale.\n",
      "INFO - (NP.df_utils._infer_frequency) - Major frequency D corresponds to 99.963% of the data.\n",
      "INFO - (NP.df_utils._infer_frequency) - Defined frequency is equal to major frequency - D\n",
      "INFO - (NP.config.init_data_params) - Setting normalization to global as only one dataframe provided for training.\n",
      "INFO - (NP.config.set_auto_batch_epoch) - Auto-set batch_size to 32\n",
      "INFO - (NP.config.set_auto_batch_epoch) - Auto-set epochs to 160\n"
     ]
    },
    {
     "data": {
      "application/vnd.jupyter.widget-view+json": {
       "model_id": "40dcb6b934bc49f6bfd97f68967ebd54",
       "version_major": 2,
       "version_minor": 0
      },
      "text/plain": [
       "Training: 0it [00:00, ?it/s]"
      ]
     },
     "metadata": {},
     "output_type": "display_data"
    },
    {
     "name": "stderr",
     "output_type": "stream",
     "text": [
      "INFO - (NP.df_utils._infer_frequency) - Major frequency D corresponds to 99.963% of the data.\n",
      "INFO - (NP.df_utils._infer_frequency) - Defined frequency is equal to major frequency - D\n",
      "INFO - (NP.df_utils.return_df_in_original_format) - Returning df with no ID column\n",
      "INFO - (NP.df_utils._infer_frequency) - Major frequency D corresponds to 99.881% of the data.\n",
      "INFO - (NP.df_utils._infer_frequency) - Defined frequency is equal to major frequency - D\n",
      "INFO - (NP.df_utils._infer_frequency) - Major frequency D corresponds to 99.881% of the data.\n",
      "INFO - (NP.df_utils._infer_frequency) - Defined frequency is equal to major frequency - D\n"
     ]
    },
    {
     "data": {
      "application/vnd.jupyter.widget-view+json": {
       "model_id": "d2730255d69249d19b84bb9fad1c7ab8",
       "version_major": 2,
       "version_minor": 0
      },
      "text/plain": [
       "Predicting: 60it [00:00, ?it/s]"
      ]
     },
     "metadata": {},
     "output_type": "display_data"
    },
    {
     "name": "stderr",
     "output_type": "stream",
     "text": [
      "INFO - (NP.df_utils.return_df_in_original_format) - Returning df with no ID column\n",
      "\u001b[32m[I 2023-03-02 10:02:49,096]\u001b[0m Trial 20 finished with value: 20024.0 and parameters: {'trend_reg': 5.765046717333444, 'seasonality_reg': 5.780783545919924, 'seasonality_mode': 'multiplicative', 'yearly_seasonality': 20, 'weekly_seasonality': 13, 'n_lags': 478, 'ar_reg': 7.1523773100216435, 'learning_rate': 2.15418406898903, 'num_hidden_layers': 1, 'regularization': 0.1446789784219482}. Best is trial 11 with value: 18119.0.\u001b[0m\n",
      "INFO - (NP.config.__post_init__) - Note: Trend changepoint regularization is experimental.\n",
      "INFO - (NP.config.__post_init__) - Note: Fourier-based seasonality regularization is experimental.\n",
      "INFO - (NP.forecaster.add_lagged_regressor) - n_lags = 'auto', number of lags for regressor is set to Autoregression number of lags (93)\n",
      "INFO - (NP.df_utils.return_df_in_original_format) - Returning df with no ID column\n",
      "INFO - (NP.df_utils.return_df_in_original_format) - Returning df with no ID column\n",
      "WARNING - (NP.forecaster.fit) - When Global modeling with local normalization, metrics are displayed in normalized scale.\n",
      "INFO - (NP.df_utils._infer_frequency) - Major frequency D corresponds to 99.963% of the data.\n",
      "INFO - (NP.df_utils._infer_frequency) - Defined frequency is equal to major frequency - D\n",
      "INFO - (NP.config.init_data_params) - Setting normalization to global as only one dataframe provided for training.\n",
      "INFO - (NP.config.set_auto_batch_epoch) - Auto-set batch_size to 32\n",
      "INFO - (NP.config.set_auto_batch_epoch) - Auto-set epochs to 152\n"
     ]
    },
    {
     "data": {
      "application/vnd.jupyter.widget-view+json": {
       "model_id": "e69399e72fc94fce9c95ddb189f93896",
       "version_major": 2,
       "version_minor": 0
      },
      "text/plain": [
       "Training: 0it [00:00, ?it/s]"
      ]
     },
     "metadata": {},
     "output_type": "display_data"
    },
    {
     "name": "stderr",
     "output_type": "stream",
     "text": [
      "INFO - (NP.df_utils._infer_frequency) - Major frequency D corresponds to 99.963% of the data.\n",
      "INFO - (NP.df_utils._infer_frequency) - Defined frequency is equal to major frequency - D\n",
      "INFO - (NP.df_utils.return_df_in_original_format) - Returning df with no ID column\n",
      "INFO - (NP.df_utils._infer_frequency) - Major frequency D corresponds to 99.782% of the data.\n",
      "INFO - (NP.df_utils._infer_frequency) - Defined frequency is equal to major frequency - D\n",
      "INFO - (NP.df_utils._infer_frequency) - Major frequency D corresponds to 99.782% of the data.\n",
      "INFO - (NP.df_utils._infer_frequency) - Defined frequency is equal to major frequency - D\n"
     ]
    },
    {
     "data": {
      "application/vnd.jupyter.widget-view+json": {
       "model_id": "7acbf2b5467d4102b5020a2fb882b81a",
       "version_major": 2,
       "version_minor": 0
      },
      "text/plain": [
       "Predicting: 72it [00:00, ?it/s]"
      ]
     },
     "metadata": {},
     "output_type": "display_data"
    },
    {
     "name": "stderr",
     "output_type": "stream",
     "text": [
      "INFO - (NP.df_utils.return_df_in_original_format) - Returning df with no ID column\n",
      "\u001b[32m[I 2023-03-02 10:04:56,765]\u001b[0m Trial 21 finished with value: 18343.0 and parameters: {'trend_reg': 4.643440942538773, 'seasonality_reg': 6.982863544024213, 'seasonality_mode': 'multiplicative', 'yearly_seasonality': 10, 'weekly_seasonality': 8, 'n_lags': 93, 'ar_reg': 6.305973668637824, 'learning_rate': 2.152709417555243, 'num_hidden_layers': 1, 'regularization': 0.4575657997240494}. Best is trial 11 with value: 18119.0.\u001b[0m\n",
      "INFO - (NP.config.__post_init__) - Note: Trend changepoint regularization is experimental.\n",
      "INFO - (NP.config.__post_init__) - Note: Fourier-based seasonality regularization is experimental.\n",
      "INFO - (NP.forecaster.add_lagged_regressor) - n_lags = 'auto', number of lags for regressor is set to Autoregression number of lags (56)\n",
      "INFO - (NP.df_utils.return_df_in_original_format) - Returning df with no ID column\n",
      "INFO - (NP.df_utils.return_df_in_original_format) - Returning df with no ID column\n",
      "WARNING - (NP.forecaster.fit) - When Global modeling with local normalization, metrics are displayed in normalized scale.\n",
      "INFO - (NP.df_utils._infer_frequency) - Major frequency D corresponds to 99.963% of the data.\n",
      "INFO - (NP.df_utils._infer_frequency) - Defined frequency is equal to major frequency - D\n",
      "INFO - (NP.config.init_data_params) - Setting normalization to global as only one dataframe provided for training.\n",
      "INFO - (NP.config.set_auto_batch_epoch) - Auto-set batch_size to 32\n",
      "INFO - (NP.config.set_auto_batch_epoch) - Auto-set epochs to 151\n"
     ]
    },
    {
     "data": {
      "application/vnd.jupyter.widget-view+json": {
       "model_id": "72ffb27251e44b3c94d535a1cedcbb0b",
       "version_major": 2,
       "version_minor": 0
      },
      "text/plain": [
       "Training: 0it [00:00, ?it/s]"
      ]
     },
     "metadata": {},
     "output_type": "display_data"
    },
    {
     "name": "stderr",
     "output_type": "stream",
     "text": [
      "INFO - (NP.df_utils._infer_frequency) - Major frequency D corresponds to 99.963% of the data.\n",
      "INFO - (NP.df_utils._infer_frequency) - Defined frequency is equal to major frequency - D\n",
      "INFO - (NP.df_utils.return_df_in_original_format) - Returning df with no ID column\n",
      "INFO - (NP.df_utils._infer_frequency) - Major frequency D corresponds to 99.762% of the data.\n",
      "INFO - (NP.df_utils._infer_frequency) - Defined frequency is equal to major frequency - D\n",
      "INFO - (NP.df_utils._infer_frequency) - Major frequency D corresponds to 99.762% of the data.\n",
      "INFO - (NP.df_utils._infer_frequency) - Defined frequency is equal to major frequency - D\n"
     ]
    },
    {
     "data": {
      "application/vnd.jupyter.widget-view+json": {
       "model_id": "39031790b9a641759a8dfe1a2b7b8c5a",
       "version_major": 2,
       "version_minor": 0
      },
      "text/plain": [
       "Predicting: 73it [00:00, ?it/s]"
      ]
     },
     "metadata": {},
     "output_type": "display_data"
    },
    {
     "name": "stderr",
     "output_type": "stream",
     "text": [
      "INFO - (NP.df_utils.return_df_in_original_format) - Returning df with no ID column\n",
      "\u001b[32m[I 2023-03-02 10:07:04,277]\u001b[0m Trial 22 finished with value: 18239.0 and parameters: {'trend_reg': 5.157860419118483, 'seasonality_reg': 5.49225039210393, 'seasonality_mode': 'multiplicative', 'yearly_seasonality': 10, 'weekly_seasonality': 7, 'n_lags': 56, 'ar_reg': 4.370912449657091, 'learning_rate': 2.246558530031154, 'num_hidden_layers': 1, 'regularization': 0.376245280806262}. Best is trial 11 with value: 18119.0.\u001b[0m\n",
      "INFO - (NP.config.__post_init__) - Note: Trend changepoint regularization is experimental.\n",
      "INFO - (NP.config.__post_init__) - Note: Fourier-based seasonality regularization is experimental.\n",
      "INFO - (NP.forecaster.add_lagged_regressor) - n_lags = 'auto', number of lags for regressor is set to Autoregression number of lags (3)\n",
      "INFO - (NP.df_utils.return_df_in_original_format) - Returning df with no ID column\n",
      "INFO - (NP.df_utils.return_df_in_original_format) - Returning df with no ID column\n",
      "WARNING - (NP.forecaster.fit) - When Global modeling with local normalization, metrics are displayed in normalized scale.\n",
      "INFO - (NP.df_utils._infer_frequency) - Major frequency D corresponds to 99.963% of the data.\n",
      "INFO - (NP.df_utils._infer_frequency) - Defined frequency is equal to major frequency - D\n",
      "INFO - (NP.config.init_data_params) - Setting normalization to global as only one dataframe provided for training.\n",
      "INFO - (NP.config.set_auto_batch_epoch) - Auto-set batch_size to 32\n",
      "INFO - (NP.config.set_auto_batch_epoch) - Auto-set epochs to 150\n"
     ]
    },
    {
     "data": {
      "application/vnd.jupyter.widget-view+json": {
       "model_id": "e2205a93829c4d729cccf070638386f2",
       "version_major": 2,
       "version_minor": 0
      },
      "text/plain": [
       "Training: 0it [00:00, ?it/s]"
      ]
     },
     "metadata": {},
     "output_type": "display_data"
    },
    {
     "name": "stderr",
     "output_type": "stream",
     "text": [
      "INFO - (NP.df_utils._infer_frequency) - Major frequency D corresponds to 99.963% of the data.\n",
      "INFO - (NP.df_utils._infer_frequency) - Defined frequency is equal to major frequency - D\n",
      "INFO - (NP.df_utils.return_df_in_original_format) - Returning df with no ID column\n",
      "INFO - (NP.df_utils._infer_frequency) - Major frequency D corresponds to 99.728% of the data.\n",
      "INFO - (NP.df_utils._infer_frequency) - Defined frequency is equal to major frequency - D\n",
      "INFO - (NP.df_utils._infer_frequency) - Major frequency D corresponds to 99.728% of the data.\n",
      "INFO - (NP.df_utils._infer_frequency) - Defined frequency is equal to major frequency - D\n"
     ]
    },
    {
     "data": {
      "application/vnd.jupyter.widget-view+json": {
       "model_id": "51ad766b2ae448e2bebf166ea3325198",
       "version_major": 2,
       "version_minor": 0
      },
      "text/plain": [
       "Predicting: 75it [00:00, ?it/s]"
      ]
     },
     "metadata": {},
     "output_type": "display_data"
    },
    {
     "name": "stderr",
     "output_type": "stream",
     "text": [
      "INFO - (NP.df_utils.return_df_in_original_format) - Returning df with no ID column\n",
      "\u001b[32m[I 2023-03-02 10:09:15,372]\u001b[0m Trial 23 finished with value: 123114.0 and parameters: {'trend_reg': 2.2432682379701148, 'seasonality_reg': 8.744474631304024, 'seasonality_mode': 'multiplicative', 'yearly_seasonality': 13, 'weekly_seasonality': 4, 'n_lags': 3, 'ar_reg': 6.012206690280564, 'learning_rate': 1.5226038089611964, 'num_hidden_layers': 1, 'regularization': 0.6161657591797607}. Best is trial 11 with value: 18119.0.\u001b[0m\n",
      "INFO - (NP.config.__post_init__) - Note: Trend changepoint regularization is experimental.\n",
      "INFO - (NP.config.__post_init__) - Note: Fourier-based seasonality regularization is experimental.\n",
      "INFO - (NP.forecaster.add_lagged_regressor) - n_lags = 'auto', number of lags for regressor is set to Autoregression number of lags (140)\n",
      "INFO - (NP.df_utils.return_df_in_original_format) - Returning df with no ID column\n",
      "INFO - (NP.df_utils.return_df_in_original_format) - Returning df with no ID column\n",
      "WARNING - (NP.forecaster.fit) - When Global modeling with local normalization, metrics are displayed in normalized scale.\n",
      "INFO - (NP.df_utils._infer_frequency) - Major frequency D corresponds to 99.963% of the data.\n",
      "INFO - (NP.df_utils._infer_frequency) - Defined frequency is equal to major frequency - D\n",
      "INFO - (NP.config.init_data_params) - Setting normalization to global as only one dataframe provided for training.\n",
      "INFO - (NP.config.set_auto_batch_epoch) - Auto-set batch_size to 32\n",
      "INFO - (NP.config.set_auto_batch_epoch) - Auto-set epochs to 153\n"
     ]
    },
    {
     "data": {
      "application/vnd.jupyter.widget-view+json": {
       "model_id": "94d349c5c8114de6bc59def7096cc7c1",
       "version_major": 2,
       "version_minor": 0
      },
      "text/plain": [
       "Training: 0it [00:00, ?it/s]"
      ]
     },
     "metadata": {},
     "output_type": "display_data"
    },
    {
     "name": "stderr",
     "output_type": "stream",
     "text": [
      "INFO - (NP.df_utils._infer_frequency) - Major frequency D corresponds to 99.963% of the data.\n",
      "INFO - (NP.df_utils._infer_frequency) - Defined frequency is equal to major frequency - D\n",
      "INFO - (NP.df_utils.return_df_in_original_format) - Returning df with no ID column\n",
      "INFO - (NP.df_utils._infer_frequency) - Major frequency D corresponds to 99.802% of the data.\n",
      "INFO - (NP.df_utils._infer_frequency) - Defined frequency is equal to major frequency - D\n",
      "INFO - (NP.df_utils._infer_frequency) - Major frequency D corresponds to 99.802% of the data.\n",
      "INFO - (NP.df_utils._infer_frequency) - Defined frequency is equal to major frequency - D\n"
     ]
    },
    {
     "data": {
      "application/vnd.jupyter.widget-view+json": {
       "model_id": "fd41ba7aa17c4f05ab4250feba28a400",
       "version_major": 2,
       "version_minor": 0
      },
      "text/plain": [
       "Predicting: 70it [00:00, ?it/s]"
      ]
     },
     "metadata": {},
     "output_type": "display_data"
    },
    {
     "name": "stderr",
     "output_type": "stream",
     "text": [
      "INFO - (NP.df_utils.return_df_in_original_format) - Returning df with no ID column\n",
      "\u001b[32m[I 2023-03-02 10:12:03,703]\u001b[0m Trial 24 finished with value: 18723.0 and parameters: {'trend_reg': 4.425844254598728, 'seasonality_reg': 7.163203202613167, 'seasonality_mode': 'multiplicative', 'yearly_seasonality': 15, 'weekly_seasonality': 10, 'n_lags': 140, 'ar_reg': 7.922669963924976, 'learning_rate': 2.6786492255140093, 'num_hidden_layers': 2, 'regularization': 0.30924595984946546}. Best is trial 11 with value: 18119.0.\u001b[0m\n",
      "INFO - (NP.config.__post_init__) - Note: Trend changepoint regularization is experimental.\n",
      "INFO - (NP.config.__post_init__) - Note: Fourier-based seasonality regularization is experimental.\n",
      "INFO - (NP.forecaster.add_lagged_regressor) - n_lags = 'auto', number of lags for regressor is set to Autoregression number of lags (270)\n",
      "INFO - (NP.df_utils.return_df_in_original_format) - Returning df with no ID column\n",
      "INFO - (NP.df_utils.return_df_in_original_format) - Returning df with no ID column\n",
      "WARNING - (NP.forecaster.fit) - When Global modeling with local normalization, metrics are displayed in normalized scale.\n",
      "INFO - (NP.df_utils._infer_frequency) - Major frequency D corresponds to 99.963% of the data.\n",
      "INFO - (NP.df_utils._infer_frequency) - Defined frequency is equal to major frequency - D\n",
      "INFO - (NP.config.init_data_params) - Setting normalization to global as only one dataframe provided for training.\n",
      "INFO - (NP.config.set_auto_batch_epoch) - Auto-set batch_size to 32\n",
      "INFO - (NP.config.set_auto_batch_epoch) - Auto-set epochs to 155\n"
     ]
    },
    {
     "data": {
      "application/vnd.jupyter.widget-view+json": {
       "model_id": "222b26bb45604ff68a412970d27f9192",
       "version_major": 2,
       "version_minor": 0
      },
      "text/plain": [
       "Training: 0it [00:00, ?it/s]"
      ]
     },
     "metadata": {},
     "output_type": "display_data"
    },
    {
     "name": "stderr",
     "output_type": "stream",
     "text": [
      "INFO - (NP.df_utils._infer_frequency) - Major frequency D corresponds to 99.963% of the data.\n",
      "INFO - (NP.df_utils._infer_frequency) - Defined frequency is equal to major frequency - D\n",
      "INFO - (NP.df_utils.return_df_in_original_format) - Returning df with no ID column\n",
      "INFO - (NP.df_utils._infer_frequency) - Major frequency D corresponds to 99.843% of the data.\n",
      "INFO - (NP.df_utils._infer_frequency) - Defined frequency is equal to major frequency - D\n",
      "INFO - (NP.df_utils._infer_frequency) - Major frequency D corresponds to 99.843% of the data.\n",
      "INFO - (NP.df_utils._infer_frequency) - Defined frequency is equal to major frequency - D\n"
     ]
    },
    {
     "data": {
      "application/vnd.jupyter.widget-view+json": {
       "model_id": "413e2a61c5ef45f989c7cccf65c98cd6",
       "version_major": 2,
       "version_minor": 0
      },
      "text/plain": [
       "Predicting: 66it [00:00, ?it/s]"
      ]
     },
     "metadata": {},
     "output_type": "display_data"
    },
    {
     "name": "stderr",
     "output_type": "stream",
     "text": [
      "INFO - (NP.df_utils.return_df_in_original_format) - Returning df with no ID column\n",
      "\u001b[32m[I 2023-03-02 10:14:38,467]\u001b[0m Trial 25 finished with value: 19286.0 and parameters: {'trend_reg': 5.547408576246074, 'seasonality_reg': 6.035248065778635, 'seasonality_mode': 'multiplicative', 'yearly_seasonality': 12, 'weekly_seasonality': 8, 'n_lags': 270, 'ar_reg': 4.9046565934889585, 'learning_rate': 3.167882986920028, 'num_hidden_layers': 1, 'regularization': 0.489684534943317}. Best is trial 11 with value: 18119.0.\u001b[0m\n",
      "INFO - (NP.config.__post_init__) - Note: Trend changepoint regularization is experimental.\n",
      "INFO - (NP.config.__post_init__) - Note: Fourier-based seasonality regularization is experimental.\n",
      "INFO - (NP.forecaster.add_lagged_regressor) - n_lags = 'auto', number of lags for regressor is set to Autoregression number of lags (108)\n",
      "INFO - (NP.df_utils.return_df_in_original_format) - Returning df with no ID column\n",
      "INFO - (NP.df_utils.return_df_in_original_format) - Returning df with no ID column\n",
      "WARNING - (NP.forecaster.fit) - When Global modeling with local normalization, metrics are displayed in normalized scale.\n",
      "INFO - (NP.df_utils._infer_frequency) - Major frequency D corresponds to 99.963% of the data.\n",
      "INFO - (NP.df_utils._infer_frequency) - Defined frequency is equal to major frequency - D\n",
      "INFO - (NP.config.init_data_params) - Setting normalization to global as only one dataframe provided for training.\n",
      "INFO - (NP.config.set_auto_batch_epoch) - Auto-set batch_size to 32\n",
      "INFO - (NP.config.set_auto_batch_epoch) - Auto-set epochs to 152\n"
     ]
    },
    {
     "data": {
      "application/vnd.jupyter.widget-view+json": {
       "model_id": "30e6c2accf3c4c32a12d8f2f649e2c49",
       "version_major": 2,
       "version_minor": 0
      },
      "text/plain": [
       "Training: 0it [00:00, ?it/s]"
      ]
     },
     "metadata": {},
     "output_type": "display_data"
    },
    {
     "name": "stderr",
     "output_type": "stream",
     "text": [
      "INFO - (NP.df_utils._infer_frequency) - Major frequency D corresponds to 99.963% of the data.\n",
      "INFO - (NP.df_utils._infer_frequency) - Defined frequency is equal to major frequency - D\n",
      "INFO - (NP.df_utils.return_df_in_original_format) - Returning df with no ID column\n",
      "INFO - (NP.df_utils._infer_frequency) - Major frequency D corresponds to 99.789% of the data.\n",
      "INFO - (NP.df_utils._infer_frequency) - Defined frequency is equal to major frequency - D\n",
      "INFO - (NP.df_utils._infer_frequency) - Major frequency D corresponds to 99.789% of the data.\n",
      "INFO - (NP.df_utils._infer_frequency) - Defined frequency is equal to major frequency - D\n"
     ]
    },
    {
     "data": {
      "application/vnd.jupyter.widget-view+json": {
       "model_id": "9c02eaa0c2df4e5da9e273ebf3253382",
       "version_major": 2,
       "version_minor": 0
      },
      "text/plain": [
       "Predicting: 71it [00:00, ?it/s]"
      ]
     },
     "metadata": {},
     "output_type": "display_data"
    },
    {
     "name": "stderr",
     "output_type": "stream",
     "text": [
      "INFO - (NP.df_utils.return_df_in_original_format) - Returning df with no ID column\n",
      "\u001b[32m[I 2023-03-02 10:16:53,343]\u001b[0m Trial 26 finished with value: 16814.0 and parameters: {'trend_reg': 6.57524971879661, 'seasonality_reg': 6.726484800938223, 'seasonality_mode': 'multiplicative', 'yearly_seasonality': 19, 'weekly_seasonality': 13, 'n_lags': 108, 'ar_reg': 9.198352638541554, 'learning_rate': 2.115748381553713, 'num_hidden_layers': 0, 'regularization': 0.3971943323941488}. Best is trial 26 with value: 16814.0.\u001b[0m\n",
      "INFO - (NP.config.__post_init__) - Note: Trend changepoint regularization is experimental.\n",
      "INFO - (NP.config.__post_init__) - Note: Fourier-based seasonality regularization is experimental.\n",
      "INFO - (NP.forecaster.add_lagged_regressor) - n_lags = 'auto', number of lags for regressor is set to Autoregression number of lags (219)\n",
      "INFO - (NP.df_utils.return_df_in_original_format) - Returning df with no ID column\n",
      "INFO - (NP.df_utils.return_df_in_original_format) - Returning df with no ID column\n",
      "WARNING - (NP.forecaster.fit) - When Global modeling with local normalization, metrics are displayed in normalized scale.\n",
      "INFO - (NP.df_utils._infer_frequency) - Major frequency D corresponds to 99.963% of the data.\n",
      "INFO - (NP.df_utils._infer_frequency) - Defined frequency is equal to major frequency - D\n",
      "INFO - (NP.config.init_data_params) - Setting normalization to global as only one dataframe provided for training.\n",
      "INFO - (NP.config.set_auto_batch_epoch) - Auto-set batch_size to 32\n",
      "INFO - (NP.config.set_auto_batch_epoch) - Auto-set epochs to 154\n"
     ]
    },
    {
     "data": {
      "application/vnd.jupyter.widget-view+json": {
       "model_id": "99115b3f8f954db6ae7e532fc2e60a90",
       "version_major": 2,
       "version_minor": 0
      },
      "text/plain": [
       "Training: 0it [00:00, ?it/s]"
      ]
     },
     "metadata": {},
     "output_type": "display_data"
    },
    {
     "name": "stderr",
     "output_type": "stream",
     "text": [
      "INFO - (NP.df_utils._infer_frequency) - Major frequency D corresponds to 99.963% of the data.\n",
      "INFO - (NP.df_utils._infer_frequency) - Defined frequency is equal to major frequency - D\n",
      "INFO - (NP.df_utils.return_df_in_original_format) - Returning df with no ID column\n",
      "INFO - (NP.df_utils._infer_frequency) - Major frequency D corresponds to 99.829% of the data.\n",
      "INFO - (NP.df_utils._infer_frequency) - Defined frequency is equal to major frequency - D\n",
      "INFO - (NP.df_utils._infer_frequency) - Major frequency D corresponds to 99.829% of the data.\n",
      "INFO - (NP.df_utils._infer_frequency) - Defined frequency is equal to major frequency - D\n"
     ]
    },
    {
     "data": {
      "application/vnd.jupyter.widget-view+json": {
       "model_id": "821c1530179b458485509dc1f80709e7",
       "version_major": 2,
       "version_minor": 0
      },
      "text/plain": [
       "Predicting: 68it [00:00, ?it/s]"
      ]
     },
     "metadata": {},
     "output_type": "display_data"
    },
    {
     "name": "stderr",
     "output_type": "stream",
     "text": [
      "INFO - (NP.df_utils.return_df_in_original_format) - Returning df with no ID column\n",
      "\u001b[32m[I 2023-03-02 10:19:19,166]\u001b[0m Trial 27 finished with value: 84139.0 and parameters: {'trend_reg': 9.886450040093372, 'seasonality_reg': 8.990193967834943, 'seasonality_mode': 'multiplicative', 'yearly_seasonality': 21, 'weekly_seasonality': 17, 'n_lags': 219, 'ar_reg': 8.843663287237295, 'learning_rate': 1.358177800559176, 'num_hidden_layers': 0, 'regularization': 0.5457112036689192}. Best is trial 26 with value: 16814.0.\u001b[0m\n",
      "INFO - (NP.config.__post_init__) - Note: Trend changepoint regularization is experimental.\n",
      "INFO - (NP.config.__post_init__) - Note: Fourier-based seasonality regularization is experimental.\n",
      "INFO - (NP.forecaster.add_lagged_regressor) - n_lags = 'auto', number of lags for regressor is set to Autoregression number of lags (317)\n",
      "INFO - (NP.df_utils.return_df_in_original_format) - Returning df with no ID column\n",
      "INFO - (NP.df_utils.return_df_in_original_format) - Returning df with no ID column\n",
      "WARNING - (NP.forecaster.fit) - When Global modeling with local normalization, metrics are displayed in normalized scale.\n",
      "INFO - (NP.df_utils._infer_frequency) - Major frequency D corresponds to 99.963% of the data.\n",
      "INFO - (NP.df_utils._infer_frequency) - Defined frequency is equal to major frequency - D\n",
      "INFO - (NP.config.init_data_params) - Setting normalization to global as only one dataframe provided for training.\n",
      "INFO - (NP.config.set_auto_batch_epoch) - Auto-set batch_size to 32\n",
      "INFO - (NP.config.set_auto_batch_epoch) - Auto-set epochs to 156\n"
     ]
    },
    {
     "data": {
      "application/vnd.jupyter.widget-view+json": {
       "model_id": "ee942b84c64b43f58d8a56f7d83f4ca9",
       "version_major": 2,
       "version_minor": 0
      },
      "text/plain": [
       "Training: 0it [00:00, ?it/s]"
      ]
     },
     "metadata": {},
     "output_type": "display_data"
    },
    {
     "name": "stderr",
     "output_type": "stream",
     "text": [
      "INFO - (NP.df_utils._infer_frequency) - Major frequency D corresponds to 99.963% of the data.\n",
      "INFO - (NP.df_utils._infer_frequency) - Defined frequency is equal to major frequency - D\n",
      "INFO - (NP.df_utils.return_df_in_original_format) - Returning df with no ID column\n",
      "INFO - (NP.df_utils._infer_frequency) - Major frequency D corresponds to 99.853% of the data.\n",
      "INFO - (NP.df_utils._infer_frequency) - Defined frequency is equal to major frequency - D\n",
      "INFO - (NP.df_utils._infer_frequency) - Major frequency D corresponds to 99.853% of the data.\n",
      "INFO - (NP.df_utils._infer_frequency) - Defined frequency is equal to major frequency - D\n"
     ]
    },
    {
     "data": {
      "application/vnd.jupyter.widget-view+json": {
       "model_id": "4aa9655837924ee8a181baab15139428",
       "version_major": 2,
       "version_minor": 0
      },
      "text/plain": [
       "Predicting: 65it [00:00, ?it/s]"
      ]
     },
     "metadata": {},
     "output_type": "display_data"
    },
    {
     "name": "stderr",
     "output_type": "stream",
     "text": [
      "INFO - (NP.df_utils.return_df_in_original_format) - Returning df with no ID column\n",
      "\u001b[32m[I 2023-03-02 10:21:36,273]\u001b[0m Trial 28 finished with value: 94100.0 and parameters: {'trend_reg': 6.877360938115175, 'seasonality_reg': 7.780228625630798, 'seasonality_mode': 'multiplicative', 'yearly_seasonality': 18, 'weekly_seasonality': 13, 'n_lags': 317, 'ar_reg': 9.242346769024815, 'learning_rate': 3.627319328063351, 'num_hidden_layers': 0, 'regularization': 0.6562861262467514}. Best is trial 26 with value: 16814.0.\u001b[0m\n",
      "INFO - (NP.config.__post_init__) - Note: Trend changepoint regularization is experimental.\n",
      "INFO - (NP.config.__post_init__) - Note: Fourier-based seasonality regularization is experimental.\n",
      "INFO - (NP.forecaster.add_lagged_regressor) - n_lags = 'auto', number of lags for regressor is set to Autoregression number of lags (358)\n",
      "INFO - (NP.df_utils.return_df_in_original_format) - Returning df with no ID column\n",
      "INFO - (NP.df_utils.return_df_in_original_format) - Returning df with no ID column\n",
      "WARNING - (NP.forecaster.fit) - When Global modeling with local normalization, metrics are displayed in normalized scale.\n",
      "INFO - (NP.df_utils._infer_frequency) - Major frequency D corresponds to 99.963% of the data.\n",
      "INFO - (NP.df_utils._infer_frequency) - Defined frequency is equal to major frequency - D\n",
      "INFO - (NP.config.init_data_params) - Setting normalization to global as only one dataframe provided for training.\n",
      "INFO - (NP.config.set_auto_batch_epoch) - Auto-set batch_size to 32\n",
      "INFO - (NP.config.set_auto_batch_epoch) - Auto-set epochs to 157\n"
     ]
    },
    {
     "data": {
      "application/vnd.jupyter.widget-view+json": {
       "model_id": "13c46ebe17004d828a0c31e58095858a",
       "version_major": 2,
       "version_minor": 0
      },
      "text/plain": [
       "Training: 0it [00:00, ?it/s]"
      ]
     },
     "metadata": {},
     "output_type": "display_data"
    },
    {
     "name": "stderr",
     "output_type": "stream",
     "text": [
      "INFO - (NP.df_utils._infer_frequency) - Major frequency D corresponds to 99.963% of the data.\n",
      "INFO - (NP.df_utils._infer_frequency) - Defined frequency is equal to major frequency - D\n",
      "INFO - (NP.df_utils.return_df_in_original_format) - Returning df with no ID column\n",
      "INFO - (NP.df_utils._infer_frequency) - Major frequency D corresponds to 99.862% of the data.\n",
      "INFO - (NP.df_utils._infer_frequency) - Defined frequency is equal to major frequency - D\n",
      "INFO - (NP.df_utils._infer_frequency) - Major frequency D corresponds to 99.862% of the data.\n",
      "INFO - (NP.df_utils._infer_frequency) - Defined frequency is equal to major frequency - D\n"
     ]
    },
    {
     "data": {
      "application/vnd.jupyter.widget-view+json": {
       "model_id": "0fc857db21c0490ea9448bc0d6cdc7f2",
       "version_major": 2,
       "version_minor": 0
      },
      "text/plain": [
       "Predicting: 63it [00:00, ?it/s]"
      ]
     },
     "metadata": {},
     "output_type": "display_data"
    },
    {
     "name": "stderr",
     "output_type": "stream",
     "text": [
      "INFO - (NP.df_utils.return_df_in_original_format) - Returning df with no ID column\n",
      "\u001b[32m[I 2023-03-02 10:24:18,035]\u001b[0m Trial 29 finished with value: 104115.0 and parameters: {'trend_reg': 6.419632376410233, 'seasonality_reg': 5.264833219670633, 'seasonality_mode': 'multiplicative', 'yearly_seasonality': 34, 'weekly_seasonality': 17, 'n_lags': 358, 'ar_reg': 7.606635763742801, 'learning_rate': 1.955492612423119, 'num_hidden_layers': 0, 'regularization': 0.16841009837404478}. Best is trial 26 with value: 16814.0.\u001b[0m\n",
      "INFO - (NP.config.__post_init__) - Note: Trend changepoint regularization is experimental.\n",
      "INFO - (NP.config.__post_init__) - Note: Fourier-based seasonality regularization is experimental.\n",
      "INFO - (NP.forecaster.add_lagged_regressor) - n_lags = 'auto', number of lags for regressor is set to Autoregression number of lags (110)\n",
      "INFO - (NP.df_utils.return_df_in_original_format) - Returning df with no ID column\n",
      "INFO - (NP.df_utils.return_df_in_original_format) - Returning df with no ID column\n",
      "WARNING - (NP.forecaster.fit) - When Global modeling with local normalization, metrics are displayed in normalized scale.\n",
      "INFO - (NP.df_utils._infer_frequency) - Major frequency D corresponds to 99.963% of the data.\n",
      "INFO - (NP.df_utils._infer_frequency) - Defined frequency is equal to major frequency - D\n",
      "INFO - (NP.config.init_data_params) - Setting normalization to global as only one dataframe provided for training.\n",
      "INFO - (NP.config.set_auto_batch_epoch) - Auto-set batch_size to 32\n",
      "INFO - (NP.config.set_auto_batch_epoch) - Auto-set epochs to 152\n"
     ]
    },
    {
     "data": {
      "application/vnd.jupyter.widget-view+json": {
       "model_id": "d532298b48dc477791fcf5e931c007b1",
       "version_major": 2,
       "version_minor": 0
      },
      "text/plain": [
       "Training: 0it [00:00, ?it/s]"
      ]
     },
     "metadata": {},
     "output_type": "display_data"
    },
    {
     "name": "stderr",
     "output_type": "stream",
     "text": [
      "INFO - (NP.df_utils._infer_frequency) - Major frequency D corresponds to 99.963% of the data.\n",
      "INFO - (NP.df_utils._infer_frequency) - Defined frequency is equal to major frequency - D\n",
      "INFO - (NP.df_utils.return_df_in_original_format) - Returning df with no ID column\n",
      "INFO - (NP.df_utils._infer_frequency) - Major frequency D corresponds to 99.789% of the data.\n",
      "INFO - (NP.df_utils._infer_frequency) - Defined frequency is equal to major frequency - D\n",
      "INFO - (NP.df_utils._infer_frequency) - Major frequency D corresponds to 99.789% of the data.\n",
      "INFO - (NP.df_utils._infer_frequency) - Defined frequency is equal to major frequency - D\n"
     ]
    },
    {
     "data": {
      "application/vnd.jupyter.widget-view+json": {
       "model_id": "a896ef834e784699893078b465acb04b",
       "version_major": 2,
       "version_minor": 0
      },
      "text/plain": [
       "Predicting: 71it [00:00, ?it/s]"
      ]
     },
     "metadata": {},
     "output_type": "display_data"
    },
    {
     "name": "stderr",
     "output_type": "stream",
     "text": [
      "INFO - (NP.df_utils.return_df_in_original_format) - Returning df with no ID column\n",
      "\u001b[32m[I 2023-03-02 10:26:39,544]\u001b[0m Trial 30 finished with value: 16876.0 and parameters: {'trend_reg': 7.163386512200606, 'seasonality_reg': 4.819523865001461, 'seasonality_mode': 'multiplicative', 'yearly_seasonality': 24, 'weekly_seasonality': 12, 'n_lags': 110, 'ar_reg': 9.232036163165095, 'learning_rate': 4.875006993114297, 'num_hidden_layers': 0, 'regularization': 0.30781164225344804}. Best is trial 26 with value: 16814.0.\u001b[0m\n",
      "INFO - (NP.config.__post_init__) - Note: Trend changepoint regularization is experimental.\n",
      "INFO - (NP.config.__post_init__) - Note: Fourier-based seasonality regularization is experimental.\n",
      "INFO - (NP.forecaster.add_lagged_regressor) - n_lags = 'auto', number of lags for regressor is set to Autoregression number of lags (109)\n",
      "INFO - (NP.df_utils.return_df_in_original_format) - Returning df with no ID column\n",
      "INFO - (NP.df_utils.return_df_in_original_format) - Returning df with no ID column\n",
      "WARNING - (NP.forecaster.fit) - When Global modeling with local normalization, metrics are displayed in normalized scale.\n",
      "INFO - (NP.df_utils._infer_frequency) - Major frequency D corresponds to 99.963% of the data.\n",
      "INFO - (NP.df_utils._infer_frequency) - Defined frequency is equal to major frequency - D\n",
      "INFO - (NP.config.init_data_params) - Setting normalization to global as only one dataframe provided for training.\n",
      "INFO - (NP.config.set_auto_batch_epoch) - Auto-set batch_size to 32\n",
      "INFO - (NP.config.set_auto_batch_epoch) - Auto-set epochs to 152\n"
     ]
    },
    {
     "data": {
      "application/vnd.jupyter.widget-view+json": {
       "model_id": "bcf2f06791ea40349a1ad6f5436a489f",
       "version_major": 2,
       "version_minor": 0
      },
      "text/plain": [
       "Training: 0it [00:00, ?it/s]"
      ]
     },
     "metadata": {},
     "output_type": "display_data"
    },
    {
     "name": "stderr",
     "output_type": "stream",
     "text": [
      "INFO - (NP.df_utils._infer_frequency) - Major frequency D corresponds to 99.963% of the data.\n",
      "INFO - (NP.df_utils._infer_frequency) - Defined frequency is equal to major frequency - D\n",
      "INFO - (NP.df_utils.return_df_in_original_format) - Returning df with no ID column\n",
      "INFO - (NP.df_utils._infer_frequency) - Major frequency D corresponds to 99.789% of the data.\n",
      "INFO - (NP.df_utils._infer_frequency) - Defined frequency is equal to major frequency - D\n",
      "INFO - (NP.df_utils._infer_frequency) - Major frequency D corresponds to 99.789% of the data.\n",
      "INFO - (NP.df_utils._infer_frequency) - Defined frequency is equal to major frequency - D\n"
     ]
    },
    {
     "data": {
      "application/vnd.jupyter.widget-view+json": {
       "model_id": "2d52dbd172134a809dda3aa2819063d0",
       "version_major": 2,
       "version_minor": 0
      },
      "text/plain": [
       "Predicting: 71it [00:00, ?it/s]"
      ]
     },
     "metadata": {},
     "output_type": "display_data"
    },
    {
     "name": "stderr",
     "output_type": "stream",
     "text": [
      "INFO - (NP.df_utils.return_df_in_original_format) - Returning df with no ID column\n",
      "\u001b[32m[I 2023-03-02 10:29:00,180]\u001b[0m Trial 31 finished with value: 16967.0 and parameters: {'trend_reg': 7.064750746614276, 'seasonality_reg': 4.858958285768699, 'seasonality_mode': 'multiplicative', 'yearly_seasonality': 24, 'weekly_seasonality': 12, 'n_lags': 109, 'ar_reg': 9.09496749205384, 'learning_rate': 4.828575696581574, 'num_hidden_layers': 0, 'regularization': 0.2842622038158433}. Best is trial 26 with value: 16814.0.\u001b[0m\n",
      "INFO - (NP.config.__post_init__) - Note: Trend changepoint regularization is experimental.\n",
      "INFO - (NP.config.__post_init__) - Note: Fourier-based seasonality regularization is experimental.\n",
      "INFO - (NP.forecaster.add_lagged_regressor) - n_lags = 'auto', number of lags for regressor is set to Autoregression number of lags (112)\n",
      "INFO - (NP.df_utils.return_df_in_original_format) - Returning df with no ID column\n",
      "INFO - (NP.df_utils.return_df_in_original_format) - Returning df with no ID column\n",
      "WARNING - (NP.forecaster.fit) - When Global modeling with local normalization, metrics are displayed in normalized scale.\n",
      "INFO - (NP.df_utils._infer_frequency) - Major frequency D corresponds to 99.963% of the data.\n",
      "INFO - (NP.df_utils._infer_frequency) - Defined frequency is equal to major frequency - D\n",
      "INFO - (NP.config.init_data_params) - Setting normalization to global as only one dataframe provided for training.\n",
      "INFO - (NP.config.set_auto_batch_epoch) - Auto-set batch_size to 32\n",
      "INFO - (NP.config.set_auto_batch_epoch) - Auto-set epochs to 152\n"
     ]
    },
    {
     "data": {
      "application/vnd.jupyter.widget-view+json": {
       "model_id": "642dff4fec584e958d8f16d546938a22",
       "version_major": 2,
       "version_minor": 0
      },
      "text/plain": [
       "Training: 0it [00:00, ?it/s]"
      ]
     },
     "metadata": {},
     "output_type": "display_data"
    },
    {
     "name": "stderr",
     "output_type": "stream",
     "text": [
      "INFO - (NP.df_utils._infer_frequency) - Major frequency D corresponds to 99.963% of the data.\n",
      "INFO - (NP.df_utils._infer_frequency) - Defined frequency is equal to major frequency - D\n",
      "INFO - (NP.df_utils.return_df_in_original_format) - Returning df with no ID column\n",
      "INFO - (NP.df_utils._infer_frequency) - Major frequency D corresponds to 99.79% of the data.\n",
      "INFO - (NP.df_utils._infer_frequency) - Defined frequency is equal to major frequency - D\n",
      "INFO - (NP.df_utils._infer_frequency) - Major frequency D corresponds to 99.79% of the data.\n",
      "INFO - (NP.df_utils._infer_frequency) - Defined frequency is equal to major frequency - D\n"
     ]
    },
    {
     "data": {
      "application/vnd.jupyter.widget-view+json": {
       "model_id": "183cf676054d4ae98d618bec8051589c",
       "version_major": 2,
       "version_minor": 0
      },
      "text/plain": [
       "Predicting: 71it [00:00, ?it/s]"
      ]
     },
     "metadata": {},
     "output_type": "display_data"
    },
    {
     "name": "stderr",
     "output_type": "stream",
     "text": [
      "INFO - (NP.df_utils.return_df_in_original_format) - Returning df with no ID column\n",
      "\u001b[32m[I 2023-03-02 10:31:19,974]\u001b[0m Trial 32 finished with value: 16852.0 and parameters: {'trend_reg': 7.161113015079409, 'seasonality_reg': 4.036208480418402, 'seasonality_mode': 'multiplicative', 'yearly_seasonality': 24, 'weekly_seasonality': 12, 'n_lags': 112, 'ar_reg': 9.118976633201928, 'learning_rate': 4.791589363585634, 'num_hidden_layers': 0, 'regularization': 0.292915963124819}. Best is trial 26 with value: 16814.0.\u001b[0m\n",
      "INFO - (NP.config.__post_init__) - Note: Trend changepoint regularization is experimental.\n",
      "INFO - (NP.config.__post_init__) - Note: Fourier-based seasonality regularization is experimental.\n",
      "INFO - (NP.forecaster.add_lagged_regressor) - n_lags = 'auto', number of lags for regressor is set to Autoregression number of lags (124)\n",
      "INFO - (NP.df_utils.return_df_in_original_format) - Returning df with no ID column\n",
      "INFO - (NP.df_utils.return_df_in_original_format) - Returning df with no ID column\n",
      "WARNING - (NP.forecaster.fit) - When Global modeling with local normalization, metrics are displayed in normalized scale.\n",
      "INFO - (NP.df_utils._infer_frequency) - Major frequency D corresponds to 99.963% of the data.\n",
      "INFO - (NP.df_utils._infer_frequency) - Defined frequency is equal to major frequency - D\n",
      "INFO - (NP.config.init_data_params) - Setting normalization to global as only one dataframe provided for training.\n",
      "INFO - (NP.config.set_auto_batch_epoch) - Auto-set batch_size to 32\n",
      "INFO - (NP.config.set_auto_batch_epoch) - Auto-set epochs to 153\n"
     ]
    },
    {
     "data": {
      "application/vnd.jupyter.widget-view+json": {
       "model_id": "a937169f2e5d4afdb078422d091eea1b",
       "version_major": 2,
       "version_minor": 0
      },
      "text/plain": [
       "Training: 0it [00:00, ?it/s]"
      ]
     },
     "metadata": {},
     "output_type": "display_data"
    },
    {
     "name": "stderr",
     "output_type": "stream",
     "text": [
      "INFO - (NP.df_utils._infer_frequency) - Major frequency D corresponds to 99.963% of the data.\n",
      "INFO - (NP.df_utils._infer_frequency) - Defined frequency is equal to major frequency - D\n",
      "INFO - (NP.df_utils.return_df_in_original_format) - Returning df with no ID column\n",
      "INFO - (NP.df_utils._infer_frequency) - Major frequency D corresponds to 99.796% of the data.\n",
      "INFO - (NP.df_utils._infer_frequency) - Defined frequency is equal to major frequency - D\n",
      "INFO - (NP.df_utils._infer_frequency) - Major frequency D corresponds to 99.796% of the data.\n",
      "INFO - (NP.df_utils._infer_frequency) - Defined frequency is equal to major frequency - D\n"
     ]
    },
    {
     "data": {
      "application/vnd.jupyter.widget-view+json": {
       "model_id": "eceec841349e4e9592a1292597d73a11",
       "version_major": 2,
       "version_minor": 0
      },
      "text/plain": [
       "Predicting: 71it [00:00, ?it/s]"
      ]
     },
     "metadata": {},
     "output_type": "display_data"
    },
    {
     "name": "stderr",
     "output_type": "stream",
     "text": [
      "INFO - (NP.df_utils.return_df_in_original_format) - Returning df with no ID column\n",
      "\u001b[32m[I 2023-03-02 10:33:42,315]\u001b[0m Trial 33 finished with value: 18179.0 and parameters: {'trend_reg': 6.862097854211496, 'seasonality_reg': 3.863082745106276, 'seasonality_mode': 'multiplicative', 'yearly_seasonality': 23, 'weekly_seasonality': 13, 'n_lags': 124, 'ar_reg': 9.594618671263337, 'learning_rate': 4.999735330719612, 'num_hidden_layers': 0, 'regularization': 0.05561432951612921}. Best is trial 26 with value: 16814.0.\u001b[0m\n",
      "INFO - (NP.config.__post_init__) - Note: Trend changepoint regularization is experimental.\n",
      "INFO - (NP.config.__post_init__) - Note: Fourier-based seasonality regularization is experimental.\n",
      "INFO - (NP.forecaster.add_lagged_regressor) - n_lags = 'auto', number of lags for regressor is set to Autoregression number of lags (289)\n",
      "INFO - (NP.df_utils.return_df_in_original_format) - Returning df with no ID column\n",
      "INFO - (NP.df_utils.return_df_in_original_format) - Returning df with no ID column\n",
      "WARNING - (NP.forecaster.fit) - When Global modeling with local normalization, metrics are displayed in normalized scale.\n",
      "INFO - (NP.df_utils._infer_frequency) - Major frequency D corresponds to 99.963% of the data.\n",
      "INFO - (NP.df_utils._infer_frequency) - Defined frequency is equal to major frequency - D\n",
      "INFO - (NP.config.init_data_params) - Setting normalization to global as only one dataframe provided for training.\n",
      "INFO - (NP.config.set_auto_batch_epoch) - Auto-set batch_size to 32\n",
      "INFO - (NP.config.set_auto_batch_epoch) - Auto-set epochs to 156\n"
     ]
    },
    {
     "data": {
      "application/vnd.jupyter.widget-view+json": {
       "model_id": "89e8d566a7a644f9b627e8b91200a563",
       "version_major": 2,
       "version_minor": 0
      },
      "text/plain": [
       "Training: 0it [00:00, ?it/s]"
      ]
     },
     "metadata": {},
     "output_type": "display_data"
    },
    {
     "name": "stderr",
     "output_type": "stream",
     "text": [
      "INFO - (NP.df_utils._infer_frequency) - Major frequency D corresponds to 99.963% of the data.\n",
      "INFO - (NP.df_utils._infer_frequency) - Defined frequency is equal to major frequency - D\n",
      "INFO - (NP.df_utils.return_df_in_original_format) - Returning df with no ID column\n",
      "INFO - (NP.df_utils._infer_frequency) - Major frequency D corresponds to 99.847% of the data.\n",
      "INFO - (NP.df_utils._infer_frequency) - Defined frequency is equal to major frequency - D\n",
      "INFO - (NP.df_utils._infer_frequency) - Major frequency D corresponds to 99.847% of the data.\n",
      "INFO - (NP.df_utils._infer_frequency) - Defined frequency is equal to major frequency - D\n"
     ]
    },
    {
     "data": {
      "application/vnd.jupyter.widget-view+json": {
       "model_id": "50fbc97ca0f54c03b48adb369d604c22",
       "version_major": 2,
       "version_minor": 0
      },
      "text/plain": [
       "Predicting: 66it [00:00, ?it/s]"
      ]
     },
     "metadata": {},
     "output_type": "display_data"
    },
    {
     "name": "stderr",
     "output_type": "stream",
     "text": [
      "INFO - (NP.df_utils.return_df_in_original_format) - Returning df with no ID column\n",
      "\u001b[32m[I 2023-03-02 10:36:10,470]\u001b[0m Trial 34 finished with value: 142227.0 and parameters: {'trend_reg': 7.418881285003589, 'seasonality_reg': 3.0257564633322325, 'seasonality_mode': 'additive', 'yearly_seasonality': 28, 'weekly_seasonality': 14, 'n_lags': 289, 'ar_reg': 8.981431869672654, 'learning_rate': 4.5529089698338465, 'num_hidden_layers': 0, 'regularization': 0.29323692752150005}. Best is trial 26 with value: 16814.0.\u001b[0m\n",
      "INFO - (NP.config.__post_init__) - Note: Trend changepoint regularization is experimental.\n",
      "INFO - (NP.config.__post_init__) - Note: Fourier-based seasonality regularization is experimental.\n",
      "INFO - (NP.forecaster.add_lagged_regressor) - n_lags = 'auto', number of lags for regressor is set to Autoregression number of lags (182)\n",
      "INFO - (NP.df_utils.return_df_in_original_format) - Returning df with no ID column\n",
      "INFO - (NP.df_utils.return_df_in_original_format) - Returning df with no ID column\n",
      "WARNING - (NP.forecaster.fit) - When Global modeling with local normalization, metrics are displayed in normalized scale.\n",
      "INFO - (NP.df_utils._infer_frequency) - Major frequency D corresponds to 99.963% of the data.\n",
      "INFO - (NP.df_utils._infer_frequency) - Defined frequency is equal to major frequency - D\n",
      "INFO - (NP.config.init_data_params) - Setting normalization to global as only one dataframe provided for training.\n",
      "INFO - (NP.config.set_auto_batch_epoch) - Auto-set batch_size to 32\n",
      "INFO - (NP.config.set_auto_batch_epoch) - Auto-set epochs to 154\n"
     ]
    },
    {
     "data": {
      "application/vnd.jupyter.widget-view+json": {
       "model_id": "91ccbbb1396d42afba4626395c99cc82",
       "version_major": 2,
       "version_minor": 0
      },
      "text/plain": [
       "Training: 0it [00:00, ?it/s]"
      ]
     },
     "metadata": {},
     "output_type": "display_data"
    },
    {
     "name": "stderr",
     "output_type": "stream",
     "text": [
      "INFO - (NP.df_utils._infer_frequency) - Major frequency D corresponds to 99.963% of the data.\n",
      "INFO - (NP.df_utils._infer_frequency) - Defined frequency is equal to major frequency - D\n",
      "INFO - (NP.df_utils.return_df_in_original_format) - Returning df with no ID column\n",
      "INFO - (NP.df_utils._infer_frequency) - Major frequency D corresponds to 99.817% of the data.\n",
      "INFO - (NP.df_utils._infer_frequency) - Defined frequency is equal to major frequency - D\n",
      "INFO - (NP.df_utils._infer_frequency) - Major frequency D corresponds to 99.817% of the data.\n",
      "INFO - (NP.df_utils._infer_frequency) - Defined frequency is equal to major frequency - D\n"
     ]
    },
    {
     "data": {
      "application/vnd.jupyter.widget-view+json": {
       "model_id": "4cbb513418eb42b7bf9fafa95e131332",
       "version_major": 2,
       "version_minor": 0
      },
      "text/plain": [
       "Predicting: 69it [00:00, ?it/s]"
      ]
     },
     "metadata": {},
     "output_type": "display_data"
    },
    {
     "name": "stderr",
     "output_type": "stream",
     "text": [
      "INFO - (NP.df_utils.return_df_in_original_format) - Returning df with no ID column\n",
      "\u001b[32m[I 2023-03-02 10:38:30,126]\u001b[0m Trial 35 finished with value: 87760.0 and parameters: {'trend_reg': 7.69162942688749, 'seasonality_reg': 4.270813577118841, 'seasonality_mode': 'multiplicative', 'yearly_seasonality': 24, 'weekly_seasonality': 12, 'n_lags': 182, 'ar_reg': 8.423386429385772, 'learning_rate': 4.619959054580504, 'num_hidden_layers': 0, 'regularization': 0.23143810946172333}. Best is trial 26 with value: 16814.0.\u001b[0m\n",
      "INFO - (NP.config.__post_init__) - Note: Trend changepoint regularization is experimental.\n",
      "INFO - (NP.config.__post_init__) - Note: Fourier-based seasonality regularization is experimental.\n",
      "INFO - (NP.forecaster.add_lagged_regressor) - n_lags = 'auto', number of lags for regressor is set to Autoregression number of lags (527)\n",
      "INFO - (NP.df_utils.return_df_in_original_format) - Returning df with no ID column\n",
      "INFO - (NP.df_utils.return_df_in_original_format) - Returning df with no ID column\n",
      "WARNING - (NP.forecaster.fit) - When Global modeling with local normalization, metrics are displayed in normalized scale.\n",
      "INFO - (NP.df_utils._infer_frequency) - Major frequency D corresponds to 99.963% of the data.\n",
      "INFO - (NP.df_utils._infer_frequency) - Defined frequency is equal to major frequency - D\n",
      "INFO - (NP.config.init_data_params) - Setting normalization to global as only one dataframe provided for training.\n",
      "INFO - (NP.config.set_auto_batch_epoch) - Auto-set batch_size to 32\n",
      "INFO - (NP.config.set_auto_batch_epoch) - Auto-set epochs to 161\n"
     ]
    },
    {
     "data": {
      "application/vnd.jupyter.widget-view+json": {
       "model_id": "bf14622dffc943ba996f470ad81e3e08",
       "version_major": 2,
       "version_minor": 0
      },
      "text/plain": [
       "Training: 0it [00:00, ?it/s]"
      ]
     },
     "metadata": {},
     "output_type": "display_data"
    },
    {
     "name": "stderr",
     "output_type": "stream",
     "text": [
      "INFO - (NP.df_utils._infer_frequency) - Major frequency D corresponds to 99.963% of the data.\n",
      "INFO - (NP.df_utils._infer_frequency) - Defined frequency is equal to major frequency - D\n",
      "INFO - (NP.df_utils.return_df_in_original_format) - Returning df with no ID column\n",
      "INFO - (NP.df_utils._infer_frequency) - Major frequency D corresponds to 99.888% of the data.\n",
      "INFO - (NP.df_utils._infer_frequency) - Defined frequency is equal to major frequency - D\n",
      "INFO - (NP.df_utils._infer_frequency) - Major frequency D corresponds to 99.888% of the data.\n",
      "INFO - (NP.df_utils._infer_frequency) - Defined frequency is equal to major frequency - D\n"
     ]
    },
    {
     "data": {
      "application/vnd.jupyter.widget-view+json": {
       "model_id": "59687a65fe05466f8785147fa2468eb2",
       "version_major": 2,
       "version_minor": 0
      },
      "text/plain": [
       "Predicting: 58it [00:00, ?it/s]"
      ]
     },
     "metadata": {},
     "output_type": "display_data"
    },
    {
     "name": "stderr",
     "output_type": "stream",
     "text": [
      "INFO - (NP.df_utils.return_df_in_original_format) - Returning df with no ID column\n",
      "\u001b[32m[I 2023-03-02 10:41:01,653]\u001b[0m Trial 36 finished with value: 189782.0 and parameters: {'trend_reg': 9.0480806779895, 'seasonality_reg': 4.9050745510266, 'seasonality_mode': 'additive', 'yearly_seasonality': 30, 'weekly_seasonality': 17, 'n_lags': 527, 'ar_reg': 9.375922502464663, 'learning_rate': 4.109946366869998, 'num_hidden_layers': 0, 'regularization': 0.18477526472076622}. Best is trial 26 with value: 16814.0.\u001b[0m\n",
      "INFO - (NP.config.__post_init__) - Note: Trend changepoint regularization is experimental.\n",
      "INFO - (NP.config.__post_init__) - Note: Fourier-based seasonality regularization is experimental.\n",
      "INFO - (NP.forecaster.add_lagged_regressor) - n_lags = 'auto', number of lags for regressor is set to Autoregression number of lags (624)\n",
      "INFO - (NP.df_utils.return_df_in_original_format) - Returning df with no ID column\n",
      "INFO - (NP.df_utils.return_df_in_original_format) - Returning df with no ID column\n",
      "WARNING - (NP.forecaster.fit) - When Global modeling with local normalization, metrics are displayed in normalized scale.\n",
      "INFO - (NP.df_utils._infer_frequency) - Major frequency D corresponds to 99.963% of the data.\n",
      "INFO - (NP.df_utils._infer_frequency) - Defined frequency is equal to major frequency - D\n",
      "INFO - (NP.config.init_data_params) - Setting normalization to global as only one dataframe provided for training.\n",
      "INFO - (NP.config.set_auto_batch_epoch) - Auto-set batch_size to 32\n",
      "INFO - (NP.config.set_auto_batch_epoch) - Auto-set epochs to 164\n"
     ]
    },
    {
     "data": {
      "application/vnd.jupyter.widget-view+json": {
       "model_id": "4151e0678e344ebf9283d856bf885459",
       "version_major": 2,
       "version_minor": 0
      },
      "text/plain": [
       "Training: 0it [00:00, ?it/s]"
      ]
     },
     "metadata": {},
     "output_type": "display_data"
    },
    {
     "name": "stderr",
     "output_type": "stream",
     "text": [
      "INFO - (NP.df_utils._infer_frequency) - Major frequency D corresponds to 99.963% of the data.\n",
      "INFO - (NP.df_utils._infer_frequency) - Defined frequency is equal to major frequency - D\n",
      "INFO - (NP.df_utils.return_df_in_original_format) - Returning df with no ID column\n",
      "INFO - (NP.df_utils._infer_frequency) - Major frequency D corresponds to 99.899% of the data.\n",
      "INFO - (NP.df_utils._infer_frequency) - Defined frequency is equal to major frequency - D\n",
      "INFO - (NP.df_utils._infer_frequency) - Major frequency D corresponds to 99.899% of the data.\n",
      "INFO - (NP.df_utils._infer_frequency) - Defined frequency is equal to major frequency - D\n"
     ]
    },
    {
     "data": {
      "application/vnd.jupyter.widget-view+json": {
       "model_id": "e518d75914634a8796fe31831744573f",
       "version_major": 2,
       "version_minor": 0
      },
      "text/plain": [
       "Predicting: 55it [00:00, ?it/s]"
      ]
     },
     "metadata": {},
     "output_type": "display_data"
    },
    {
     "name": "stderr",
     "output_type": "stream",
     "text": [
      "INFO - (NP.df_utils.return_df_in_original_format) - Returning df with no ID column\n",
      "\u001b[32m[I 2023-03-02 10:43:13,586]\u001b[0m Trial 37 finished with value: 149987.0 and parameters: {'trend_reg': 7.30380796775823, 'seasonality_reg': 3.5241453051640006, 'seasonality_mode': 'multiplicative', 'yearly_seasonality': 25, 'weekly_seasonality': 11, 'n_lags': 624, 'ar_reg': 9.077095993738288, 'learning_rate': 4.739664500717644, 'num_hidden_layers': 0, 'regularization': 0.2804488621982118}. Best is trial 26 with value: 16814.0.\u001b[0m\n",
      "INFO - (NP.config.__post_init__) - Note: Trend changepoint regularization is experimental.\n",
      "INFO - (NP.config.__post_init__) - Note: Fourier-based seasonality regularization is experimental.\n",
      "INFO - (NP.forecaster.add_lagged_regressor) - n_lags = 'auto', number of lags for regressor is set to Autoregression number of lags (1089)\n",
      "INFO - (NP.df_utils.return_df_in_original_format) - Returning df with no ID column\n",
      "INFO - (NP.df_utils.return_df_in_original_format) - Returning df with no ID column\n",
      "WARNING - (NP.forecaster.fit) - When Global modeling with local normalization, metrics are displayed in normalized scale.\n",
      "INFO - (NP.df_utils._infer_frequency) - Major frequency D corresponds to 99.963% of the data.\n",
      "INFO - (NP.df_utils._infer_frequency) - Defined frequency is equal to major frequency - D\n",
      "INFO - (NP.config.init_data_params) - Setting normalization to global as only one dataframe provided for training.\n",
      "INFO - (NP.config.set_auto_batch_epoch) - Auto-set batch_size to 32\n",
      "INFO - (NP.config.set_auto_batch_epoch) - Auto-set epochs to 180\n"
     ]
    },
    {
     "data": {
      "application/vnd.jupyter.widget-view+json": {
       "model_id": "3e51a20e789b44bb80e2c6a9e63abc3a",
       "version_major": 2,
       "version_minor": 0
      },
      "text/plain": [
       "Training: 0it [00:00, ?it/s]"
      ]
     },
     "metadata": {},
     "output_type": "display_data"
    },
    {
     "name": "stderr",
     "output_type": "stream",
     "text": [
      "INFO - (NP.df_utils._infer_frequency) - Major frequency D corresponds to 99.963% of the data.\n",
      "INFO - (NP.df_utils._infer_frequency) - Defined frequency is equal to major frequency - D\n",
      "INFO - (NP.df_utils.return_df_in_original_format) - Returning df with no ID column\n",
      "INFO - (NP.df_utils._infer_frequency) - Major frequency D corresponds to 99.931% of the data.\n",
      "INFO - (NP.df_utils._infer_frequency) - Defined frequency is equal to major frequency - D\n",
      "INFO - (NP.df_utils._infer_frequency) - Major frequency D corresponds to 99.931% of the data.\n",
      "INFO - (NP.df_utils._infer_frequency) - Defined frequency is equal to major frequency - D\n"
     ]
    },
    {
     "data": {
      "application/vnd.jupyter.widget-view+json": {
       "model_id": "54c4a2d266a545bea6f2fbb841fcdace",
       "version_major": 2,
       "version_minor": 0
      },
      "text/plain": [
       "Predicting: 41it [00:00, ?it/s]"
      ]
     },
     "metadata": {},
     "output_type": "display_data"
    },
    {
     "name": "stderr",
     "output_type": "stream",
     "text": [
      "INFO - (NP.df_utils.return_df_in_original_format) - Returning df with no ID column\n",
      "\u001b[32m[I 2023-03-02 10:45:55,220]\u001b[0m Trial 38 finished with value: 855844.0 and parameters: {'trend_reg': 8.69317616460036, 'seasonality_reg': 2.6081400351194004, 'seasonality_mode': 'additive', 'yearly_seasonality': 22, 'weekly_seasonality': 14, 'n_lags': 1089, 'ar_reg': 9.999583631871161, 'learning_rate': 4.0926437373210325, 'num_hidden_layers': 0, 'regularization': 0.10361463187677666}. Best is trial 26 with value: 16814.0.\u001b[0m\n",
      "INFO - (NP.config.__post_init__) - Note: Trend changepoint regularization is experimental.\n",
      "INFO - (NP.config.__post_init__) - Note: Fourier-based seasonality regularization is experimental.\n",
      "INFO - (NP.forecaster.add_lagged_regressor) - n_lags = 'auto', number of lags for regressor is set to Autoregression number of lags (392)\n",
      "INFO - (NP.df_utils.return_df_in_original_format) - Returning df with no ID column\n",
      "INFO - (NP.df_utils.return_df_in_original_format) - Returning df with no ID column\n",
      "WARNING - (NP.forecaster.fit) - When Global modeling with local normalization, metrics are displayed in normalized scale.\n",
      "INFO - (NP.df_utils._infer_frequency) - Major frequency D corresponds to 99.963% of the data.\n",
      "INFO - (NP.df_utils._infer_frequency) - Defined frequency is equal to major frequency - D\n",
      "INFO - (NP.config.init_data_params) - Setting normalization to global as only one dataframe provided for training.\n",
      "INFO - (NP.config.set_auto_batch_epoch) - Auto-set batch_size to 32\n",
      "INFO - (NP.config.set_auto_batch_epoch) - Auto-set epochs to 158\n"
     ]
    },
    {
     "data": {
      "application/vnd.jupyter.widget-view+json": {
       "model_id": "22a04763fb424cd7a89f3a799708b97b",
       "version_major": 2,
       "version_minor": 0
      },
      "text/plain": [
       "Training: 0it [00:00, ?it/s]"
      ]
     },
     "metadata": {},
     "output_type": "display_data"
    },
    {
     "name": "stderr",
     "output_type": "stream",
     "text": [
      "INFO - (NP.df_utils._infer_frequency) - Major frequency D corresponds to 99.963% of the data.\n",
      "INFO - (NP.df_utils._infer_frequency) - Defined frequency is equal to major frequency - D\n",
      "INFO - (NP.df_utils.return_df_in_original_format) - Returning df with no ID column\n",
      "INFO - (NP.df_utils._infer_frequency) - Major frequency D corresponds to 99.868% of the data.\n",
      "INFO - (NP.df_utils._infer_frequency) - Defined frequency is equal to major frequency - D\n",
      "INFO - (NP.df_utils._infer_frequency) - Major frequency D corresponds to 99.868% of the data.\n",
      "INFO - (NP.df_utils._infer_frequency) - Defined frequency is equal to major frequency - D\n"
     ]
    },
    {
     "data": {
      "application/vnd.jupyter.widget-view+json": {
       "model_id": "c30f1c4fd1004316af92c0fec88790eb",
       "version_major": 2,
       "version_minor": 0
      },
      "text/plain": [
       "Predicting: 62it [00:00, ?it/s]"
      ]
     },
     "metadata": {},
     "output_type": "display_data"
    },
    {
     "name": "stderr",
     "output_type": "stream",
     "text": [
      "INFO - (NP.df_utils.return_df_in_original_format) - Returning df with no ID column\n",
      "\u001b[32m[I 2023-03-02 10:48:26,622]\u001b[0m Trial 39 finished with value: 93604.0 and parameters: {'trend_reg': 6.221900859400883, 'seasonality_reg': 4.248049230476805, 'seasonality_mode': 'multiplicative', 'yearly_seasonality': 27, 'weekly_seasonality': 16, 'n_lags': 392, 'ar_reg': 7.9709743832902, 'learning_rate': 4.303365326580592, 'num_hidden_layers': 0, 'regularization': 0.32251780117186635}. Best is trial 26 with value: 16814.0.\u001b[0m\n",
      "INFO - (NP.config.__post_init__) - Note: Trend changepoint regularization is experimental.\n",
      "INFO - (NP.config.__post_init__) - Note: Fourier-based seasonality regularization is experimental.\n",
      "INFO - (NP.forecaster.add_lagged_regressor) - n_lags = 'auto', number of lags for regressor is set to Autoregression number of lags (93)\n",
      "INFO - (NP.df_utils.return_df_in_original_format) - Returning df with no ID column\n",
      "INFO - (NP.df_utils.return_df_in_original_format) - Returning df with no ID column\n",
      "WARNING - (NP.forecaster.fit) - When Global modeling with local normalization, metrics are displayed in normalized scale.\n",
      "INFO - (NP.df_utils._infer_frequency) - Major frequency D corresponds to 99.963% of the data.\n",
      "INFO - (NP.df_utils._infer_frequency) - Defined frequency is equal to major frequency - D\n",
      "INFO - (NP.config.init_data_params) - Setting normalization to global as only one dataframe provided for training.\n",
      "INFO - (NP.config.set_auto_batch_epoch) - Auto-set batch_size to 32\n",
      "INFO - (NP.config.set_auto_batch_epoch) - Auto-set epochs to 152\n"
     ]
    },
    {
     "data": {
      "application/vnd.jupyter.widget-view+json": {
       "model_id": "a78c4542bc8a498188b18fdd1e1cfdcc",
       "version_major": 2,
       "version_minor": 0
      },
      "text/plain": [
       "Training: 0it [00:00, ?it/s]"
      ]
     },
     "metadata": {},
     "output_type": "display_data"
    },
    {
     "name": "stderr",
     "output_type": "stream",
     "text": [
      "INFO - (NP.df_utils._infer_frequency) - Major frequency D corresponds to 99.963% of the data.\n",
      "INFO - (NP.df_utils._infer_frequency) - Defined frequency is equal to major frequency - D\n",
      "INFO - (NP.df_utils.return_df_in_original_format) - Returning df with no ID column\n",
      "INFO - (NP.df_utils._infer_frequency) - Major frequency D corresponds to 99.782% of the data.\n",
      "INFO - (NP.df_utils._infer_frequency) - Defined frequency is equal to major frequency - D\n",
      "INFO - (NP.df_utils._infer_frequency) - Major frequency D corresponds to 99.782% of the data.\n",
      "INFO - (NP.df_utils._infer_frequency) - Defined frequency is equal to major frequency - D\n"
     ]
    },
    {
     "data": {
      "application/vnd.jupyter.widget-view+json": {
       "model_id": "f223f05bff474400a1e922f01b5aae40",
       "version_major": 2,
       "version_minor": 0
      },
      "text/plain": [
       "Predicting: 72it [00:00, ?it/s]"
      ]
     },
     "metadata": {},
     "output_type": "display_data"
    },
    {
     "name": "stderr",
     "output_type": "stream",
     "text": [
      "INFO - (NP.df_utils.return_df_in_original_format) - Returning df with no ID column\n",
      "\u001b[32m[I 2023-03-02 10:50:49,791]\u001b[0m Trial 40 finished with value: 17564.0 and parameters: {'trend_reg': 7.784905155098434, 'seasonality_reg': 1.938900280703701, 'seasonality_mode': 'additive', 'yearly_seasonality': 19, 'weekly_seasonality': 18, 'n_lags': 93, 'ar_reg': 8.518295611533548, 'learning_rate': 3.7263622449504483, 'num_hidden_layers': 0, 'regularization': 0.971935068461302}. Best is trial 26 with value: 16814.0.\u001b[0m\n",
      "INFO - (NP.config.__post_init__) - Note: Trend changepoint regularization is experimental.\n",
      "INFO - (NP.config.__post_init__) - Note: Fourier-based seasonality regularization is experimental.\n",
      "INFO - (NP.forecaster.add_lagged_regressor) - n_lags = 'auto', number of lags for regressor is set to Autoregression number of lags (95)\n",
      "INFO - (NP.df_utils.return_df_in_original_format) - Returning df with no ID column\n",
      "INFO - (NP.df_utils.return_df_in_original_format) - Returning df with no ID column\n",
      "WARNING - (NP.forecaster.fit) - When Global modeling with local normalization, metrics are displayed in normalized scale.\n",
      "INFO - (NP.df_utils._infer_frequency) - Major frequency D corresponds to 99.963% of the data.\n",
      "INFO - (NP.df_utils._infer_frequency) - Defined frequency is equal to major frequency - D\n",
      "INFO - (NP.config.init_data_params) - Setting normalization to global as only one dataframe provided for training.\n",
      "INFO - (NP.config.set_auto_batch_epoch) - Auto-set batch_size to 32\n",
      "INFO - (NP.config.set_auto_batch_epoch) - Auto-set epochs to 152\n"
     ]
    },
    {
     "data": {
      "application/vnd.jupyter.widget-view+json": {
       "model_id": "2e03c0d06bb3405a896cccc64fc74290",
       "version_major": 2,
       "version_minor": 0
      },
      "text/plain": [
       "Training: 0it [00:00, ?it/s]"
      ]
     },
     "metadata": {},
     "output_type": "display_data"
    },
    {
     "name": "stderr",
     "output_type": "stream",
     "text": [
      "INFO - (NP.df_utils._infer_frequency) - Major frequency D corresponds to 99.963% of the data.\n",
      "INFO - (NP.df_utils._infer_frequency) - Defined frequency is equal to major frequency - D\n",
      "INFO - (NP.df_utils.return_df_in_original_format) - Returning df with no ID column\n",
      "INFO - (NP.df_utils._infer_frequency) - Major frequency D corresponds to 99.783% of the data.\n",
      "INFO - (NP.df_utils._infer_frequency) - Defined frequency is equal to major frequency - D\n",
      "INFO - (NP.df_utils._infer_frequency) - Major frequency D corresponds to 99.783% of the data.\n",
      "INFO - (NP.df_utils._infer_frequency) - Defined frequency is equal to major frequency - D\n"
     ]
    },
    {
     "data": {
      "application/vnd.jupyter.widget-view+json": {
       "model_id": "fd47a1ffd6624c53afa3afbe9feeaded",
       "version_major": 2,
       "version_minor": 0
      },
      "text/plain": [
       "Predicting: 72it [00:00, ?it/s]"
      ]
     },
     "metadata": {},
     "output_type": "display_data"
    },
    {
     "name": "stderr",
     "output_type": "stream",
     "text": [
      "INFO - (NP.df_utils.return_df_in_original_format) - Returning df with no ID column\n",
      "\u001b[32m[I 2023-03-02 10:53:14,197]\u001b[0m Trial 41 finished with value: 17779.0 and parameters: {'trend_reg': 7.8749115955283004, 'seasonality_reg': 1.6680507904030146, 'seasonality_mode': 'additive', 'yearly_seasonality': 20, 'weekly_seasonality': 19, 'n_lags': 95, 'ar_reg': 9.407123647839956, 'learning_rate': 3.7983284527621266, 'num_hidden_layers': 0, 'regularization': 0.9768692584224795}. Best is trial 26 with value: 16814.0.\u001b[0m\n",
      "INFO - (NP.config.__post_init__) - Note: Trend changepoint regularization is experimental.\n",
      "INFO - (NP.config.__post_init__) - Note: Fourier-based seasonality regularization is experimental.\n",
      "INFO - (NP.forecaster.add_lagged_regressor) - n_lags = 'auto', number of lags for regressor is set to Autoregression number of lags (193)\n",
      "INFO - (NP.df_utils.return_df_in_original_format) - Returning df with no ID column\n",
      "INFO - (NP.df_utils.return_df_in_original_format) - Returning df with no ID column\n",
      "WARNING - (NP.forecaster.fit) - When Global modeling with local normalization, metrics are displayed in normalized scale.\n",
      "INFO - (NP.df_utils._infer_frequency) - Major frequency D corresponds to 99.963% of the data.\n",
      "INFO - (NP.df_utils._infer_frequency) - Defined frequency is equal to major frequency - D\n",
      "INFO - (NP.config.init_data_params) - Setting normalization to global as only one dataframe provided for training.\n",
      "INFO - (NP.config.set_auto_batch_epoch) - Auto-set batch_size to 32\n",
      "INFO - (NP.config.set_auto_batch_epoch) - Auto-set epochs to 154\n"
     ]
    },
    {
     "data": {
      "application/vnd.jupyter.widget-view+json": {
       "model_id": "b8493e59b5c5406bbec9c83226d09cc2",
       "version_major": 2,
       "version_minor": 0
      },
      "text/plain": [
       "Training: 0it [00:00, ?it/s]"
      ]
     },
     "metadata": {},
     "output_type": "display_data"
    },
    {
     "name": "stderr",
     "output_type": "stream",
     "text": [
      "INFO - (NP.df_utils._infer_frequency) - Major frequency D corresponds to 99.963% of the data.\n",
      "INFO - (NP.df_utils._infer_frequency) - Defined frequency is equal to major frequency - D\n",
      "INFO - (NP.df_utils.return_df_in_original_format) - Returning df with no ID column\n",
      "INFO - (NP.df_utils._infer_frequency) - Major frequency D corresponds to 99.821% of the data.\n",
      "INFO - (NP.df_utils._infer_frequency) - Defined frequency is equal to major frequency - D\n",
      "INFO - (NP.df_utils._infer_frequency) - Major frequency D corresponds to 99.821% of the data.\n",
      "INFO - (NP.df_utils._infer_frequency) - Defined frequency is equal to major frequency - D\n"
     ]
    },
    {
     "data": {
      "application/vnd.jupyter.widget-view+json": {
       "model_id": "b55a47fb55674cfa9578e0f2cf717c22",
       "version_major": 2,
       "version_minor": 0
      },
      "text/plain": [
       "Predicting: 69it [00:00, ?it/s]"
      ]
     },
     "metadata": {},
     "output_type": "display_data"
    },
    {
     "name": "stderr",
     "output_type": "stream",
     "text": [
      "INFO - (NP.df_utils.return_df_in_original_format) - Returning df with no ID column\n",
      "\u001b[32m[I 2023-03-02 10:55:46,002]\u001b[0m Trial 42 finished with value: 20110.0 and parameters: {'trend_reg': 7.224710727163974, 'seasonality_reg': 0.47268928580553826, 'seasonality_mode': 'additive', 'yearly_seasonality': 23, 'weekly_seasonality': 19, 'n_lags': 193, 'ar_reg': 8.87359233017439, 'learning_rate': 4.801470972034609, 'num_hidden_layers': 0, 'regularization': 0.7291035877381962}. Best is trial 26 with value: 16814.0.\u001b[0m\n",
      "INFO - (NP.config.__post_init__) - Note: Trend changepoint regularization is experimental.\n",
      "INFO - (NP.config.__post_init__) - Note: Fourier-based seasonality regularization is experimental.\n",
      "INFO - (NP.forecaster.add_lagged_regressor) - n_lags = 'auto', number of lags for regressor is set to Autoregression number of lags (136)\n",
      "INFO - (NP.df_utils.return_df_in_original_format) - Returning df with no ID column\n",
      "INFO - (NP.df_utils.return_df_in_original_format) - Returning df with no ID column\n",
      "WARNING - (NP.forecaster.fit) - When Global modeling with local normalization, metrics are displayed in normalized scale.\n",
      "INFO - (NP.df_utils._infer_frequency) - Major frequency D corresponds to 99.963% of the data.\n",
      "INFO - (NP.df_utils._infer_frequency) - Defined frequency is equal to major frequency - D\n",
      "INFO - (NP.config.init_data_params) - Setting normalization to global as only one dataframe provided for training.\n",
      "INFO - (NP.config.set_auto_batch_epoch) - Auto-set batch_size to 32\n",
      "INFO - (NP.config.set_auto_batch_epoch) - Auto-set epochs to 153\n"
     ]
    },
    {
     "data": {
      "application/vnd.jupyter.widget-view+json": {
       "model_id": "40a1fccdcf4946c598c923bb8dded23f",
       "version_major": 2,
       "version_minor": 0
      },
      "text/plain": [
       "Training: 0it [00:00, ?it/s]"
      ]
     },
     "metadata": {},
     "output_type": "display_data"
    },
    {
     "name": "stderr",
     "output_type": "stream",
     "text": [
      "INFO - (NP.df_utils._infer_frequency) - Major frequency D corresponds to 99.963% of the data.\n",
      "INFO - (NP.df_utils._infer_frequency) - Defined frequency is equal to major frequency - D\n",
      "INFO - (NP.df_utils.return_df_in_original_format) - Returning df with no ID column\n",
      "INFO - (NP.df_utils._infer_frequency) - Major frequency D corresponds to 99.8% of the data.\n",
      "INFO - (NP.df_utils._infer_frequency) - Defined frequency is equal to major frequency - D\n",
      "INFO - (NP.df_utils._infer_frequency) - Major frequency D corresponds to 99.8% of the data.\n",
      "INFO - (NP.df_utils._infer_frequency) - Defined frequency is equal to major frequency - D\n"
     ]
    },
    {
     "data": {
      "application/vnd.jupyter.widget-view+json": {
       "model_id": "a37fd79f5498404ba48fe337f88423b1",
       "version_major": 2,
       "version_minor": 0
      },
      "text/plain": [
       "Predicting: 70it [00:00, ?it/s]"
      ]
     },
     "metadata": {},
     "output_type": "display_data"
    },
    {
     "name": "stderr",
     "output_type": "stream",
     "text": [
      "INFO - (NP.df_utils.return_df_in_original_format) - Returning df with no ID column\n",
      "\u001b[32m[I 2023-03-02 10:58:03,722]\u001b[0m Trial 43 finished with value: 17684.0 and parameters: {'trend_reg': 8.284001843665097, 'seasonality_reg': 4.917463493059227, 'seasonality_mode': 'additive', 'yearly_seasonality': 19, 'weekly_seasonality': 12, 'n_lags': 136, 'ar_reg': 8.41608707169165, 'learning_rate': 4.405297034545412, 'num_hidden_layers': 0, 'regularization': 0.4799994613958672}. Best is trial 26 with value: 16814.0.\u001b[0m\n",
      "INFO - (NP.config.__post_init__) - Note: Trend changepoint regularization is experimental.\n",
      "INFO - (NP.config.__post_init__) - Note: Fourier-based seasonality regularization is experimental.\n",
      "INFO - (NP.forecaster.add_lagged_regressor) - n_lags = 'auto', number of lags for regressor is set to Autoregression number of lags (81)\n",
      "INFO - (NP.df_utils.return_df_in_original_format) - Returning df with no ID column\n",
      "INFO - (NP.df_utils.return_df_in_original_format) - Returning df with no ID column\n",
      "WARNING - (NP.forecaster.fit) - When Global modeling with local normalization, metrics are displayed in normalized scale.\n",
      "INFO - (NP.df_utils._infer_frequency) - Major frequency D corresponds to 99.963% of the data.\n",
      "INFO - (NP.df_utils._infer_frequency) - Defined frequency is equal to major frequency - D\n",
      "INFO - (NP.config.init_data_params) - Setting normalization to global as only one dataframe provided for training.\n",
      "INFO - (NP.config.set_auto_batch_epoch) - Auto-set batch_size to 32\n",
      "INFO - (NP.config.set_auto_batch_epoch) - Auto-set epochs to 152\n"
     ]
    },
    {
     "data": {
      "application/vnd.jupyter.widget-view+json": {
       "model_id": "7f5ae7f4a00a4b2194e30db3d96fd1c5",
       "version_major": 2,
       "version_minor": 0
      },
      "text/plain": [
       "Training: 0it [00:00, ?it/s]"
      ]
     },
     "metadata": {},
     "output_type": "display_data"
    },
    {
     "name": "stderr",
     "output_type": "stream",
     "text": [
      "INFO - (NP.df_utils._infer_frequency) - Major frequency D corresponds to 99.963% of the data.\n",
      "INFO - (NP.df_utils._infer_frequency) - Defined frequency is equal to major frequency - D\n",
      "INFO - (NP.df_utils.return_df_in_original_format) - Returning df with no ID column\n",
      "INFO - (NP.df_utils._infer_frequency) - Major frequency D corresponds to 99.776% of the data.\n",
      "INFO - (NP.df_utils._infer_frequency) - Defined frequency is equal to major frequency - D\n",
      "INFO - (NP.df_utils._infer_frequency) - Major frequency D corresponds to 99.776% of the data.\n",
      "INFO - (NP.df_utils._infer_frequency) - Defined frequency is equal to major frequency - D\n"
     ]
    },
    {
     "data": {
      "application/vnd.jupyter.widget-view+json": {
       "model_id": "b826be5a5626453495354f82879b2673",
       "version_major": 2,
       "version_minor": 0
      },
      "text/plain": [
       "Predicting: 72it [00:00, ?it/s]"
      ]
     },
     "metadata": {},
     "output_type": "display_data"
    },
    {
     "name": "stderr",
     "output_type": "stream",
     "text": [
      "INFO - (NP.df_utils.return_df_in_original_format) - Returning df with no ID column\n",
      "\u001b[32m[I 2023-03-02 11:00:27,625]\u001b[0m Trial 44 finished with value: 17821.0 and parameters: {'trend_reg': 6.9044471494653505, 'seasonality_reg': 1.2609165728670195, 'seasonality_mode': 'additive', 'yearly_seasonality': 25, 'weekly_seasonality': 14, 'n_lags': 81, 'ar_reg': 7.681193347495586, 'learning_rate': 3.7876131303280127, 'num_hidden_layers': 0, 'regularization': 0.8470178015177481}. Best is trial 26 with value: 16814.0.\u001b[0m\n",
      "INFO - (NP.config.__post_init__) - Note: Trend changepoint regularization is experimental.\n",
      "INFO - (NP.config.__post_init__) - Note: Fourier-based seasonality regularization is experimental.\n",
      "INFO - (NP.forecaster.add_lagged_regressor) - n_lags = 'auto', number of lags for regressor is set to Autoregression number of lags (166)\n",
      "INFO - (NP.df_utils.return_df_in_original_format) - Returning df with no ID column\n",
      "INFO - (NP.df_utils.return_df_in_original_format) - Returning df with no ID column\n",
      "WARNING - (NP.forecaster.fit) - When Global modeling with local normalization, metrics are displayed in normalized scale.\n",
      "INFO - (NP.df_utils._infer_frequency) - Major frequency D corresponds to 99.963% of the data.\n",
      "INFO - (NP.df_utils._infer_frequency) - Defined frequency is equal to major frequency - D\n",
      "INFO - (NP.config.init_data_params) - Setting normalization to global as only one dataframe provided for training.\n",
      "INFO - (NP.config.set_auto_batch_epoch) - Auto-set batch_size to 32\n",
      "INFO - (NP.config.set_auto_batch_epoch) - Auto-set epochs to 153\n"
     ]
    },
    {
     "data": {
      "application/vnd.jupyter.widget-view+json": {
       "model_id": "51a2cd4c568544f993ffed141cea5eef",
       "version_major": 2,
       "version_minor": 0
      },
      "text/plain": [
       "Training: 0it [00:00, ?it/s]"
      ]
     },
     "metadata": {},
     "output_type": "display_data"
    },
    {
     "name": "stderr",
     "output_type": "stream",
     "text": [
      "INFO - (NP.df_utils._infer_frequency) - Major frequency D corresponds to 99.963% of the data.\n",
      "INFO - (NP.df_utils._infer_frequency) - Defined frequency is equal to major frequency - D\n",
      "INFO - (NP.df_utils.return_df_in_original_format) - Returning df with no ID column\n",
      "INFO - (NP.df_utils._infer_frequency) - Major frequency D corresponds to 99.812% of the data.\n",
      "INFO - (NP.df_utils._infer_frequency) - Defined frequency is equal to major frequency - D\n",
      "INFO - (NP.df_utils._infer_frequency) - Major frequency D corresponds to 99.812% of the data.\n",
      "INFO - (NP.df_utils._infer_frequency) - Defined frequency is equal to major frequency - D\n"
     ]
    },
    {
     "data": {
      "application/vnd.jupyter.widget-view+json": {
       "model_id": "cb675c846cf54785a0955b63bce00444",
       "version_major": 2,
       "version_minor": 0
      },
      "text/plain": [
       "Predicting: 69it [00:00, ?it/s]"
      ]
     },
     "metadata": {},
     "output_type": "display_data"
    },
    {
     "name": "stderr",
     "output_type": "stream",
     "text": [
      "INFO - (NP.df_utils.return_df_in_original_format) - Returning df with no ID column\n",
      "\u001b[32m[I 2023-03-02 11:03:22,657]\u001b[0m Trial 45 finished with value: 19491.0 and parameters: {'trend_reg': 8.833033952429929, 'seasonality_reg': 2.4843481956995457, 'seasonality_mode': 'additive', 'yearly_seasonality': 22, 'weekly_seasonality': 11, 'n_lags': 166, 'ar_reg': 2.3747730337420365, 'learning_rate': 4.87479763469487, 'num_hidden_layers': 3, 'regularization': 0.23316247672706594}. Best is trial 26 with value: 16814.0.\u001b[0m\n",
      "INFO - (NP.config.__post_init__) - Note: Trend changepoint regularization is experimental.\n",
      "INFO - (NP.config.__post_init__) - Note: Fourier-based seasonality regularization is experimental.\n",
      "INFO - (NP.forecaster.add_lagged_regressor) - n_lags = 'auto', number of lags for regressor is set to Autoregression number of lags (286)\n",
      "INFO - (NP.df_utils.return_df_in_original_format) - Returning df with no ID column\n",
      "INFO - (NP.df_utils.return_df_in_original_format) - Returning df with no ID column\n",
      "WARNING - (NP.forecaster.fit) - When Global modeling with local normalization, metrics are displayed in normalized scale.\n",
      "INFO - (NP.df_utils._infer_frequency) - Major frequency D corresponds to 99.963% of the data.\n",
      "INFO - (NP.df_utils._infer_frequency) - Defined frequency is equal to major frequency - D\n",
      "INFO - (NP.config.init_data_params) - Setting normalization to global as only one dataframe provided for training.\n",
      "INFO - (NP.config.set_auto_batch_epoch) - Auto-set batch_size to 32\n",
      "INFO - (NP.config.set_auto_batch_epoch) - Auto-set epochs to 156\n"
     ]
    },
    {
     "data": {
      "application/vnd.jupyter.widget-view+json": {
       "model_id": "461066b391a844c78090f1534e381678",
       "version_major": 2,
       "version_minor": 0
      },
      "text/plain": [
       "Training: 0it [00:00, ?it/s]"
      ]
     },
     "metadata": {},
     "output_type": "display_data"
    },
    {
     "name": "stderr",
     "output_type": "stream",
     "text": [
      "INFO - (NP.df_utils._infer_frequency) - Major frequency D corresponds to 99.963% of the data.\n",
      "INFO - (NP.df_utils._infer_frequency) - Defined frequency is equal to major frequency - D\n",
      "INFO - (NP.df_utils.return_df_in_original_format) - Returning df with no ID column\n",
      "INFO - (NP.df_utils._infer_frequency) - Major frequency D corresponds to 99.846% of the data.\n",
      "INFO - (NP.df_utils._infer_frequency) - Defined frequency is equal to major frequency - D\n",
      "INFO - (NP.df_utils._infer_frequency) - Major frequency D corresponds to 99.846% of the data.\n",
      "INFO - (NP.df_utils._infer_frequency) - Defined frequency is equal to major frequency - D\n"
     ]
    },
    {
     "data": {
      "application/vnd.jupyter.widget-view+json": {
       "model_id": "16eaa3060f7344029cd1dca60a1224d4",
       "version_major": 2,
       "version_minor": 0
      },
      "text/plain": [
       "Predicting: 66it [00:00, ?it/s]"
      ]
     },
     "metadata": {},
     "output_type": "display_data"
    },
    {
     "name": "stderr",
     "output_type": "stream",
     "text": [
      "INFO - (NP.df_utils.return_df_in_original_format) - Returning df with no ID column\n",
      "\u001b[32m[I 2023-03-02 11:05:33,374]\u001b[0m Trial 46 finished with value: 125134.0 and parameters: {'trend_reg': 9.60231594840275, 'seasonality_reg': 4.578632662289518, 'seasonality_mode': 'additive', 'yearly_seasonality': 27, 'weekly_seasonality': 9, 'n_lags': 286, 'ar_reg': 9.543610297398834, 'learning_rate': 4.356871214800731, 'num_hidden_layers': 0, 'regularization': 0.3344053154177179}. Best is trial 26 with value: 16814.0.\u001b[0m\n",
      "INFO - (NP.config.__post_init__) - Note: Trend changepoint regularization is experimental.\n",
      "INFO - (NP.config.__post_init__) - Note: Fourier-based seasonality regularization is experimental.\n",
      "INFO - (NP.forecaster.add_lagged_regressor) - n_lags = 'auto', number of lags for regressor is set to Autoregression number of lags (82)\n",
      "INFO - (NP.df_utils.return_df_in_original_format) - Returning df with no ID column\n",
      "INFO - (NP.df_utils.return_df_in_original_format) - Returning df with no ID column\n",
      "WARNING - (NP.forecaster.fit) - When Global modeling with local normalization, metrics are displayed in normalized scale.\n",
      "INFO - (NP.df_utils._infer_frequency) - Major frequency D corresponds to 99.963% of the data.\n",
      "INFO - (NP.df_utils._infer_frequency) - Defined frequency is equal to major frequency - D\n",
      "INFO - (NP.config.init_data_params) - Setting normalization to global as only one dataframe provided for training.\n",
      "INFO - (NP.config.set_auto_batch_epoch) - Auto-set batch_size to 32\n",
      "INFO - (NP.config.set_auto_batch_epoch) - Auto-set epochs to 152\n"
     ]
    },
    {
     "data": {
      "application/vnd.jupyter.widget-view+json": {
       "model_id": "d6ee50f538a947bda45d1253d2c75530",
       "version_major": 2,
       "version_minor": 0
      },
      "text/plain": [
       "Training: 0it [00:00, ?it/s]"
      ]
     },
     "metadata": {},
     "output_type": "display_data"
    },
    {
     "name": "stderr",
     "output_type": "stream",
     "text": [
      "INFO - (NP.df_utils._infer_frequency) - Major frequency D corresponds to 99.963% of the data.\n",
      "INFO - (NP.df_utils._infer_frequency) - Defined frequency is equal to major frequency - D\n",
      "INFO - (NP.df_utils.return_df_in_original_format) - Returning df with no ID column\n",
      "INFO - (NP.df_utils._infer_frequency) - Major frequency D corresponds to 99.776% of the data.\n",
      "INFO - (NP.df_utils._infer_frequency) - Defined frequency is equal to major frequency - D\n",
      "INFO - (NP.df_utils._infer_frequency) - Major frequency D corresponds to 99.776% of the data.\n",
      "INFO - (NP.df_utils._infer_frequency) - Defined frequency is equal to major frequency - D\n"
     ]
    },
    {
     "data": {
      "application/vnd.jupyter.widget-view+json": {
       "model_id": "8c2c65df956244c6be2d37af7f54a7e0",
       "version_major": 2,
       "version_minor": 0
      },
      "text/plain": [
       "Predicting: 72it [00:00, ?it/s]"
      ]
     },
     "metadata": {},
     "output_type": "display_data"
    },
    {
     "name": "stderr",
     "output_type": "stream",
     "text": [
      "INFO - (NP.df_utils.return_df_in_original_format) - Returning df with no ID column\n",
      "\u001b[32m[I 2023-03-02 11:07:59,296]\u001b[0m Trial 47 finished with value: 210243.0 and parameters: {'trend_reg': 7.988894037112221, 'seasonality_reg': 5.443088666191131, 'seasonality_mode': 'multiplicative', 'yearly_seasonality': 24, 'weekly_seasonality': 16, 'n_lags': 82, 'ar_reg': 8.20529191843231, 'learning_rate': 0.07479786898830687, 'num_hidden_layers': 0, 'regularization': 0.8994347159492797}. Best is trial 26 with value: 16814.0.\u001b[0m\n",
      "INFO - (NP.config.__post_init__) - Note: Trend changepoint regularization is experimental.\n",
      "INFO - (NP.config.__post_init__) - Note: Fourier-based seasonality regularization is experimental.\n",
      "INFO - (NP.forecaster.add_lagged_regressor) - n_lags = 'auto', number of lags for regressor is set to Autoregression number of lags (692)\n",
      "INFO - (NP.df_utils.return_df_in_original_format) - Returning df with no ID column\n",
      "INFO - (NP.df_utils.return_df_in_original_format) - Returning df with no ID column\n",
      "WARNING - (NP.forecaster.fit) - When Global modeling with local normalization, metrics are displayed in normalized scale.\n",
      "INFO - (NP.df_utils._infer_frequency) - Major frequency D corresponds to 99.963% of the data.\n",
      "INFO - (NP.df_utils._infer_frequency) - Defined frequency is equal to major frequency - D\n",
      "INFO - (NP.config.init_data_params) - Setting normalization to global as only one dataframe provided for training.\n",
      "INFO - (NP.config.set_auto_batch_epoch) - Auto-set batch_size to 32\n",
      "INFO - (NP.config.set_auto_batch_epoch) - Auto-set epochs to 166\n"
     ]
    },
    {
     "data": {
      "application/vnd.jupyter.widget-view+json": {
       "model_id": "534966c1dfb444b2be9e059bc6138b0f",
       "version_major": 2,
       "version_minor": 0
      },
      "text/plain": [
       "Training: 0it [00:00, ?it/s]"
      ]
     },
     "metadata": {},
     "output_type": "display_data"
    },
    {
     "name": "stderr",
     "output_type": "stream",
     "text": [
      "INFO - (NP.df_utils._infer_frequency) - Major frequency D corresponds to 99.963% of the data.\n",
      "INFO - (NP.df_utils._infer_frequency) - Defined frequency is equal to major frequency - D\n",
      "INFO - (NP.df_utils.return_df_in_original_format) - Returning df with no ID column\n",
      "INFO - (NP.df_utils._infer_frequency) - Major frequency D corresponds to 99.905% of the data.\n",
      "INFO - (NP.df_utils._infer_frequency) - Defined frequency is equal to major frequency - D\n",
      "INFO - (NP.df_utils._infer_frequency) - Major frequency D corresponds to 99.905% of the data.\n",
      "INFO - (NP.df_utils._infer_frequency) - Defined frequency is equal to major frequency - D\n"
     ]
    },
    {
     "data": {
      "application/vnd.jupyter.widget-view+json": {
       "model_id": "f8d38de725634c3481c3e3f928735538",
       "version_major": 2,
       "version_minor": 0
      },
      "text/plain": [
       "Predicting: 53it [00:00, ?it/s]"
      ]
     },
     "metadata": {},
     "output_type": "display_data"
    },
    {
     "name": "stderr",
     "output_type": "stream",
     "text": [
      "INFO - (NP.df_utils.return_df_in_original_format) - Returning df with no ID column\n",
      "\u001b[32m[I 2023-03-02 11:10:45,531]\u001b[0m Trial 48 finished with value: 198946.0 and parameters: {'trend_reg': 5.357869437081782, 'seasonality_reg': 3.7419490300831004, 'seasonality_mode': 'multiplicative', 'yearly_seasonality': 31, 'weekly_seasonality': 19, 'n_lags': 692, 'ar_reg': 3.2921434772251272, 'learning_rate': 3.41040512427391, 'num_hidden_layers': 0, 'regularization': 0.44912617528206367}. Best is trial 26 with value: 16814.0.\u001b[0m\n",
      "INFO - (NP.config.__post_init__) - Note: Trend changepoint regularization is experimental.\n",
      "INFO - (NP.config.__post_init__) - Note: Fourier-based seasonality regularization is experimental.\n",
      "INFO - (NP.forecaster.add_lagged_regressor) - n_lags = 'auto', number of lags for regressor is set to Autoregression number of lags (221)\n",
      "INFO - (NP.df_utils.return_df_in_original_format) - Returning df with no ID column\n",
      "INFO - (NP.df_utils.return_df_in_original_format) - Returning df with no ID column\n",
      "WARNING - (NP.forecaster.fit) - When Global modeling with local normalization, metrics are displayed in normalized scale.\n",
      "INFO - (NP.df_utils._infer_frequency) - Major frequency D corresponds to 99.963% of the data.\n",
      "INFO - (NP.df_utils._infer_frequency) - Defined frequency is equal to major frequency - D\n",
      "INFO - (NP.config.init_data_params) - Setting normalization to global as only one dataframe provided for training.\n",
      "INFO - (NP.config.set_auto_batch_epoch) - Auto-set batch_size to 32\n",
      "INFO - (NP.config.set_auto_batch_epoch) - Auto-set epochs to 154\n"
     ]
    },
    {
     "data": {
      "application/vnd.jupyter.widget-view+json": {
       "model_id": "dfd2260cebd54e8daca6e9cfe9e2a0bd",
       "version_major": 2,
       "version_minor": 0
      },
      "text/plain": [
       "Training: 0it [00:00, ?it/s]"
      ]
     },
     "metadata": {},
     "output_type": "display_data"
    },
    {
     "name": "stderr",
     "output_type": "stream",
     "text": [
      "INFO - (NP.df_utils._infer_frequency) - Major frequency D corresponds to 99.963% of the data.\n",
      "INFO - (NP.df_utils._infer_frequency) - Defined frequency is equal to major frequency - D\n",
      "INFO - (NP.df_utils.return_df_in_original_format) - Returning df with no ID column\n",
      "INFO - (NP.df_utils._infer_frequency) - Major frequency D corresponds to 99.829% of the data.\n",
      "INFO - (NP.df_utils._infer_frequency) - Defined frequency is equal to major frequency - D\n",
      "INFO - (NP.df_utils._infer_frequency) - Major frequency D corresponds to 99.829% of the data.\n",
      "INFO - (NP.df_utils._infer_frequency) - Defined frequency is equal to major frequency - D\n"
     ]
    },
    {
     "data": {
      "application/vnd.jupyter.widget-view+json": {
       "model_id": "635db011809849bbb782dda6b647f33e",
       "version_major": 2,
       "version_minor": 0
      },
      "text/plain": [
       "Predicting: 68it [00:00, ?it/s]"
      ]
     },
     "metadata": {},
     "output_type": "display_data"
    },
    {
     "name": "stderr",
     "output_type": "stream",
     "text": [
      "INFO - (NP.df_utils.return_df_in_original_format) - Returning df with no ID column\n",
      "\u001b[32m[I 2023-03-02 11:12:59,735]\u001b[0m Trial 49 finished with value: 79672.0 and parameters: {'trend_reg': 6.238355500791164, 'seasonality_reg': 2.142249190302461, 'seasonality_mode': 'multiplicative', 'yearly_seasonality': 18, 'weekly_seasonality': 12, 'n_lags': 221, 'ar_reg': 8.71731890410749, 'learning_rate': 3.8878984276945987, 'num_hidden_layers': 0, 'regularization': 0.554588799231472}. Best is trial 26 with value: 16814.0.\u001b[0m\n",
      "INFO - (NP.config.__post_init__) - Note: Trend changepoint regularization is experimental.\n",
      "INFO - (NP.config.__post_init__) - Note: Fourier-based seasonality regularization is experimental.\n",
      "INFO - (NP.forecaster.add_lagged_regressor) - n_lags = 'auto', number of lags for regressor is set to Autoregression number of lags (60)\n",
      "INFO - (NP.df_utils.return_df_in_original_format) - Returning df with no ID column\n",
      "INFO - (NP.df_utils.return_df_in_original_format) - Returning df with no ID column\n",
      "WARNING - (NP.forecaster.fit) - When Global modeling with local normalization, metrics are displayed in normalized scale.\n",
      "INFO - (NP.df_utils._infer_frequency) - Major frequency D corresponds to 99.963% of the data.\n",
      "INFO - (NP.df_utils._infer_frequency) - Defined frequency is equal to major frequency - D\n",
      "INFO - (NP.config.init_data_params) - Setting normalization to global as only one dataframe provided for training.\n",
      "INFO - (NP.config.set_auto_batch_epoch) - Auto-set batch_size to 32\n",
      "INFO - (NP.config.set_auto_batch_epoch) - Auto-set epochs to 151\n"
     ]
    },
    {
     "data": {
      "application/vnd.jupyter.widget-view+json": {
       "model_id": "24375fc169344d3ead29f897f8a4b03e",
       "version_major": 2,
       "version_minor": 0
      },
      "text/plain": [
       "Training: 0it [00:00, ?it/s]"
      ]
     },
     "metadata": {},
     "output_type": "display_data"
    },
    {
     "name": "stderr",
     "output_type": "stream",
     "text": [
      "INFO - (NP.df_utils._infer_frequency) - Major frequency D corresponds to 99.963% of the data.\n",
      "INFO - (NP.df_utils._infer_frequency) - Defined frequency is equal to major frequency - D\n",
      "INFO - (NP.df_utils.return_df_in_original_format) - Returning df with no ID column\n",
      "INFO - (NP.df_utils._infer_frequency) - Major frequency D corresponds to 99.765% of the data.\n",
      "INFO - (NP.df_utils._infer_frequency) - Defined frequency is equal to major frequency - D\n",
      "INFO - (NP.df_utils._infer_frequency) - Major frequency D corresponds to 99.765% of the data.\n",
      "INFO - (NP.df_utils._infer_frequency) - Defined frequency is equal to major frequency - D\n"
     ]
    },
    {
     "data": {
      "application/vnd.jupyter.widget-view+json": {
       "model_id": "486172fa46de4dee9688ee41e19eb141",
       "version_major": 2,
       "version_minor": 0
      },
      "text/plain": [
       "Predicting: 73it [00:00, ?it/s]"
      ]
     },
     "metadata": {},
     "output_type": "display_data"
    },
    {
     "name": "stderr",
     "output_type": "stream",
     "text": [
      "INFO - (NP.df_utils.return_df_in_original_format) - Returning df with no ID column\n",
      "\u001b[32m[I 2023-03-02 11:15:29,046]\u001b[0m Trial 50 finished with value: 17521.0 and parameters: {'trend_reg': 7.146374151440734, 'seasonality_reg': 0.9767142354216928, 'seasonality_mode': 'additive', 'yearly_seasonality': 40, 'weekly_seasonality': 9, 'n_lags': 60, 'ar_reg': 9.650967655716801, 'learning_rate': 4.997080062360444, 'num_hidden_layers': 0, 'regularization': 0.685942942286166}. Best is trial 26 with value: 16814.0.\u001b[0m\n",
      "INFO - (NP.config.__post_init__) - Note: Trend changepoint regularization is experimental.\n",
      "INFO - (NP.config.__post_init__) - Note: Fourier-based seasonality regularization is experimental.\n",
      "INFO - (NP.forecaster.add_lagged_regressor) - n_lags = 'auto', number of lags for regressor is set to Autoregression number of lags (51)\n",
      "INFO - (NP.df_utils.return_df_in_original_format) - Returning df with no ID column\n",
      "INFO - (NP.df_utils.return_df_in_original_format) - Returning df with no ID column\n",
      "WARNING - (NP.forecaster.fit) - When Global modeling with local normalization, metrics are displayed in normalized scale.\n",
      "INFO - (NP.df_utils._infer_frequency) - Major frequency D corresponds to 99.963% of the data.\n",
      "INFO - (NP.df_utils._infer_frequency) - Defined frequency is equal to major frequency - D\n",
      "INFO - (NP.config.init_data_params) - Setting normalization to global as only one dataframe provided for training.\n",
      "INFO - (NP.config.set_auto_batch_epoch) - Auto-set batch_size to 32\n",
      "INFO - (NP.config.set_auto_batch_epoch) - Auto-set epochs to 151\n"
     ]
    },
    {
     "data": {
      "application/vnd.jupyter.widget-view+json": {
       "model_id": "9ea012102dd041acaab6022fad09b537",
       "version_major": 2,
       "version_minor": 0
      },
      "text/plain": [
       "Training: 0it [00:00, ?it/s]"
      ]
     },
     "metadata": {},
     "output_type": "display_data"
    },
    {
     "name": "stderr",
     "output_type": "stream",
     "text": [
      "INFO - (NP.df_utils._infer_frequency) - Major frequency D corresponds to 99.963% of the data.\n",
      "INFO - (NP.df_utils._infer_frequency) - Defined frequency is equal to major frequency - D\n",
      "INFO - (NP.df_utils.return_df_in_original_format) - Returning df with no ID column\n",
      "INFO - (NP.df_utils._infer_frequency) - Major frequency D corresponds to 99.76% of the data.\n",
      "INFO - (NP.df_utils._infer_frequency) - Defined frequency is equal to major frequency - D\n",
      "INFO - (NP.df_utils._infer_frequency) - Major frequency D corresponds to 99.76% of the data.\n",
      "INFO - (NP.df_utils._infer_frequency) - Defined frequency is equal to major frequency - D\n"
     ]
    },
    {
     "data": {
      "application/vnd.jupyter.widget-view+json": {
       "model_id": "41ada8e163c54d278f922f9ef26fd638",
       "version_major": 2,
       "version_minor": 0
      },
      "text/plain": [
       "Predicting: 73it [00:00, ?it/s]"
      ]
     },
     "metadata": {},
     "output_type": "display_data"
    },
    {
     "name": "stderr",
     "output_type": "stream",
     "text": [
      "INFO - (NP.df_utils.return_df_in_original_format) - Returning df with no ID column\n",
      "\u001b[32m[I 2023-03-02 11:17:59,757]\u001b[0m Trial 51 finished with value: 17835.0 and parameters: {'trend_reg': 7.652583718424158, 'seasonality_reg': 1.0129609472845376, 'seasonality_mode': 'additive', 'yearly_seasonality': 40, 'weekly_seasonality': 9, 'n_lags': 51, 'ar_reg': 9.703902293278231, 'learning_rate': 4.563153682070263, 'num_hidden_layers': 0, 'regularization': 0.6987838281972714}. Best is trial 26 with value: 16814.0.\u001b[0m\n",
      "INFO - (NP.config.__post_init__) - Note: Trend changepoint regularization is experimental.\n",
      "INFO - (NP.config.__post_init__) - Note: Fourier-based seasonality regularization is experimental.\n",
      "INFO - (NP.forecaster.add_lagged_regressor) - n_lags = 'auto', number of lags for regressor is set to Autoregression number of lags (132)\n",
      "INFO - (NP.df_utils.return_df_in_original_format) - Returning df with no ID column\n",
      "INFO - (NP.df_utils.return_df_in_original_format) - Returning df with no ID column\n",
      "WARNING - (NP.forecaster.fit) - When Global modeling with local normalization, metrics are displayed in normalized scale.\n",
      "INFO - (NP.df_utils._infer_frequency) - Major frequency D corresponds to 99.963% of the data.\n",
      "INFO - (NP.df_utils._infer_frequency) - Defined frequency is equal to major frequency - D\n",
      "INFO - (NP.config.init_data_params) - Setting normalization to global as only one dataframe provided for training.\n",
      "INFO - (NP.config.set_auto_batch_epoch) - Auto-set batch_size to 32\n",
      "INFO - (NP.config.set_auto_batch_epoch) - Auto-set epochs to 153\n"
     ]
    },
    {
     "data": {
      "application/vnd.jupyter.widget-view+json": {
       "model_id": "da3de85f787b4a629e0fe7ef373b9dfe",
       "version_major": 2,
       "version_minor": 0
      },
      "text/plain": [
       "Training: 0it [00:00, ?it/s]"
      ]
     },
     "metadata": {},
     "output_type": "display_data"
    },
    {
     "name": "stderr",
     "output_type": "stream",
     "text": [
      "INFO - (NP.df_utils._infer_frequency) - Major frequency D corresponds to 99.963% of the data.\n",
      "INFO - (NP.df_utils._infer_frequency) - Defined frequency is equal to major frequency - D\n",
      "INFO - (NP.df_utils.return_df_in_original_format) - Returning df with no ID column\n",
      "INFO - (NP.df_utils._infer_frequency) - Major frequency D corresponds to 99.799% of the data.\n",
      "INFO - (NP.df_utils._infer_frequency) - Defined frequency is equal to major frequency - D\n",
      "INFO - (NP.df_utils._infer_frequency) - Major frequency D corresponds to 99.799% of the data.\n",
      "INFO - (NP.df_utils._infer_frequency) - Defined frequency is equal to major frequency - D\n"
     ]
    },
    {
     "data": {
      "application/vnd.jupyter.widget-view+json": {
       "model_id": "2abfdd1aa4e1416e80dc3630114d3415",
       "version_major": 2,
       "version_minor": 0
      },
      "text/plain": [
       "Predicting: 71it [00:00, ?it/s]"
      ]
     },
     "metadata": {},
     "output_type": "display_data"
    },
    {
     "name": "stderr",
     "output_type": "stream",
     "text": [
      "INFO - (NP.df_utils.return_df_in_original_format) - Returning df with no ID column\n",
      "\u001b[32m[I 2023-03-02 11:20:15,235]\u001b[0m Trial 52 finished with value: 18197.0 and parameters: {'trend_reg': 7.118937470666265, 'seasonality_reg': 0.7144614910980094, 'seasonality_mode': 'additive', 'yearly_seasonality': 26, 'weekly_seasonality': 11, 'n_lags': 132, 'ar_reg': 9.156798664260595, 'learning_rate': 4.981483238988009, 'num_hidden_layers': 0, 'regularization': 0.7916184755842934}. Best is trial 26 with value: 16814.0.\u001b[0m\n",
      "INFO - (NP.config.__post_init__) - Note: Trend changepoint regularization is experimental.\n",
      "INFO - (NP.config.__post_init__) - Note: Fourier-based seasonality regularization is experimental.\n",
      "INFO - (NP.forecaster.add_lagged_regressor) - n_lags = 'auto', number of lags for regressor is set to Autoregression number of lags (29)\n",
      "INFO - (NP.df_utils.return_df_in_original_format) - Returning df with no ID column\n",
      "INFO - (NP.df_utils.return_df_in_original_format) - Returning df with no ID column\n",
      "WARNING - (NP.forecaster.fit) - When Global modeling with local normalization, metrics are displayed in normalized scale.\n",
      "INFO - (NP.df_utils._infer_frequency) - Major frequency D corresponds to 99.963% of the data.\n",
      "INFO - (NP.df_utils._infer_frequency) - Defined frequency is equal to major frequency - D\n",
      "INFO - (NP.config.init_data_params) - Setting normalization to global as only one dataframe provided for training.\n",
      "INFO - (NP.config.set_auto_batch_epoch) - Auto-set batch_size to 32\n",
      "INFO - (NP.config.set_auto_batch_epoch) - Auto-set epochs to 151\n"
     ]
    },
    {
     "data": {
      "application/vnd.jupyter.widget-view+json": {
       "model_id": "7d163ef2b509447b8d4d5cbf5ca788c5",
       "version_major": 2,
       "version_minor": 0
      },
      "text/plain": [
       "Training: 0it [00:00, ?it/s]"
      ]
     },
     "metadata": {},
     "output_type": "display_data"
    },
    {
     "name": "stderr",
     "output_type": "stream",
     "text": [
      "INFO - (NP.df_utils._infer_frequency) - Major frequency D corresponds to 99.963% of the data.\n",
      "INFO - (NP.df_utils._infer_frequency) - Defined frequency is equal to major frequency - D\n",
      "INFO - (NP.df_utils.return_df_in_original_format) - Returning df with no ID column\n",
      "INFO - (NP.df_utils._infer_frequency) - Major frequency D corresponds to 99.746% of the data.\n",
      "INFO - (NP.df_utils._infer_frequency) - Defined frequency is equal to major frequency - D\n",
      "INFO - (NP.df_utils._infer_frequency) - Major frequency D corresponds to 99.746% of the data.\n",
      "INFO - (NP.df_utils._infer_frequency) - Defined frequency is equal to major frequency - D\n"
     ]
    },
    {
     "data": {
      "application/vnd.jupyter.widget-view+json": {
       "model_id": "74ee13e34df346189c4e7e5164186ad6",
       "version_major": 2,
       "version_minor": 0
      },
      "text/plain": [
       "Predicting: 74it [00:00, ?it/s]"
      ]
     },
     "metadata": {},
     "output_type": "display_data"
    },
    {
     "name": "stderr",
     "output_type": "stream",
     "text": [
      "INFO - (NP.df_utils.return_df_in_original_format) - Returning df with no ID column\n",
      "\u001b[32m[I 2023-03-02 11:22:57,417]\u001b[0m Trial 53 finished with value: 18129.0 and parameters: {'trend_reg': 6.566007925574243, 'seasonality_reg': 1.9866776634392331, 'seasonality_mode': 'additive', 'yearly_seasonality': 38, 'weekly_seasonality': 13, 'n_lags': 29, 'ar_reg': 9.973200347107728, 'learning_rate': 4.695320513894148, 'num_hidden_layers': 0, 'regularization': 0.867500950963786}. Best is trial 26 with value: 16814.0.\u001b[0m\n",
      "INFO - (NP.config.__post_init__) - Note: Trend changepoint regularization is experimental.\n",
      "INFO - (NP.config.__post_init__) - Note: Fourier-based seasonality regularization is experimental.\n",
      "INFO - (NP.forecaster.add_lagged_regressor) - n_lags = 'auto', number of lags for regressor is set to Autoregression number of lags (110)\n",
      "INFO - (NP.df_utils.return_df_in_original_format) - Returning df with no ID column\n",
      "INFO - (NP.df_utils.return_df_in_original_format) - Returning df with no ID column\n",
      "WARNING - (NP.forecaster.fit) - When Global modeling with local normalization, metrics are displayed in normalized scale.\n",
      "INFO - (NP.df_utils._infer_frequency) - Major frequency D corresponds to 99.963% of the data.\n",
      "INFO - (NP.df_utils._infer_frequency) - Defined frequency is equal to major frequency - D\n",
      "INFO - (NP.config.init_data_params) - Setting normalization to global as only one dataframe provided for training.\n",
      "INFO - (NP.config.set_auto_batch_epoch) - Auto-set batch_size to 32\n",
      "INFO - (NP.config.set_auto_batch_epoch) - Auto-set epochs to 152\n"
     ]
    },
    {
     "data": {
      "application/vnd.jupyter.widget-view+json": {
       "model_id": "80d439af2dfe48b18b8fafbaaa4f95f3",
       "version_major": 2,
       "version_minor": 0
      },
      "text/plain": [
       "Training: 0it [00:00, ?it/s]"
      ]
     },
     "metadata": {},
     "output_type": "display_data"
    },
    {
     "name": "stderr",
     "output_type": "stream",
     "text": [
      "INFO - (NP.df_utils._infer_frequency) - Major frequency D corresponds to 99.963% of the data.\n",
      "INFO - (NP.df_utils._infer_frequency) - Defined frequency is equal to major frequency - D\n",
      "INFO - (NP.df_utils.return_df_in_original_format) - Returning df with no ID column\n",
      "INFO - (NP.df_utils._infer_frequency) - Major frequency D corresponds to 99.789% of the data.\n",
      "INFO - (NP.df_utils._infer_frequency) - Defined frequency is equal to major frequency - D\n",
      "INFO - (NP.df_utils._infer_frequency) - Major frequency D corresponds to 99.789% of the data.\n",
      "INFO - (NP.df_utils._infer_frequency) - Defined frequency is equal to major frequency - D\n"
     ]
    },
    {
     "data": {
      "application/vnd.jupyter.widget-view+json": {
       "model_id": "130b39a799f347eebd8fb92f9b3f8a00",
       "version_major": 2,
       "version_minor": 0
      },
      "text/plain": [
       "Predicting: 71it [00:00, ?it/s]"
      ]
     },
     "metadata": {},
     "output_type": "display_data"
    },
    {
     "name": "stderr",
     "output_type": "stream",
     "text": [
      "INFO - (NP.df_utils.return_df_in_original_format) - Returning df with no ID column\n",
      "\u001b[32m[I 2023-03-02 11:25:20,197]\u001b[0m Trial 54 finished with value: 17941.0 and parameters: {'trend_reg': 8.358157645435863, 'seasonality_reg': 6.744216384991855, 'seasonality_mode': 'additive', 'yearly_seasonality': 33, 'weekly_seasonality': 9, 'n_lags': 110, 'ar_reg': 8.5881643844189, 'learning_rate': 4.132493791671591, 'num_hidden_layers': 0, 'regularization': 0.9918894907393053}. Best is trial 26 with value: 16814.0.\u001b[0m\n",
      "INFO - (NP.config.__post_init__) - Note: Trend changepoint regularization is experimental.\n",
      "INFO - (NP.config.__post_init__) - Note: Fourier-based seasonality regularization is experimental.\n",
      "INFO - (NP.forecaster.add_lagged_regressor) - n_lags = 'auto', number of lags for regressor is set to Autoregression number of lags (163)\n",
      "INFO - (NP.df_utils.return_df_in_original_format) - Returning df with no ID column\n",
      "INFO - (NP.df_utils.return_df_in_original_format) - Returning df with no ID column\n",
      "WARNING - (NP.forecaster.fit) - When Global modeling with local normalization, metrics are displayed in normalized scale.\n",
      "INFO - (NP.df_utils._infer_frequency) - Major frequency D corresponds to 99.963% of the data.\n",
      "INFO - (NP.df_utils._infer_frequency) - Defined frequency is equal to major frequency - D\n",
      "INFO - (NP.config.init_data_params) - Setting normalization to global as only one dataframe provided for training.\n",
      "INFO - (NP.config.set_auto_batch_epoch) - Auto-set batch_size to 32\n",
      "INFO - (NP.config.set_auto_batch_epoch) - Auto-set epochs to 153\n"
     ]
    },
    {
     "data": {
      "application/vnd.jupyter.widget-view+json": {
       "model_id": "7f83154a783140159f35f6725e38be68",
       "version_major": 2,
       "version_minor": 0
      },
      "text/plain": [
       "Training: 0it [00:00, ?it/s]"
      ]
     },
     "metadata": {},
     "output_type": "display_data"
    },
    {
     "name": "stderr",
     "output_type": "stream",
     "text": [
      "INFO - (NP.df_utils._infer_frequency) - Major frequency D corresponds to 99.963% of the data.\n",
      "INFO - (NP.df_utils._infer_frequency) - Defined frequency is equal to major frequency - D\n",
      "INFO - (NP.df_utils.return_df_in_original_format) - Returning df with no ID column\n",
      "INFO - (NP.df_utils._infer_frequency) - Major frequency D corresponds to 99.811% of the data.\n",
      "INFO - (NP.df_utils._infer_frequency) - Defined frequency is equal to major frequency - D\n",
      "INFO - (NP.df_utils._infer_frequency) - Major frequency D corresponds to 99.811% of the data.\n",
      "INFO - (NP.df_utils._infer_frequency) - Defined frequency is equal to major frequency - D\n"
     ]
    },
    {
     "data": {
      "application/vnd.jupyter.widget-view+json": {
       "model_id": "10c479a8cbcf495b96174ebd406497e2",
       "version_major": 2,
       "version_minor": 0
      },
      "text/plain": [
       "Predicting: 70it [00:00, ?it/s]"
      ]
     },
     "metadata": {},
     "output_type": "display_data"
    },
    {
     "name": "stderr",
     "output_type": "stream",
     "text": [
      "INFO - (NP.df_utils.return_df_in_original_format) - Returning df with no ID column\n",
      "\u001b[32m[I 2023-03-02 11:27:21,770]\u001b[0m Trial 55 finished with value: 98287.0 and parameters: {'trend_reg': 5.886059695917919, 'seasonality_reg': 3.03182253151389, 'seasonality_mode': 'multiplicative', 'yearly_seasonality': 16, 'weekly_seasonality': 10, 'n_lags': 163, 'ar_reg': 7.6516679965624395, 'learning_rate': 4.4667139115365835, 'num_hidden_layers': 0, 'regularization': 0.3561801888418982}. Best is trial 26 with value: 16814.0.\u001b[0m\n",
      "INFO - (NP.config.__post_init__) - Note: Trend changepoint regularization is experimental.\n",
      "INFO - (NP.config.__post_init__) - Note: Fourier-based seasonality regularization is experimental.\n",
      "INFO - (NP.forecaster.add_lagged_regressor) - n_lags = 'auto', number of lags for regressor is set to Autoregression number of lags (211)\n",
      "INFO - (NP.df_utils.return_df_in_original_format) - Returning df with no ID column\n",
      "INFO - (NP.df_utils.return_df_in_original_format) - Returning df with no ID column\n",
      "WARNING - (NP.forecaster.fit) - When Global modeling with local normalization, metrics are displayed in normalized scale.\n",
      "INFO - (NP.df_utils._infer_frequency) - Major frequency D corresponds to 99.963% of the data.\n",
      "INFO - (NP.df_utils._infer_frequency) - Defined frequency is equal to major frequency - D\n",
      "INFO - (NP.config.init_data_params) - Setting normalization to global as only one dataframe provided for training.\n",
      "INFO - (NP.config.set_auto_batch_epoch) - Auto-set batch_size to 32\n",
      "INFO - (NP.config.set_auto_batch_epoch) - Auto-set epochs to 154\n"
     ]
    },
    {
     "data": {
      "application/vnd.jupyter.widget-view+json": {
       "model_id": "5498fe4d8fbf48a3991b3131b315b22a",
       "version_major": 2,
       "version_minor": 0
      },
      "text/plain": [
       "Training: 0it [00:00, ?it/s]"
      ]
     },
     "metadata": {},
     "output_type": "display_data"
    },
    {
     "name": "stderr",
     "output_type": "stream",
     "text": [
      "INFO - (NP.df_utils._infer_frequency) - Major frequency D corresponds to 99.963% of the data.\n",
      "INFO - (NP.df_utils._infer_frequency) - Defined frequency is equal to major frequency - D\n",
      "INFO - (NP.df_utils.return_df_in_original_format) - Returning df with no ID column\n",
      "INFO - (NP.df_utils._infer_frequency) - Major frequency D corresponds to 99.826% of the data.\n",
      "INFO - (NP.df_utils._infer_frequency) - Defined frequency is equal to major frequency - D\n",
      "INFO - (NP.df_utils._infer_frequency) - Major frequency D corresponds to 99.826% of the data.\n",
      "INFO - (NP.df_utils._infer_frequency) - Defined frequency is equal to major frequency - D\n"
     ]
    },
    {
     "data": {
      "application/vnd.jupyter.widget-view+json": {
       "model_id": "efdd90818a4e41cea58379139b60595b",
       "version_major": 2,
       "version_minor": 0
      },
      "text/plain": [
       "Predicting: 68it [00:00, ?it/s]"
      ]
     },
     "metadata": {},
     "output_type": "display_data"
    },
    {
     "name": "stderr",
     "output_type": "stream",
     "text": [
      "INFO - (NP.df_utils.return_df_in_original_format) - Returning df with no ID column\n",
      "\u001b[32m[I 2023-03-02 11:29:45,821]\u001b[0m Trial 56 finished with value: 23322.0 and parameters: {'trend_reg': 7.527126714251087, 'seasonality_reg': 1.3013423269771, 'seasonality_mode': 'additive', 'yearly_seasonality': 37, 'weekly_seasonality': 6, 'n_lags': 211, 'ar_reg': 6.54972463242331, 'learning_rate': 4.804247075218298, 'num_hidden_layers': 0, 'regularization': 0.40694541769646875}. Best is trial 26 with value: 16814.0.\u001b[0m\n",
      "INFO - (NP.config.__post_init__) - Note: Trend changepoint regularization is experimental.\n",
      "INFO - (NP.config.__post_init__) - Note: Fourier-based seasonality regularization is experimental.\n",
      "INFO - (NP.forecaster.add_lagged_regressor) - n_lags = 'auto', number of lags for regressor is set to Autoregression number of lags (65)\n",
      "INFO - (NP.df_utils.return_df_in_original_format) - Returning df with no ID column\n",
      "INFO - (NP.df_utils.return_df_in_original_format) - Returning df with no ID column\n",
      "WARNING - (NP.forecaster.fit) - When Global modeling with local normalization, metrics are displayed in normalized scale.\n",
      "INFO - (NP.df_utils._infer_frequency) - Major frequency D corresponds to 99.963% of the data.\n",
      "INFO - (NP.df_utils._infer_frequency) - Defined frequency is equal to major frequency - D\n",
      "INFO - (NP.config.init_data_params) - Setting normalization to global as only one dataframe provided for training.\n",
      "INFO - (NP.config.set_auto_batch_epoch) - Auto-set batch_size to 32\n",
      "INFO - (NP.config.set_auto_batch_epoch) - Auto-set epochs to 151\n"
     ]
    },
    {
     "data": {
      "application/vnd.jupyter.widget-view+json": {
       "model_id": "e6be310b04414cf4a8821f6afdaee852",
       "version_major": 2,
       "version_minor": 0
      },
      "text/plain": [
       "Training: 0it [00:00, ?it/s]"
      ]
     },
     "metadata": {},
     "output_type": "display_data"
    },
    {
     "name": "stderr",
     "output_type": "stream",
     "text": [
      "INFO - (NP.df_utils._infer_frequency) - Major frequency D corresponds to 99.963% of the data.\n",
      "INFO - (NP.df_utils._infer_frequency) - Defined frequency is equal to major frequency - D\n",
      "INFO - (NP.df_utils.return_df_in_original_format) - Returning df with no ID column\n",
      "INFO - (NP.df_utils._infer_frequency) - Major frequency D corresponds to 99.767% of the data.\n",
      "INFO - (NP.df_utils._infer_frequency) - Defined frequency is equal to major frequency - D\n",
      "INFO - (NP.df_utils._infer_frequency) - Major frequency D corresponds to 99.767% of the data.\n",
      "INFO - (NP.df_utils._infer_frequency) - Defined frequency is equal to major frequency - D\n"
     ]
    },
    {
     "data": {
      "application/vnd.jupyter.widget-view+json": {
       "model_id": "9db35b6e5b434f9889a2688a95c979b1",
       "version_major": 2,
       "version_minor": 0
      },
      "text/plain": [
       "Predicting: 73it [00:00, ?it/s]"
      ]
     },
     "metadata": {},
     "output_type": "display_data"
    },
    {
     "name": "stderr",
     "output_type": "stream",
     "text": [
      "INFO - (NP.df_utils.return_df_in_original_format) - Returning df with no ID column\n",
      "\u001b[32m[I 2023-03-02 11:32:05,772]\u001b[0m Trial 57 finished with value: 70881.0 and parameters: {'trend_reg': 0.22502351474677518, 'seasonality_reg': 0.11655578806563727, 'seasonality_mode': 'multiplicative', 'yearly_seasonality': 21, 'weekly_seasonality': 14, 'n_lags': 65, 'ar_reg': 9.276880578975444, 'learning_rate': 4.210585121414539, 'num_hidden_layers': 0, 'regularization': 0.5313183270225222}. Best is trial 26 with value: 16814.0.\u001b[0m\n",
      "INFO - (NP.config.__post_init__) - Note: Trend changepoint regularization is experimental.\n",
      "INFO - (NP.config.__post_init__) - Note: Fourier-based seasonality regularization is experimental.\n",
      "INFO - (NP.forecaster.add_lagged_regressor) - n_lags = 'auto', number of lags for regressor is set to Autoregression number of lags (858)\n",
      "INFO - (NP.df_utils.return_df_in_original_format) - Returning df with no ID column\n",
      "INFO - (NP.df_utils.return_df_in_original_format) - Returning df with no ID column\n",
      "WARNING - (NP.forecaster.fit) - When Global modeling with local normalization, metrics are displayed in normalized scale.\n",
      "INFO - (NP.df_utils._infer_frequency) - Major frequency D corresponds to 99.963% of the data.\n",
      "INFO - (NP.df_utils._infer_frequency) - Defined frequency is equal to major frequency - D\n",
      "INFO - (NP.config.init_data_params) - Setting normalization to global as only one dataframe provided for training.\n",
      "INFO - (NP.config.set_auto_batch_epoch) - Auto-set batch_size to 32\n",
      "INFO - (NP.config.set_auto_batch_epoch) - Auto-set epochs to 171\n"
     ]
    },
    {
     "data": {
      "application/vnd.jupyter.widget-view+json": {
       "model_id": "cf016aceaa72431b80068f39ca2f5072",
       "version_major": 2,
       "version_minor": 0
      },
      "text/plain": [
       "Training: 0it [00:00, ?it/s]"
      ]
     },
     "metadata": {},
     "output_type": "display_data"
    },
    {
     "name": "stderr",
     "output_type": "stream",
     "text": [
      "INFO - (NP.df_utils._infer_frequency) - Major frequency D corresponds to 99.963% of the data.\n",
      "INFO - (NP.df_utils._infer_frequency) - Defined frequency is equal to major frequency - D\n",
      "INFO - (NP.df_utils.return_df_in_original_format) - Returning df with no ID column\n",
      "INFO - (NP.df_utils._infer_frequency) - Major frequency D corresponds to 99.918% of the data.\n",
      "INFO - (NP.df_utils._infer_frequency) - Defined frequency is equal to major frequency - D\n",
      "INFO - (NP.df_utils._infer_frequency) - Major frequency D corresponds to 99.918% of the data.\n",
      "INFO - (NP.df_utils._infer_frequency) - Defined frequency is equal to major frequency - D\n"
     ]
    },
    {
     "data": {
      "application/vnd.jupyter.widget-view+json": {
       "model_id": "ce224fc912e44dc3ba23eb06a3c2071f",
       "version_major": 2,
       "version_minor": 0
      },
      "text/plain": [
       "Predicting: 48it [00:00, ?it/s]"
      ]
     },
     "metadata": {},
     "output_type": "display_data"
    },
    {
     "name": "stderr",
     "output_type": "stream",
     "text": [
      "INFO - (NP.df_utils.return_df_in_original_format) - Returning df with no ID column\n",
      "\u001b[32m[I 2023-03-02 11:34:59,843]\u001b[0m Trial 58 finished with value: 21364.0 and parameters: {'trend_reg': 8.091554309326883, 'seasonality_reg': 5.7522562334922425, 'seasonality_mode': 'multiplicative', 'yearly_seasonality': 29, 'weekly_seasonality': 2, 'n_lags': 858, 'ar_reg': 7.324034398733329, 'learning_rate': 2.8403335569977903, 'num_hidden_layers': 2, 'regularization': 0.935527420259527}. Best is trial 26 with value: 16814.0.\u001b[0m\n",
      "INFO - (NP.config.__post_init__) - Note: Trend changepoint regularization is experimental.\n",
      "INFO - (NP.config.__post_init__) - Note: Fourier-based seasonality regularization is experimental.\n",
      "INFO - (NP.forecaster.add_lagged_regressor) - n_lags = 'auto', number of lags for regressor is set to Autoregression number of lags (16)\n",
      "INFO - (NP.df_utils.return_df_in_original_format) - Returning df with no ID column\n",
      "INFO - (NP.df_utils.return_df_in_original_format) - Returning df with no ID column\n",
      "WARNING - (NP.forecaster.fit) - When Global modeling with local normalization, metrics are displayed in normalized scale.\n",
      "INFO - (NP.df_utils._infer_frequency) - Major frequency D corresponds to 99.963% of the data.\n",
      "INFO - (NP.df_utils._infer_frequency) - Defined frequency is equal to major frequency - D\n",
      "INFO - (NP.config.init_data_params) - Setting normalization to global as only one dataframe provided for training.\n",
      "INFO - (NP.config.set_auto_batch_epoch) - Auto-set batch_size to 32\n",
      "INFO - (NP.config.set_auto_batch_epoch) - Auto-set epochs to 151\n"
     ]
    },
    {
     "data": {
      "application/vnd.jupyter.widget-view+json": {
       "model_id": "02d66ec3f8764b96acb6dcdc33dbdab4",
       "version_major": 2,
       "version_minor": 0
      },
      "text/plain": [
       "Training: 0it [00:00, ?it/s]"
      ]
     },
     "metadata": {},
     "output_type": "display_data"
    },
    {
     "name": "stderr",
     "output_type": "stream",
     "text": [
      "INFO - (NP.df_utils._infer_frequency) - Major frequency D corresponds to 99.963% of the data.\n",
      "INFO - (NP.df_utils._infer_frequency) - Defined frequency is equal to major frequency - D\n",
      "INFO - (NP.df_utils.return_df_in_original_format) - Returning df with no ID column\n",
      "INFO - (NP.df_utils._infer_frequency) - Major frequency D corresponds to 99.738% of the data.\n",
      "INFO - (NP.df_utils._infer_frequency) - Defined frequency is equal to major frequency - D\n",
      "INFO - (NP.df_utils._infer_frequency) - Major frequency D corresponds to 99.738% of the data.\n",
      "INFO - (NP.df_utils._infer_frequency) - Defined frequency is equal to major frequency - D\n"
     ]
    },
    {
     "data": {
      "application/vnd.jupyter.widget-view+json": {
       "model_id": "8595adf6f278482aa8d91e74e9411e6b",
       "version_major": 2,
       "version_minor": 0
      },
      "text/plain": [
       "Predicting: 74it [00:00, ?it/s]"
      ]
     },
     "metadata": {},
     "output_type": "display_data"
    },
    {
     "name": "stderr",
     "output_type": "stream",
     "text": [
      "INFO - (NP.df_utils.return_df_in_original_format) - Returning df with no ID column\n",
      "\u001b[32m[I 2023-03-02 11:37:33,822]\u001b[0m Trial 59 finished with value: 18516.0 and parameters: {'trend_reg': 6.107817326212357, 'seasonality_reg': 2.894324657465509, 'seasonality_mode': 'multiplicative', 'yearly_seasonality': 19, 'weekly_seasonality': 12, 'n_lags': 16, 'ar_reg': 0.17604707314242596, 'learning_rate': 4.997259091632366, 'num_hidden_layers': 1, 'regularization': 0.25673379610224345}. Best is trial 26 with value: 16814.0.\u001b[0m\n",
      "INFO - (NP.config.__post_init__) - Note: Trend changepoint regularization is experimental.\n",
      "INFO - (NP.config.__post_init__) - Note: Fourier-based seasonality regularization is experimental.\n",
      "INFO - (NP.forecaster.add_lagged_regressor) - n_lags = 'auto', number of lags for regressor is set to Autoregression number of lags (238)\n",
      "INFO - (NP.df_utils.return_df_in_original_format) - Returning df with no ID column\n",
      "INFO - (NP.df_utils.return_df_in_original_format) - Returning df with no ID column\n",
      "WARNING - (NP.forecaster.fit) - When Global modeling with local normalization, metrics are displayed in normalized scale.\n",
      "INFO - (NP.df_utils._infer_frequency) - Major frequency D corresponds to 99.963% of the data.\n",
      "INFO - (NP.df_utils._infer_frequency) - Defined frequency is equal to major frequency - D\n",
      "INFO - (NP.config.init_data_params) - Setting normalization to global as only one dataframe provided for training.\n",
      "INFO - (NP.config.set_auto_batch_epoch) - Auto-set batch_size to 32\n",
      "INFO - (NP.config.set_auto_batch_epoch) - Auto-set epochs to 155\n"
     ]
    },
    {
     "data": {
      "application/vnd.jupyter.widget-view+json": {
       "model_id": "2947eaec11e74cbf93d8efc559bf03c1",
       "version_major": 2,
       "version_minor": 0
      },
      "text/plain": [
       "Training: 0it [00:00, ?it/s]"
      ]
     },
     "metadata": {},
     "output_type": "display_data"
    },
    {
     "name": "stderr",
     "output_type": "stream",
     "text": [
      "INFO - (NP.df_utils._infer_frequency) - Major frequency D corresponds to 99.963% of the data.\n",
      "INFO - (NP.df_utils._infer_frequency) - Defined frequency is equal to major frequency - D\n",
      "INFO - (NP.df_utils.return_df_in_original_format) - Returning df with no ID column\n",
      "INFO - (NP.df_utils._infer_frequency) - Major frequency D corresponds to 99.834% of the data.\n",
      "INFO - (NP.df_utils._infer_frequency) - Defined frequency is equal to major frequency - D\n",
      "INFO - (NP.df_utils._infer_frequency) - Major frequency D corresponds to 99.834% of the data.\n",
      "INFO - (NP.df_utils._infer_frequency) - Defined frequency is equal to major frequency - D\n"
     ]
    },
    {
     "data": {
      "application/vnd.jupyter.widget-view+json": {
       "model_id": "f18acc7ef2714251bd18ca45de44925a",
       "version_major": 2,
       "version_minor": 0
      },
      "text/plain": [
       "Predicting: 67it [00:00, ?it/s]"
      ]
     },
     "metadata": {},
     "output_type": "display_data"
    },
    {
     "name": "stderr",
     "output_type": "stream",
     "text": [
      "INFO - (NP.df_utils.return_df_in_original_format) - Returning df with no ID column\n",
      "\u001b[32m[I 2023-03-02 11:40:33,897]\u001b[0m Trial 60 finished with value: 285859.0 and parameters: {'trend_reg': 6.655019031118503, 'seasonality_reg': 4.195695604387753, 'seasonality_mode': 'additive', 'yearly_seasonality': 22, 'weekly_seasonality': 16, 'n_lags': 238, 'ar_reg': 8.198493815644003, 'learning_rate': 3.407326739631205, 'num_hidden_layers': 1, 'regularization': 0.21156506772369965}. Best is trial 26 with value: 16814.0.\u001b[0m\n",
      "INFO - (NP.config.__post_init__) - Note: Trend changepoint regularization is experimental.\n",
      "INFO - (NP.config.__post_init__) - Note: Fourier-based seasonality regularization is experimental.\n",
      "INFO - (NP.forecaster.add_lagged_regressor) - n_lags = 'auto', number of lags for regressor is set to Autoregression number of lags (141)\n",
      "INFO - (NP.df_utils.return_df_in_original_format) - Returning df with no ID column\n",
      "INFO - (NP.df_utils.return_df_in_original_format) - Returning df with no ID column\n",
      "WARNING - (NP.forecaster.fit) - When Global modeling with local normalization, metrics are displayed in normalized scale.\n",
      "INFO - (NP.df_utils._infer_frequency) - Major frequency D corresponds to 99.963% of the data.\n",
      "INFO - (NP.df_utils._infer_frequency) - Defined frequency is equal to major frequency - D\n",
      "INFO - (NP.config.init_data_params) - Setting normalization to global as only one dataframe provided for training.\n",
      "INFO - (NP.config.set_auto_batch_epoch) - Auto-set batch_size to 32\n",
      "INFO - (NP.config.set_auto_batch_epoch) - Auto-set epochs to 153\n"
     ]
    },
    {
     "data": {
      "application/vnd.jupyter.widget-view+json": {
       "model_id": "bfdd7a21499e4a6bb4b50d7d9aed16e0",
       "version_major": 2,
       "version_minor": 0
      },
      "text/plain": [
       "Training: 0it [00:00, ?it/s]"
      ]
     },
     "metadata": {},
     "output_type": "display_data"
    },
    {
     "name": "stderr",
     "output_type": "stream",
     "text": [
      "INFO - (NP.df_utils._infer_frequency) - Major frequency D corresponds to 99.963% of the data.\n",
      "INFO - (NP.df_utils._infer_frequency) - Defined frequency is equal to major frequency - D\n",
      "INFO - (NP.df_utils.return_df_in_original_format) - Returning df with no ID column\n",
      "INFO - (NP.df_utils._infer_frequency) - Major frequency D corresponds to 99.802% of the data.\n",
      "INFO - (NP.df_utils._infer_frequency) - Defined frequency is equal to major frequency - D\n",
      "INFO - (NP.df_utils._infer_frequency) - Major frequency D corresponds to 99.802% of the data.\n",
      "INFO - (NP.df_utils._infer_frequency) - Defined frequency is equal to major frequency - D\n"
     ]
    },
    {
     "data": {
      "application/vnd.jupyter.widget-view+json": {
       "model_id": "3be82d7aef6e46b0b1ad0906c8139412",
       "version_major": 2,
       "version_minor": 0
      },
      "text/plain": [
       "Predicting: 70it [00:00, ?it/s]"
      ]
     },
     "metadata": {},
     "output_type": "display_data"
    },
    {
     "name": "stderr",
     "output_type": "stream",
     "text": [
      "INFO - (NP.df_utils.return_df_in_original_format) - Returning df with no ID column\n",
      "\u001b[32m[I 2023-03-02 11:42:46,430]\u001b[0m Trial 61 finished with value: 18207.0 and parameters: {'trend_reg': 8.237222384190694, 'seasonality_reg': 5.027077713603868, 'seasonality_mode': 'additive', 'yearly_seasonality': 19, 'weekly_seasonality': 12, 'n_lags': 141, 'ar_reg': 8.551376447680987, 'learning_rate': 4.401857553564157, 'num_hidden_layers': 0, 'regularization': 0.5073951894243205}. Best is trial 26 with value: 16814.0.\u001b[0m\n",
      "INFO - (NP.config.__post_init__) - Note: Trend changepoint regularization is experimental.\n",
      "INFO - (NP.config.__post_init__) - Note: Fourier-based seasonality regularization is experimental.\n",
      "INFO - (NP.forecaster.add_lagged_regressor) - n_lags = 'auto', number of lags for regressor is set to Autoregression number of lags (106)\n",
      "INFO - (NP.df_utils.return_df_in_original_format) - Returning df with no ID column\n",
      "INFO - (NP.df_utils.return_df_in_original_format) - Returning df with no ID column\n",
      "WARNING - (NP.forecaster.fit) - When Global modeling with local normalization, metrics are displayed in normalized scale.\n",
      "INFO - (NP.df_utils._infer_frequency) - Major frequency D corresponds to 99.963% of the data.\n",
      "INFO - (NP.df_utils._infer_frequency) - Defined frequency is equal to major frequency - D\n",
      "INFO - (NP.config.init_data_params) - Setting normalization to global as only one dataframe provided for training.\n",
      "INFO - (NP.config.set_auto_batch_epoch) - Auto-set batch_size to 32\n",
      "INFO - (NP.config.set_auto_batch_epoch) - Auto-set epochs to 152\n"
     ]
    },
    {
     "data": {
      "application/vnd.jupyter.widget-view+json": {
       "model_id": "383a7389b79e4f00afe2db25fba3d78d",
       "version_major": 2,
       "version_minor": 0
      },
      "text/plain": [
       "Training: 0it [00:00, ?it/s]"
      ]
     },
     "metadata": {},
     "output_type": "display_data"
    },
    {
     "name": "stderr",
     "output_type": "stream",
     "text": [
      "INFO - (NP.df_utils._infer_frequency) - Major frequency D corresponds to 99.963% of the data.\n",
      "INFO - (NP.df_utils._infer_frequency) - Defined frequency is equal to major frequency - D\n",
      "INFO - (NP.df_utils.return_df_in_original_format) - Returning df with no ID column\n",
      "INFO - (NP.df_utils._infer_frequency) - Major frequency D corresponds to 99.788% of the data.\n",
      "INFO - (NP.df_utils._infer_frequency) - Defined frequency is equal to major frequency - D\n",
      "INFO - (NP.df_utils._infer_frequency) - Major frequency D corresponds to 99.788% of the data.\n",
      "INFO - (NP.df_utils._infer_frequency) - Defined frequency is equal to major frequency - D\n"
     ]
    },
    {
     "data": {
      "application/vnd.jupyter.widget-view+json": {
       "model_id": "2c76c4cc625f420885ddd4c133a9621c",
       "version_major": 2,
       "version_minor": 0
      },
      "text/plain": [
       "Predicting: 71it [00:00, ?it/s]"
      ]
     },
     "metadata": {},
     "output_type": "display_data"
    },
    {
     "name": "stderr",
     "output_type": "stream",
     "text": [
      "INFO - (NP.df_utils.return_df_in_original_format) - Returning df with no ID column\n",
      "\u001b[32m[I 2023-03-02 11:44:57,152]\u001b[0m Trial 62 finished with value: 17751.0 and parameters: {'trend_reg': 7.132437356237926, 'seasonality_reg': 4.7832592242214504, 'seasonality_mode': 'additive', 'yearly_seasonality': 25, 'weekly_seasonality': 11, 'n_lags': 106, 'ar_reg': 9.65430364684137, 'learning_rate': 4.666667601168619, 'num_hidden_layers': 0, 'regularization': 0.36068639732846874}. Best is trial 26 with value: 16814.0.\u001b[0m\n",
      "INFO - (NP.config.__post_init__) - Note: Trend changepoint regularization is experimental.\n",
      "INFO - (NP.config.__post_init__) - Note: Fourier-based seasonality regularization is experimental.\n",
      "INFO - (NP.forecaster.add_lagged_regressor) - n_lags = 'auto', number of lags for regressor is set to Autoregression number of lags (53)\n",
      "INFO - (NP.df_utils.return_df_in_original_format) - Returning df with no ID column\n",
      "INFO - (NP.df_utils.return_df_in_original_format) - Returning df with no ID column\n",
      "WARNING - (NP.forecaster.fit) - When Global modeling with local normalization, metrics are displayed in normalized scale.\n",
      "INFO - (NP.df_utils._infer_frequency) - Major frequency D corresponds to 99.963% of the data.\n",
      "INFO - (NP.df_utils._infer_frequency) - Defined frequency is equal to major frequency - D\n",
      "INFO - (NP.config.init_data_params) - Setting normalization to global as only one dataframe provided for training.\n",
      "INFO - (NP.config.set_auto_batch_epoch) - Auto-set batch_size to 32\n",
      "INFO - (NP.config.set_auto_batch_epoch) - Auto-set epochs to 151\n"
     ]
    },
    {
     "data": {
      "application/vnd.jupyter.widget-view+json": {
       "model_id": "a8c1717e52c44134b398e90fc767a78d",
       "version_major": 2,
       "version_minor": 0
      },
      "text/plain": [
       "Training: 0it [00:00, ?it/s]"
      ]
     },
     "metadata": {},
     "output_type": "display_data"
    },
    {
     "name": "stderr",
     "output_type": "stream",
     "text": [
      "INFO - (NP.df_utils._infer_frequency) - Major frequency D corresponds to 99.963% of the data.\n",
      "INFO - (NP.df_utils._infer_frequency) - Defined frequency is equal to major frequency - D\n",
      "INFO - (NP.df_utils.return_df_in_original_format) - Returning df with no ID column\n",
      "INFO - (NP.df_utils._infer_frequency) - Major frequency D corresponds to 99.761% of the data.\n",
      "INFO - (NP.df_utils._infer_frequency) - Defined frequency is equal to major frequency - D\n",
      "INFO - (NP.df_utils._infer_frequency) - Major frequency D corresponds to 99.761% of the data.\n",
      "INFO - (NP.df_utils._infer_frequency) - Defined frequency is equal to major frequency - D\n"
     ]
    },
    {
     "data": {
      "application/vnd.jupyter.widget-view+json": {
       "model_id": "28bf97ca15a04a2f9b1eee8a62c8eb2a",
       "version_major": 2,
       "version_minor": 0
      },
      "text/plain": [
       "Predicting: 73it [00:00, ?it/s]"
      ]
     },
     "metadata": {},
     "output_type": "display_data"
    },
    {
     "name": "stderr",
     "output_type": "stream",
     "text": [
      "INFO - (NP.df_utils.return_df_in_original_format) - Returning df with no ID column\n",
      "\u001b[32m[I 2023-03-02 11:47:12,084]\u001b[0m Trial 63 finished with value: 17463.0 and parameters: {'trend_reg': 8.73045549033622, 'seasonality_reg': 5.221489274752061, 'seasonality_mode': 'additive', 'yearly_seasonality': 21, 'weekly_seasonality': 13, 'n_lags': 53, 'ar_reg': 9.022999267054134, 'learning_rate': 4.514465320181331, 'num_hidden_layers': 0, 'regularization': 0.4447817682852099}. Best is trial 26 with value: 16814.0.\u001b[0m\n",
      "INFO - (NP.config.__post_init__) - Note: Trend changepoint regularization is experimental.\n",
      "INFO - (NP.config.__post_init__) - Note: Fourier-based seasonality regularization is experimental.\n",
      "INFO - (NP.forecaster.add_lagged_regressor) - n_lags = 'auto', number of lags for regressor is set to Autoregression number of lags (60)\n",
      "INFO - (NP.df_utils.return_df_in_original_format) - Returning df with no ID column\n",
      "INFO - (NP.df_utils.return_df_in_original_format) - Returning df with no ID column\n",
      "WARNING - (NP.forecaster.fit) - When Global modeling with local normalization, metrics are displayed in normalized scale.\n",
      "INFO - (NP.df_utils._infer_frequency) - Major frequency D corresponds to 99.963% of the data.\n",
      "INFO - (NP.df_utils._infer_frequency) - Defined frequency is equal to major frequency - D\n",
      "INFO - (NP.config.init_data_params) - Setting normalization to global as only one dataframe provided for training.\n",
      "INFO - (NP.config.set_auto_batch_epoch) - Auto-set batch_size to 32\n",
      "INFO - (NP.config.set_auto_batch_epoch) - Auto-set epochs to 151\n"
     ]
    },
    {
     "data": {
      "application/vnd.jupyter.widget-view+json": {
       "model_id": "98384f4adb61499ea8942923f51843e1",
       "version_major": 2,
       "version_minor": 0
      },
      "text/plain": [
       "Training: 0it [00:00, ?it/s]"
      ]
     },
     "metadata": {},
     "output_type": "display_data"
    },
    {
     "name": "stderr",
     "output_type": "stream",
     "text": [
      "INFO - (NP.df_utils._infer_frequency) - Major frequency D corresponds to 99.963% of the data.\n",
      "INFO - (NP.df_utils._infer_frequency) - Defined frequency is equal to major frequency - D\n",
      "INFO - (NP.df_utils.return_df_in_original_format) - Returning df with no ID column\n",
      "INFO - (NP.df_utils._infer_frequency) - Major frequency D corresponds to 99.765% of the data.\n",
      "INFO - (NP.df_utils._infer_frequency) - Defined frequency is equal to major frequency - D\n",
      "INFO - (NP.df_utils._infer_frequency) - Major frequency D corresponds to 99.765% of the data.\n",
      "INFO - (NP.df_utils._infer_frequency) - Defined frequency is equal to major frequency - D\n"
     ]
    },
    {
     "data": {
      "application/vnd.jupyter.widget-view+json": {
       "model_id": "059c836080d2444381010a8a031fef2b",
       "version_major": 2,
       "version_minor": 0
      },
      "text/plain": [
       "Predicting: 73it [00:00, ?it/s]"
      ]
     },
     "metadata": {},
     "output_type": "display_data"
    },
    {
     "name": "stderr",
     "output_type": "stream",
     "text": [
      "INFO - (NP.df_utils.return_df_in_original_format) - Returning df with no ID column\n",
      "\u001b[32m[I 2023-03-02 11:49:34,215]\u001b[0m Trial 64 finished with value: 17721.0 and parameters: {'trend_reg': 8.701193372153723, 'seasonality_reg': 6.628506423372642, 'seasonality_mode': 'additive', 'yearly_seasonality': 26, 'weekly_seasonality': 13, 'n_lags': 60, 'ar_reg': 9.114907769983713, 'learning_rate': 4.844726242349793, 'num_hidden_layers': 0, 'regularization': 0.43258088050195953}. Best is trial 26 with value: 16814.0.\u001b[0m\n",
      "INFO - (NP.config.__post_init__) - Note: Trend changepoint regularization is experimental.\n",
      "INFO - (NP.config.__post_init__) - Note: Fourier-based seasonality regularization is experimental.\n",
      "INFO - (NP.forecaster.add_lagged_regressor) - n_lags = 'auto', number of lags for regressor is set to Autoregression number of lags (2)\n",
      "INFO - (NP.df_utils.return_df_in_original_format) - Returning df with no ID column\n",
      "INFO - (NP.df_utils.return_df_in_original_format) - Returning df with no ID column\n",
      "WARNING - (NP.forecaster.fit) - When Global modeling with local normalization, metrics are displayed in normalized scale.\n",
      "INFO - (NP.df_utils._infer_frequency) - Major frequency D corresponds to 99.963% of the data.\n",
      "INFO - (NP.df_utils._infer_frequency) - Defined frequency is equal to major frequency - D\n",
      "INFO - (NP.config.init_data_params) - Setting normalization to global as only one dataframe provided for training.\n",
      "INFO - (NP.config.set_auto_batch_epoch) - Auto-set batch_size to 32\n",
      "INFO - (NP.config.set_auto_batch_epoch) - Auto-set epochs to 150\n"
     ]
    },
    {
     "data": {
      "application/vnd.jupyter.widget-view+json": {
       "model_id": "220a5ee2862c4c1988684bba080dcba1",
       "version_major": 2,
       "version_minor": 0
      },
      "text/plain": [
       "Training: 0it [00:00, ?it/s]"
      ]
     },
     "metadata": {},
     "output_type": "display_data"
    },
    {
     "name": "stderr",
     "output_type": "stream",
     "text": [
      "INFO - (NP.df_utils._infer_frequency) - Major frequency D corresponds to 99.963% of the data.\n",
      "INFO - (NP.df_utils._infer_frequency) - Defined frequency is equal to major frequency - D\n",
      "INFO - (NP.df_utils.return_df_in_original_format) - Returning df with no ID column\n",
      "INFO - (NP.df_utils._infer_frequency) - Major frequency D corresponds to 99.728% of the data.\n",
      "INFO - (NP.df_utils._infer_frequency) - Defined frequency is equal to major frequency - D\n",
      "INFO - (NP.df_utils._infer_frequency) - Major frequency D corresponds to 99.728% of the data.\n",
      "INFO - (NP.df_utils._infer_frequency) - Defined frequency is equal to major frequency - D\n"
     ]
    },
    {
     "data": {
      "application/vnd.jupyter.widget-view+json": {
       "model_id": "cbf69b855b1949059cf107b0b2075a23",
       "version_major": 2,
       "version_minor": 0
      },
      "text/plain": [
       "Predicting: 75it [00:00, ?it/s]"
      ]
     },
     "metadata": {},
     "output_type": "display_data"
    },
    {
     "name": "stderr",
     "output_type": "stream",
     "text": [
      "INFO - (NP.df_utils.return_df_in_original_format) - Returning df with no ID column\n",
      "\u001b[32m[I 2023-03-02 11:51:49,760]\u001b[0m Trial 65 finished with value: 17664.0 and parameters: {'trend_reg': 7.813589737085399, 'seasonality_reg': 7.480509206000781, 'seasonality_mode': 'multiplicative', 'yearly_seasonality': 21, 'weekly_seasonality': 15, 'n_lags': 2, 'ar_reg': 8.922887835312036, 'learning_rate': 3.9767628035260283, 'num_hidden_layers': 0, 'regularization': 0.39915511458122294}. Best is trial 26 with value: 16814.0.\u001b[0m\n",
      "INFO - (NP.config.__post_init__) - Note: Trend changepoint regularization is experimental.\n",
      "INFO - (NP.config.__post_init__) - Note: Fourier-based seasonality regularization is experimental.\n",
      "INFO - (NP.forecaster.add_lagged_regressor) - n_lags = 'auto', number of lags for regressor is set to Autoregression number of lags (258)\n",
      "INFO - (NP.df_utils.return_df_in_original_format) - Returning df with no ID column\n",
      "INFO - (NP.df_utils.return_df_in_original_format) - Returning df with no ID column\n",
      "WARNING - (NP.forecaster.fit) - When Global modeling with local normalization, metrics are displayed in normalized scale.\n",
      "INFO - (NP.df_utils._infer_frequency) - Major frequency D corresponds to 99.963% of the data.\n",
      "INFO - (NP.df_utils._infer_frequency) - Defined frequency is equal to major frequency - D\n",
      "INFO - (NP.config.init_data_params) - Setting normalization to global as only one dataframe provided for training.\n",
      "INFO - (NP.config.set_auto_batch_epoch) - Auto-set batch_size to 32\n",
      "INFO - (NP.config.set_auto_batch_epoch) - Auto-set epochs to 155\n"
     ]
    },
    {
     "data": {
      "application/vnd.jupyter.widget-view+json": {
       "model_id": "1034ec58ef32406385f3a9cb0dfd16d0",
       "version_major": 2,
       "version_minor": 0
      },
      "text/plain": [
       "Training: 0it [00:00, ?it/s]"
      ]
     },
     "metadata": {},
     "output_type": "display_data"
    },
    {
     "name": "stderr",
     "output_type": "stream",
     "text": [
      "INFO - (NP.df_utils._infer_frequency) - Major frequency D corresponds to 99.963% of the data.\n",
      "INFO - (NP.df_utils._infer_frequency) - Defined frequency is equal to major frequency - D\n",
      "INFO - (NP.df_utils.return_df_in_original_format) - Returning df with no ID column\n",
      "INFO - (NP.df_utils._infer_frequency) - Major frequency D corresponds to 99.839% of the data.\n",
      "INFO - (NP.df_utils._infer_frequency) - Defined frequency is equal to major frequency - D\n",
      "INFO - (NP.df_utils._infer_frequency) - Major frequency D corresponds to 99.839% of the data.\n",
      "INFO - (NP.df_utils._infer_frequency) - Defined frequency is equal to major frequency - D\n"
     ]
    },
    {
     "data": {
      "application/vnd.jupyter.widget-view+json": {
       "model_id": "fa5d847ed67849dfb6727d720944ed99",
       "version_major": 2,
       "version_minor": 0
      },
      "text/plain": [
       "Predicting: 67it [00:00, ?it/s]"
      ]
     },
     "metadata": {},
     "output_type": "display_data"
    },
    {
     "name": "stderr",
     "output_type": "stream",
     "text": [
      "INFO - (NP.df_utils.return_df_in_original_format) - Returning df with no ID column\n",
      "\u001b[32m[I 2023-03-02 11:53:57,124]\u001b[0m Trial 66 finished with value: 125760.0 and parameters: {'trend_reg': 9.420439736402553, 'seasonality_reg': 5.853492216530705, 'seasonality_mode': 'additive', 'yearly_seasonality': 23, 'weekly_seasonality': 10, 'n_lags': 258, 'ar_reg': 9.60767155879357, 'learning_rate': 4.563943609639753, 'num_hidden_layers': 0, 'regularization': 0.6426490241404405}. Best is trial 26 with value: 16814.0.\u001b[0m\n",
      "INFO - (NP.config.__post_init__) - Note: Trend changepoint regularization is experimental.\n",
      "INFO - (NP.config.__post_init__) - Note: Fourier-based seasonality regularization is experimental.\n",
      "INFO - (NP.forecaster.add_lagged_regressor) - n_lags = 'auto', number of lags for regressor is set to Autoregression number of lags (39)\n",
      "INFO - (NP.df_utils.return_df_in_original_format) - Returning df with no ID column\n",
      "INFO - (NP.df_utils.return_df_in_original_format) - Returning df with no ID column\n",
      "WARNING - (NP.forecaster.fit) - When Global modeling with local normalization, metrics are displayed in normalized scale.\n",
      "INFO - (NP.df_utils._infer_frequency) - Major frequency D corresponds to 99.963% of the data.\n",
      "INFO - (NP.df_utils._infer_frequency) - Defined frequency is equal to major frequency - D\n",
      "INFO - (NP.config.init_data_params) - Setting normalization to global as only one dataframe provided for training.\n",
      "INFO - (NP.config.set_auto_batch_epoch) - Auto-set batch_size to 32\n",
      "INFO - (NP.config.set_auto_batch_epoch) - Auto-set epochs to 151\n"
     ]
    },
    {
     "data": {
      "application/vnd.jupyter.widget-view+json": {
       "model_id": "39720d891431489495471a53005d8be7",
       "version_major": 2,
       "version_minor": 0
      },
      "text/plain": [
       "Training: 0it [00:00, ?it/s]"
      ]
     },
     "metadata": {},
     "output_type": "display_data"
    },
    {
     "name": "stderr",
     "output_type": "stream",
     "text": [
      "INFO - (NP.df_utils._infer_frequency) - Major frequency D corresponds to 99.963% of the data.\n",
      "INFO - (NP.df_utils._infer_frequency) - Defined frequency is equal to major frequency - D\n",
      "INFO - (NP.df_utils.return_df_in_original_format) - Returning df with no ID column\n",
      "INFO - (NP.df_utils._infer_frequency) - Major frequency D corresponds to 99.752% of the data.\n",
      "INFO - (NP.df_utils._infer_frequency) - Defined frequency is equal to major frequency - D\n",
      "INFO - (NP.df_utils._infer_frequency) - Major frequency D corresponds to 99.752% of the data.\n",
      "INFO - (NP.df_utils._infer_frequency) - Defined frequency is equal to major frequency - D\n"
     ]
    },
    {
     "data": {
      "application/vnd.jupyter.widget-view+json": {
       "model_id": "8bb18a70eab54daabb0162d23471aad7",
       "version_major": 2,
       "version_minor": 0
      },
      "text/plain": [
       "Predicting: 73it [00:00, ?it/s]"
      ]
     },
     "metadata": {},
     "output_type": "display_data"
    },
    {
     "name": "stderr",
     "output_type": "stream",
     "text": [
      "INFO - (NP.df_utils.return_df_in_original_format) - Returning df with no ID column\n",
      "\u001b[32m[I 2023-03-02 11:55:58,519]\u001b[0m Trial 67 finished with value: 17076.0 and parameters: {'trend_reg': 8.536206824650916, 'seasonality_reg': 5.289268129695072, 'seasonality_mode': 'multiplicative', 'yearly_seasonality': 24, 'weekly_seasonality': 7, 'n_lags': 39, 'ar_reg': 8.68044271489894, 'learning_rate': 4.6854174774334085, 'num_hidden_layers': 0, 'regularization': 0.6040210364274982}. Best is trial 26 with value: 16814.0.\u001b[0m\n",
      "INFO - (NP.config.__post_init__) - Note: Trend changepoint regularization is experimental.\n",
      "INFO - (NP.config.__post_init__) - Note: Fourier-based seasonality regularization is experimental.\n",
      "INFO - (NP.forecaster.add_lagged_regressor) - n_lags = 'auto', number of lags for regressor is set to Autoregression number of lags (39)\n",
      "INFO - (NP.df_utils.return_df_in_original_format) - Returning df with no ID column\n",
      "INFO - (NP.df_utils.return_df_in_original_format) - Returning df with no ID column\n",
      "WARNING - (NP.forecaster.fit) - When Global modeling with local normalization, metrics are displayed in normalized scale.\n",
      "INFO - (NP.df_utils._infer_frequency) - Major frequency D corresponds to 99.963% of the data.\n",
      "INFO - (NP.df_utils._infer_frequency) - Defined frequency is equal to major frequency - D\n",
      "INFO - (NP.config.init_data_params) - Setting normalization to global as only one dataframe provided for training.\n",
      "INFO - (NP.config.set_auto_batch_epoch) - Auto-set batch_size to 32\n",
      "INFO - (NP.config.set_auto_batch_epoch) - Auto-set epochs to 151\n"
     ]
    },
    {
     "data": {
      "application/vnd.jupyter.widget-view+json": {
       "model_id": "10b19bf12b1f478ebb52065cf7bfe96e",
       "version_major": 2,
       "version_minor": 0
      },
      "text/plain": [
       "Training: 0it [00:00, ?it/s]"
      ]
     },
     "metadata": {},
     "output_type": "display_data"
    },
    {
     "name": "stderr",
     "output_type": "stream",
     "text": [
      "INFO - (NP.df_utils._infer_frequency) - Major frequency D corresponds to 99.963% of the data.\n",
      "INFO - (NP.df_utils._infer_frequency) - Defined frequency is equal to major frequency - D\n",
      "INFO - (NP.df_utils.return_df_in_original_format) - Returning df with no ID column\n",
      "INFO - (NP.df_utils._infer_frequency) - Major frequency D corresponds to 99.752% of the data.\n",
      "INFO - (NP.df_utils._infer_frequency) - Defined frequency is equal to major frequency - D\n",
      "INFO - (NP.df_utils._infer_frequency) - Major frequency D corresponds to 99.752% of the data.\n",
      "INFO - (NP.df_utils._infer_frequency) - Defined frequency is equal to major frequency - D\n"
     ]
    },
    {
     "data": {
      "application/vnd.jupyter.widget-view+json": {
       "model_id": "10f35e5832f34ba999f5fa560efc60b0",
       "version_major": 2,
       "version_minor": 0
      },
      "text/plain": [
       "Predicting: 73it [00:00, ?it/s]"
      ]
     },
     "metadata": {},
     "output_type": "display_data"
    },
    {
     "name": "stderr",
     "output_type": "stream",
     "text": [
      "INFO - (NP.df_utils.return_df_in_original_format) - Returning df with no ID column\n",
      "\u001b[32m[I 2023-03-02 11:58:01,170]\u001b[0m Trial 68 finished with value: 17007.0 and parameters: {'trend_reg': 9.206228568317623, 'seasonality_reg': 5.263976470897191, 'seasonality_mode': 'multiplicative', 'yearly_seasonality': 24, 'weekly_seasonality': 7, 'n_lags': 39, 'ar_reg': 9.40849615141087, 'learning_rate': 4.700173346882112, 'num_hidden_layers': 0, 'regularization': 0.5733000843179155}. Best is trial 26 with value: 16814.0.\u001b[0m\n",
      "INFO - (NP.config.__post_init__) - Note: Trend changepoint regularization is experimental.\n",
      "INFO - (NP.config.__post_init__) - Note: Fourier-based seasonality regularization is experimental.\n",
      "INFO - (NP.forecaster.add_lagged_regressor) - n_lags = 'auto', number of lags for regressor is set to Autoregression number of lags (35)\n",
      "INFO - (NP.df_utils.return_df_in_original_format) - Returning df with no ID column\n",
      "INFO - (NP.df_utils.return_df_in_original_format) - Returning df with no ID column\n",
      "WARNING - (NP.forecaster.fit) - When Global modeling with local normalization, metrics are displayed in normalized scale.\n",
      "INFO - (NP.df_utils._infer_frequency) - Major frequency D corresponds to 99.963% of the data.\n",
      "INFO - (NP.df_utils._infer_frequency) - Defined frequency is equal to major frequency - D\n",
      "INFO - (NP.config.init_data_params) - Setting normalization to global as only one dataframe provided for training.\n",
      "INFO - (NP.config.set_auto_batch_epoch) - Auto-set batch_size to 32\n",
      "INFO - (NP.config.set_auto_batch_epoch) - Auto-set epochs to 151\n"
     ]
    },
    {
     "data": {
      "application/vnd.jupyter.widget-view+json": {
       "model_id": "3ece5925a2304d0da2443eb1b0f6fe37",
       "version_major": 2,
       "version_minor": 0
      },
      "text/plain": [
       "Training: 0it [00:00, ?it/s]"
      ]
     },
     "metadata": {},
     "output_type": "display_data"
    },
    {
     "name": "stderr",
     "output_type": "stream",
     "text": [
      "INFO - (NP.df_utils._infer_frequency) - Major frequency D corresponds to 99.963% of the data.\n",
      "INFO - (NP.df_utils._infer_frequency) - Defined frequency is equal to major frequency - D\n",
      "INFO - (NP.df_utils.return_df_in_original_format) - Returning df with no ID column\n",
      "INFO - (NP.df_utils._infer_frequency) - Major frequency D corresponds to 99.75% of the data.\n",
      "INFO - (NP.df_utils._infer_frequency) - Defined frequency is equal to major frequency - D\n",
      "INFO - (NP.df_utils._infer_frequency) - Major frequency D corresponds to 99.75% of the data.\n",
      "INFO - (NP.df_utils._infer_frequency) - Defined frequency is equal to major frequency - D\n"
     ]
    },
    {
     "data": {
      "application/vnd.jupyter.widget-view+json": {
       "model_id": "b3555b358f6d4ca08baafdbcff641832",
       "version_major": 2,
       "version_minor": 0
      },
      "text/plain": [
       "Predicting: 74it [00:00, ?it/s]"
      ]
     },
     "metadata": {},
     "output_type": "display_data"
    },
    {
     "name": "stderr",
     "output_type": "stream",
     "text": [
      "INFO - (NP.df_utils.return_df_in_original_format) - Returning df with no ID column\n",
      "\u001b[32m[I 2023-03-02 12:00:30,972]\u001b[0m Trial 69 finished with value: 18339.0 and parameters: {'trend_reg': 9.801802361674495, 'seasonality_reg': 5.456516005585335, 'seasonality_mode': 'multiplicative', 'yearly_seasonality': 24, 'weekly_seasonality': 7, 'n_lags': 35, 'ar_reg': 8.135000967449722, 'learning_rate': 4.716414020889962, 'num_hidden_layers': 1, 'regularization': 0.6095958411413736}. Best is trial 26 with value: 16814.0.\u001b[0m\n",
      "INFO - (NP.config.__post_init__) - Note: Trend changepoint regularization is experimental.\n",
      "INFO - (NP.config.__post_init__) - Note: Fourier-based seasonality regularization is experimental.\n",
      "INFO - (NP.forecaster.add_lagged_regressor) - n_lags = 'auto', number of lags for regressor is set to Autoregression number of lags (153)\n",
      "INFO - (NP.df_utils.return_df_in_original_format) - Returning df with no ID column\n",
      "INFO - (NP.df_utils.return_df_in_original_format) - Returning df with no ID column\n",
      "WARNING - (NP.forecaster.fit) - When Global modeling with local normalization, metrics are displayed in normalized scale.\n",
      "INFO - (NP.df_utils._infer_frequency) - Major frequency D corresponds to 99.963% of the data.\n",
      "INFO - (NP.df_utils._infer_frequency) - Defined frequency is equal to major frequency - D\n",
      "INFO - (NP.config.init_data_params) - Setting normalization to global as only one dataframe provided for training.\n",
      "INFO - (NP.config.set_auto_batch_epoch) - Auto-set batch_size to 32\n",
      "INFO - (NP.config.set_auto_batch_epoch) - Auto-set epochs to 153\n"
     ]
    },
    {
     "data": {
      "application/vnd.jupyter.widget-view+json": {
       "model_id": "229e11588f0e4b0e88be74bc62bbb3da",
       "version_major": 2,
       "version_minor": 0
      },
      "text/plain": [
       "Training: 0it [00:00, ?it/s]"
      ]
     },
     "metadata": {},
     "output_type": "display_data"
    },
    {
     "name": "stderr",
     "output_type": "stream",
     "text": [
      "INFO - (NP.df_utils._infer_frequency) - Major frequency D corresponds to 99.963% of the data.\n",
      "INFO - (NP.df_utils._infer_frequency) - Defined frequency is equal to major frequency - D\n",
      "INFO - (NP.df_utils.return_df_in_original_format) - Returning df with no ID column\n",
      "INFO - (NP.df_utils._infer_frequency) - Major frequency D corresponds to 99.807% of the data.\n",
      "INFO - (NP.df_utils._infer_frequency) - Defined frequency is equal to major frequency - D\n",
      "INFO - (NP.df_utils._infer_frequency) - Major frequency D corresponds to 99.807% of the data.\n",
      "INFO - (NP.df_utils._infer_frequency) - Defined frequency is equal to major frequency - D\n"
     ]
    },
    {
     "data": {
      "application/vnd.jupyter.widget-view+json": {
       "model_id": "b88c7e2a7eb745b89359eb7d2e749df1",
       "version_major": 2,
       "version_minor": 0
      },
      "text/plain": [
       "Predicting: 70it [00:00, ?it/s]"
      ]
     },
     "metadata": {},
     "output_type": "display_data"
    },
    {
     "name": "stderr",
     "output_type": "stream",
     "text": [
      "INFO - (NP.df_utils.return_df_in_original_format) - Returning df with no ID column\n",
      "\u001b[32m[I 2023-03-02 12:02:41,902]\u001b[0m Trial 70 finished with value: 18901.0 and parameters: {'trend_reg': 9.181084319446146, 'seasonality_reg': 4.523727597887665, 'seasonality_mode': 'multiplicative', 'yearly_seasonality': 28, 'weekly_seasonality': 5, 'n_lags': 153, 'ar_reg': 8.775263907890796, 'learning_rate': 4.289598759055875, 'num_hidden_layers': 0, 'regularization': 0.5959926453848372}. Best is trial 26 with value: 16814.0.\u001b[0m\n",
      "INFO - (NP.config.__post_init__) - Note: Trend changepoint regularization is experimental.\n",
      "INFO - (NP.config.__post_init__) - Note: Fourier-based seasonality regularization is experimental.\n",
      "INFO - (NP.forecaster.add_lagged_regressor) - n_lags = 'auto', number of lags for regressor is set to Autoregression number of lags (44)\n",
      "INFO - (NP.df_utils.return_df_in_original_format) - Returning df with no ID column\n",
      "INFO - (NP.df_utils.return_df_in_original_format) - Returning df with no ID column\n",
      "WARNING - (NP.forecaster.fit) - When Global modeling with local normalization, metrics are displayed in normalized scale.\n",
      "INFO - (NP.df_utils._infer_frequency) - Major frequency D corresponds to 99.963% of the data.\n",
      "INFO - (NP.df_utils._infer_frequency) - Defined frequency is equal to major frequency - D\n",
      "INFO - (NP.config.init_data_params) - Setting normalization to global as only one dataframe provided for training.\n",
      "INFO - (NP.config.set_auto_batch_epoch) - Auto-set batch_size to 32\n",
      "INFO - (NP.config.set_auto_batch_epoch) - Auto-set epochs to 151\n"
     ]
    },
    {
     "data": {
      "application/vnd.jupyter.widget-view+json": {
       "model_id": "c3967acd642e461a8e683099ffab4b0d",
       "version_major": 2,
       "version_minor": 0
      },
      "text/plain": [
       "Training: 0it [00:00, ?it/s]"
      ]
     },
     "metadata": {},
     "output_type": "display_data"
    },
    {
     "name": "stderr",
     "output_type": "stream",
     "text": [
      "INFO - (NP.df_utils._infer_frequency) - Major frequency D corresponds to 99.963% of the data.\n",
      "INFO - (NP.df_utils._infer_frequency) - Defined frequency is equal to major frequency - D\n",
      "INFO - (NP.df_utils.return_df_in_original_format) - Returning df with no ID column\n",
      "INFO - (NP.df_utils._infer_frequency) - Major frequency D corresponds to 99.756% of the data.\n",
      "INFO - (NP.df_utils._infer_frequency) - Defined frequency is equal to major frequency - D\n",
      "INFO - (NP.df_utils._infer_frequency) - Major frequency D corresponds to 99.756% of the data.\n",
      "INFO - (NP.df_utils._infer_frequency) - Defined frequency is equal to major frequency - D\n"
     ]
    },
    {
     "data": {
      "application/vnd.jupyter.widget-view+json": {
       "model_id": "85bed6e06d134399af498e5b61d1a5ec",
       "version_major": 2,
       "version_minor": 0
      },
      "text/plain": [
       "Predicting: 73it [00:00, ?it/s]"
      ]
     },
     "metadata": {},
     "output_type": "display_data"
    },
    {
     "name": "stderr",
     "output_type": "stream",
     "text": [
      "INFO - (NP.df_utils.return_df_in_original_format) - Returning df with no ID column\n",
      "\u001b[32m[I 2023-03-02 13:32:00,982]\u001b[0m Trial 71 finished with value: 17055.0 and parameters: {'trend_reg': 8.594520861091175, 'seasonality_reg': 3.95585945636969, 'seasonality_mode': 'multiplicative', 'yearly_seasonality': 23, 'weekly_seasonality': 7, 'n_lags': 44, 'ar_reg': 9.342868304329707, 'learning_rate': 4.852989497235497, 'num_hidden_layers': 0, 'regularization': 0.6731717717448864}. Best is trial 26 with value: 16814.0.\u001b[0m\n",
      "INFO - (NP.config.__post_init__) - Note: Trend changepoint regularization is experimental.\n",
      "INFO - (NP.config.__post_init__) - Note: Fourier-based seasonality regularization is experimental.\n",
      "INFO - (NP.forecaster.add_lagged_regressor) - n_lags = 'auto', number of lags for regressor is set to Autoregression number of lags (1)\n",
      "INFO - (NP.df_utils.return_df_in_original_format) - Returning df with no ID column\n",
      "INFO - (NP.df_utils.return_df_in_original_format) - Returning df with no ID column\n",
      "WARNING - (NP.forecaster.fit) - When Global modeling with local normalization, metrics are displayed in normalized scale.\n",
      "INFO - (NP.df_utils._infer_frequency) - Major frequency D corresponds to 99.963% of the data.\n",
      "INFO - (NP.df_utils._infer_frequency) - Defined frequency is equal to major frequency - D\n",
      "INFO - (NP.config.init_data_params) - Setting normalization to global as only one dataframe provided for training.\n",
      "INFO - (NP.config.set_auto_batch_epoch) - Auto-set batch_size to 32\n",
      "INFO - (NP.config.set_auto_batch_epoch) - Auto-set epochs to 150\n"
     ]
    },
    {
     "data": {
      "application/vnd.jupyter.widget-view+json": {
       "model_id": "fb4eea2bc82042339601ddedb6ede2fe",
       "version_major": 2,
       "version_minor": 0
      },
      "text/plain": [
       "Training: 0it [00:00, ?it/s]"
      ]
     },
     "metadata": {},
     "output_type": "display_data"
    },
    {
     "name": "stderr",
     "output_type": "stream",
     "text": [
      "INFO - (NP.df_utils._infer_frequency) - Major frequency D corresponds to 99.963% of the data.\n",
      "INFO - (NP.df_utils._infer_frequency) - Defined frequency is equal to major frequency - D\n",
      "INFO - (NP.df_utils.return_df_in_original_format) - Returning df with no ID column\n",
      "INFO - (NP.df_utils._infer_frequency) - Major frequency D corresponds to 99.727% of the data.\n",
      "INFO - (NP.df_utils._infer_frequency) - Defined frequency is equal to major frequency - D\n",
      "INFO - (NP.df_utils._infer_frequency) - Major frequency D corresponds to 99.727% of the data.\n",
      "INFO - (NP.df_utils._infer_frequency) - Defined frequency is equal to major frequency - D\n"
     ]
    },
    {
     "data": {
      "application/vnd.jupyter.widget-view+json": {
       "model_id": "11f63f8133a946f6a92149e6570b1fa2",
       "version_major": 2,
       "version_minor": 0
      },
      "text/plain": [
       "Predicting: 75it [00:00, ?it/s]"
      ]
     },
     "metadata": {},
     "output_type": "display_data"
    },
    {
     "name": "stderr",
     "output_type": "stream",
     "text": [
      "INFO - (NP.df_utils.return_df_in_original_format) - Returning df with no ID column\n",
      "\u001b[32m[I 2023-03-02 13:34:06,901]\u001b[0m Trial 72 finished with value: 17317.0 and parameters: {'trend_reg': 8.609419478931558, 'seasonality_reg': 4.06236794549815, 'seasonality_mode': 'multiplicative', 'yearly_seasonality': 23, 'weekly_seasonality': 6, 'n_lags': 1, 'ar_reg': 9.156422405687485, 'learning_rate': 4.810106443537123, 'num_hidden_layers': 0, 'regularization': 0.5155304051023446}. Best is trial 26 with value: 16814.0.\u001b[0m\n",
      "INFO - (NP.config.__post_init__) - Note: Trend changepoint regularization is experimental.\n",
      "INFO - (NP.config.__post_init__) - Note: Fourier-based seasonality regularization is experimental.\n",
      "INFO - (NP.forecaster.add_lagged_regressor) - n_lags = 'auto', number of lags for regressor is set to Autoregression number of lags (29)\n",
      "INFO - (NP.df_utils.return_df_in_original_format) - Returning df with no ID column\n",
      "INFO - (NP.df_utils.return_df_in_original_format) - Returning df with no ID column\n",
      "WARNING - (NP.forecaster.fit) - When Global modeling with local normalization, metrics are displayed in normalized scale.\n",
      "INFO - (NP.df_utils._infer_frequency) - Major frequency D corresponds to 99.963% of the data.\n",
      "INFO - (NP.df_utils._infer_frequency) - Defined frequency is equal to major frequency - D\n",
      "INFO - (NP.config.init_data_params) - Setting normalization to global as only one dataframe provided for training.\n",
      "INFO - (NP.config.set_auto_batch_epoch) - Auto-set batch_size to 32\n",
      "INFO - (NP.config.set_auto_batch_epoch) - Auto-set epochs to 151\n"
     ]
    },
    {
     "data": {
      "application/vnd.jupyter.widget-view+json": {
       "model_id": "d3db8abb244b488ebbe1b373087dc30c",
       "version_major": 2,
       "version_minor": 0
      },
      "text/plain": [
       "Training: 0it [00:00, ?it/s]"
      ]
     },
     "metadata": {},
     "output_type": "display_data"
    },
    {
     "name": "stderr",
     "output_type": "stream",
     "text": [
      "INFO - (NP.df_utils._infer_frequency) - Major frequency D corresponds to 99.963% of the data.\n",
      "INFO - (NP.df_utils._infer_frequency) - Defined frequency is equal to major frequency - D\n",
      "INFO - (NP.df_utils.return_df_in_original_format) - Returning df with no ID column\n",
      "INFO - (NP.df_utils._infer_frequency) - Major frequency D corresponds to 99.746% of the data.\n",
      "INFO - (NP.df_utils._infer_frequency) - Defined frequency is equal to major frequency - D\n",
      "INFO - (NP.df_utils._infer_frequency) - Major frequency D corresponds to 99.746% of the data.\n",
      "INFO - (NP.df_utils._infer_frequency) - Defined frequency is equal to major frequency - D\n"
     ]
    },
    {
     "data": {
      "application/vnd.jupyter.widget-view+json": {
       "model_id": "4669296edda1408c9543b5483b264d39",
       "version_major": 2,
       "version_minor": 0
      },
      "text/plain": [
       "Predicting: 74it [00:00, ?it/s]"
      ]
     },
     "metadata": {},
     "output_type": "display_data"
    },
    {
     "name": "stderr",
     "output_type": "stream",
     "text": [
      "INFO - (NP.df_utils.return_df_in_original_format) - Returning df with no ID column\n",
      "\u001b[32m[I 2023-03-02 13:36:16,193]\u001b[0m Trial 73 finished with value: 17438.0 and parameters: {'trend_reg': 8.555998909283485, 'seasonality_reg': 3.8392446383027576, 'seasonality_mode': 'multiplicative', 'yearly_seasonality': 23, 'weekly_seasonality': 7, 'n_lags': 29, 'ar_reg': 9.376570625332336, 'learning_rate': 2.46517422934111, 'num_hidden_layers': 0, 'regularization': 0.5673188583449472}. Best is trial 26 with value: 16814.0.\u001b[0m\n",
      "INFO - (NP.config.__post_init__) - Note: Trend changepoint regularization is experimental.\n",
      "INFO - (NP.config.__post_init__) - Note: Fourier-based seasonality regularization is experimental.\n",
      "INFO - (NP.forecaster.add_lagged_regressor) - n_lags = 'auto', number of lags for regressor is set to Autoregression number of lags (2)\n",
      "INFO - (NP.df_utils.return_df_in_original_format) - Returning df with no ID column\n",
      "INFO - (NP.df_utils.return_df_in_original_format) - Returning df with no ID column\n",
      "WARNING - (NP.forecaster.fit) - When Global modeling with local normalization, metrics are displayed in normalized scale.\n",
      "INFO - (NP.df_utils._infer_frequency) - Major frequency D corresponds to 99.963% of the data.\n",
      "INFO - (NP.df_utils._infer_frequency) - Defined frequency is equal to major frequency - D\n",
      "INFO - (NP.config.init_data_params) - Setting normalization to global as only one dataframe provided for training.\n",
      "INFO - (NP.config.set_auto_batch_epoch) - Auto-set batch_size to 32\n",
      "INFO - (NP.config.set_auto_batch_epoch) - Auto-set epochs to 150\n"
     ]
    },
    {
     "data": {
      "application/vnd.jupyter.widget-view+json": {
       "model_id": "66da55a69e4640eca973017de83b9aca",
       "version_major": 2,
       "version_minor": 0
      },
      "text/plain": [
       "Training: 0it [00:00, ?it/s]"
      ]
     },
     "metadata": {},
     "output_type": "display_data"
    },
    {
     "name": "stderr",
     "output_type": "stream",
     "text": [
      "INFO - (NP.df_utils._infer_frequency) - Major frequency D corresponds to 99.963% of the data.\n",
      "INFO - (NP.df_utils._infer_frequency) - Defined frequency is equal to major frequency - D\n",
      "INFO - (NP.df_utils.return_df_in_original_format) - Returning df with no ID column\n",
      "INFO - (NP.df_utils._infer_frequency) - Major frequency D corresponds to 99.728% of the data.\n",
      "INFO - (NP.df_utils._infer_frequency) - Defined frequency is equal to major frequency - D\n",
      "INFO - (NP.df_utils._infer_frequency) - Major frequency D corresponds to 99.728% of the data.\n",
      "INFO - (NP.df_utils._infer_frequency) - Defined frequency is equal to major frequency - D\n"
     ]
    },
    {
     "data": {
      "application/vnd.jupyter.widget-view+json": {
       "model_id": "70c0ea84e01c41d98c9aa9a14e9ed087",
       "version_major": 2,
       "version_minor": 0
      },
      "text/plain": [
       "Predicting: 75it [00:00, ?it/s]"
      ]
     },
     "metadata": {},
     "output_type": "display_data"
    },
    {
     "name": "stderr",
     "output_type": "stream",
     "text": [
      "INFO - (NP.df_utils.return_df_in_original_format) - Returning df with no ID column\n",
      "\u001b[32m[I 2023-03-02 13:38:19,340]\u001b[0m Trial 74 finished with value: 17431.0 and parameters: {'trend_reg': 9.415409930518777, 'seasonality_reg': 4.0952442496809525, 'seasonality_mode': 'multiplicative', 'yearly_seasonality': 25, 'weekly_seasonality': 6, 'n_lags': 2, 'ar_reg': 9.97048922767897, 'learning_rate': 4.8250707820821175, 'num_hidden_layers': 0, 'regularization': 0.6707620360815338}. Best is trial 26 with value: 16814.0.\u001b[0m\n",
      "INFO - (NP.config.__post_init__) - Note: Trend changepoint regularization is experimental.\n",
      "INFO - (NP.config.__post_init__) - Note: Fourier-based seasonality regularization is experimental.\n",
      "INFO - (NP.forecaster.add_lagged_regressor) - n_lags = 'auto', number of lags for regressor is set to Autoregression number of lags (190)\n",
      "INFO - (NP.df_utils.return_df_in_original_format) - Returning df with no ID column\n",
      "INFO - (NP.df_utils.return_df_in_original_format) - Returning df with no ID column\n",
      "WARNING - (NP.forecaster.fit) - When Global modeling with local normalization, metrics are displayed in normalized scale.\n",
      "INFO - (NP.df_utils._infer_frequency) - Major frequency D corresponds to 99.963% of the data.\n",
      "INFO - (NP.df_utils._infer_frequency) - Defined frequency is equal to major frequency - D\n",
      "INFO - (NP.config.init_data_params) - Setting normalization to global as only one dataframe provided for training.\n",
      "INFO - (NP.config.set_auto_batch_epoch) - Auto-set batch_size to 32\n",
      "INFO - (NP.config.set_auto_batch_epoch) - Auto-set epochs to 154\n"
     ]
    },
    {
     "data": {
      "application/vnd.jupyter.widget-view+json": {
       "model_id": "51283424ebd74227882668a37243a6cb",
       "version_major": 2,
       "version_minor": 0
      },
      "text/plain": [
       "Training: 0it [00:00, ?it/s]"
      ]
     },
     "metadata": {},
     "output_type": "display_data"
    },
    {
     "name": "stderr",
     "output_type": "stream",
     "text": [
      "INFO - (NP.df_utils._infer_frequency) - Major frequency D corresponds to 99.963% of the data.\n",
      "INFO - (NP.df_utils._infer_frequency) - Defined frequency is equal to major frequency - D\n",
      "INFO - (NP.df_utils.return_df_in_original_format) - Returning df with no ID column\n",
      "INFO - (NP.df_utils._infer_frequency) - Major frequency D corresponds to 99.82% of the data.\n",
      "INFO - (NP.df_utils._infer_frequency) - Defined frequency is equal to major frequency - D\n",
      "INFO - (NP.df_utils._infer_frequency) - Major frequency D corresponds to 99.82% of the data.\n",
      "INFO - (NP.df_utils._infer_frequency) - Defined frequency is equal to major frequency - D\n"
     ]
    },
    {
     "data": {
      "application/vnd.jupyter.widget-view+json": {
       "model_id": "f683fec4b39e46b39b4c1abfa3d1150f",
       "version_major": 2,
       "version_minor": 0
      },
      "text/plain": [
       "Predicting: 69it [00:00, ?it/s]"
      ]
     },
     "metadata": {},
     "output_type": "display_data"
    },
    {
     "name": "stderr",
     "output_type": "stream",
     "text": [
      "INFO - (NP.df_utils.return_df_in_original_format) - Returning df with no ID column\n",
      "\u001b[32m[I 2023-03-02 13:40:25,656]\u001b[0m Trial 75 finished with value: 19362.0 and parameters: {'trend_reg': 8.96752868208139, 'seasonality_reg': 3.616484391072192, 'seasonality_mode': 'multiplicative', 'yearly_seasonality': 26, 'weekly_seasonality': 4, 'n_lags': 190, 'ar_reg': 7.84623017229248, 'learning_rate': 4.70086416481709, 'num_hidden_layers': 0, 'regularization': 0.5096670982540924}. Best is trial 26 with value: 16814.0.\u001b[0m\n",
      "INFO - (NP.config.__post_init__) - Note: Trend changepoint regularization is experimental.\n",
      "INFO - (NP.config.__post_init__) - Note: Fourier-based seasonality regularization is experimental.\n",
      "INFO - (NP.forecaster.add_lagged_regressor) - n_lags = 'auto', number of lags for regressor is set to Autoregression number of lags (121)\n",
      "INFO - (NP.df_utils.return_df_in_original_format) - Returning df with no ID column\n",
      "INFO - (NP.df_utils.return_df_in_original_format) - Returning df with no ID column\n",
      "WARNING - (NP.forecaster.fit) - When Global modeling with local normalization, metrics are displayed in normalized scale.\n",
      "INFO - (NP.df_utils._infer_frequency) - Major frequency D corresponds to 99.963% of the data.\n",
      "INFO - (NP.df_utils._infer_frequency) - Defined frequency is equal to major frequency - D\n",
      "INFO - (NP.config.init_data_params) - Setting normalization to global as only one dataframe provided for training.\n",
      "INFO - (NP.config.set_auto_batch_epoch) - Auto-set batch_size to 32\n",
      "INFO - (NP.config.set_auto_batch_epoch) - Auto-set epochs to 152\n"
     ]
    },
    {
     "data": {
      "application/vnd.jupyter.widget-view+json": {
       "model_id": "125c96b884bd4a768be3a73d7989dc1e",
       "version_major": 2,
       "version_minor": 0
      },
      "text/plain": [
       "Training: 0it [00:00, ?it/s]"
      ]
     },
     "metadata": {},
     "output_type": "display_data"
    },
    {
     "name": "stderr",
     "output_type": "stream",
     "text": [
      "INFO - (NP.df_utils._infer_frequency) - Major frequency D corresponds to 99.963% of the data.\n",
      "INFO - (NP.df_utils._infer_frequency) - Defined frequency is equal to major frequency - D\n",
      "INFO - (NP.df_utils.return_df_in_original_format) - Returning df with no ID column\n",
      "INFO - (NP.df_utils._infer_frequency) - Major frequency D corresponds to 99.794% of the data.\n",
      "INFO - (NP.df_utils._infer_frequency) - Defined frequency is equal to major frequency - D\n",
      "INFO - (NP.df_utils._infer_frequency) - Major frequency D corresponds to 99.794% of the data.\n",
      "INFO - (NP.df_utils._infer_frequency) - Defined frequency is equal to major frequency - D\n"
     ]
    },
    {
     "data": {
      "application/vnd.jupyter.widget-view+json": {
       "model_id": "d60f3cc1a7ce40ce9e98429b73025634",
       "version_major": 2,
       "version_minor": 0
      },
      "text/plain": [
       "Predicting: 71it [00:00, ?it/s]"
      ]
     },
     "metadata": {},
     "output_type": "display_data"
    },
    {
     "name": "stderr",
     "output_type": "stream",
     "text": [
      "INFO - (NP.df_utils.return_df_in_original_format) - Returning df with no ID column\n",
      "\u001b[32m[I 2023-03-02 13:42:30,366]\u001b[0m Trial 76 finished with value: 16775.0 and parameters: {'trend_reg': 8.490643005801378, 'seasonality_reg': 3.3999775444644396, 'seasonality_mode': 'multiplicative', 'yearly_seasonality': 24, 'weekly_seasonality': 5, 'n_lags': 121, 'ar_reg': 9.275355724952528, 'learning_rate': 4.8526177784278435, 'num_hidden_layers': 0, 'regularization': 0.7473886239309456}. Best is trial 76 with value: 16775.0.\u001b[0m\n",
      "INFO - (NP.config.__post_init__) - Note: Trend changepoint regularization is experimental.\n",
      "INFO - (NP.config.__post_init__) - Note: Fourier-based seasonality regularization is experimental.\n",
      "INFO - (NP.forecaster.add_lagged_regressor) - n_lags = 'auto', number of lags for regressor is set to Autoregression number of lags (117)\n",
      "INFO - (NP.df_utils.return_df_in_original_format) - Returning df with no ID column\n",
      "INFO - (NP.df_utils.return_df_in_original_format) - Returning df with no ID column\n",
      "WARNING - (NP.forecaster.fit) - When Global modeling with local normalization, metrics are displayed in normalized scale.\n",
      "INFO - (NP.df_utils._infer_frequency) - Major frequency D corresponds to 99.963% of the data.\n",
      "INFO - (NP.df_utils._infer_frequency) - Defined frequency is equal to major frequency - D\n",
      "INFO - (NP.config.init_data_params) - Setting normalization to global as only one dataframe provided for training.\n",
      "INFO - (NP.config.set_auto_batch_epoch) - Auto-set batch_size to 32\n",
      "INFO - (NP.config.set_auto_batch_epoch) - Auto-set epochs to 152\n"
     ]
    },
    {
     "data": {
      "application/vnd.jupyter.widget-view+json": {
       "model_id": "82a7452be5c44b69ae183d3c2b709b07",
       "version_major": 2,
       "version_minor": 0
      },
      "text/plain": [
       "Training: 0it [00:00, ?it/s]"
      ]
     },
     "metadata": {},
     "output_type": "display_data"
    },
    {
     "name": "stderr",
     "output_type": "stream",
     "text": [
      "INFO - (NP.df_utils._infer_frequency) - Major frequency D corresponds to 99.963% of the data.\n",
      "INFO - (NP.df_utils._infer_frequency) - Defined frequency is equal to major frequency - D\n",
      "INFO - (NP.df_utils.return_df_in_original_format) - Returning df with no ID column\n",
      "INFO - (NP.df_utils._infer_frequency) - Major frequency D corresponds to 99.793% of the data.\n",
      "INFO - (NP.df_utils._infer_frequency) - Defined frequency is equal to major frequency - D\n",
      "INFO - (NP.df_utils._infer_frequency) - Major frequency D corresponds to 99.793% of the data.\n",
      "INFO - (NP.df_utils._infer_frequency) - Defined frequency is equal to major frequency - D\n"
     ]
    },
    {
     "data": {
      "application/vnd.jupyter.widget-view+json": {
       "model_id": "c8677d6765674ab78886127a3132a2d2",
       "version_major": 2,
       "version_minor": 0
      },
      "text/plain": [
       "Predicting: 71it [00:00, ?it/s]"
      ]
     },
     "metadata": {},
     "output_type": "display_data"
    },
    {
     "name": "stderr",
     "output_type": "stream",
     "text": [
      "INFO - (NP.df_utils.return_df_in_original_format) - Returning df with no ID column\n",
      "\u001b[32m[I 2023-03-02 13:44:35,092]\u001b[0m Trial 77 finished with value: 16102.0 and parameters: {'trend_reg': 9.977200269401415, 'seasonality_reg': 3.3329998332677184, 'seasonality_mode': 'multiplicative', 'yearly_seasonality': 24, 'weekly_seasonality': 5, 'n_lags': 117, 'ar_reg': 9.392653962655466, 'learning_rate': 0.9014617232930384, 'num_hidden_layers': 0, 'regularization': 0.7592396072858911}. Best is trial 77 with value: 16102.0.\u001b[0m\n",
      "INFO - (NP.config.__post_init__) - Note: Trend changepoint regularization is experimental.\n",
      "INFO - (NP.config.__post_init__) - Note: Fourier-based seasonality regularization is experimental.\n",
      "INFO - (NP.forecaster.add_lagged_regressor) - n_lags = 'auto', number of lags for regressor is set to Autoregression number of lags (109)\n",
      "INFO - (NP.df_utils.return_df_in_original_format) - Returning df with no ID column\n",
      "INFO - (NP.df_utils.return_df_in_original_format) - Returning df with no ID column\n",
      "WARNING - (NP.forecaster.fit) - When Global modeling with local normalization, metrics are displayed in normalized scale.\n",
      "INFO - (NP.df_utils._infer_frequency) - Major frequency D corresponds to 99.963% of the data.\n",
      "INFO - (NP.df_utils._infer_frequency) - Defined frequency is equal to major frequency - D\n",
      "INFO - (NP.config.init_data_params) - Setting normalization to global as only one dataframe provided for training.\n",
      "INFO - (NP.config.set_auto_batch_epoch) - Auto-set batch_size to 32\n",
      "INFO - (NP.config.set_auto_batch_epoch) - Auto-set epochs to 152\n"
     ]
    },
    {
     "data": {
      "application/vnd.jupyter.widget-view+json": {
       "model_id": "6be166a3ccad41e0947b644f0d3c3272",
       "version_major": 2,
       "version_minor": 0
      },
      "text/plain": [
       "Training: 0it [00:00, ?it/s]"
      ]
     },
     "metadata": {},
     "output_type": "display_data"
    },
    {
     "name": "stderr",
     "output_type": "stream",
     "text": [
      "INFO - (NP.df_utils._infer_frequency) - Major frequency D corresponds to 99.963% of the data.\n",
      "INFO - (NP.df_utils._infer_frequency) - Defined frequency is equal to major frequency - D\n",
      "INFO - (NP.df_utils.return_df_in_original_format) - Returning df with no ID column\n",
      "INFO - (NP.df_utils._infer_frequency) - Major frequency D corresponds to 99.789% of the data.\n",
      "INFO - (NP.df_utils._infer_frequency) - Defined frequency is equal to major frequency - D\n",
      "INFO - (NP.df_utils._infer_frequency) - Major frequency D corresponds to 99.789% of the data.\n",
      "INFO - (NP.df_utils._infer_frequency) - Defined frequency is equal to major frequency - D\n"
     ]
    },
    {
     "data": {
      "application/vnd.jupyter.widget-view+json": {
       "model_id": "ee71e15e9c434527ab6bf09267f092e2",
       "version_major": 2,
       "version_minor": 0
      },
      "text/plain": [
       "Predicting: 71it [00:00, ?it/s]"
      ]
     },
     "metadata": {},
     "output_type": "display_data"
    },
    {
     "name": "stderr",
     "output_type": "stream",
     "text": [
      "INFO - (NP.df_utils.return_df_in_original_format) - Returning df with no ID column\n",
      "\u001b[32m[I 2023-03-02 13:46:43,570]\u001b[0m Trial 78 finished with value: 16167.0 and parameters: {'trend_reg': 9.907086967148798, 'seasonality_reg': 2.8031083102121137, 'seasonality_mode': 'multiplicative', 'yearly_seasonality': 27, 'weekly_seasonality': 3, 'n_lags': 109, 'ar_reg': 9.438149617417, 'learning_rate': 0.5580592304855065, 'num_hidden_layers': 0, 'regularization': 0.7527138680456346}. Best is trial 77 with value: 16102.0.\u001b[0m\n",
      "INFO - (NP.config.__post_init__) - Note: Trend changepoint regularization is experimental.\n",
      "INFO - (NP.config.__post_init__) - Note: Fourier-based seasonality regularization is experimental.\n",
      "INFO - (NP.forecaster.add_lagged_regressor) - n_lags = 'auto', number of lags for regressor is set to Autoregression number of lags (115)\n",
      "INFO - (NP.df_utils.return_df_in_original_format) - Returning df with no ID column\n",
      "INFO - (NP.df_utils.return_df_in_original_format) - Returning df with no ID column\n",
      "WARNING - (NP.forecaster.fit) - When Global modeling with local normalization, metrics are displayed in normalized scale.\n",
      "INFO - (NP.df_utils._infer_frequency) - Major frequency D corresponds to 99.963% of the data.\n",
      "INFO - (NP.df_utils._infer_frequency) - Defined frequency is equal to major frequency - D\n",
      "INFO - (NP.config.init_data_params) - Setting normalization to global as only one dataframe provided for training.\n",
      "INFO - (NP.config.set_auto_batch_epoch) - Auto-set batch_size to 32\n",
      "INFO - (NP.config.set_auto_batch_epoch) - Auto-set epochs to 152\n"
     ]
    },
    {
     "data": {
      "application/vnd.jupyter.widget-view+json": {
       "model_id": "ab173ff9dd5e4938bc22cdc59b1c0da9",
       "version_major": 2,
       "version_minor": 0
      },
      "text/plain": [
       "Training: 0it [00:00, ?it/s]"
      ]
     },
     "metadata": {},
     "output_type": "display_data"
    },
    {
     "name": "stderr",
     "output_type": "stream",
     "text": [
      "INFO - (NP.df_utils._infer_frequency) - Major frequency D corresponds to 99.963% of the data.\n",
      "INFO - (NP.df_utils._infer_frequency) - Defined frequency is equal to major frequency - D\n",
      "INFO - (NP.df_utils.return_df_in_original_format) - Returning df with no ID column\n",
      "INFO - (NP.df_utils._infer_frequency) - Major frequency D corresponds to 99.792% of the data.\n",
      "INFO - (NP.df_utils._infer_frequency) - Defined frequency is equal to major frequency - D\n",
      "INFO - (NP.df_utils._infer_frequency) - Major frequency D corresponds to 99.792% of the data.\n",
      "INFO - (NP.df_utils._infer_frequency) - Defined frequency is equal to major frequency - D\n"
     ]
    },
    {
     "data": {
      "application/vnd.jupyter.widget-view+json": {
       "model_id": "c59a61b96a1a4ff4a4197095db5b4a30",
       "version_major": 2,
       "version_minor": 0
      },
      "text/plain": [
       "Predicting: 71it [00:00, ?it/s]"
      ]
     },
     "metadata": {},
     "output_type": "display_data"
    },
    {
     "name": "stderr",
     "output_type": "stream",
     "text": [
      "INFO - (NP.df_utils.return_df_in_original_format) - Returning df with no ID column\n",
      "\u001b[32m[I 2023-03-02 13:49:27,442]\u001b[0m Trial 79 finished with value: 19193.0 and parameters: {'trend_reg': 9.50403368267012, 'seasonality_reg': 3.268368850538702, 'seasonality_mode': 'multiplicative', 'yearly_seasonality': 28, 'weekly_seasonality': 1, 'n_lags': 115, 'ar_reg': 0.9215294539353023, 'learning_rate': 0.48186937612832254, 'num_hidden_layers': 1, 'regularization': 0.7581522184100746}. Best is trial 77 with value: 16102.0.\u001b[0m\n",
      "INFO - (NP.config.__post_init__) - Note: Trend changepoint regularization is experimental.\n",
      "INFO - (NP.config.__post_init__) - Note: Fourier-based seasonality regularization is experimental.\n",
      "INFO - (NP.forecaster.add_lagged_regressor) - n_lags = 'auto', number of lags for regressor is set to Autoregression number of lags (317)\n",
      "INFO - (NP.df_utils.return_df_in_original_format) - Returning df with no ID column\n",
      "INFO - (NP.df_utils.return_df_in_original_format) - Returning df with no ID column\n",
      "WARNING - (NP.forecaster.fit) - When Global modeling with local normalization, metrics are displayed in normalized scale.\n",
      "INFO - (NP.df_utils._infer_frequency) - Major frequency D corresponds to 99.963% of the data.\n",
      "INFO - (NP.df_utils._infer_frequency) - Defined frequency is equal to major frequency - D\n",
      "INFO - (NP.config.init_data_params) - Setting normalization to global as only one dataframe provided for training.\n",
      "INFO - (NP.config.set_auto_batch_epoch) - Auto-set batch_size to 32\n",
      "INFO - (NP.config.set_auto_batch_epoch) - Auto-set epochs to 156\n"
     ]
    },
    {
     "data": {
      "application/vnd.jupyter.widget-view+json": {
       "model_id": "364e8eccb4744ea78bed3b318a7e90ec",
       "version_major": 2,
       "version_minor": 0
      },
      "text/plain": [
       "Training: 0it [00:00, ?it/s]"
      ]
     },
     "metadata": {},
     "output_type": "display_data"
    },
    {
     "name": "stderr",
     "output_type": "stream",
     "text": [
      "INFO - (NP.df_utils._infer_frequency) - Major frequency D corresponds to 99.963% of the data.\n",
      "INFO - (NP.df_utils._infer_frequency) - Defined frequency is equal to major frequency - D\n",
      "INFO - (NP.df_utils.return_df_in_original_format) - Returning df with no ID column\n",
      "INFO - (NP.df_utils._infer_frequency) - Major frequency D corresponds to 99.853% of the data.\n",
      "INFO - (NP.df_utils._infer_frequency) - Defined frequency is equal to major frequency - D\n",
      "INFO - (NP.df_utils._infer_frequency) - Major frequency D corresponds to 99.853% of the data.\n",
      "INFO - (NP.df_utils._infer_frequency) - Defined frequency is equal to major frequency - D\n"
     ]
    },
    {
     "data": {
      "application/vnd.jupyter.widget-view+json": {
       "model_id": "0a2a0b9db7864a64b72592813e4b9d93",
       "version_major": 2,
       "version_minor": 0
      },
      "text/plain": [
       "Predicting: 65it [00:00, ?it/s]"
      ]
     },
     "metadata": {},
     "output_type": "display_data"
    },
    {
     "name": "stderr",
     "output_type": "stream",
     "text": [
      "INFO - (NP.df_utils.return_df_in_original_format) - Returning df with no ID column\n",
      "\u001b[32m[I 2023-03-02 13:52:43,524]\u001b[0m Trial 80 finished with value: 19319.0 and parameters: {'trend_reg': 9.928553809254804, 'seasonality_reg': 2.7228496118496808, 'seasonality_mode': 'multiplicative', 'yearly_seasonality': 27, 'weekly_seasonality': 3, 'n_lags': 317, 'ar_reg': 9.817990511443167, 'learning_rate': 1.0693441343792993, 'num_hidden_layers': 3, 'regularization': 0.8059789925816473}. Best is trial 77 with value: 16102.0.\u001b[0m\n",
      "INFO - (NP.config.__post_init__) - Note: Trend changepoint regularization is experimental.\n",
      "INFO - (NP.config.__post_init__) - Note: Fourier-based seasonality regularization is experimental.\n",
      "INFO - (NP.forecaster.add_lagged_regressor) - n_lags = 'auto', number of lags for regressor is set to Autoregression number of lags (83)\n",
      "INFO - (NP.df_utils.return_df_in_original_format) - Returning df with no ID column\n",
      "INFO - (NP.df_utils.return_df_in_original_format) - Returning df with no ID column\n",
      "WARNING - (NP.forecaster.fit) - When Global modeling with local normalization, metrics are displayed in normalized scale.\n",
      "INFO - (NP.df_utils._infer_frequency) - Major frequency D corresponds to 99.963% of the data.\n",
      "INFO - (NP.df_utils._infer_frequency) - Defined frequency is equal to major frequency - D\n",
      "INFO - (NP.config.init_data_params) - Setting normalization to global as only one dataframe provided for training.\n",
      "INFO - (NP.config.set_auto_batch_epoch) - Auto-set batch_size to 32\n",
      "INFO - (NP.config.set_auto_batch_epoch) - Auto-set epochs to 152\n"
     ]
    },
    {
     "data": {
      "application/vnd.jupyter.widget-view+json": {
       "model_id": "1ba682992d7b423882970f2e64949c9d",
       "version_major": 2,
       "version_minor": 0
      },
      "text/plain": [
       "Training: 0it [00:00, ?it/s]"
      ]
     },
     "metadata": {},
     "output_type": "display_data"
    },
    {
     "name": "stderr",
     "output_type": "stream",
     "text": [
      "INFO - (NP.df_utils._infer_frequency) - Major frequency D corresponds to 99.963% of the data.\n",
      "INFO - (NP.df_utils._infer_frequency) - Defined frequency is equal to major frequency - D\n",
      "INFO - (NP.df_utils.return_df_in_original_format) - Returning df with no ID column\n",
      "INFO - (NP.df_utils._infer_frequency) - Major frequency D corresponds to 99.777% of the data.\n",
      "INFO - (NP.df_utils._infer_frequency) - Defined frequency is equal to major frequency - D\n",
      "INFO - (NP.df_utils._infer_frequency) - Major frequency D corresponds to 99.777% of the data.\n",
      "INFO - (NP.df_utils._infer_frequency) - Defined frequency is equal to major frequency - D\n"
     ]
    },
    {
     "data": {
      "application/vnd.jupyter.widget-view+json": {
       "model_id": "dddd21a1d56848cda595abfd401b7197",
       "version_major": 2,
       "version_minor": 0
      },
      "text/plain": [
       "Predicting: 72it [00:00, ?it/s]"
      ]
     },
     "metadata": {},
     "output_type": "display_data"
    },
    {
     "name": "stderr",
     "output_type": "stream",
     "text": [
      "INFO - (NP.df_utils.return_df_in_original_format) - Returning df with no ID column\n",
      "\u001b[32m[I 2023-03-02 13:54:54,314]\u001b[0m Trial 81 finished with value: 17413.0 and parameters: {'trend_reg': 9.216356279684218, 'seasonality_reg': 3.491054255998846, 'seasonality_mode': 'multiplicative', 'yearly_seasonality': 24, 'weekly_seasonality': 5, 'n_lags': 83, 'ar_reg': 9.421160671983387, 'learning_rate': 0.6491746145662676, 'num_hidden_layers': 0, 'regularization': 0.7177942844265811}. Best is trial 77 with value: 16102.0.\u001b[0m\n",
      "INFO - (NP.config.__post_init__) - Note: Trend changepoint regularization is experimental.\n",
      "INFO - (NP.config.__post_init__) - Note: Fourier-based seasonality regularization is experimental.\n",
      "INFO - (NP.forecaster.add_lagged_regressor) - n_lags = 'auto', number of lags for regressor is set to Autoregression number of lags (187)\n",
      "INFO - (NP.df_utils.return_df_in_original_format) - Returning df with no ID column\n",
      "INFO - (NP.df_utils.return_df_in_original_format) - Returning df with no ID column\n",
      "WARNING - (NP.forecaster.fit) - When Global modeling with local normalization, metrics are displayed in normalized scale.\n",
      "INFO - (NP.df_utils._infer_frequency) - Major frequency D corresponds to 99.963% of the data.\n",
      "INFO - (NP.df_utils._infer_frequency) - Defined frequency is equal to major frequency - D\n",
      "INFO - (NP.config.init_data_params) - Setting normalization to global as only one dataframe provided for training.\n",
      "INFO - (NP.config.set_auto_batch_epoch) - Auto-set batch_size to 32\n",
      "INFO - (NP.config.set_auto_batch_epoch) - Auto-set epochs to 154\n"
     ]
    },
    {
     "data": {
      "application/vnd.jupyter.widget-view+json": {
       "model_id": "abf384c6c93243368542f37d76afefaa",
       "version_major": 2,
       "version_minor": 0
      },
      "text/plain": [
       "Training: 0it [00:00, ?it/s]"
      ]
     },
     "metadata": {},
     "output_type": "display_data"
    },
    {
     "name": "stderr",
     "output_type": "stream",
     "text": [
      "INFO - (NP.df_utils._infer_frequency) - Major frequency D corresponds to 99.963% of the data.\n",
      "INFO - (NP.df_utils._infer_frequency) - Defined frequency is equal to major frequency - D\n",
      "INFO - (NP.df_utils.return_df_in_original_format) - Returning df with no ID column\n",
      "INFO - (NP.df_utils._infer_frequency) - Major frequency D corresponds to 99.819% of the data.\n",
      "INFO - (NP.df_utils._infer_frequency) - Defined frequency is equal to major frequency - D\n",
      "INFO - (NP.df_utils._infer_frequency) - Major frequency D corresponds to 99.819% of the data.\n",
      "INFO - (NP.df_utils._infer_frequency) - Defined frequency is equal to major frequency - D\n"
     ]
    },
    {
     "data": {
      "application/vnd.jupyter.widget-view+json": {
       "model_id": "c7da59b73bd24da0936c6928df2df799",
       "version_major": 2,
       "version_minor": 0
      },
      "text/plain": [
       "Predicting: 69it [00:00, ?it/s]"
      ]
     },
     "metadata": {},
     "output_type": "display_data"
    },
    {
     "name": "stderr",
     "output_type": "stream",
     "text": [
      "INFO - (NP.df_utils.return_df_in_original_format) - Returning df with no ID column\n",
      "\u001b[32m[I 2023-03-02 13:57:20,126]\u001b[0m Trial 82 finished with value: 18137.0 and parameters: {'trend_reg': 9.660095830440678, 'seasonality_reg': 3.2877459148073576, 'seasonality_mode': 'multiplicative', 'yearly_seasonality': 26, 'weekly_seasonality': 3, 'n_lags': 187, 'ar_reg': 9.396660275800802, 'learning_rate': 0.37973287933312505, 'num_hidden_layers': 0, 'regularization': 0.7652655649633235}. Best is trial 77 with value: 16102.0.\u001b[0m\n",
      "INFO - (NP.config.__post_init__) - Note: Trend changepoint regularization is experimental.\n",
      "INFO - (NP.config.__post_init__) - Note: Fourier-based seasonality regularization is experimental.\n",
      "INFO - (NP.forecaster.add_lagged_regressor) - n_lags = 'auto', number of lags for regressor is set to Autoregression number of lags (122)\n",
      "INFO - (NP.df_utils.return_df_in_original_format) - Returning df with no ID column\n",
      "INFO - (NP.df_utils.return_df_in_original_format) - Returning df with no ID column\n",
      "WARNING - (NP.forecaster.fit) - When Global modeling with local normalization, metrics are displayed in normalized scale.\n",
      "INFO - (NP.df_utils._infer_frequency) - Major frequency D corresponds to 99.963% of the data.\n",
      "INFO - (NP.df_utils._infer_frequency) - Defined frequency is equal to major frequency - D\n",
      "INFO - (NP.config.init_data_params) - Setting normalization to global as only one dataframe provided for training.\n",
      "INFO - (NP.config.set_auto_batch_epoch) - Auto-set batch_size to 32\n",
      "INFO - (NP.config.set_auto_batch_epoch) - Auto-set epochs to 152\n"
     ]
    },
    {
     "data": {
      "application/vnd.jupyter.widget-view+json": {
       "model_id": "160bc6b1bdf54b65ad7d73d0b86f8d89",
       "version_major": 2,
       "version_minor": 0
      },
      "text/plain": [
       "Training: 0it [00:00, ?it/s]"
      ]
     },
     "metadata": {},
     "output_type": "display_data"
    },
    {
     "name": "stderr",
     "output_type": "stream",
     "text": [
      "INFO - (NP.df_utils._infer_frequency) - Major frequency D corresponds to 99.963% of the data.\n",
      "INFO - (NP.df_utils._infer_frequency) - Defined frequency is equal to major frequency - D\n",
      "INFO - (NP.df_utils.return_df_in_original_format) - Returning df with no ID column\n",
      "INFO - (NP.df_utils._infer_frequency) - Major frequency D corresponds to 99.795% of the data.\n",
      "INFO - (NP.df_utils._infer_frequency) - Defined frequency is equal to major frequency - D\n",
      "INFO - (NP.df_utils._infer_frequency) - Major frequency D corresponds to 99.795% of the data.\n",
      "INFO - (NP.df_utils._infer_frequency) - Defined frequency is equal to major frequency - D\n"
     ]
    },
    {
     "data": {
      "application/vnd.jupyter.widget-view+json": {
       "model_id": "9a365a19bee44c539b837209809e52f0",
       "version_major": 2,
       "version_minor": 0
      },
      "text/plain": [
       "Predicting: 71it [00:00, ?it/s]"
      ]
     },
     "metadata": {},
     "output_type": "display_data"
    },
    {
     "name": "stderr",
     "output_type": "stream",
     "text": [
      "INFO - (NP.df_utils.return_df_in_original_format) - Returning df with no ID column\n",
      "\u001b[32m[I 2023-03-02 13:59:41,523]\u001b[0m Trial 83 finished with value: 16172.0 and parameters: {'trend_reg': 9.065957928653358, 'seasonality_reg': 4.5981977351999985, 'seasonality_mode': 'multiplicative', 'yearly_seasonality': 25, 'weekly_seasonality': 4, 'n_lags': 122, 'ar_reg': 9.044558709871087, 'learning_rate': 0.8134081473876675, 'num_hidden_layers': 0, 'regularization': 0.275113555101296}. Best is trial 77 with value: 16102.0.\u001b[0m\n",
      "INFO - (NP.config.__post_init__) - Note: Trend changepoint regularization is experimental.\n",
      "INFO - (NP.config.__post_init__) - Note: Fourier-based seasonality regularization is experimental.\n",
      "INFO - (NP.forecaster.add_lagged_regressor) - n_lags = 'auto', number of lags for regressor is set to Autoregression number of lags (154)\n",
      "INFO - (NP.df_utils.return_df_in_original_format) - Returning df with no ID column\n",
      "INFO - (NP.df_utils.return_df_in_original_format) - Returning df with no ID column\n",
      "WARNING - (NP.forecaster.fit) - When Global modeling with local normalization, metrics are displayed in normalized scale.\n",
      "INFO - (NP.df_utils._infer_frequency) - Major frequency D corresponds to 99.963% of the data.\n",
      "INFO - (NP.df_utils._infer_frequency) - Defined frequency is equal to major frequency - D\n",
      "INFO - (NP.config.init_data_params) - Setting normalization to global as only one dataframe provided for training.\n",
      "INFO - (NP.config.set_auto_batch_epoch) - Auto-set batch_size to 32\n",
      "INFO - (NP.config.set_auto_batch_epoch) - Auto-set epochs to 153\n"
     ]
    },
    {
     "data": {
      "application/vnd.jupyter.widget-view+json": {
       "model_id": "731051ac8d0a491584c275e6341e9630",
       "version_major": 2,
       "version_minor": 0
      },
      "text/plain": [
       "Training: 0it [00:00, ?it/s]"
      ]
     },
     "metadata": {},
     "output_type": "display_data"
    },
    {
     "name": "stderr",
     "output_type": "stream",
     "text": [
      "INFO - (NP.df_utils._infer_frequency) - Major frequency D corresponds to 99.963% of the data.\n",
      "INFO - (NP.df_utils._infer_frequency) - Defined frequency is equal to major frequency - D\n",
      "INFO - (NP.df_utils.return_df_in_original_format) - Returning df with no ID column\n",
      "INFO - (NP.df_utils._infer_frequency) - Major frequency D corresponds to 99.807% of the data.\n",
      "INFO - (NP.df_utils._infer_frequency) - Defined frequency is equal to major frequency - D\n",
      "INFO - (NP.df_utils._infer_frequency) - Major frequency D corresponds to 99.807% of the data.\n",
      "INFO - (NP.df_utils._infer_frequency) - Defined frequency is equal to major frequency - D\n"
     ]
    },
    {
     "data": {
      "application/vnd.jupyter.widget-view+json": {
       "model_id": "918d8001ec0b4848aacece2ba1bc6772",
       "version_major": 2,
       "version_minor": 0
      },
      "text/plain": [
       "Predicting: 70it [00:00, ?it/s]"
      ]
     },
     "metadata": {},
     "output_type": "display_data"
    },
    {
     "name": "stderr",
     "output_type": "stream",
     "text": [
      "INFO - (NP.df_utils.return_df_in_original_format) - Returning df with no ID column\n",
      "\u001b[32m[I 2023-03-02 14:01:53,305]\u001b[0m Trial 84 finished with value: 17411.0 and parameters: {'trend_reg': 9.149214352651788, 'seasonality_reg': 4.565918439003429, 'seasonality_mode': 'multiplicative', 'yearly_seasonality': 25, 'weekly_seasonality': 3, 'n_lags': 154, 'ar_reg': 8.900001224519196, 'learning_rate': 1.0872153561366722, 'num_hidden_layers': 0, 'regularization': 0.2836180182213104}. Best is trial 77 with value: 16102.0.\u001b[0m\n",
      "INFO - (NP.config.__post_init__) - Note: Trend changepoint regularization is experimental.\n",
      "INFO - (NP.config.__post_init__) - Note: Fourier-based seasonality regularization is experimental.\n",
      "INFO - (NP.forecaster.add_lagged_regressor) - n_lags = 'auto', number of lags for regressor is set to Autoregression number of lags (114)\n",
      "INFO - (NP.df_utils.return_df_in_original_format) - Returning df with no ID column\n",
      "INFO - (NP.df_utils.return_df_in_original_format) - Returning df with no ID column\n",
      "WARNING - (NP.forecaster.fit) - When Global modeling with local normalization, metrics are displayed in normalized scale.\n",
      "INFO - (NP.df_utils._infer_frequency) - Major frequency D corresponds to 99.963% of the data.\n",
      "INFO - (NP.df_utils._infer_frequency) - Defined frequency is equal to major frequency - D\n",
      "INFO - (NP.config.init_data_params) - Setting normalization to global as only one dataframe provided for training.\n",
      "INFO - (NP.config.set_auto_batch_epoch) - Auto-set batch_size to 32\n",
      "INFO - (NP.config.set_auto_batch_epoch) - Auto-set epochs to 152\n"
     ]
    },
    {
     "data": {
      "application/vnd.jupyter.widget-view+json": {
       "model_id": "b50c52de65384d2290065f4a067d3775",
       "version_major": 2,
       "version_minor": 0
      },
      "text/plain": [
       "Training: 0it [00:00, ?it/s]"
      ]
     },
     "metadata": {},
     "output_type": "display_data"
    },
    {
     "name": "stderr",
     "output_type": "stream",
     "text": [
      "INFO - (NP.df_utils._infer_frequency) - Major frequency D corresponds to 99.963% of the data.\n",
      "INFO - (NP.df_utils._infer_frequency) - Defined frequency is equal to major frequency - D\n",
      "INFO - (NP.df_utils.return_df_in_original_format) - Returning df with no ID column\n",
      "INFO - (NP.df_utils._infer_frequency) - Major frequency D corresponds to 99.791% of the data.\n",
      "INFO - (NP.df_utils._infer_frequency) - Defined frequency is equal to major frequency - D\n",
      "INFO - (NP.df_utils._infer_frequency) - Major frequency D corresponds to 99.791% of the data.\n",
      "INFO - (NP.df_utils._infer_frequency) - Defined frequency is equal to major frequency - D\n"
     ]
    },
    {
     "data": {
      "application/vnd.jupyter.widget-view+json": {
       "model_id": "a799717e06544769a6f05e3a1998d581",
       "version_major": 2,
       "version_minor": 0
      },
      "text/plain": [
       "Predicting: 71it [00:00, ?it/s]"
      ]
     },
     "metadata": {},
     "output_type": "display_data"
    },
    {
     "name": "stderr",
     "output_type": "stream",
     "text": [
      "INFO - (NP.df_utils.return_df_in_original_format) - Returning df with no ID column\n",
      "\u001b[32m[I 2023-03-02 14:04:07,503]\u001b[0m Trial 85 finished with value: 16562.0 and parameters: {'trend_reg': 9.994406161690666, 'seasonality_reg': 4.415491529542019, 'seasonality_mode': 'multiplicative', 'yearly_seasonality': 29, 'weekly_seasonality': 2, 'n_lags': 114, 'ar_reg': 8.398152265749578, 'learning_rate': 0.8318756827850554, 'num_hidden_layers': 0, 'regularization': 0.27168737978771634}. Best is trial 77 with value: 16102.0.\u001b[0m\n",
      "INFO - (NP.config.__post_init__) - Note: Trend changepoint regularization is experimental.\n",
      "INFO - (NP.config.__post_init__) - Note: Fourier-based seasonality regularization is experimental.\n",
      "INFO - (NP.forecaster.add_lagged_regressor) - n_lags = 'auto', number of lags for regressor is set to Autoregression number of lags (199)\n",
      "INFO - (NP.df_utils.return_df_in_original_format) - Returning df with no ID column\n",
      "INFO - (NP.df_utils.return_df_in_original_format) - Returning df with no ID column\n",
      "WARNING - (NP.forecaster.fit) - When Global modeling with local normalization, metrics are displayed in normalized scale.\n",
      "INFO - (NP.df_utils._infer_frequency) - Major frequency D corresponds to 99.963% of the data.\n",
      "INFO - (NP.df_utils._infer_frequency) - Defined frequency is equal to major frequency - D\n",
      "INFO - (NP.config.init_data_params) - Setting normalization to global as only one dataframe provided for training.\n",
      "INFO - (NP.config.set_auto_batch_epoch) - Auto-set batch_size to 32\n",
      "INFO - (NP.config.set_auto_batch_epoch) - Auto-set epochs to 154\n"
     ]
    },
    {
     "data": {
      "application/vnd.jupyter.widget-view+json": {
       "model_id": "24b1e6d9794c4f88b329118a67b80fab",
       "version_major": 2,
       "version_minor": 0
      },
      "text/plain": [
       "Training: 0it [00:00, ?it/s]"
      ]
     },
     "metadata": {},
     "output_type": "display_data"
    },
    {
     "name": "stderr",
     "output_type": "stream",
     "text": [
      "INFO - (NP.df_utils._infer_frequency) - Major frequency D corresponds to 99.963% of the data.\n",
      "INFO - (NP.df_utils._infer_frequency) - Defined frequency is equal to major frequency - D\n",
      "INFO - (NP.df_utils.return_df_in_original_format) - Returning df with no ID column\n",
      "INFO - (NP.df_utils._infer_frequency) - Major frequency D corresponds to 99.823% of the data.\n",
      "INFO - (NP.df_utils._infer_frequency) - Defined frequency is equal to major frequency - D\n",
      "INFO - (NP.df_utils._infer_frequency) - Major frequency D corresponds to 99.823% of the data.\n",
      "INFO - (NP.df_utils._infer_frequency) - Defined frequency is equal to major frequency - D\n"
     ]
    },
    {
     "data": {
      "application/vnd.jupyter.widget-view+json": {
       "model_id": "4bd2738ef5f7489e97beb6e93b5a71c5",
       "version_major": 2,
       "version_minor": 0
      },
      "text/plain": [
       "Predicting: 68it [00:00, ?it/s]"
      ]
     },
     "metadata": {},
     "output_type": "display_data"
    },
    {
     "name": "stderr",
     "output_type": "stream",
     "text": [
      "INFO - (NP.df_utils.return_df_in_original_format) - Returning df with no ID column\n",
      "\u001b[32m[I 2023-03-02 14:06:22,014]\u001b[0m Trial 86 finished with value: 19593.0 and parameters: {'trend_reg': 9.975843953506166, 'seasonality_reg': 4.857931478138605, 'seasonality_mode': 'multiplicative', 'yearly_seasonality': 30, 'weekly_seasonality': 2, 'n_lags': 199, 'ar_reg': 4.994767751759266, 'learning_rate': 0.8744435897258345, 'num_hidden_layers': 0, 'regularization': 0.3118079540778724}. Best is trial 77 with value: 16102.0.\u001b[0m\n",
      "INFO - (NP.config.__post_init__) - Note: Trend changepoint regularization is experimental.\n",
      "INFO - (NP.config.__post_init__) - Note: Fourier-based seasonality regularization is experimental.\n",
      "INFO - (NP.forecaster.add_lagged_regressor) - n_lags = 'auto', number of lags for regressor is set to Autoregression number of lags (126)\n",
      "INFO - (NP.df_utils.return_df_in_original_format) - Returning df with no ID column\n",
      "INFO - (NP.df_utils.return_df_in_original_format) - Returning df with no ID column\n",
      "WARNING - (NP.forecaster.fit) - When Global modeling with local normalization, metrics are displayed in normalized scale.\n",
      "INFO - (NP.df_utils._infer_frequency) - Major frequency D corresponds to 99.963% of the data.\n",
      "INFO - (NP.df_utils._infer_frequency) - Defined frequency is equal to major frequency - D\n",
      "INFO - (NP.config.init_data_params) - Setting normalization to global as only one dataframe provided for training.\n",
      "INFO - (NP.config.set_auto_batch_epoch) - Auto-set batch_size to 32\n",
      "INFO - (NP.config.set_auto_batch_epoch) - Auto-set epochs to 153\n"
     ]
    },
    {
     "data": {
      "application/vnd.jupyter.widget-view+json": {
       "model_id": "fcf94a7e9668465080de60a2cd72c991",
       "version_major": 2,
       "version_minor": 0
      },
      "text/plain": [
       "Training: 0it [00:00, ?it/s]"
      ]
     },
     "metadata": {},
     "output_type": "display_data"
    },
    {
     "name": "stderr",
     "output_type": "stream",
     "text": [
      "INFO - (NP.df_utils._infer_frequency) - Major frequency D corresponds to 99.963% of the data.\n",
      "INFO - (NP.df_utils._infer_frequency) - Defined frequency is equal to major frequency - D\n",
      "INFO - (NP.df_utils.return_df_in_original_format) - Returning df with no ID column\n",
      "INFO - (NP.df_utils._infer_frequency) - Major frequency D corresponds to 99.796% of the data.\n",
      "INFO - (NP.df_utils._infer_frequency) - Defined frequency is equal to major frequency - D\n",
      "INFO - (NP.df_utils._infer_frequency) - Major frequency D corresponds to 99.796% of the data.\n",
      "INFO - (NP.df_utils._infer_frequency) - Defined frequency is equal to major frequency - D\n"
     ]
    },
    {
     "data": {
      "application/vnd.jupyter.widget-view+json": {
       "model_id": "e15272fe0ec14190976f9b618511806e",
       "version_major": 2,
       "version_minor": 0
      },
      "text/plain": [
       "Predicting: 71it [00:00, ?it/s]"
      ]
     },
     "metadata": {},
     "output_type": "display_data"
    },
    {
     "name": "stderr",
     "output_type": "stream",
     "text": [
      "INFO - (NP.df_utils.return_df_in_original_format) - Returning df with no ID column\n",
      "\u001b[32m[I 2023-03-02 14:08:42,910]\u001b[0m Trial 87 finished with value: 15985.0 and parameters: {'trend_reg': 9.636339075205013, 'seasonality_reg': 4.486151242849226, 'seasonality_mode': 'multiplicative', 'yearly_seasonality': 29, 'weekly_seasonality': 4, 'n_lags': 126, 'ar_reg': 8.397277304863213, 'learning_rate': 1.3202851143258183, 'num_hidden_layers': 0, 'regularization': 0.1800104904245046}. Best is trial 87 with value: 15985.0.\u001b[0m\n",
      "INFO - (NP.config.__post_init__) - Note: Trend changepoint regularization is experimental.\n",
      "INFO - (NP.config.__post_init__) - Note: Fourier-based seasonality regularization is experimental.\n",
      "INFO - (NP.forecaster.add_lagged_regressor) - n_lags = 'auto', number of lags for regressor is set to Autoregression number of lags (117)\n",
      "INFO - (NP.df_utils.return_df_in_original_format) - Returning df with no ID column\n",
      "INFO - (NP.df_utils.return_df_in_original_format) - Returning df with no ID column\n",
      "WARNING - (NP.forecaster.fit) - When Global modeling with local normalization, metrics are displayed in normalized scale.\n",
      "INFO - (NP.df_utils._infer_frequency) - Major frequency D corresponds to 99.963% of the data.\n",
      "INFO - (NP.df_utils._infer_frequency) - Defined frequency is equal to major frequency - D\n",
      "INFO - (NP.config.init_data_params) - Setting normalization to global as only one dataframe provided for training.\n",
      "INFO - (NP.config.set_auto_batch_epoch) - Auto-set batch_size to 32\n",
      "INFO - (NP.config.set_auto_batch_epoch) - Auto-set epochs to 152\n"
     ]
    },
    {
     "data": {
      "application/vnd.jupyter.widget-view+json": {
       "model_id": "54519b0721bf48c7b8b3b5a8405222a2",
       "version_major": 2,
       "version_minor": 0
      },
      "text/plain": [
       "Training: 0it [00:00, ?it/s]"
      ]
     },
     "metadata": {},
     "output_type": "display_data"
    },
    {
     "name": "stderr",
     "output_type": "stream",
     "text": [
      "INFO - (NP.df_utils._infer_frequency) - Major frequency D corresponds to 99.963% of the data.\n",
      "INFO - (NP.df_utils._infer_frequency) - Defined frequency is equal to major frequency - D\n",
      "INFO - (NP.df_utils.return_df_in_original_format) - Returning df with no ID column\n",
      "INFO - (NP.df_utils._infer_frequency) - Major frequency D corresponds to 99.793% of the data.\n",
      "INFO - (NP.df_utils._infer_frequency) - Defined frequency is equal to major frequency - D\n",
      "INFO - (NP.df_utils._infer_frequency) - Major frequency D corresponds to 99.793% of the data.\n",
      "INFO - (NP.df_utils._infer_frequency) - Defined frequency is equal to major frequency - D\n"
     ]
    },
    {
     "data": {
      "application/vnd.jupyter.widget-view+json": {
       "model_id": "eaba7f0563214bbfa67bdad2cefa1fee",
       "version_major": 2,
       "version_minor": 0
      },
      "text/plain": [
       "Predicting: 71it [00:00, ?it/s]"
      ]
     },
     "metadata": {},
     "output_type": "display_data"
    },
    {
     "name": "stderr",
     "output_type": "stream",
     "text": [
      "INFO - (NP.df_utils.return_df_in_original_format) - Returning df with no ID column\n",
      "\u001b[32m[I 2023-03-02 14:11:37,473]\u001b[0m Trial 88 finished with value: 16013.0 and parameters: {'trend_reg': 9.641016435515265, 'seasonality_reg': 2.297634006613067, 'seasonality_mode': 'multiplicative', 'yearly_seasonality': 31, 'weekly_seasonality': 4, 'n_lags': 117, 'ar_reg': 8.396263440812099, 'learning_rate': 1.293055082574157, 'num_hidden_layers': 0, 'regularization': 0.14142623315357417}. Best is trial 87 with value: 15985.0.\u001b[0m\n",
      "INFO - (NP.config.__post_init__) - Note: Trend changepoint regularization is experimental.\n",
      "INFO - (NP.config.__post_init__) - Note: Fourier-based seasonality regularization is experimental.\n",
      "INFO - (NP.forecaster.add_lagged_regressor) - n_lags = 'auto', number of lags for regressor is set to Autoregression number of lags (948)\n",
      "INFO - (NP.df_utils.return_df_in_original_format) - Returning df with no ID column\n",
      "INFO - (NP.df_utils.return_df_in_original_format) - Returning df with no ID column\n",
      "WARNING - (NP.forecaster.fit) - When Global modeling with local normalization, metrics are displayed in normalized scale.\n",
      "INFO - (NP.df_utils._infer_frequency) - Major frequency D corresponds to 99.963% of the data.\n",
      "INFO - (NP.df_utils._infer_frequency) - Defined frequency is equal to major frequency - D\n",
      "INFO - (NP.config.init_data_params) - Setting normalization to global as only one dataframe provided for training.\n",
      "INFO - (NP.config.set_auto_batch_epoch) - Auto-set batch_size to 32\n",
      "INFO - (NP.config.set_auto_batch_epoch) - Auto-set epochs to 174\n"
     ]
    },
    {
     "data": {
      "application/vnd.jupyter.widget-view+json": {
       "model_id": "fec51fe7c29d4e7a8ddc0db2a40c3f29",
       "version_major": 2,
       "version_minor": 0
      },
      "text/plain": [
       "Training: 0it [00:00, ?it/s]"
      ]
     },
     "metadata": {},
     "output_type": "display_data"
    },
    {
     "name": "stderr",
     "output_type": "stream",
     "text": [
      "INFO - (NP.df_utils._infer_frequency) - Major frequency D corresponds to 99.963% of the data.\n",
      "INFO - (NP.df_utils._infer_frequency) - Defined frequency is equal to major frequency - D\n",
      "INFO - (NP.df_utils.return_df_in_original_format) - Returning df with no ID column\n",
      "INFO - (NP.df_utils._infer_frequency) - Major frequency D corresponds to 99.924% of the data.\n",
      "INFO - (NP.df_utils._infer_frequency) - Defined frequency is equal to major frequency - D\n",
      "INFO - (NP.df_utils._infer_frequency) - Major frequency D corresponds to 99.924% of the data.\n",
      "INFO - (NP.df_utils._infer_frequency) - Defined frequency is equal to major frequency - D\n"
     ]
    },
    {
     "data": {
      "application/vnd.jupyter.widget-view+json": {
       "model_id": "6cc2fb60eee34ee5a156cfad4215d03f",
       "version_major": 2,
       "version_minor": 0
      },
      "text/plain": [
       "Predicting: 45it [00:00, ?it/s]"
      ]
     },
     "metadata": {},
     "output_type": "display_data"
    },
    {
     "name": "stderr",
     "output_type": "stream",
     "text": [
      "INFO - (NP.df_utils.return_df_in_original_format) - Returning df with no ID column\n",
      "\u001b[32m[I 2023-03-02 14:15:08,815]\u001b[0m Trial 89 finished with value: 448097.0 and parameters: {'trend_reg': 9.744686345086789, 'seasonality_reg': 3.1445630503309676, 'seasonality_mode': 'multiplicative', 'yearly_seasonality': 33, 'weekly_seasonality': 2, 'n_lags': 948, 'ar_reg': 7.454278436672868, 'learning_rate': 1.4509850331820955, 'num_hidden_layers': 0, 'regularization': 0.1462766547149397}. Best is trial 87 with value: 15985.0.\u001b[0m\n",
      "INFO - (NP.config.__post_init__) - Note: Trend changepoint regularization is experimental.\n",
      "INFO - (NP.config.__post_init__) - Note: Fourier-based seasonality regularization is experimental.\n",
      "INFO - (NP.forecaster.add_lagged_regressor) - n_lags = 'auto', number of lags for regressor is set to Autoregression number of lags (251)\n",
      "INFO - (NP.df_utils.return_df_in_original_format) - Returning df with no ID column\n",
      "INFO - (NP.df_utils.return_df_in_original_format) - Returning df with no ID column\n",
      "WARNING - (NP.forecaster.fit) - When Global modeling with local normalization, metrics are displayed in normalized scale.\n",
      "INFO - (NP.df_utils._infer_frequency) - Major frequency D corresponds to 99.963% of the data.\n",
      "INFO - (NP.df_utils._infer_frequency) - Defined frequency is equal to major frequency - D\n",
      "INFO - (NP.config.init_data_params) - Setting normalization to global as only one dataframe provided for training.\n",
      "INFO - (NP.config.set_auto_batch_epoch) - Auto-set batch_size to 32\n",
      "INFO - (NP.config.set_auto_batch_epoch) - Auto-set epochs to 155\n"
     ]
    },
    {
     "data": {
      "application/vnd.jupyter.widget-view+json": {
       "model_id": "0616a2a61aa74a6da5662dfb78ef88ed",
       "version_major": 2,
       "version_minor": 0
      },
      "text/plain": [
       "Training: 0it [00:00, ?it/s]"
      ]
     },
     "metadata": {},
     "output_type": "display_data"
    },
    {
     "name": "stderr",
     "output_type": "stream",
     "text": [
      "INFO - (NP.df_utils._infer_frequency) - Major frequency D corresponds to 99.963% of the data.\n",
      "INFO - (NP.df_utils._infer_frequency) - Defined frequency is equal to major frequency - D\n",
      "INFO - (NP.df_utils.return_df_in_original_format) - Returning df with no ID column\n",
      "INFO - (NP.df_utils._infer_frequency) - Major frequency D corresponds to 99.838% of the data.\n",
      "INFO - (NP.df_utils._infer_frequency) - Defined frequency is equal to major frequency - D\n",
      "INFO - (NP.df_utils._infer_frequency) - Major frequency D corresponds to 99.838% of the data.\n",
      "INFO - (NP.df_utils._infer_frequency) - Defined frequency is equal to major frequency - D\n"
     ]
    },
    {
     "data": {
      "application/vnd.jupyter.widget-view+json": {
       "model_id": "edca7bbeefd14fc5b0aab0b067a40e8f",
       "version_major": 2,
       "version_minor": 0
      },
      "text/plain": [
       "Predicting: 67it [00:00, ?it/s]"
      ]
     },
     "metadata": {},
     "output_type": "display_data"
    },
    {
     "name": "stderr",
     "output_type": "stream",
     "text": [
      "INFO - (NP.df_utils.return_df_in_original_format) - Returning df with no ID column\n",
      "\u001b[32m[I 2023-03-02 14:17:56,270]\u001b[0m Trial 90 finished with value: 24993.0 and parameters: {'trend_reg': 9.479556930072397, 'seasonality_reg': 2.2652750622999673, 'seasonality_mode': 'multiplicative', 'yearly_seasonality': 29, 'weekly_seasonality': 4, 'n_lags': 251, 'ar_reg': 8.452691032223868, 'learning_rate': 1.195056412076611, 'num_hidden_layers': 0, 'regularization': 0.11434334718091627}. Best is trial 87 with value: 15985.0.\u001b[0m\n",
      "INFO - (NP.config.__post_init__) - Note: Trend changepoint regularization is experimental.\n",
      "INFO - (NP.config.__post_init__) - Note: Fourier-based seasonality regularization is experimental.\n",
      "INFO - (NP.forecaster.add_lagged_regressor) - n_lags = 'auto', number of lags for regressor is set to Autoregression number of lags (123)\n",
      "INFO - (NP.df_utils.return_df_in_original_format) - Returning df with no ID column\n",
      "INFO - (NP.df_utils.return_df_in_original_format) - Returning df with no ID column\n",
      "WARNING - (NP.forecaster.fit) - When Global modeling with local normalization, metrics are displayed in normalized scale.\n",
      "INFO - (NP.df_utils._infer_frequency) - Major frequency D corresponds to 99.963% of the data.\n",
      "INFO - (NP.df_utils._infer_frequency) - Defined frequency is equal to major frequency - D\n",
      "INFO - (NP.config.init_data_params) - Setting normalization to global as only one dataframe provided for training.\n",
      "INFO - (NP.config.set_auto_batch_epoch) - Auto-set batch_size to 32\n",
      "INFO - (NP.config.set_auto_batch_epoch) - Auto-set epochs to 153\n"
     ]
    },
    {
     "data": {
      "application/vnd.jupyter.widget-view+json": {
       "model_id": "d7b162f4672e4f2293a7e375f1de489f",
       "version_major": 2,
       "version_minor": 0
      },
      "text/plain": [
       "Training: 0it [00:00, ?it/s]"
      ]
     },
     "metadata": {},
     "output_type": "display_data"
    },
    {
     "name": "stderr",
     "output_type": "stream",
     "text": [
      "INFO - (NP.df_utils._infer_frequency) - Major frequency D corresponds to 99.963% of the data.\n",
      "INFO - (NP.df_utils._infer_frequency) - Defined frequency is equal to major frequency - D\n",
      "INFO - (NP.df_utils.return_df_in_original_format) - Returning df with no ID column\n",
      "INFO - (NP.df_utils._infer_frequency) - Major frequency D corresponds to 99.795% of the data.\n",
      "INFO - (NP.df_utils._infer_frequency) - Defined frequency is equal to major frequency - D\n",
      "INFO - (NP.df_utils._infer_frequency) - Major frequency D corresponds to 99.795% of the data.\n",
      "INFO - (NP.df_utils._infer_frequency) - Defined frequency is equal to major frequency - D\n"
     ]
    },
    {
     "data": {
      "application/vnd.jupyter.widget-view+json": {
       "model_id": "95f0b686dd274df0adbab6a798de5289",
       "version_major": 2,
       "version_minor": 0
      },
      "text/plain": [
       "Predicting: 71it [00:00, ?it/s]"
      ]
     },
     "metadata": {},
     "output_type": "display_data"
    },
    {
     "name": "stderr",
     "output_type": "stream",
     "text": [
      "INFO - (NP.df_utils.return_df_in_original_format) - Returning df with no ID column\n",
      "\u001b[32m[I 2023-03-02 14:20:10,551]\u001b[0m Trial 91 finished with value: 16423.0 and parameters: {'trend_reg': 8.932363091476725, 'seasonality_reg': 4.389355537705396, 'seasonality_mode': 'multiplicative', 'yearly_seasonality': 31, 'weekly_seasonality': 4, 'n_lags': 123, 'ar_reg': 8.3082783879458, 'learning_rate': 0.8480068926592642, 'num_hidden_layers': 0, 'regularization': 0.20319371434481787}. Best is trial 87 with value: 15985.0.\u001b[0m\n",
      "INFO - (NP.config.__post_init__) - Note: Trend changepoint regularization is experimental.\n",
      "INFO - (NP.config.__post_init__) - Note: Fourier-based seasonality regularization is experimental.\n",
      "INFO - (NP.forecaster.add_lagged_regressor) - n_lags = 'auto', number of lags for regressor is set to Autoregression number of lags (135)\n",
      "INFO - (NP.df_utils.return_df_in_original_format) - Returning df with no ID column\n",
      "INFO - (NP.df_utils.return_df_in_original_format) - Returning df with no ID column\n",
      "WARNING - (NP.forecaster.fit) - When Global modeling with local normalization, metrics are displayed in normalized scale.\n",
      "INFO - (NP.df_utils._infer_frequency) - Major frequency D corresponds to 99.963% of the data.\n",
      "INFO - (NP.df_utils._infer_frequency) - Defined frequency is equal to major frequency - D\n",
      "INFO - (NP.config.init_data_params) - Setting normalization to global as only one dataframe provided for training.\n",
      "INFO - (NP.config.set_auto_batch_epoch) - Auto-set batch_size to 32\n",
      "INFO - (NP.config.set_auto_batch_epoch) - Auto-set epochs to 153\n"
     ]
    },
    {
     "data": {
      "application/vnd.jupyter.widget-view+json": {
       "model_id": "1b8df81f19784c9480bc3d069d7af967",
       "version_major": 2,
       "version_minor": 0
      },
      "text/plain": [
       "Training: 0it [00:00, ?it/s]"
      ]
     },
     "metadata": {},
     "output_type": "display_data"
    },
    {
     "name": "stderr",
     "output_type": "stream",
     "text": [
      "INFO - (NP.df_utils._infer_frequency) - Major frequency D corresponds to 99.963% of the data.\n",
      "INFO - (NP.df_utils._infer_frequency) - Defined frequency is equal to major frequency - D\n",
      "INFO - (NP.df_utils.return_df_in_original_format) - Returning df with no ID column\n",
      "INFO - (NP.df_utils._infer_frequency) - Major frequency D corresponds to 99.8% of the data.\n",
      "INFO - (NP.df_utils._infer_frequency) - Defined frequency is equal to major frequency - D\n",
      "INFO - (NP.df_utils._infer_frequency) - Major frequency D corresponds to 99.8% of the data.\n",
      "INFO - (NP.df_utils._infer_frequency) - Defined frequency is equal to major frequency - D\n"
     ]
    },
    {
     "data": {
      "application/vnd.jupyter.widget-view+json": {
       "model_id": "8b755796645b48f1acc041060091d18a",
       "version_major": 2,
       "version_minor": 0
      },
      "text/plain": [
       "Predicting: 70it [00:00, ?it/s]"
      ]
     },
     "metadata": {},
     "output_type": "display_data"
    },
    {
     "name": "stderr",
     "output_type": "stream",
     "text": [
      "INFO - (NP.df_utils.return_df_in_original_format) - Returning df with no ID column\n",
      "\u001b[32m[I 2023-03-02 14:22:25,152]\u001b[0m Trial 92 finished with value: 16012.0 and parameters: {'trend_reg': 8.950742942146046, 'seasonality_reg': 4.45729904446106, 'seasonality_mode': 'multiplicative', 'yearly_seasonality': 32, 'weekly_seasonality': 5, 'n_lags': 135, 'ar_reg': 7.873475332574328, 'learning_rate': 0.8659274397744872, 'num_hidden_layers': 0, 'regularization': 0.1842809292237456}. Best is trial 87 with value: 15985.0.\u001b[0m\n",
      "INFO - (NP.config.__post_init__) - Note: Trend changepoint regularization is experimental.\n",
      "INFO - (NP.config.__post_init__) - Note: Fourier-based seasonality regularization is experimental.\n",
      "INFO - (NP.forecaster.add_lagged_regressor) - n_lags = 'auto', number of lags for regressor is set to Autoregression number of lags (131)\n",
      "INFO - (NP.df_utils.return_df_in_original_format) - Returning df with no ID column\n",
      "INFO - (NP.df_utils.return_df_in_original_format) - Returning df with no ID column\n",
      "WARNING - (NP.forecaster.fit) - When Global modeling with local normalization, metrics are displayed in normalized scale.\n",
      "INFO - (NP.df_utils._infer_frequency) - Major frequency D corresponds to 99.963% of the data.\n",
      "INFO - (NP.df_utils._infer_frequency) - Defined frequency is equal to major frequency - D\n",
      "INFO - (NP.config.init_data_params) - Setting normalization to global as only one dataframe provided for training.\n",
      "INFO - (NP.config.set_auto_batch_epoch) - Auto-set batch_size to 32\n",
      "INFO - (NP.config.set_auto_batch_epoch) - Auto-set epochs to 153\n"
     ]
    },
    {
     "data": {
      "application/vnd.jupyter.widget-view+json": {
       "model_id": "fda22c2fda634aac961a0e4dfdb297c1",
       "version_major": 2,
       "version_minor": 0
      },
      "text/plain": [
       "Training: 0it [00:00, ?it/s]"
      ]
     },
     "metadata": {},
     "output_type": "display_data"
    },
    {
     "name": "stderr",
     "output_type": "stream",
     "text": [
      "INFO - (NP.df_utils._infer_frequency) - Major frequency D corresponds to 99.963% of the data.\n",
      "INFO - (NP.df_utils._infer_frequency) - Defined frequency is equal to major frequency - D\n",
      "INFO - (NP.df_utils.return_df_in_original_format) - Returning df with no ID column\n",
      "INFO - (NP.df_utils._infer_frequency) - Major frequency D corresponds to 99.798% of the data.\n",
      "INFO - (NP.df_utils._infer_frequency) - Defined frequency is equal to major frequency - D\n",
      "INFO - (NP.df_utils._infer_frequency) - Major frequency D corresponds to 99.798% of the data.\n",
      "INFO - (NP.df_utils._infer_frequency) - Defined frequency is equal to major frequency - D\n"
     ]
    },
    {
     "data": {
      "application/vnd.jupyter.widget-view+json": {
       "model_id": "9cd7f796173f4130b81c74f7e3b59cb0",
       "version_major": 2,
       "version_minor": 0
      },
      "text/plain": [
       "Predicting: 71it [00:00, ?it/s]"
      ]
     },
     "metadata": {},
     "output_type": "display_data"
    },
    {
     "name": "stderr",
     "output_type": "stream",
     "text": [
      "INFO - (NP.df_utils.return_df_in_original_format) - Returning df with no ID column\n",
      "\u001b[32m[I 2023-03-02 14:24:40,487]\u001b[0m Trial 93 finished with value: 16078.0 and parameters: {'trend_reg': 8.931198533856003, 'seasonality_reg': 4.365569166505673, 'seasonality_mode': 'multiplicative', 'yearly_seasonality': 32, 'weekly_seasonality': 5, 'n_lags': 131, 'ar_reg': 7.907817953515976, 'learning_rate': 0.8057108142504709, 'num_hidden_layers': 0, 'regularization': 0.17917469708496342}. Best is trial 87 with value: 15985.0.\u001b[0m\n",
      "INFO - (NP.config.__post_init__) - Note: Trend changepoint regularization is experimental.\n",
      "INFO - (NP.config.__post_init__) - Note: Fourier-based seasonality regularization is experimental.\n",
      "INFO - (NP.forecaster.add_lagged_regressor) - n_lags = 'auto', number of lags for regressor is set to Autoregression number of lags (166)\n",
      "INFO - (NP.df_utils.return_df_in_original_format) - Returning df with no ID column\n",
      "INFO - (NP.df_utils.return_df_in_original_format) - Returning df with no ID column\n",
      "WARNING - (NP.forecaster.fit) - When Global modeling with local normalization, metrics are displayed in normalized scale.\n",
      "INFO - (NP.df_utils._infer_frequency) - Major frequency D corresponds to 99.963% of the data.\n",
      "INFO - (NP.df_utils._infer_frequency) - Defined frequency is equal to major frequency - D\n",
      "INFO - (NP.config.init_data_params) - Setting normalization to global as only one dataframe provided for training.\n",
      "INFO - (NP.config.set_auto_batch_epoch) - Auto-set batch_size to 32\n",
      "INFO - (NP.config.set_auto_batch_epoch) - Auto-set epochs to 153\n"
     ]
    },
    {
     "data": {
      "application/vnd.jupyter.widget-view+json": {
       "model_id": "33480297460740ae9555100ff0d508e3",
       "version_major": 2,
       "version_minor": 0
      },
      "text/plain": [
       "Training: 0it [00:00, ?it/s]"
      ]
     },
     "metadata": {},
     "output_type": "display_data"
    },
    {
     "name": "stderr",
     "output_type": "stream",
     "text": [
      "INFO - (NP.df_utils._infer_frequency) - Major frequency D corresponds to 99.963% of the data.\n",
      "INFO - (NP.df_utils._infer_frequency) - Defined frequency is equal to major frequency - D\n",
      "INFO - (NP.df_utils.return_df_in_original_format) - Returning df with no ID column\n",
      "INFO - (NP.df_utils._infer_frequency) - Major frequency D corresponds to 99.812% of the data.\n",
      "INFO - (NP.df_utils._infer_frequency) - Defined frequency is equal to major frequency - D\n",
      "INFO - (NP.df_utils._infer_frequency) - Major frequency D corresponds to 99.812% of the data.\n",
      "INFO - (NP.df_utils._infer_frequency) - Defined frequency is equal to major frequency - D\n"
     ]
    },
    {
     "data": {
      "application/vnd.jupyter.widget-view+json": {
       "model_id": "48d17621df65471989510dcafae518d4",
       "version_major": 2,
       "version_minor": 0
      },
      "text/plain": [
       "Predicting: 69it [00:00, ?it/s]"
      ]
     },
     "metadata": {},
     "output_type": "display_data"
    },
    {
     "name": "stderr",
     "output_type": "stream",
     "text": [
      "INFO - (NP.df_utils.return_df_in_original_format) - Returning df with no ID column\n",
      "\u001b[32m[I 2023-03-02 14:26:55,086]\u001b[0m Trial 94 finished with value: 17287.0 and parameters: {'trend_reg': 8.874302903229458, 'seasonality_reg': 4.4208087301109265, 'seasonality_mode': 'multiplicative', 'yearly_seasonality': 32, 'weekly_seasonality': 5, 'n_lags': 166, 'ar_reg': 6.955929517148007, 'learning_rate': 0.8832129336797943, 'num_hidden_layers': 0, 'regularization': 0.058645564031011316}. Best is trial 87 with value: 15985.0.\u001b[0m\n",
      "INFO - (NP.config.__post_init__) - Note: Trend changepoint regularization is experimental.\n",
      "INFO - (NP.config.__post_init__) - Note: Fourier-based seasonality regularization is experimental.\n",
      "INFO - (NP.forecaster.add_lagged_regressor) - n_lags = 'auto', number of lags for regressor is set to Autoregression number of lags (134)\n",
      "INFO - (NP.df_utils.return_df_in_original_format) - Returning df with no ID column\n",
      "INFO - (NP.df_utils.return_df_in_original_format) - Returning df with no ID column\n",
      "WARNING - (NP.forecaster.fit) - When Global modeling with local normalization, metrics are displayed in normalized scale.\n",
      "INFO - (NP.df_utils._infer_frequency) - Major frequency D corresponds to 99.963% of the data.\n",
      "INFO - (NP.df_utils._infer_frequency) - Defined frequency is equal to major frequency - D\n",
      "INFO - (NP.config.init_data_params) - Setting normalization to global as only one dataframe provided for training.\n",
      "INFO - (NP.config.set_auto_batch_epoch) - Auto-set batch_size to 32\n",
      "INFO - (NP.config.set_auto_batch_epoch) - Auto-set epochs to 153\n"
     ]
    },
    {
     "data": {
      "application/vnd.jupyter.widget-view+json": {
       "model_id": "0bd3a602367e47d38cc9ee39344a60fe",
       "version_major": 2,
       "version_minor": 0
      },
      "text/plain": [
       "Training: 0it [00:00, ?it/s]"
      ]
     },
     "metadata": {},
     "output_type": "display_data"
    },
    {
     "name": "stderr",
     "output_type": "stream",
     "text": [
      "INFO - (NP.df_utils._infer_frequency) - Major frequency D corresponds to 99.963% of the data.\n",
      "INFO - (NP.df_utils._infer_frequency) - Defined frequency is equal to major frequency - D\n",
      "INFO - (NP.df_utils.return_df_in_original_format) - Returning df with no ID column\n",
      "INFO - (NP.df_utils._infer_frequency) - Major frequency D corresponds to 99.8% of the data.\n",
      "INFO - (NP.df_utils._infer_frequency) - Defined frequency is equal to major frequency - D\n",
      "INFO - (NP.df_utils._infer_frequency) - Major frequency D corresponds to 99.8% of the data.\n",
      "INFO - (NP.df_utils._infer_frequency) - Defined frequency is equal to major frequency - D\n"
     ]
    },
    {
     "data": {
      "application/vnd.jupyter.widget-view+json": {
       "model_id": "f4ebe72a4bbd44c9b73d2ec226535bcd",
       "version_major": 2,
       "version_minor": 0
      },
      "text/plain": [
       "Predicting: 70it [00:00, ?it/s]"
      ]
     },
     "metadata": {},
     "output_type": "display_data"
    },
    {
     "name": "stderr",
     "output_type": "stream",
     "text": [
      "INFO - (NP.df_utils.return_df_in_original_format) - Returning df with no ID column\n",
      "\u001b[32m[I 2023-03-02 14:29:56,907]\u001b[0m Trial 95 finished with value: 18761.0 and parameters: {'trend_reg': 9.356572750978247, 'seasonality_reg': 3.701089080608356, 'seasonality_mode': 'multiplicative', 'yearly_seasonality': 31, 'weekly_seasonality': 3, 'n_lags': 134, 'ar_reg': 7.790558960026157, 'learning_rate': 0.706841158148539, 'num_hidden_layers': 2, 'regularization': 0.1849791254874519}. Best is trial 87 with value: 15985.0.\u001b[0m\n",
      "INFO - (NP.config.__post_init__) - Note: Trend changepoint regularization is experimental.\n",
      "INFO - (NP.config.__post_init__) - Note: Fourier-based seasonality regularization is experimental.\n",
      "INFO - (NP.forecaster.add_lagged_regressor) - n_lags = 'auto', number of lags for regressor is set to Autoregression number of lags (78)\n",
      "INFO - (NP.df_utils.return_df_in_original_format) - Returning df with no ID column\n",
      "INFO - (NP.df_utils.return_df_in_original_format) - Returning df with no ID column\n",
      "WARNING - (NP.forecaster.fit) - When Global modeling with local normalization, metrics are displayed in normalized scale.\n",
      "INFO - (NP.df_utils._infer_frequency) - Major frequency D corresponds to 99.963% of the data.\n",
      "INFO - (NP.df_utils._infer_frequency) - Defined frequency is equal to major frequency - D\n",
      "INFO - (NP.config.init_data_params) - Setting normalization to global as only one dataframe provided for training.\n",
      "INFO - (NP.config.set_auto_batch_epoch) - Auto-set batch_size to 32\n",
      "INFO - (NP.config.set_auto_batch_epoch) - Auto-set epochs to 152\n"
     ]
    },
    {
     "data": {
      "application/vnd.jupyter.widget-view+json": {
       "model_id": "022ed042c51b4fd2810eabdc0a5d1df8",
       "version_major": 2,
       "version_minor": 0
      },
      "text/plain": [
       "Training: 0it [00:00, ?it/s]"
      ]
     },
     "metadata": {},
     "output_type": "display_data"
    },
    {
     "name": "stderr",
     "output_type": "stream",
     "text": [
      "INFO - (NP.df_utils._infer_frequency) - Major frequency D corresponds to 99.963% of the data.\n",
      "INFO - (NP.df_utils._infer_frequency) - Defined frequency is equal to major frequency - D\n",
      "INFO - (NP.df_utils.return_df_in_original_format) - Returning df with no ID column\n",
      "INFO - (NP.df_utils._infer_frequency) - Major frequency D corresponds to 99.774% of the data.\n",
      "INFO - (NP.df_utils._infer_frequency) - Defined frequency is equal to major frequency - D\n",
      "INFO - (NP.df_utils._infer_frequency) - Major frequency D corresponds to 99.774% of the data.\n",
      "INFO - (NP.df_utils._infer_frequency) - Defined frequency is equal to major frequency - D\n"
     ]
    },
    {
     "data": {
      "application/vnd.jupyter.widget-view+json": {
       "model_id": "334216c4f25d4468813628f48d60aa92",
       "version_major": 2,
       "version_minor": 0
      },
      "text/plain": [
       "Predicting: 72it [00:00, ?it/s]"
      ]
     },
     "metadata": {},
     "output_type": "display_data"
    },
    {
     "name": "stderr",
     "output_type": "stream",
     "text": [
      "INFO - (NP.df_utils.return_df_in_original_format) - Returning df with no ID column\n",
      "\u001b[32m[I 2023-03-02 14:32:14,751]\u001b[0m Trial 96 finished with value: 91617.0 and parameters: {'trend_reg': 9.999374283587393, 'seasonality_reg': 2.7965767113012476, 'seasonality_mode': 'multiplicative', 'yearly_seasonality': 34, 'weekly_seasonality': 5, 'n_lags': 78, 'ar_reg': 8.013933331003964, 'learning_rate': 0.28680481503816657, 'num_hidden_layers': 0, 'regularization': 0.21301673981683325}. Best is trial 87 with value: 15985.0.\u001b[0m\n",
      "INFO - (NP.config.__post_init__) - Note: Trend changepoint regularization is experimental.\n",
      "INFO - (NP.config.__post_init__) - Note: Fourier-based seasonality regularization is experimental.\n",
      "INFO - (NP.forecaster.add_lagged_regressor) - n_lags = 'auto', number of lags for regressor is set to Autoregression number of lags (223)\n",
      "INFO - (NP.df_utils.return_df_in_original_format) - Returning df with no ID column\n",
      "INFO - (NP.df_utils.return_df_in_original_format) - Returning df with no ID column\n",
      "WARNING - (NP.forecaster.fit) - When Global modeling with local normalization, metrics are displayed in normalized scale.\n",
      "INFO - (NP.df_utils._infer_frequency) - Major frequency D corresponds to 99.963% of the data.\n",
      "INFO - (NP.df_utils._infer_frequency) - Defined frequency is equal to major frequency - D\n",
      "INFO - (NP.config.init_data_params) - Setting normalization to global as only one dataframe provided for training.\n",
      "INFO - (NP.config.set_auto_batch_epoch) - Auto-set batch_size to 32\n",
      "INFO - (NP.config.set_auto_batch_epoch) - Auto-set epochs to 154\n"
     ]
    },
    {
     "data": {
      "application/vnd.jupyter.widget-view+json": {
       "model_id": "9ce4c86d55764d92a44ca766293fcba9",
       "version_major": 2,
       "version_minor": 0
      },
      "text/plain": [
       "Training: 0it [00:00, ?it/s]"
      ]
     },
     "metadata": {},
     "output_type": "display_data"
    },
    {
     "name": "stderr",
     "output_type": "stream",
     "text": [
      "INFO - (NP.df_utils._infer_frequency) - Major frequency D corresponds to 99.963% of the data.\n",
      "INFO - (NP.df_utils._infer_frequency) - Defined frequency is equal to major frequency - D\n",
      "INFO - (NP.df_utils.return_df_in_original_format) - Returning df with no ID column\n",
      "INFO - (NP.df_utils._infer_frequency) - Major frequency D corresponds to 99.83% of the data.\n",
      "INFO - (NP.df_utils._infer_frequency) - Defined frequency is equal to major frequency - D\n",
      "INFO - (NP.df_utils._infer_frequency) - Major frequency D corresponds to 99.83% of the data.\n",
      "INFO - (NP.df_utils._infer_frequency) - Defined frequency is equal to major frequency - D\n"
     ]
    },
    {
     "data": {
      "application/vnd.jupyter.widget-view+json": {
       "model_id": "e3262d8364234efc94783786655b2f2a",
       "version_major": 2,
       "version_minor": 0
      },
      "text/plain": [
       "Predicting: 68it [00:00, ?it/s]"
      ]
     },
     "metadata": {},
     "output_type": "display_data"
    },
    {
     "name": "stderr",
     "output_type": "stream",
     "text": [
      "INFO - (NP.df_utils.return_df_in_original_format) - Returning df with no ID column\n",
      "\u001b[32m[I 2023-03-02 14:34:26,913]\u001b[0m Trial 97 finished with value: 23796.0 and parameters: {'trend_reg': 9.720311997051057, 'seasonality_reg': 4.33514549164375, 'seasonality_mode': 'multiplicative', 'yearly_seasonality': 30, 'weekly_seasonality': 4, 'n_lags': 223, 'ar_reg': 8.22843115139858, 'learning_rate': 0.9338574805304422, 'num_hidden_layers': 0, 'regularization': 0.1467394109018128}. Best is trial 87 with value: 15985.0.\u001b[0m\n",
      "INFO - (NP.config.__post_init__) - Note: Trend changepoint regularization is experimental.\n",
      "INFO - (NP.config.__post_init__) - Note: Fourier-based seasonality regularization is experimental.\n",
      "INFO - (NP.forecaster.add_lagged_regressor) - n_lags = 'auto', number of lags for regressor is set to Autoregression number of lags (282)\n",
      "INFO - (NP.df_utils.return_df_in_original_format) - Returning df with no ID column\n",
      "INFO - (NP.df_utils.return_df_in_original_format) - Returning df with no ID column\n",
      "WARNING - (NP.forecaster.fit) - When Global modeling with local normalization, metrics are displayed in normalized scale.\n",
      "INFO - (NP.df_utils._infer_frequency) - Major frequency D corresponds to 99.963% of the data.\n",
      "INFO - (NP.df_utils._infer_frequency) - Defined frequency is equal to major frequency - D\n",
      "INFO - (NP.config.init_data_params) - Setting normalization to global as only one dataframe provided for training.\n",
      "INFO - (NP.config.set_auto_batch_epoch) - Auto-set batch_size to 32\n",
      "INFO - (NP.config.set_auto_batch_epoch) - Auto-set epochs to 156\n"
     ]
    },
    {
     "data": {
      "application/vnd.jupyter.widget-view+json": {
       "model_id": "1513059a021947558ad50de6a54ea18a",
       "version_major": 2,
       "version_minor": 0
      },
      "text/plain": [
       "Training: 0it [00:00, ?it/s]"
      ]
     },
     "metadata": {},
     "output_type": "display_data"
    },
    {
     "name": "stderr",
     "output_type": "stream",
     "text": [
      "INFO - (NP.df_utils._infer_frequency) - Major frequency D corresponds to 99.963% of the data.\n",
      "INFO - (NP.df_utils._infer_frequency) - Defined frequency is equal to major frequency - D\n",
      "INFO - (NP.df_utils.return_df_in_original_format) - Returning df with no ID column\n",
      "INFO - (NP.df_utils._infer_frequency) - Major frequency D corresponds to 99.845% of the data.\n",
      "INFO - (NP.df_utils._infer_frequency) - Defined frequency is equal to major frequency - D\n",
      "INFO - (NP.df_utils._infer_frequency) - Major frequency D corresponds to 99.845% of the data.\n",
      "INFO - (NP.df_utils._infer_frequency) - Defined frequency is equal to major frequency - D\n"
     ]
    },
    {
     "data": {
      "application/vnd.jupyter.widget-view+json": {
       "model_id": "7c3929f024f84016a634f4be653c1dc4",
       "version_major": 2,
       "version_minor": 0
      },
      "text/plain": [
       "Predicting: 66it [00:00, ?it/s]"
      ]
     },
     "metadata": {},
     "output_type": "display_data"
    },
    {
     "name": "stderr",
     "output_type": "stream",
     "text": [
      "INFO - (NP.df_utils.return_df_in_original_format) - Returning df with no ID column\n",
      "\u001b[32m[I 2023-03-02 14:36:39,066]\u001b[0m Trial 98 finished with value: 25148.0 and parameters: {'trend_reg': 9.048367583787718, 'seasonality_reg': 3.488784714738819, 'seasonality_mode': 'multiplicative', 'yearly_seasonality': 32, 'weekly_seasonality': 4, 'n_lags': 282, 'ar_reg': 7.524246059694773, 'learning_rate': 0.5811794505970155, 'num_hidden_layers': 0, 'regularization': 0.09080850792735108}. Best is trial 87 with value: 15985.0.\u001b[0m\n",
      "INFO - (NP.config.__post_init__) - Note: Trend changepoint regularization is experimental.\n",
      "INFO - (NP.config.__post_init__) - Note: Fourier-based seasonality regularization is experimental.\n",
      "INFO - (NP.forecaster.add_lagged_regressor) - n_lags = 'auto', number of lags for regressor is set to Autoregression number of lags (176)\n",
      "INFO - (NP.df_utils.return_df_in_original_format) - Returning df with no ID column\n",
      "INFO - (NP.df_utils.return_df_in_original_format) - Returning df with no ID column\n",
      "WARNING - (NP.forecaster.fit) - When Global modeling with local normalization, metrics are displayed in normalized scale.\n",
      "INFO - (NP.df_utils._infer_frequency) - Major frequency D corresponds to 99.963% of the data.\n",
      "INFO - (NP.df_utils._infer_frequency) - Defined frequency is equal to major frequency - D\n",
      "INFO - (NP.config.init_data_params) - Setting normalization to global as only one dataframe provided for training.\n",
      "INFO - (NP.config.set_auto_batch_epoch) - Auto-set batch_size to 32\n",
      "INFO - (NP.config.set_auto_batch_epoch) - Auto-set epochs to 154\n"
     ]
    },
    {
     "data": {
      "application/vnd.jupyter.widget-view+json": {
       "model_id": "44c53a3532284795b000625e921fc37c",
       "version_major": 2,
       "version_minor": 0
      },
      "text/plain": [
       "Training: 0it [00:00, ?it/s]"
      ]
     },
     "metadata": {},
     "output_type": "display_data"
    },
    {
     "name": "stderr",
     "output_type": "stream",
     "text": [
      "INFO - (NP.df_utils._infer_frequency) - Major frequency D corresponds to 99.963% of the data.\n",
      "INFO - (NP.df_utils._infer_frequency) - Defined frequency is equal to major frequency - D\n",
      "INFO - (NP.df_utils.return_df_in_original_format) - Returning df with no ID column\n",
      "INFO - (NP.df_utils._infer_frequency) - Major frequency D corresponds to 99.815% of the data.\n",
      "INFO - (NP.df_utils._infer_frequency) - Defined frequency is equal to major frequency - D\n",
      "INFO - (NP.df_utils._infer_frequency) - Major frequency D corresponds to 99.815% of the data.\n",
      "INFO - (NP.df_utils._infer_frequency) - Defined frequency is equal to major frequency - D\n"
     ]
    },
    {
     "data": {
      "application/vnd.jupyter.widget-view+json": {
       "model_id": "64165c36e2ad42dc8dc52034d4ceb299",
       "version_major": 2,
       "version_minor": 0
      },
      "text/plain": [
       "Predicting: 69it [00:00, ?it/s]"
      ]
     },
     "metadata": {},
     "output_type": "display_data"
    },
    {
     "name": "stderr",
     "output_type": "stream",
     "text": [
      "INFO - (NP.df_utils.return_df_in_original_format) - Returning df with no ID column\n",
      "\u001b[32m[I 2023-03-02 14:38:59,910]\u001b[0m Trial 99 finished with value: 17780.0 and parameters: {'trend_reg': 9.61590452839159, 'seasonality_reg': 4.691774174046, 'seasonality_mode': 'multiplicative', 'yearly_seasonality': 36, 'weekly_seasonality': 2, 'n_lags': 176, 'ar_reg': 5.725993329342698, 'learning_rate': 1.287487678145931, 'num_hidden_layers': 0, 'regularization': 0.12486807700735394}. Best is trial 87 with value: 15985.0.\u001b[0m\n"
     ]
    }
   ],
   "source": [
    "# study.optimize(objective, n_trials=100)"
   ]
  },
  {
   "cell_type": "code",
   "execution_count": 15,
   "id": "a289c7a7",
   "metadata": {},
   "outputs": [
    {
     "name": "stdout",
     "output_type": "stream",
     "text": [
      "Number of finished trials: 100\n",
      "Best trial:\n",
      "  Value: 15985.0\n",
      "  Params: \n",
      "    trend_reg: 9.636339075205013\n",
      "    seasonality_reg: 4.486151242849226\n",
      "    seasonality_mode: multiplicative\n",
      "    yearly_seasonality: 29\n",
      "    weekly_seasonality: 4\n",
      "    n_lags: 126\n",
      "    ar_reg: 8.397277304863213\n",
      "    learning_rate: 1.3202851143258183\n",
      "    num_hidden_layers: 0\n",
      "    regularization: 0.1800104904245046\n"
     ]
    }
   ],
   "source": [
    "# print('Number of finished trials: {}'.format(len(study.trials)))\n",
    "# print('Best trial:')\n",
    "# trial = study.best_trial\n",
    "\n",
    "# print('  Value: {}'.format(trial.value))\n",
    "# print('  Params: ')\n",
    "# for key, value in trial.params.items():\n",
    "#     print('    {}: {}'.format(key, value))"
   ]
  },
  {
   "cell_type": "code",
   "execution_count": null,
   "id": "c9a5bf21",
   "metadata": {},
   "outputs": [],
   "source": [
    "params = {'trend_reg': 9.636339075205013,\n",
    "              'seasonality_reg': 4.486151242849226, \n",
    "              'seasonality_mode': 'multiplicative', \n",
    "              'yearly_seasonality': 29, \n",
    "              'weekly_seasonality': 4, \n",
    "              'n_lags': 126, \n",
    "              'ar_reg': 8.397277304863213, \n",
    "              'learning_rate': 1.3202851143258183, \n",
    "              'num_hidden_layers': 0, \n",
    "              'regularization': 0.1800104904245046}"
   ]
  },
  {
   "cell_type": "code",
   "execution_count": 16,
   "id": "60c1aca9",
   "metadata": {},
   "outputs": [],
   "source": [
    "regularization = params.pop('regularization')"
   ]
  },
  {
   "cell_type": "code",
   "execution_count": 18,
   "id": "8beb4f6e",
   "metadata": {},
   "outputs": [],
   "source": [
    "# params = study2.trials[4].params\n",
    "# params = trial.params"
   ]
  },
  {
   "cell_type": "code",
   "execution_count": 19,
   "id": "6f0b31b6",
   "metadata": {},
   "outputs": [],
   "source": [
    "set_random_seed(99)"
   ]
  },
  {
   "cell_type": "code",
   "execution_count": 20,
   "id": "65da4382",
   "metadata": {},
   "outputs": [
    {
     "name": "stderr",
     "output_type": "stream",
     "text": [
      "INFO - (NP.config.__post_init__) - Note: Trend changepoint regularization is experimental.\n",
      "INFO - (NP.config.__post_init__) - Note: Fourier-based seasonality regularization is experimental.\n",
      "INFO - (NP.forecaster.add_lagged_regressor) - n_lags = 'auto', number of lags for regressor is set to Autoregression number of lags (126)\n",
      "INFO - (NP.df_utils.return_df_in_original_format) - Returning df with no ID column\n",
      "INFO - (NP.df_utils.return_df_in_original_format) - Returning df with no ID column\n",
      "INFO - (NP.df_utils.return_df_in_original_format) - Returning df with no ID column\n"
     ]
    }
   ],
   "source": [
    "m = NeuralProphet(**params, changepoints = changepoints, daily_seasonality = False, n_forecasts = 365)\n",
    "m.add_events(events = ['covid_1','covid_2','covid_3','covid_4'], mode='multiplicative')\n",
    "m.add_events(events = ['Labor','Lunar','Summer'], mode='multiplicative')\n",
    "m.add_lagged_regressor('seat', regularization = regularization)\n",
    "\n",
    "# create the data df with events\n",
    "train_df = m.create_df_with_events(train, train_holidays)\n",
    "val_df = m.create_df_with_events(val, val_holidays)\n",
    "train_val_df = pd.concat([train_df,val_df])\n",
    "test_df = m.create_df_with_events(test, test_holidays)"
   ]
  },
  {
   "cell_type": "code",
   "execution_count": 21,
   "id": "65b907ef",
   "metadata": {},
   "outputs": [
    {
     "name": "stderr",
     "output_type": "stream",
     "text": [
      "WARNING - (NP.forecaster.fit) - When Global modeling with local normalization, metrics are displayed in normalized scale.\n",
      "INFO - (NP.df_utils._infer_frequency) - Major frequency D corresponds to 99.966% of the data.\n",
      "INFO - (NP.df_utils._infer_frequency) - Defined frequency is equal to major frequency - D\n",
      "INFO - (NP.config.init_data_params) - Setting normalization to global as only one dataframe provided for training.\n",
      "INFO - (NP.config.set_auto_batch_epoch) - Auto-set batch_size to 32\n",
      "INFO - (NP.config.set_auto_batch_epoch) - Auto-set epochs to 149\n"
     ]
    },
    {
     "data": {
      "application/vnd.jupyter.widget-view+json": {
       "model_id": "789e7d7c02e045d2b8f66455f77c4cab",
       "version_major": 2,
       "version_minor": 0
      },
      "text/plain": [
       "Training: 0it [00:00, ?it/s]"
      ]
     },
     "metadata": {},
     "output_type": "display_data"
    },
    {
     "data": {
      "image/png": "[encoded data removed]",
      "text/plain": [
       "<Figure size 432x288 with 1 Axes>"
      ]
     },
     "metadata": {
      "needs_background": "light"
     },
     "output_type": "display_data"
    }
   ],
   "source": [
    "metrics = m.fit(train_val_df,\n",
    "                freq=\"D\",\n",
    "                progress=\"plot\")"
   ]
  },
  {
   "cell_type": "code",
   "execution_count": 22,
   "id": "6b6859c8",
   "metadata": {},
   "outputs": [
    {
     "name": "stderr",
     "output_type": "stream",
     "text": [
      "WARNING - (NP.plotting.log_warning_deprecation_plotly) - DeprecationWarning: default plotting_backend will be changed to plotly in a future version. Switch to plotly by calling `m.set_plotting_backend('plotly')`.\n"
     ]
    },
    {
     "data": {
      "image/png": "[encoded data removed]",
      "text/plain": [
       "<Figure size 720x1296 with 6 Axes>"
      ]
     },
     "metadata": {},
     "output_type": "display_data"
    }
   ],
   "source": [
    "fig_param = m.plot_parameters()"
   ]
  },
  {
   "cell_type": "code",
   "execution_count": 23,
   "id": "ed33e405",
   "metadata": {},
   "outputs": [
    {
     "name": "stderr",
     "output_type": "stream",
     "text": [
      "INFO - (NP.df_utils._infer_frequency) - Major frequency D corresponds to 99.966% of the data.\n",
      "INFO - (NP.df_utils._infer_frequency) - Defined frequency is equal to major frequency - D\n",
      "INFO - (NP.df_utils.return_df_in_original_format) - Returning df with no ID column\n"
     ]
    }
   ],
   "source": [
    "future = m.make_future_dataframe(train_val_df, n_historic_predictions=True, events_df=holidays)"
   ]
  },
  {
   "cell_type": "code",
   "execution_count": 24,
   "id": "14b804d1",
   "metadata": {},
   "outputs": [
    {
     "data": {
      "text/html": [
       "<div>\n",
       "<style scoped>\n",
       "    .dataframe tbody tr th:only-of-type {\n",
       "        vertical-align: middle;\n",
       "    }\n",
       "\n",
       "    .dataframe tbody tr th {\n",
       "        vertical-align: top;\n",
       "    }\n",
       "\n",
       "    .dataframe thead th {\n",
       "        text-align: right;\n",
       "    }\n",
       "</style>\n",
       "<table border=\"1\" class=\"dataframe\">\n",
       "  <thead>\n",
       "    <tr style=\"text-align: right;\">\n",
       "      <th></th>\n",
       "      <th>ds</th>\n",
       "      <th>y</th>\n",
       "      <th>seat</th>\n",
       "      <th>covid_1</th>\n",
       "      <th>covid_2</th>\n",
       "      <th>covid_3</th>\n",
       "      <th>covid_4</th>\n",
       "      <th>Labor</th>\n",
       "      <th>Lunar</th>\n",
       "      <th>Summer</th>\n",
       "    </tr>\n",
       "  </thead>\n",
       "  <tbody>\n",
       "    <tr>\n",
       "      <th>2922</th>\n",
       "      <td>2023-01-01</td>\n",
       "      <td>None</td>\n",
       "      <td>None</td>\n",
       "      <td>0</td>\n",
       "      <td>0</td>\n",
       "      <td>0</td>\n",
       "      <td>0</td>\n",
       "      <td>0</td>\n",
       "      <td>0</td>\n",
       "      <td>0</td>\n",
       "    </tr>\n",
       "    <tr>\n",
       "      <th>2923</th>\n",
       "      <td>2023-01-02</td>\n",
       "      <td>None</td>\n",
       "      <td>None</td>\n",
       "      <td>0</td>\n",
       "      <td>0</td>\n",
       "      <td>0</td>\n",
       "      <td>0</td>\n",
       "      <td>0</td>\n",
       "      <td>0</td>\n",
       "      <td>0</td>\n",
       "    </tr>\n",
       "    <tr>\n",
       "      <th>2924</th>\n",
       "      <td>2023-01-03</td>\n",
       "      <td>None</td>\n",
       "      <td>None</td>\n",
       "      <td>0</td>\n",
       "      <td>0</td>\n",
       "      <td>0</td>\n",
       "      <td>0</td>\n",
       "      <td>0</td>\n",
       "      <td>0</td>\n",
       "      <td>0</td>\n",
       "    </tr>\n",
       "    <tr>\n",
       "      <th>2925</th>\n",
       "      <td>2023-01-04</td>\n",
       "      <td>None</td>\n",
       "      <td>None</td>\n",
       "      <td>0</td>\n",
       "      <td>0</td>\n",
       "      <td>0</td>\n",
       "      <td>0</td>\n",
       "      <td>0</td>\n",
       "      <td>0</td>\n",
       "      <td>0</td>\n",
       "    </tr>\n",
       "    <tr>\n",
       "      <th>2926</th>\n",
       "      <td>2023-01-05</td>\n",
       "      <td>None</td>\n",
       "      <td>None</td>\n",
       "      <td>0</td>\n",
       "      <td>0</td>\n",
       "      <td>0</td>\n",
       "      <td>0</td>\n",
       "      <td>0</td>\n",
       "      <td>0</td>\n",
       "      <td>0</td>\n",
       "    </tr>\n",
       "    <tr>\n",
       "      <th>2927</th>\n",
       "      <td>2023-01-06</td>\n",
       "      <td>None</td>\n",
       "      <td>None</td>\n",
       "      <td>0</td>\n",
       "      <td>0</td>\n",
       "      <td>0</td>\n",
       "      <td>0</td>\n",
       "      <td>0</td>\n",
       "      <td>0</td>\n",
       "      <td>0</td>\n",
       "    </tr>\n",
       "    <tr>\n",
       "      <th>2928</th>\n",
       "      <td>2023-01-07</td>\n",
       "      <td>None</td>\n",
       "      <td>None</td>\n",
       "      <td>0</td>\n",
       "      <td>0</td>\n",
       "      <td>0</td>\n",
       "      <td>0</td>\n",
       "      <td>0</td>\n",
       "      <td>0</td>\n",
       "      <td>0</td>\n",
       "    </tr>\n",
       "    <tr>\n",
       "      <th>2929</th>\n",
       "      <td>2023-01-08</td>\n",
       "      <td>None</td>\n",
       "      <td>None</td>\n",
       "      <td>0</td>\n",
       "      <td>0</td>\n",
       "      <td>0</td>\n",
       "      <td>0</td>\n",
       "      <td>0</td>\n",
       "      <td>0</td>\n",
       "      <td>0</td>\n",
       "    </tr>\n",
       "    <tr>\n",
       "      <th>2930</th>\n",
       "      <td>2023-01-09</td>\n",
       "      <td>None</td>\n",
       "      <td>None</td>\n",
       "      <td>0</td>\n",
       "      <td>0</td>\n",
       "      <td>0</td>\n",
       "      <td>0</td>\n",
       "      <td>0</td>\n",
       "      <td>0</td>\n",
       "      <td>0</td>\n",
       "    </tr>\n",
       "    <tr>\n",
       "      <th>2931</th>\n",
       "      <td>2023-01-10</td>\n",
       "      <td>None</td>\n",
       "      <td>None</td>\n",
       "      <td>0</td>\n",
       "      <td>0</td>\n",
       "      <td>0</td>\n",
       "      <td>0</td>\n",
       "      <td>0</td>\n",
       "      <td>0</td>\n",
       "      <td>0</td>\n",
       "    </tr>\n",
       "    <tr>\n",
       "      <th>2932</th>\n",
       "      <td>2023-01-11</td>\n",
       "      <td>None</td>\n",
       "      <td>None</td>\n",
       "      <td>0</td>\n",
       "      <td>0</td>\n",
       "      <td>0</td>\n",
       "      <td>0</td>\n",
       "      <td>0</td>\n",
       "      <td>0</td>\n",
       "      <td>0</td>\n",
       "    </tr>\n",
       "    <tr>\n",
       "      <th>2933</th>\n",
       "      <td>2023-01-12</td>\n",
       "      <td>None</td>\n",
       "      <td>None</td>\n",
       "      <td>0</td>\n",
       "      <td>0</td>\n",
       "      <td>0</td>\n",
       "      <td>0</td>\n",
       "      <td>0</td>\n",
       "      <td>0</td>\n",
       "      <td>0</td>\n",
       "    </tr>\n",
       "    <tr>\n",
       "      <th>2934</th>\n",
       "      <td>2023-01-13</td>\n",
       "      <td>None</td>\n",
       "      <td>None</td>\n",
       "      <td>0</td>\n",
       "      <td>0</td>\n",
       "      <td>0</td>\n",
       "      <td>0</td>\n",
       "      <td>0</td>\n",
       "      <td>0</td>\n",
       "      <td>0</td>\n",
       "    </tr>\n",
       "    <tr>\n",
       "      <th>2935</th>\n",
       "      <td>2023-01-14</td>\n",
       "      <td>None</td>\n",
       "      <td>None</td>\n",
       "      <td>0</td>\n",
       "      <td>0</td>\n",
       "      <td>0</td>\n",
       "      <td>0</td>\n",
       "      <td>0</td>\n",
       "      <td>0</td>\n",
       "      <td>0</td>\n",
       "    </tr>\n",
       "    <tr>\n",
       "      <th>2936</th>\n",
       "      <td>2023-01-15</td>\n",
       "      <td>None</td>\n",
       "      <td>None</td>\n",
       "      <td>0</td>\n",
       "      <td>0</td>\n",
       "      <td>0</td>\n",
       "      <td>0</td>\n",
       "      <td>0</td>\n",
       "      <td>1</td>\n",
       "      <td>0</td>\n",
       "    </tr>\n",
       "    <tr>\n",
       "      <th>2937</th>\n",
       "      <td>2023-01-16</td>\n",
       "      <td>None</td>\n",
       "      <td>None</td>\n",
       "      <td>0</td>\n",
       "      <td>0</td>\n",
       "      <td>0</td>\n",
       "      <td>0</td>\n",
       "      <td>0</td>\n",
       "      <td>1</td>\n",
       "      <td>0</td>\n",
       "    </tr>\n",
       "    <tr>\n",
       "      <th>2938</th>\n",
       "      <td>2023-01-17</td>\n",
       "      <td>None</td>\n",
       "      <td>None</td>\n",
       "      <td>0</td>\n",
       "      <td>0</td>\n",
       "      <td>0</td>\n",
       "      <td>0</td>\n",
       "      <td>0</td>\n",
       "      <td>1</td>\n",
       "      <td>0</td>\n",
       "    </tr>\n",
       "    <tr>\n",
       "      <th>2939</th>\n",
       "      <td>2023-01-18</td>\n",
       "      <td>None</td>\n",
       "      <td>None</td>\n",
       "      <td>0</td>\n",
       "      <td>0</td>\n",
       "      <td>0</td>\n",
       "      <td>0</td>\n",
       "      <td>0</td>\n",
       "      <td>1</td>\n",
       "      <td>0</td>\n",
       "    </tr>\n",
       "    <tr>\n",
       "      <th>2940</th>\n",
       "      <td>2023-01-19</td>\n",
       "      <td>None</td>\n",
       "      <td>None</td>\n",
       "      <td>0</td>\n",
       "      <td>0</td>\n",
       "      <td>0</td>\n",
       "      <td>0</td>\n",
       "      <td>0</td>\n",
       "      <td>1</td>\n",
       "      <td>0</td>\n",
       "    </tr>\n",
       "    <tr>\n",
       "      <th>2941</th>\n",
       "      <td>2023-01-20</td>\n",
       "      <td>None</td>\n",
       "      <td>None</td>\n",
       "      <td>0</td>\n",
       "      <td>0</td>\n",
       "      <td>0</td>\n",
       "      <td>0</td>\n",
       "      <td>0</td>\n",
       "      <td>1</td>\n",
       "      <td>0</td>\n",
       "    </tr>\n",
       "    <tr>\n",
       "      <th>2942</th>\n",
       "      <td>2023-01-21</td>\n",
       "      <td>None</td>\n",
       "      <td>None</td>\n",
       "      <td>0</td>\n",
       "      <td>0</td>\n",
       "      <td>0</td>\n",
       "      <td>0</td>\n",
       "      <td>0</td>\n",
       "      <td>1</td>\n",
       "      <td>0</td>\n",
       "    </tr>\n",
       "    <tr>\n",
       "      <th>2943</th>\n",
       "      <td>2023-01-22</td>\n",
       "      <td>None</td>\n",
       "      <td>None</td>\n",
       "      <td>0</td>\n",
       "      <td>0</td>\n",
       "      <td>0</td>\n",
       "      <td>0</td>\n",
       "      <td>0</td>\n",
       "      <td>1</td>\n",
       "      <td>0</td>\n",
       "    </tr>\n",
       "    <tr>\n",
       "      <th>2944</th>\n",
       "      <td>2023-01-23</td>\n",
       "      <td>None</td>\n",
       "      <td>None</td>\n",
       "      <td>0</td>\n",
       "      <td>0</td>\n",
       "      <td>0</td>\n",
       "      <td>0</td>\n",
       "      <td>0</td>\n",
       "      <td>1</td>\n",
       "      <td>0</td>\n",
       "    </tr>\n",
       "    <tr>\n",
       "      <th>2945</th>\n",
       "      <td>2023-01-24</td>\n",
       "      <td>None</td>\n",
       "      <td>None</td>\n",
       "      <td>0</td>\n",
       "      <td>0</td>\n",
       "      <td>0</td>\n",
       "      <td>0</td>\n",
       "      <td>0</td>\n",
       "      <td>1</td>\n",
       "      <td>0</td>\n",
       "    </tr>\n",
       "    <tr>\n",
       "      <th>2946</th>\n",
       "      <td>2023-01-25</td>\n",
       "      <td>None</td>\n",
       "      <td>None</td>\n",
       "      <td>0</td>\n",
       "      <td>0</td>\n",
       "      <td>0</td>\n",
       "      <td>0</td>\n",
       "      <td>0</td>\n",
       "      <td>1</td>\n",
       "      <td>0</td>\n",
       "    </tr>\n",
       "    <tr>\n",
       "      <th>2947</th>\n",
       "      <td>2023-01-26</td>\n",
       "      <td>None</td>\n",
       "      <td>None</td>\n",
       "      <td>0</td>\n",
       "      <td>0</td>\n",
       "      <td>0</td>\n",
       "      <td>0</td>\n",
       "      <td>0</td>\n",
       "      <td>1</td>\n",
       "      <td>0</td>\n",
       "    </tr>\n",
       "    <tr>\n",
       "      <th>2948</th>\n",
       "      <td>2023-01-27</td>\n",
       "      <td>None</td>\n",
       "      <td>None</td>\n",
       "      <td>0</td>\n",
       "      <td>0</td>\n",
       "      <td>0</td>\n",
       "      <td>0</td>\n",
       "      <td>0</td>\n",
       "      <td>1</td>\n",
       "      <td>0</td>\n",
       "    </tr>\n",
       "    <tr>\n",
       "      <th>2949</th>\n",
       "      <td>2023-01-28</td>\n",
       "      <td>None</td>\n",
       "      <td>None</td>\n",
       "      <td>0</td>\n",
       "      <td>0</td>\n",
       "      <td>0</td>\n",
       "      <td>0</td>\n",
       "      <td>0</td>\n",
       "      <td>1</td>\n",
       "      <td>0</td>\n",
       "    </tr>\n",
       "    <tr>\n",
       "      <th>2950</th>\n",
       "      <td>2023-01-29</td>\n",
       "      <td>None</td>\n",
       "      <td>None</td>\n",
       "      <td>0</td>\n",
       "      <td>0</td>\n",
       "      <td>0</td>\n",
       "      <td>0</td>\n",
       "      <td>0</td>\n",
       "      <td>1</td>\n",
       "      <td>0</td>\n",
       "    </tr>\n",
       "    <tr>\n",
       "      <th>2951</th>\n",
       "      <td>2023-01-30</td>\n",
       "      <td>None</td>\n",
       "      <td>None</td>\n",
       "      <td>0</td>\n",
       "      <td>0</td>\n",
       "      <td>0</td>\n",
       "      <td>0</td>\n",
       "      <td>0</td>\n",
       "      <td>1</td>\n",
       "      <td>0</td>\n",
       "    </tr>\n",
       "    <tr>\n",
       "      <th>2952</th>\n",
       "      <td>2023-01-31</td>\n",
       "      <td>None</td>\n",
       "      <td>None</td>\n",
       "      <td>0</td>\n",
       "      <td>0</td>\n",
       "      <td>0</td>\n",
       "      <td>0</td>\n",
       "      <td>0</td>\n",
       "      <td>1</td>\n",
       "      <td>0</td>\n",
       "    </tr>\n",
       "  </tbody>\n",
       "</table>\n",
       "</div>"
      ],
      "text/plain": [
       "             ds     y  seat              covid_1              covid_2  \\\n",
       "2922 2023-01-01  None  None                    0                    0   \n",
       "2923 2023-01-02  None  None                    0                    0   \n",
       "2924 2023-01-03  None  None                    0                    0   \n",
       "2925 2023-01-04  None  None                    0                    0   \n",
       "2926 2023-01-05  None  None                    0                    0   \n",
       "2927 2023-01-06  None  None                    0                    0   \n",
       "2928 2023-01-07  None  None                    0                    0   \n",
       "2929 2023-01-08  None  None                    0                    0   \n",
       "2930 2023-01-09  None  None                    0                    0   \n",
       "2931 2023-01-10  None  None                    0                    0   \n",
       "2932 2023-01-11  None  None                    0                    0   \n",
       "2933 2023-01-12  None  None                    0                    0   \n",
       "2934 2023-01-13  None  None                    0                    0   \n",
       "2935 2023-01-14  None  None                    0                    0   \n",
       "2936 2023-01-15  None  None                    0                    0   \n",
       "2937 2023-01-16  None  None                    0                    0   \n",
       "2938 2023-01-17  None  None                    0                    0   \n",
       "2939 2023-01-18  None  None                    0                    0   \n",
       "2940 2023-01-19  None  None                    0                    0   \n",
       "2941 2023-01-20  None  None                    0                    0   \n",
       "2942 2023-01-21  None  None                    0                    0   \n",
       "2943 2023-01-22  None  None                    0                    0   \n",
       "2944 2023-01-23  None  None                    0                    0   \n",
       "2945 2023-01-24  None  None                    0                    0   \n",
       "2946 2023-01-25  None  None                    0                    0   \n",
       "2947 2023-01-26  None  None                    0                    0   \n",
       "2948 2023-01-27  None  None                    0                    0   \n",
       "2949 2023-01-28  None  None                    0                    0   \n",
       "2950 2023-01-29  None  None                    0                    0   \n",
       "2951 2023-01-30  None  None                    0                    0   \n",
       "2952 2023-01-31  None  None                    0                    0   \n",
       "\n",
       "                  covid_3              covid_4                Labor  \\\n",
       "2922                    0                    0                    0   \n",
       "2923                    0                    0                    0   \n",
       "2924                    0                    0                    0   \n",
       "2925                    0                    0                    0   \n",
       "2926                    0                    0                    0   \n",
       "2927                    0                    0                    0   \n",
       "2928                    0                    0                    0   \n",
       "2929                    0                    0                    0   \n",
       "2930                    0                    0                    0   \n",
       "2931                    0                    0                    0   \n",
       "2932                    0                    0                    0   \n",
       "2933                    0                    0                    0   \n",
       "2934                    0                    0                    0   \n",
       "2935                    0                    0                    0   \n",
       "2936                    0                    0                    0   \n",
       "2937                    0                    0                    0   \n",
       "2938                    0                    0                    0   \n",
       "2939                    0                    0                    0   \n",
       "2940                    0                    0                    0   \n",
       "2941                    0                    0                    0   \n",
       "2942                    0                    0                    0   \n",
       "2943                    0                    0                    0   \n",
       "2944                    0                    0                    0   \n",
       "2945                    0                    0                    0   \n",
       "2946                    0                    0                    0   \n",
       "2947                    0                    0                    0   \n",
       "2948                    0                    0                    0   \n",
       "2949                    0                    0                    0   \n",
       "2950                    0                    0                    0   \n",
       "2951                    0                    0                    0   \n",
       "2952                    0                    0                    0   \n",
       "\n",
       "                    Lunar               Summer  \n",
       "2922                    0                    0  \n",
       "2923                    0                    0  \n",
       "2924                    0                    0  \n",
       "2925                    0                    0  \n",
       "2926                    0                    0  \n",
       "2927                    0                    0  \n",
       "2928                    0                    0  \n",
       "2929                    0                    0  \n",
       "2930                    0                    0  \n",
       "2931                    0                    0  \n",
       "2932                    0                    0  \n",
       "2933                    0                    0  \n",
       "2934                    0                    0  \n",
       "2935                    0                    0  \n",
       "2936                    1                    0  \n",
       "2937                    1                    0  \n",
       "2938                    1                    0  \n",
       "2939                    1                    0  \n",
       "2940                    1                    0  \n",
       "2941                    1                    0  \n",
       "2942                    1                    0  \n",
       "2943                    1                    0  \n",
       "2944                    1                    0  \n",
       "2945                    1                    0  \n",
       "2946                    1                    0  \n",
       "2947                    1                    0  \n",
       "2948                    1                    0  \n",
       "2949                    1                    0  \n",
       "2950                    1                    0  \n",
       "2951                    1                    0  \n",
       "2952                    1                    0  "
      ]
     },
     "execution_count": 24,
     "metadata": {},
     "output_type": "execute_result"
    }
   ],
   "source": [
    "future[(future['ds']>='2023-01-01')&(future['ds']<'2023-02-01')]"
   ]
  },
  {
   "cell_type": "code",
   "execution_count": 25,
   "id": "a414f80c",
   "metadata": {},
   "outputs": [
    {
     "name": "stderr",
     "output_type": "stream",
     "text": [
      "INFO - (NP.df_utils._infer_frequency) - Major frequency D corresponds to 99.97% of the data.\n",
      "INFO - (NP.df_utils._infer_frequency) - Defined frequency is equal to major frequency - D\n",
      "INFO - (NP.df_utils._infer_frequency) - Major frequency D corresponds to 99.97% of the data.\n",
      "INFO - (NP.df_utils._infer_frequency) - Defined frequency is equal to major frequency - D\n"
     ]
    },
    {
     "data": {
      "application/vnd.jupyter.widget-view+json": {
       "model_id": "9e261119a2b0412899f94b709717d2c8",
       "version_major": 2,
       "version_minor": 0
      },
      "text/plain": [
       "Predicting: 76it [00:00, ?it/s]"
      ]
     },
     "metadata": {},
     "output_type": "display_data"
    },
    {
     "name": "stderr",
     "output_type": "stream",
     "text": [
      "INFO - (NP.df_utils.return_df_in_original_format) - Returning df with no ID column\n",
      "WARNING - (NP.plotting.log_warning_deprecation_plotly) - DeprecationWarning: default plotting_backend will be changed to plotly in a future version. Switch to plotly by calling `m.set_plotting_backend('plotly')`.\n",
      "WARNING - (NP.plotting.plot) - Legend is available only for the ten first handles\n"
     ]
    },
    {
     "data": {
      "image/png": "[encoded data removed]",
      "text/plain": [
       "<Figure size 720x432 with 1 Axes>"
      ]
     },
     "metadata": {},
     "output_type": "display_data"
    }
   ],
   "source": [
    "forecast = m.predict(future, decompose = False)\n",
    "fig = m.plot(forecast)"
   ]
  },
  {
   "cell_type": "code",
   "execution_count": 26,
   "id": "1559dac5",
   "metadata": {},
   "outputs": [
    {
     "data": {
      "text/html": [
       "<div>\n",
       "<style scoped>\n",
       "    .dataframe tbody tr th:only-of-type {\n",
       "        vertical-align: middle;\n",
       "    }\n",
       "\n",
       "    .dataframe tbody tr th {\n",
       "        vertical-align: top;\n",
       "    }\n",
       "\n",
       "    .dataframe thead th {\n",
       "        text-align: right;\n",
       "    }\n",
       "</style>\n",
       "<table border=\"1\" class=\"dataframe\">\n",
       "  <thead>\n",
       "    <tr style=\"text-align: right;\">\n",
       "      <th></th>\n",
       "      <th>ds</th>\n",
       "      <th>y</th>\n",
       "      <th>yhat1</th>\n",
       "      <th>yhat2</th>\n",
       "      <th>yhat3</th>\n",
       "      <th>yhat4</th>\n",
       "      <th>yhat5</th>\n",
       "      <th>yhat6</th>\n",
       "      <th>yhat7</th>\n",
       "      <th>yhat8</th>\n",
       "      <th>...</th>\n",
       "      <th>yhat356</th>\n",
       "      <th>yhat357</th>\n",
       "      <th>yhat358</th>\n",
       "      <th>yhat359</th>\n",
       "      <th>yhat360</th>\n",
       "      <th>yhat361</th>\n",
       "      <th>yhat362</th>\n",
       "      <th>yhat363</th>\n",
       "      <th>yhat364</th>\n",
       "      <th>yhat365</th>\n",
       "    </tr>\n",
       "  </thead>\n",
       "  <tbody>\n",
       "    <tr>\n",
       "      <th>0</th>\n",
       "      <td>2015-01-01</td>\n",
       "      <td>52,356</td>\n",
       "      <td>NaN</td>\n",
       "      <td>NaN</td>\n",
       "      <td>NaN</td>\n",
       "      <td>NaN</td>\n",
       "      <td>NaN</td>\n",
       "      <td>NaN</td>\n",
       "      <td>NaN</td>\n",
       "      <td>NaN</td>\n",
       "      <td>...</td>\n",
       "      <td>NaN</td>\n",
       "      <td>NaN</td>\n",
       "      <td>NaN</td>\n",
       "      <td>NaN</td>\n",
       "      <td>NaN</td>\n",
       "      <td>NaN</td>\n",
       "      <td>NaN</td>\n",
       "      <td>NaN</td>\n",
       "      <td>NaN</td>\n",
       "      <td>NaN</td>\n",
       "    </tr>\n",
       "    <tr>\n",
       "      <th>1</th>\n",
       "      <td>2015-01-02</td>\n",
       "      <td>47,811</td>\n",
       "      <td>NaN</td>\n",
       "      <td>NaN</td>\n",
       "      <td>NaN</td>\n",
       "      <td>NaN</td>\n",
       "      <td>NaN</td>\n",
       "      <td>NaN</td>\n",
       "      <td>NaN</td>\n",
       "      <td>NaN</td>\n",
       "      <td>...</td>\n",
       "      <td>NaN</td>\n",
       "      <td>NaN</td>\n",
       "      <td>NaN</td>\n",
       "      <td>NaN</td>\n",
       "      <td>NaN</td>\n",
       "      <td>NaN</td>\n",
       "      <td>NaN</td>\n",
       "      <td>NaN</td>\n",
       "      <td>NaN</td>\n",
       "      <td>NaN</td>\n",
       "    </tr>\n",
       "    <tr>\n",
       "      <th>2</th>\n",
       "      <td>2015-01-03</td>\n",
       "      <td>49,555</td>\n",
       "      <td>NaN</td>\n",
       "      <td>NaN</td>\n",
       "      <td>NaN</td>\n",
       "      <td>NaN</td>\n",
       "      <td>NaN</td>\n",
       "      <td>NaN</td>\n",
       "      <td>NaN</td>\n",
       "      <td>NaN</td>\n",
       "      <td>...</td>\n",
       "      <td>NaN</td>\n",
       "      <td>NaN</td>\n",
       "      <td>NaN</td>\n",
       "      <td>NaN</td>\n",
       "      <td>NaN</td>\n",
       "      <td>NaN</td>\n",
       "      <td>NaN</td>\n",
       "      <td>NaN</td>\n",
       "      <td>NaN</td>\n",
       "      <td>NaN</td>\n",
       "    </tr>\n",
       "    <tr>\n",
       "      <th>3</th>\n",
       "      <td>2015-01-04</td>\n",
       "      <td>57,680</td>\n",
       "      <td>NaN</td>\n",
       "      <td>NaN</td>\n",
       "      <td>NaN</td>\n",
       "      <td>NaN</td>\n",
       "      <td>NaN</td>\n",
       "      <td>NaN</td>\n",
       "      <td>NaN</td>\n",
       "      <td>NaN</td>\n",
       "      <td>...</td>\n",
       "      <td>NaN</td>\n",
       "      <td>NaN</td>\n",
       "      <td>NaN</td>\n",
       "      <td>NaN</td>\n",
       "      <td>NaN</td>\n",
       "      <td>NaN</td>\n",
       "      <td>NaN</td>\n",
       "      <td>NaN</td>\n",
       "      <td>NaN</td>\n",
       "      <td>NaN</td>\n",
       "    </tr>\n",
       "    <tr>\n",
       "      <th>4</th>\n",
       "      <td>2015-01-05</td>\n",
       "      <td>50,193</td>\n",
       "      <td>NaN</td>\n",
       "      <td>NaN</td>\n",
       "      <td>NaN</td>\n",
       "      <td>NaN</td>\n",
       "      <td>NaN</td>\n",
       "      <td>NaN</td>\n",
       "      <td>NaN</td>\n",
       "      <td>NaN</td>\n",
       "      <td>...</td>\n",
       "      <td>NaN</td>\n",
       "      <td>NaN</td>\n",
       "      <td>NaN</td>\n",
       "      <td>NaN</td>\n",
       "      <td>NaN</td>\n",
       "      <td>NaN</td>\n",
       "      <td>NaN</td>\n",
       "      <td>NaN</td>\n",
       "      <td>NaN</td>\n",
       "      <td>NaN</td>\n",
       "    </tr>\n",
       "    <tr>\n",
       "      <th>...</th>\n",
       "      <td>...</td>\n",
       "      <td>...</td>\n",
       "      <td>...</td>\n",
       "      <td>...</td>\n",
       "      <td>...</td>\n",
       "      <td>...</td>\n",
       "      <td>...</td>\n",
       "      <td>...</td>\n",
       "      <td>...</td>\n",
       "      <td>...</td>\n",
       "      <td>...</td>\n",
       "      <td>...</td>\n",
       "      <td>...</td>\n",
       "      <td>...</td>\n",
       "      <td>...</td>\n",
       "      <td>...</td>\n",
       "      <td>...</td>\n",
       "      <td>...</td>\n",
       "      <td>...</td>\n",
       "      <td>...</td>\n",
       "      <td>...</td>\n",
       "    </tr>\n",
       "    <tr>\n",
       "      <th>3282</th>\n",
       "      <td>2023-12-27</td>\n",
       "      <td>NaN</td>\n",
       "      <td>NaN</td>\n",
       "      <td>NaN</td>\n",
       "      <td>NaN</td>\n",
       "      <td>NaN</td>\n",
       "      <td>NaN</td>\n",
       "      <td>NaN</td>\n",
       "      <td>NaN</td>\n",
       "      <td>NaN</td>\n",
       "      <td>...</td>\n",
       "      <td>NaN</td>\n",
       "      <td>NaN</td>\n",
       "      <td>NaN</td>\n",
       "      <td>NaN</td>\n",
       "      <td>NaN</td>\n",
       "      <td>133,801</td>\n",
       "      <td>131,844</td>\n",
       "      <td>139,771</td>\n",
       "      <td>138,646</td>\n",
       "      <td>131,521</td>\n",
       "    </tr>\n",
       "    <tr>\n",
       "      <th>3283</th>\n",
       "      <td>2023-12-28</td>\n",
       "      <td>NaN</td>\n",
       "      <td>NaN</td>\n",
       "      <td>NaN</td>\n",
       "      <td>NaN</td>\n",
       "      <td>NaN</td>\n",
       "      <td>NaN</td>\n",
       "      <td>NaN</td>\n",
       "      <td>NaN</td>\n",
       "      <td>NaN</td>\n",
       "      <td>...</td>\n",
       "      <td>NaN</td>\n",
       "      <td>NaN</td>\n",
       "      <td>NaN</td>\n",
       "      <td>NaN</td>\n",
       "      <td>NaN</td>\n",
       "      <td>NaN</td>\n",
       "      <td>134,946</td>\n",
       "      <td>141,405</td>\n",
       "      <td>138,628</td>\n",
       "      <td>141,170</td>\n",
       "    </tr>\n",
       "    <tr>\n",
       "      <th>3284</th>\n",
       "      <td>2023-12-29</td>\n",
       "      <td>NaN</td>\n",
       "      <td>NaN</td>\n",
       "      <td>NaN</td>\n",
       "      <td>NaN</td>\n",
       "      <td>NaN</td>\n",
       "      <td>NaN</td>\n",
       "      <td>NaN</td>\n",
       "      <td>NaN</td>\n",
       "      <td>NaN</td>\n",
       "      <td>...</td>\n",
       "      <td>NaN</td>\n",
       "      <td>NaN</td>\n",
       "      <td>NaN</td>\n",
       "      <td>NaN</td>\n",
       "      <td>NaN</td>\n",
       "      <td>NaN</td>\n",
       "      <td>NaN</td>\n",
       "      <td>146,613</td>\n",
       "      <td>142,938</td>\n",
       "      <td>147,139</td>\n",
       "    </tr>\n",
       "    <tr>\n",
       "      <th>3285</th>\n",
       "      <td>2023-12-30</td>\n",
       "      <td>NaN</td>\n",
       "      <td>NaN</td>\n",
       "      <td>NaN</td>\n",
       "      <td>NaN</td>\n",
       "      <td>NaN</td>\n",
       "      <td>NaN</td>\n",
       "      <td>NaN</td>\n",
       "      <td>NaN</td>\n",
       "      <td>NaN</td>\n",
       "      <td>...</td>\n",
       "      <td>NaN</td>\n",
       "      <td>NaN</td>\n",
       "      <td>NaN</td>\n",
       "      <td>NaN</td>\n",
       "      <td>NaN</td>\n",
       "      <td>NaN</td>\n",
       "      <td>NaN</td>\n",
       "      <td>NaN</td>\n",
       "      <td>144,281</td>\n",
       "      <td>138,599</td>\n",
       "    </tr>\n",
       "    <tr>\n",
       "      <th>3286</th>\n",
       "      <td>2023-12-31</td>\n",
       "      <td>NaN</td>\n",
       "      <td>NaN</td>\n",
       "      <td>NaN</td>\n",
       "      <td>NaN</td>\n",
       "      <td>NaN</td>\n",
       "      <td>NaN</td>\n",
       "      <td>NaN</td>\n",
       "      <td>NaN</td>\n",
       "      <td>NaN</td>\n",
       "      <td>...</td>\n",
       "      <td>NaN</td>\n",
       "      <td>NaN</td>\n",
       "      <td>NaN</td>\n",
       "      <td>NaN</td>\n",
       "      <td>NaN</td>\n",
       "      <td>NaN</td>\n",
       "      <td>NaN</td>\n",
       "      <td>NaN</td>\n",
       "      <td>NaN</td>\n",
       "      <td>144,378</td>\n",
       "    </tr>\n",
       "  </tbody>\n",
       "</table>\n",
       "<p>3287 rows × 367 columns</p>\n",
       "</div>"
      ],
      "text/plain": [
       "             ds                    y  yhat1  yhat2  yhat3  yhat4  yhat5  \\\n",
       "0    2015-01-01               52,356    NaN    NaN    NaN    NaN    NaN   \n",
       "1    2015-01-02               47,811    NaN    NaN    NaN    NaN    NaN   \n",
       "2    2015-01-03               49,555    NaN    NaN    NaN    NaN    NaN   \n",
       "3    2015-01-04               57,680    NaN    NaN    NaN    NaN    NaN   \n",
       "4    2015-01-05               50,193    NaN    NaN    NaN    NaN    NaN   \n",
       "...         ...                  ...    ...    ...    ...    ...    ...   \n",
       "3282 2023-12-27                  NaN    NaN    NaN    NaN    NaN    NaN   \n",
       "3283 2023-12-28                  NaN    NaN    NaN    NaN    NaN    NaN   \n",
       "3284 2023-12-29                  NaN    NaN    NaN    NaN    NaN    NaN   \n",
       "3285 2023-12-30                  NaN    NaN    NaN    NaN    NaN    NaN   \n",
       "3286 2023-12-31                  NaN    NaN    NaN    NaN    NaN    NaN   \n",
       "\n",
       "      yhat6  yhat7  yhat8  ...  yhat356  yhat357  yhat358  yhat359  yhat360  \\\n",
       "0       NaN    NaN    NaN  ...      NaN      NaN      NaN      NaN      NaN   \n",
       "1       NaN    NaN    NaN  ...      NaN      NaN      NaN      NaN      NaN   \n",
       "2       NaN    NaN    NaN  ...      NaN      NaN      NaN      NaN      NaN   \n",
       "3       NaN    NaN    NaN  ...      NaN      NaN      NaN      NaN      NaN   \n",
       "4       NaN    NaN    NaN  ...      NaN      NaN      NaN      NaN      NaN   \n",
       "...     ...    ...    ...  ...      ...      ...      ...      ...      ...   \n",
       "3282    NaN    NaN    NaN  ...      NaN      NaN      NaN      NaN      NaN   \n",
       "3283    NaN    NaN    NaN  ...      NaN      NaN      NaN      NaN      NaN   \n",
       "3284    NaN    NaN    NaN  ...      NaN      NaN      NaN      NaN      NaN   \n",
       "3285    NaN    NaN    NaN  ...      NaN      NaN      NaN      NaN      NaN   \n",
       "3286    NaN    NaN    NaN  ...      NaN      NaN      NaN      NaN      NaN   \n",
       "\n",
       "                  yhat361              yhat362              yhat363  \\\n",
       "0                     NaN                  NaN                  NaN   \n",
       "1                     NaN                  NaN                  NaN   \n",
       "2                     NaN                  NaN                  NaN   \n",
       "3                     NaN                  NaN                  NaN   \n",
       "4                     NaN                  NaN                  NaN   \n",
       "...                   ...                  ...                  ...   \n",
       "3282              133,801              131,844              139,771   \n",
       "3283                  NaN              134,946              141,405   \n",
       "3284                  NaN                  NaN              146,613   \n",
       "3285                  NaN                  NaN                  NaN   \n",
       "3286                  NaN                  NaN                  NaN   \n",
       "\n",
       "                  yhat364              yhat365  \n",
       "0                     NaN                  NaN  \n",
       "1                     NaN                  NaN  \n",
       "2                     NaN                  NaN  \n",
       "3                     NaN                  NaN  \n",
       "4                     NaN                  NaN  \n",
       "...                   ...                  ...  \n",
       "3282              138,646              131,521  \n",
       "3283              138,628              141,170  \n",
       "3284              142,938              147,139  \n",
       "3285              144,281              138,599  \n",
       "3286                  NaN              144,378  \n",
       "\n",
       "[3287 rows x 367 columns]"
      ]
     },
     "execution_count": 26,
     "metadata": {},
     "output_type": "execute_result"
    }
   ],
   "source": [
    "forecast"
   ]
  },
  {
   "cell_type": "code",
   "execution_count": 27,
   "id": "405b493f",
   "metadata": {},
   "outputs": [],
   "source": [
    "latest = m.get_latest_forecast(forecast,include_history_data=True)"
   ]
  },
  {
   "cell_type": "code",
   "execution_count": 28,
   "id": "d65501af",
   "metadata": {},
   "outputs": [],
   "source": [
    "latest.to_excel('latest.xlsx')"
   ]
  },
  {
   "cell_type": "code",
   "execution_count": 29,
   "id": "81d4860b",
   "metadata": {},
   "outputs": [],
   "source": [
    "forecast.to_excel('result.xlsx')"
   ]
  },
  {
   "cell_type": "code",
   "execution_count": 30,
   "id": "d83e8f07",
   "metadata": {},
   "outputs": [
    {
     "ename": "NameError",
     "evalue": "name 'predicted' is not defined",
     "output_type": "error",
     "traceback": [
      "\u001b[1;31m---------------------------------------------------------------------------\u001b[0m",
      "\u001b[1;31mNameError\u001b[0m                                 Traceback (most recent call last)",
      "\u001b[1;32mC:\\Users\\NAMTRA~1\\AppData\\Local\\Temp/ipykernel_8700/2156076121.py\u001b[0m in \u001b[0;36m<module>\u001b[1;34m\u001b[0m\n\u001b[0;32m      1\u001b[0m \u001b[1;31m# Calculate rmse and mape:\u001b[0m\u001b[1;33m\u001b[0m\u001b[1;33m\u001b[0m\u001b[0m\n\u001b[1;32m----> 2\u001b[1;33m \u001b[0mrmse\u001b[0m \u001b[1;33m=\u001b[0m \u001b[0mnp\u001b[0m\u001b[1;33m.\u001b[0m\u001b[0msqrt\u001b[0m\u001b[1;33m(\u001b[0m\u001b[0mmean_squared_error\u001b[0m\u001b[1;33m(\u001b[0m\u001b[0mpredicted\u001b[0m\u001b[1;33m[\u001b[0m\u001b[1;34m'y'\u001b[0m\u001b[1;33m]\u001b[0m\u001b[1;33m[\u001b[0m\u001b[1;33m-\u001b[0m\u001b[0mlen\u001b[0m\u001b[1;33m(\u001b[0m\u001b[0mtest\u001b[0m\u001b[1;33m)\u001b[0m\u001b[1;33m:\u001b[0m\u001b[1;33m]\u001b[0m\u001b[1;33m,\u001b[0m \u001b[0mpredicted\u001b[0m\u001b[1;33m[\u001b[0m\u001b[1;34m'yhat1'\u001b[0m\u001b[1;33m]\u001b[0m\u001b[1;33m[\u001b[0m\u001b[1;33m-\u001b[0m\u001b[0mlen\u001b[0m\u001b[1;33m(\u001b[0m\u001b[0mtest\u001b[0m\u001b[1;33m)\u001b[0m\u001b[1;33m:\u001b[0m\u001b[1;33m]\u001b[0m\u001b[1;33m)\u001b[0m\u001b[1;33m)\u001b[0m\u001b[1;33m.\u001b[0m\u001b[0mround\u001b[0m\u001b[1;33m(\u001b[0m\u001b[1;36m2\u001b[0m\u001b[1;33m)\u001b[0m\u001b[1;33m\u001b[0m\u001b[1;33m\u001b[0m\u001b[0m\n\u001b[0m\u001b[0;32m      3\u001b[0m \u001b[0mmape\u001b[0m \u001b[1;33m=\u001b[0m \u001b[0mnp\u001b[0m\u001b[1;33m.\u001b[0m\u001b[0mround\u001b[0m\u001b[1;33m(\u001b[0m\u001b[0mnp\u001b[0m\u001b[1;33m.\u001b[0m\u001b[0mmean\u001b[0m\u001b[1;33m(\u001b[0m\u001b[0mnp\u001b[0m\u001b[1;33m.\u001b[0m\u001b[0mabs\u001b[0m\u001b[1;33m(\u001b[0m\u001b[0mpredicted\u001b[0m\u001b[1;33m[\u001b[0m\u001b[1;34m'y'\u001b[0m\u001b[1;33m]\u001b[0m\u001b[1;33m[\u001b[0m\u001b[1;33m-\u001b[0m\u001b[0mlen\u001b[0m\u001b[1;33m(\u001b[0m\u001b[0mtest\u001b[0m\u001b[1;33m)\u001b[0m\u001b[1;33m:\u001b[0m\u001b[1;33m]\u001b[0m\u001b[1;33m-\u001b[0m\u001b[0mpredicted\u001b[0m\u001b[1;33m[\u001b[0m\u001b[1;34m'yhat1'\u001b[0m\u001b[1;33m]\u001b[0m\u001b[1;33m[\u001b[0m\u001b[1;33m-\u001b[0m\u001b[0mlen\u001b[0m\u001b[1;33m(\u001b[0m\u001b[0mtest\u001b[0m\u001b[1;33m)\u001b[0m\u001b[1;33m:\u001b[0m\u001b[1;33m]\u001b[0m\u001b[1;33m)\u001b[0m\u001b[1;33m/\u001b[0m\u001b[0mpredicted\u001b[0m\u001b[1;33m[\u001b[0m\u001b[1;34m'y'\u001b[0m\u001b[1;33m]\u001b[0m\u001b[1;33m[\u001b[0m\u001b[1;33m-\u001b[0m\u001b[0mlen\u001b[0m\u001b[1;33m(\u001b[0m\u001b[0mtest\u001b[0m\u001b[1;33m)\u001b[0m\u001b[1;33m:\u001b[0m\u001b[1;33m]\u001b[0m\u001b[1;33m)\u001b[0m\u001b[1;33m*\u001b[0m\u001b[1;36m100\u001b[0m\u001b[1;33m,\u001b[0m\u001b[1;36m2\u001b[0m\u001b[1;33m)\u001b[0m\u001b[1;33m\u001b[0m\u001b[1;33m\u001b[0m\u001b[0m\n\u001b[0;32m      4\u001b[0m \u001b[0mtempResults\u001b[0m \u001b[1;33m=\u001b[0m \u001b[0mpd\u001b[0m\u001b[1;33m.\u001b[0m\u001b[0mDataFrame\u001b[0m\u001b[1;33m(\u001b[0m\u001b[1;33m{\u001b[0m\u001b[1;34m'Method'\u001b[0m\u001b[1;33m:\u001b[0m\u001b[1;34m'neural prophet'\u001b[0m\u001b[1;33m,\u001b[0m \u001b[1;34m'RMSE'\u001b[0m\u001b[1;33m:\u001b[0m \u001b[1;33m[\u001b[0m\u001b[0mrmse\u001b[0m\u001b[1;33m]\u001b[0m\u001b[1;33m,\u001b[0m\u001b[1;34m'MAPE'\u001b[0m\u001b[1;33m:\u001b[0m \u001b[1;33m[\u001b[0m\u001b[0mmape\u001b[0m\u001b[1;33m]\u001b[0m \u001b[1;33m}\u001b[0m\u001b[1;33m)\u001b[0m\u001b[1;33m\u001b[0m\u001b[1;33m\u001b[0m\u001b[0m\n\u001b[0;32m      5\u001b[0m \u001b[0mresults\u001b[0m \u001b[1;33m=\u001b[0m \u001b[0mpd\u001b[0m\u001b[1;33m.\u001b[0m\u001b[0mconcat\u001b[0m\u001b[1;33m(\u001b[0m\u001b[1;33m[\u001b[0m\u001b[0mresults\u001b[0m\u001b[1;33m,\u001b[0m \u001b[0mtempResults\u001b[0m\u001b[1;33m]\u001b[0m\u001b[1;33m)\u001b[0m\u001b[1;33m\u001b[0m\u001b[1;33m\u001b[0m\u001b[0m\n",
      "\u001b[1;31mNameError\u001b[0m: name 'predicted' is not defined"
     ]
    }
   ],
   "source": [
    "# Calculate rmse and mape:\n",
    "rmse = np.sqrt(mean_squared_error(predicted['y'][-len(test):], predicted['yhat1'][-len(test):])).round(2)\n",
    "mape = np.round(np.mean(np.abs(predicted['y'][-len(test):]-predicted['yhat1'][-len(test):])/predicted['y'][-len(test):])*100,2)\n",
    "tempResults = pd.DataFrame({'Method':'neural prophet', 'RMSE': [rmse],'MAPE': [mape] })\n",
    "results = pd.concat([results, tempResults])\n",
    "results"
   ]
  },
  {
   "cell_type": "code",
   "execution_count": 31,
   "id": "082aa564",
   "metadata": {},
   "outputs": [
    {
     "ename": "NameError",
     "evalue": "name 'predicted' is not defined",
     "output_type": "error",
     "traceback": [
      "\u001b[1;31m---------------------------------------------------------------------------\u001b[0m",
      "\u001b[1;31mNameError\u001b[0m                                 Traceback (most recent call last)",
      "\u001b[1;32mC:\\Users\\NAMTRA~1\\AppData\\Local\\Temp/ipykernel_8700/3680126423.py\u001b[0m in \u001b[0;36m<module>\u001b[1;34m\u001b[0m\n\u001b[1;32m----> 1\u001b[1;33m \u001b[0mpredicted\u001b[0m\u001b[1;33m.\u001b[0m\u001b[0mto_excel\u001b[0m\u001b[1;33m(\u001b[0m\u001b[1;34m'result.xlsx'\u001b[0m\u001b[1;33m)\u001b[0m\u001b[1;33m\u001b[0m\u001b[1;33m\u001b[0m\u001b[0m\n\u001b[0m",
      "\u001b[1;31mNameError\u001b[0m: name 'predicted' is not defined"
     ]
    }
   ],
   "source": [
    "predicted.to_excel('result.xlsx')"
   ]
  },
  {
   "cell_type": "code",
   "execution_count": null,
   "id": "8eaa781b",
   "metadata": {},
   "outputs": [],
   "source": [
    "np.mean(np.abs(predicted['y']-predicted['yhat1'])/predicted['y'])*100"
   ]
  },
  {
   "cell_type": "code",
   "execution_count": null,
   "id": "d81a379b",
   "metadata": {},
   "outputs": [],
   "source": [
    "result = val_df.merge(latest,how = 'left', on = 'ds')"
   ]
  },
  {
   "cell_type": "code",
   "execution_count": null,
   "id": "8abcd067",
   "metadata": {},
   "outputs": [],
   "source": [
    "result"
   ]
  },
  {
   "cell_type": "code",
   "execution_count": null,
   "id": "d2b2d54a",
   "metadata": {},
   "outputs": [],
   "source": []
  }
 ],
 "metadata": {
  "kernelspec": {
   "display_name": "Python 3 (ipykernel)",
   "language": "python",
   "name": "python3"
  },
  "language_info": {
   "codemirror_mode": {
    "name": "ipython",
    "version": 3
   },
   "file_extension": ".py",
   "mimetype": "text/x-python",
   "name": "python",
   "nbconvert_exporter": "python",
   "pygments_lexer": "ipython3",
   "version": "3.9.7"
  }
 },
 "nbformat": 4,
 "nbformat_minor": 5
}
