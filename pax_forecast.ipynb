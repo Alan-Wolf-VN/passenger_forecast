{
 "cells": [
  {
   "cell_type": "markdown",
   "id": "349e4f84",
   "metadata": {},
   "source": [
    "# 1. Import libraries and data"
   ]
  },
  {
   "cell_type": "code",
   "execution_count": 1,
   "id": "3c9d1b5e",
   "metadata": {},
   "outputs": [],
   "source": [
    "import numpy as np\n",
    "import pandas as pd\n",
    "import matplotlib.pyplot as plt\n",
    "import seaborn as sns\n",
    "from pylab import rcParams\n",
    "import statsmodels.api as sm\n",
    "from sklearn.metrics import mean_squared_error, mean_absolute_error\n",
    "from statsmodels.tsa.stattools import adfuller\n",
    "from statsmodels.tsa.stattools import kpss\n",
    "from scipy.stats import boxcox\n",
    "from statsmodels.graphics.tsaplots import plot_acf, plot_pacf\n",
    "from statsmodels.tsa.statespace.sarimax import SARIMAX\n",
    "from statsmodels.tsa.vector_ar.vecm import coint_johansen\n",
    "from pmdarima.arima import auto_arima"
   ]
  },
  {
   "cell_type": "code",
   "execution_count": 2,
   "id": "1ce20eac",
   "metadata": {},
   "outputs": [],
   "source": [
    "data = pd.read_excel('data.xlsx')"
   ]
  },
  {
   "cell_type": "code",
   "execution_count": 3,
   "id": "e885bf46",
   "metadata": {},
   "outputs": [],
   "source": [
    "data.set_index(pd.to_datetime(data[[\"YEAR\", \"MONTH\"]].assign(DAY=1)), inplace = True)"
   ]
  },
  {
   "cell_type": "code",
   "execution_count": 4,
   "id": "9fbcc58a",
   "metadata": {},
   "outputs": [],
   "source": [
    "data.drop(['YEAR','MONTH','HANSGN'], axis = 1, inplace = True)"
   ]
  },
  {
   "cell_type": "code",
   "execution_count": 5,
   "id": "4a68433d",
   "metadata": {},
   "outputs": [
    {
     "data": {
      "text/html": [
       "<div>\n",
       "<style scoped>\n",
       "    .dataframe tbody tr th:only-of-type {\n",
       "        vertical-align: middle;\n",
       "    }\n",
       "\n",
       "    .dataframe tbody tr th {\n",
       "        vertical-align: top;\n",
       "    }\n",
       "\n",
       "    .dataframe thead th {\n",
       "        text-align: right;\n",
       "    }\n",
       "</style>\n",
       "<table border=\"1\" class=\"dataframe\">\n",
       "  <thead>\n",
       "    <tr style=\"text-align: right;\">\n",
       "      <th></th>\n",
       "      <th>TTT</th>\n",
       "    </tr>\n",
       "  </thead>\n",
       "  <tbody>\n",
       "    <tr>\n",
       "      <th>2015-01-01</th>\n",
       "      <td>1436819</td>\n",
       "    </tr>\n",
       "    <tr>\n",
       "      <th>2015-02-01</th>\n",
       "      <td>1541333</td>\n",
       "    </tr>\n",
       "    <tr>\n",
       "      <th>2015-03-01</th>\n",
       "      <td>1680903</td>\n",
       "    </tr>\n",
       "    <tr>\n",
       "      <th>2015-04-01</th>\n",
       "      <td>1684774</td>\n",
       "    </tr>\n",
       "    <tr>\n",
       "      <th>2015-05-01</th>\n",
       "      <td>1772993</td>\n",
       "    </tr>\n",
       "    <tr>\n",
       "      <th>2015-06-01</th>\n",
       "      <td>1981326</td>\n",
       "    </tr>\n",
       "    <tr>\n",
       "      <th>2015-07-01</th>\n",
       "      <td>2217722</td>\n",
       "    </tr>\n",
       "    <tr>\n",
       "      <th>2015-08-01</th>\n",
       "      <td>1945915</td>\n",
       "    </tr>\n",
       "    <tr>\n",
       "      <th>2015-09-01</th>\n",
       "      <td>1689386</td>\n",
       "    </tr>\n",
       "    <tr>\n",
       "      <th>2015-10-01</th>\n",
       "      <td>1784537</td>\n",
       "    </tr>\n",
       "    <tr>\n",
       "      <th>2015-11-01</th>\n",
       "      <td>1797338</td>\n",
       "    </tr>\n",
       "    <tr>\n",
       "      <th>2015-12-01</th>\n",
       "      <td>1934683</td>\n",
       "    </tr>\n",
       "    <tr>\n",
       "      <th>2016-01-01</th>\n",
       "      <td>1871759</td>\n",
       "    </tr>\n",
       "    <tr>\n",
       "      <th>2016-02-01</th>\n",
       "      <td>2159268</td>\n",
       "    </tr>\n",
       "    <tr>\n",
       "      <th>2016-03-01</th>\n",
       "      <td>2285585</td>\n",
       "    </tr>\n",
       "    <tr>\n",
       "      <th>2016-04-01</th>\n",
       "      <td>2231803</td>\n",
       "    </tr>\n",
       "    <tr>\n",
       "      <th>2016-05-01</th>\n",
       "      <td>2460834</td>\n",
       "    </tr>\n",
       "    <tr>\n",
       "      <th>2016-06-01</th>\n",
       "      <td>2782901</td>\n",
       "    </tr>\n",
       "    <tr>\n",
       "      <th>2016-07-01</th>\n",
       "      <td>2966284</td>\n",
       "    </tr>\n",
       "    <tr>\n",
       "      <th>2016-08-01</th>\n",
       "      <td>2471864</td>\n",
       "    </tr>\n",
       "    <tr>\n",
       "      <th>2016-09-01</th>\n",
       "      <td>2206366</td>\n",
       "    </tr>\n",
       "    <tr>\n",
       "      <th>2016-10-01</th>\n",
       "      <td>2239829</td>\n",
       "    </tr>\n",
       "    <tr>\n",
       "      <th>2016-11-01</th>\n",
       "      <td>2219575</td>\n",
       "    </tr>\n",
       "    <tr>\n",
       "      <th>2016-12-01</th>\n",
       "      <td>2269813</td>\n",
       "    </tr>\n",
       "    <tr>\n",
       "      <th>2017-01-01</th>\n",
       "      <td>2411023</td>\n",
       "    </tr>\n",
       "    <tr>\n",
       "      <th>2017-02-01</th>\n",
       "      <td>2407943</td>\n",
       "    </tr>\n",
       "    <tr>\n",
       "      <th>2017-03-01</th>\n",
       "      <td>2460888</td>\n",
       "    </tr>\n",
       "    <tr>\n",
       "      <th>2017-04-01</th>\n",
       "      <td>2431329</td>\n",
       "    </tr>\n",
       "    <tr>\n",
       "      <th>2017-05-01</th>\n",
       "      <td>2693611</td>\n",
       "    </tr>\n",
       "    <tr>\n",
       "      <th>2017-06-01</th>\n",
       "      <td>3163980</td>\n",
       "    </tr>\n",
       "    <tr>\n",
       "      <th>2017-07-01</th>\n",
       "      <td>3191841</td>\n",
       "    </tr>\n",
       "    <tr>\n",
       "      <th>2017-08-01</th>\n",
       "      <td>2649633</td>\n",
       "    </tr>\n",
       "    <tr>\n",
       "      <th>2017-09-01</th>\n",
       "      <td>2247940</td>\n",
       "    </tr>\n",
       "    <tr>\n",
       "      <th>2017-10-01</th>\n",
       "      <td>2299711</td>\n",
       "    </tr>\n",
       "    <tr>\n",
       "      <th>2017-11-01</th>\n",
       "      <td>2278753</td>\n",
       "    </tr>\n",
       "    <tr>\n",
       "      <th>2017-12-01</th>\n",
       "      <td>2484192</td>\n",
       "    </tr>\n",
       "    <tr>\n",
       "      <th>2018-01-01</th>\n",
       "      <td>2420928</td>\n",
       "    </tr>\n",
       "    <tr>\n",
       "      <th>2018-02-01</th>\n",
       "      <td>2517516</td>\n",
       "    </tr>\n",
       "    <tr>\n",
       "      <th>2018-03-01</th>\n",
       "      <td>2812144</td>\n",
       "    </tr>\n",
       "    <tr>\n",
       "      <th>2018-04-01</th>\n",
       "      <td>2817085</td>\n",
       "    </tr>\n",
       "    <tr>\n",
       "      <th>2018-05-01</th>\n",
       "      <td>2903960</td>\n",
       "    </tr>\n",
       "    <tr>\n",
       "      <th>2018-06-01</th>\n",
       "      <td>3132016</td>\n",
       "    </tr>\n",
       "    <tr>\n",
       "      <th>2018-07-01</th>\n",
       "      <td>3292906</td>\n",
       "    </tr>\n",
       "    <tr>\n",
       "      <th>2018-08-01</th>\n",
       "      <td>2835945</td>\n",
       "    </tr>\n",
       "    <tr>\n",
       "      <th>2018-09-01</th>\n",
       "      <td>2455902</td>\n",
       "    </tr>\n",
       "    <tr>\n",
       "      <th>2018-10-01</th>\n",
       "      <td>2486872</td>\n",
       "    </tr>\n",
       "    <tr>\n",
       "      <th>2018-11-01</th>\n",
       "      <td>2430736</td>\n",
       "    </tr>\n",
       "    <tr>\n",
       "      <th>2018-12-01</th>\n",
       "      <td>2625021</td>\n",
       "    </tr>\n",
       "    <tr>\n",
       "      <th>2019-01-01</th>\n",
       "      <td>2680573</td>\n",
       "    </tr>\n",
       "    <tr>\n",
       "      <th>2019-02-01</th>\n",
       "      <td>2860436</td>\n",
       "    </tr>\n",
       "    <tr>\n",
       "      <th>2019-03-01</th>\n",
       "      <td>3061302</td>\n",
       "    </tr>\n",
       "    <tr>\n",
       "      <th>2019-04-01</th>\n",
       "      <td>3045879</td>\n",
       "    </tr>\n",
       "    <tr>\n",
       "      <th>2019-05-01</th>\n",
       "      <td>3230488</td>\n",
       "    </tr>\n",
       "    <tr>\n",
       "      <th>2019-06-01</th>\n",
       "      <td>3627333</td>\n",
       "    </tr>\n",
       "    <tr>\n",
       "      <th>2019-07-01</th>\n",
       "      <td>3775263</td>\n",
       "    </tr>\n",
       "    <tr>\n",
       "      <th>2019-08-01</th>\n",
       "      <td>3151724</td>\n",
       "    </tr>\n",
       "    <tr>\n",
       "      <th>2019-09-01</th>\n",
       "      <td>2789760</td>\n",
       "    </tr>\n",
       "    <tr>\n",
       "      <th>2019-10-01</th>\n",
       "      <td>2966733</td>\n",
       "    </tr>\n",
       "    <tr>\n",
       "      <th>2019-11-01</th>\n",
       "      <td>2966422</td>\n",
       "    </tr>\n",
       "    <tr>\n",
       "      <th>2019-12-01</th>\n",
       "      <td>3164888</td>\n",
       "    </tr>\n",
       "  </tbody>\n",
       "</table>\n",
       "</div>"
      ],
      "text/plain": [
       "                TTT\n",
       "2015-01-01  1436819\n",
       "2015-02-01  1541333\n",
       "2015-03-01  1680903\n",
       "2015-04-01  1684774\n",
       "2015-05-01  1772993\n",
       "2015-06-01  1981326\n",
       "2015-07-01  2217722\n",
       "2015-08-01  1945915\n",
       "2015-09-01  1689386\n",
       "2015-10-01  1784537\n",
       "2015-11-01  1797338\n",
       "2015-12-01  1934683\n",
       "2016-01-01  1871759\n",
       "2016-02-01  2159268\n",
       "2016-03-01  2285585\n",
       "2016-04-01  2231803\n",
       "2016-05-01  2460834\n",
       "2016-06-01  2782901\n",
       "2016-07-01  2966284\n",
       "2016-08-01  2471864\n",
       "2016-09-01  2206366\n",
       "2016-10-01  2239829\n",
       "2016-11-01  2219575\n",
       "2016-12-01  2269813\n",
       "2017-01-01  2411023\n",
       "2017-02-01  2407943\n",
       "2017-03-01  2460888\n",
       "2017-04-01  2431329\n",
       "2017-05-01  2693611\n",
       "2017-06-01  3163980\n",
       "2017-07-01  3191841\n",
       "2017-08-01  2649633\n",
       "2017-09-01  2247940\n",
       "2017-10-01  2299711\n",
       "2017-11-01  2278753\n",
       "2017-12-01  2484192\n",
       "2018-01-01  2420928\n",
       "2018-02-01  2517516\n",
       "2018-03-01  2812144\n",
       "2018-04-01  2817085\n",
       "2018-05-01  2903960\n",
       "2018-06-01  3132016\n",
       "2018-07-01  3292906\n",
       "2018-08-01  2835945\n",
       "2018-09-01  2455902\n",
       "2018-10-01  2486872\n",
       "2018-11-01  2430736\n",
       "2018-12-01  2625021\n",
       "2019-01-01  2680573\n",
       "2019-02-01  2860436\n",
       "2019-03-01  3061302\n",
       "2019-04-01  3045879\n",
       "2019-05-01  3230488\n",
       "2019-06-01  3627333\n",
       "2019-07-01  3775263\n",
       "2019-08-01  3151724\n",
       "2019-09-01  2789760\n",
       "2019-10-01  2966733\n",
       "2019-11-01  2966422\n",
       "2019-12-01  3164888"
      ]
     },
     "execution_count": 5,
     "metadata": {},
     "output_type": "execute_result"
    }
   ],
   "source": [
    "data"
   ]
  },
  {
   "cell_type": "code",
   "execution_count": 6,
   "id": "26262a5b",
   "metadata": {},
   "outputs": [
    {
     "data": {
      "text/plain": [
       "<AxesSubplot:>"
      ]
     },
     "execution_count": 6,
     "metadata": {},
     "output_type": "execute_result"
    },
    {
     "data": {
      "image/png": "[encoded data removed]",
      "text/plain": [
       "<Figure size 432x288 with 1 Axes>"
      ]
     },
     "metadata": {
      "needs_background": "light"
     },
     "output_type": "display_data"
    }
   ],
   "source": [
    "data['TTT'].plot()"
   ]
  },
  {
   "cell_type": "code",
   "execution_count": 7,
   "id": "2ea9c21f",
   "metadata": {},
   "outputs": [],
   "source": [
    "train = data[:-12].copy()\n",
    "test = data[-12:].copy() # last 6 months as test set"
   ]
  },
  {
   "cell_type": "code",
   "execution_count": 8,
   "id": "47791e15",
   "metadata": {},
   "outputs": [
    {
     "data": {
      "text/html": [
       "<div>\n",
       "<style scoped>\n",
       "    .dataframe tbody tr th:only-of-type {\n",
       "        vertical-align: middle;\n",
       "    }\n",
       "\n",
       "    .dataframe tbody tr th {\n",
       "        vertical-align: top;\n",
       "    }\n",
       "\n",
       "    .dataframe thead th {\n",
       "        text-align: right;\n",
       "    }\n",
       "</style>\n",
       "<table border=\"1\" class=\"dataframe\">\n",
       "  <thead>\n",
       "    <tr style=\"text-align: right;\">\n",
       "      <th></th>\n",
       "      <th>TTT</th>\n",
       "    </tr>\n",
       "  </thead>\n",
       "  <tbody>\n",
       "    <tr>\n",
       "      <th>2019-01-01</th>\n",
       "      <td>2680573</td>\n",
       "    </tr>\n",
       "    <tr>\n",
       "      <th>2019-02-01</th>\n",
       "      <td>2860436</td>\n",
       "    </tr>\n",
       "    <tr>\n",
       "      <th>2019-03-01</th>\n",
       "      <td>3061302</td>\n",
       "    </tr>\n",
       "    <tr>\n",
       "      <th>2019-04-01</th>\n",
       "      <td>3045879</td>\n",
       "    </tr>\n",
       "    <tr>\n",
       "      <th>2019-05-01</th>\n",
       "      <td>3230488</td>\n",
       "    </tr>\n",
       "    <tr>\n",
       "      <th>2019-06-01</th>\n",
       "      <td>3627333</td>\n",
       "    </tr>\n",
       "    <tr>\n",
       "      <th>2019-07-01</th>\n",
       "      <td>3775263</td>\n",
       "    </tr>\n",
       "    <tr>\n",
       "      <th>2019-08-01</th>\n",
       "      <td>3151724</td>\n",
       "    </tr>\n",
       "    <tr>\n",
       "      <th>2019-09-01</th>\n",
       "      <td>2789760</td>\n",
       "    </tr>\n",
       "    <tr>\n",
       "      <th>2019-10-01</th>\n",
       "      <td>2966733</td>\n",
       "    </tr>\n",
       "    <tr>\n",
       "      <th>2019-11-01</th>\n",
       "      <td>2966422</td>\n",
       "    </tr>\n",
       "    <tr>\n",
       "      <th>2019-12-01</th>\n",
       "      <td>3164888</td>\n",
       "    </tr>\n",
       "  </tbody>\n",
       "</table>\n",
       "</div>"
      ],
      "text/plain": [
       "                TTT\n",
       "2019-01-01  2680573\n",
       "2019-02-01  2860436\n",
       "2019-03-01  3061302\n",
       "2019-04-01  3045879\n",
       "2019-05-01  3230488\n",
       "2019-06-01  3627333\n",
       "2019-07-01  3775263\n",
       "2019-08-01  3151724\n",
       "2019-09-01  2789760\n",
       "2019-10-01  2966733\n",
       "2019-11-01  2966422\n",
       "2019-12-01  3164888"
      ]
     },
     "execution_count": 8,
     "metadata": {},
     "output_type": "execute_result"
    }
   ],
   "source": [
    "test"
   ]
  },
  {
   "cell_type": "markdown",
   "id": "5dc94b07",
   "metadata": {},
   "source": [
    "# 2. Time Series Analysis"
   ]
  },
  {
   "cell_type": "code",
   "execution_count": 9,
   "id": "cd7890ea",
   "metadata": {},
   "outputs": [
    {
     "name": "stdout",
     "output_type": "stream",
     "text": [
      "ADF Statistic: -3.968342\n",
      "Critical Values at 0.05: -2.94\n",
      "p-value: 0.001586\n",
      "Stationary\n"
     ]
    }
   ],
   "source": [
    "# Stationarity test:\n",
    "result = adfuller(train)\n",
    "print('ADF Statistic: %f' % result[0])\n",
    "print('Critical Values at 0.05: %.2f' % result[4]['5%'])\n",
    "print('p-value: %f' % result[1])\n",
    "if result[1] <= 0.05:\n",
    "    print('Stationary')\n",
    "else:\n",
    "    print('Not stationary')"
   ]
  },
  {
   "cell_type": "code",
   "execution_count": 10,
   "id": "60a694b0",
   "metadata": {},
   "outputs": [
    {
     "name": "stdout",
     "output_type": "stream",
     "text": [
      "KPSS Statistic: 0.795515\n",
      "Critical Values at 0.05: 0.46\n",
      "p-value: 0.010000\n",
      "Not stationary\n"
     ]
    },
    {
     "name": "stderr",
     "output_type": "stream",
     "text": [
      "C:\\Users\\namtrantuan\\Anaconda3\\lib\\site-packages\\statsmodels\\tsa\\stattools.py:2018: InterpolationWarning: The test statistic is outside of the range of p-values available in the\n",
      "look-up table. The actual p-value is smaller than the p-value returned.\n",
      "\n",
      "  warnings.warn(\n"
     ]
    }
   ],
   "source": [
    "kpss_test = kpss(train)\n",
    "\n",
    "print('KPSS Statistic: %f' % kpss_test[0])\n",
    "print('Critical Values at 0.05: %.2f' % kpss_test[3]['5%'])\n",
    "print('p-value: %f' % kpss_test[1])\n",
    "if result[1] > 0.05:\n",
    "    print('Stationary')\n",
    "else:\n",
    "    print('Not stationary')"
   ]
  },
  {
   "cell_type": "code",
   "execution_count": 11,
   "id": "7422eb67",
   "metadata": {},
   "outputs": [
    {
     "data": {
      "text/plain": [
       "<AxesSubplot:>"
      ]
     },
     "execution_count": 11,
     "metadata": {},
     "output_type": "execute_result"
    },
    {
     "data": {
      "image/png": "[encoded data removed]",
      "text/plain": [
       "<Figure size 432x288 with 1 Axes>"
      ]
     },
     "metadata": {
      "needs_background": "light"
     },
     "output_type": "display_data"
    }
   ],
   "source": [
    "train1 = train - train.shift(1)\n",
    "train1.plot()"
   ]
  },
  {
   "cell_type": "code",
   "execution_count": 12,
   "id": "fd09fcb6",
   "metadata": {},
   "outputs": [
    {
     "name": "stdout",
     "output_type": "stream",
     "text": [
      "ADF Statistic: -6.515841\n",
      "p-value: 0.000000\n",
      "Stationary\n"
     ]
    }
   ],
   "source": [
    "# Stationarity test:\n",
    "result = adfuller(train1.dropna())\n",
    "print('ADF Statistic: %f' % result[0])\n",
    "print('p-value: %f' % result[1])\n",
    "if result[1] <= 0.05:\n",
    "    print('Stationary')\n",
    "else:\n",
    "    print('Not stationary')"
   ]
  },
  {
   "cell_type": "code",
   "execution_count": 13,
   "id": "f9a92cdc",
   "metadata": {},
   "outputs": [
    {
     "name": "stdout",
     "output_type": "stream",
     "text": [
      "KPSS Statistic: 0.071539\n",
      "Critical Values @ 0.05: 0.46\n",
      "p-value: 0.100000\n",
      "Not stationary\n"
     ]
    },
    {
     "name": "stderr",
     "output_type": "stream",
     "text": [
      "C:\\Users\\namtrantuan\\Anaconda3\\lib\\site-packages\\statsmodels\\tsa\\stattools.py:2022: InterpolationWarning: The test statistic is outside of the range of p-values available in the\n",
      "look-up table. The actual p-value is greater than the p-value returned.\n",
      "\n",
      "  warnings.warn(\n"
     ]
    }
   ],
   "source": [
    "kpss_test = kpss(train1.dropna())\n",
    "\n",
    "print('KPSS Statistic: %f' % kpss_test[0])\n",
    "print('Critical Values @ 0.05: %.2f' % kpss_test[3]['5%'])\n",
    "print('p-value: %f' % kpss_test[1])\n",
    "if result[1] > 0.05:\n",
    "    print('Stationary')\n",
    "else:\n",
    "    print('Not stationary')"
   ]
  },
  {
   "cell_type": "code",
   "execution_count": 14,
   "id": "461c8d92",
   "metadata": {},
   "outputs": [
    {
     "data": {
      "text/plain": [
       "<AxesSubplot:>"
      ]
     },
     "execution_count": 14,
     "metadata": {},
     "output_type": "execute_result"
    },
    {
     "data": {
      "image/png": "[encoded data removed]",
      "text/plain": [
       "<Figure size 432x288 with 1 Axes>"
      ]
     },
     "metadata": {
      "needs_background": "light"
     },
     "output_type": "display_data"
    }
   ],
   "source": [
    "train2 = train1 - train1.shift(1)\n",
    "train2.plot()"
   ]
  },
  {
   "cell_type": "code",
   "execution_count": 15,
   "id": "6e2fa9eb",
   "metadata": {},
   "outputs": [
    {
     "name": "stdout",
     "output_type": "stream",
     "text": [
      "ADF Statistic: -8.114814\n",
      "p-value: 0.000000\n",
      "Stationary\n"
     ]
    }
   ],
   "source": [
    "# Stationarity test:\n",
    "result = adfuller(train2.dropna())\n",
    "print('ADF Statistic: %f' % result[0])\n",
    "print('p-value: %f' % result[1])\n",
    "if result[1] <= 0.05:\n",
    "    print('Stationary')\n",
    "else:\n",
    "    print('Not stationary')"
   ]
  },
  {
   "cell_type": "code",
   "execution_count": 16,
   "id": "1b5d9ac6",
   "metadata": {},
   "outputs": [
    {
     "name": "stdout",
     "output_type": "stream",
     "text": [
      "KPSS Statistic: 0.500000\n",
      "Critical Values @ 0.05: 0.46\n",
      "p-value: 0.041667\n",
      "Not stationary\n"
     ]
    }
   ],
   "source": [
    "kpss_test = kpss(train2.dropna())\n",
    "\n",
    "print('KPSS Statistic: %f' % kpss_test[0])\n",
    "print('Critical Values @ 0.05: %.2f' % kpss_test[3]['5%'])\n",
    "print('p-value: %f' % kpss_test[1])\n",
    "if result[1] > 0.05:\n",
    "    print('Stationary')\n",
    "else:\n",
    "    print('Not stationary')"
   ]
  },
  {
   "cell_type": "code",
   "execution_count": 17,
   "id": "b5908790",
   "metadata": {},
   "outputs": [
    {
     "data": {
      "image/png": "[encoded data removed]",
      "text/plain": [
       "<Figure size 864x288 with 1 Axes>"
      ]
     },
     "metadata": {
      "needs_background": "light"
     },
     "output_type": "display_data"
    }
   ],
   "source": [
    "# Check ACF and PACF:\n",
    "plt.figure(figsize=(12,4))\n",
    "plot_acf(train, ax=plt.gca(), lags = 30)\n",
    "plt.show()"
   ]
  },
  {
   "cell_type": "code",
   "execution_count": 18,
   "id": "18be9cf8",
   "metadata": {},
   "outputs": [
    {
     "name": "stderr",
     "output_type": "stream",
     "text": [
      "C:\\Users\\namtrantuan\\Anaconda3\\lib\\site-packages\\statsmodels\\graphics\\tsaplots.py:348: FutureWarning: The default method 'yw' can produce PACF values outside of the [-1,1] interval. After 0.13, the default will change tounadjusted Yule-Walker ('ywm'). You can use this method now by setting method='ywm'.\n",
      "  warnings.warn(\n"
     ]
    },
    {
     "data": {
      "image/png": "[encoded data removed]",
      "text/plain": [
       "<Figure size 864x288 with 1 Axes>"
      ]
     },
     "metadata": {
      "needs_background": "light"
     },
     "output_type": "display_data"
    }
   ],
   "source": [
    "plt.figure(figsize=(12,4))\n",
    "plot_pacf(train, ax=plt.gca(), lags = 20)\n",
    "plt.show()"
   ]
  },
  {
   "cell_type": "markdown",
   "id": "07cdcd3a",
   "metadata": {},
   "source": [
    "Conclusion:\n",
    "- Because the time series is stationary, d value should be 2\n",
    "- Based on ACF plot, q value should be 3\n",
    "- Based on PACF plot, p value should be 1"
   ]
  },
  {
   "cell_type": "markdown",
   "id": "d9b59cd0",
   "metadata": {},
   "source": [
    "# 3. Build models"
   ]
  },
  {
   "cell_type": "markdown",
   "id": "2866266d",
   "metadata": {},
   "source": [
    "## 3.1. ARIMA with d = 1"
   ]
  },
  {
   "cell_type": "code",
   "execution_count": 33,
   "id": "c1b66718",
   "metadata": {},
   "outputs": [
    {
     "name": "stdout",
     "output_type": "stream",
     "text": [
      "Performing stepwise search to minimize aic\n",
      " ARIMA(1,3,0)(1,1,1)[12]             : AIC=913.021, Time=0.13 sec\n",
      " ARIMA(0,3,0)(0,1,0)[12]             : AIC=935.270, Time=0.08 sec\n",
      " ARIMA(1,3,0)(1,1,0)[12]             : AIC=913.656, Time=0.04 sec\n",
      " ARIMA(0,3,1)(0,1,1)[12]             : AIC=897.827, Time=0.09 sec\n",
      " ARIMA(0,3,1)(0,1,0)[12]             : AIC=902.378, Time=0.03 sec\n",
      " ARIMA(0,3,1)(1,1,1)[12]             : AIC=896.241, Time=0.11 sec\n",
      " ARIMA(0,3,1)(1,1,0)[12]             : AIC=896.091, Time=0.06 sec\n",
      " ARIMA(0,3,1)(2,1,0)[12]             : AIC=896.415, Time=0.18 sec\n",
      " ARIMA(0,3,1)(2,1,1)[12]             : AIC=898.237, Time=0.34 sec\n",
      " ARIMA(0,3,0)(1,1,0)[12]             : AIC=914.310, Time=0.03 sec\n",
      " ARIMA(1,3,1)(1,1,0)[12]             : AIC=897.064, Time=0.08 sec\n",
      " ARIMA(0,3,2)(1,1,0)[12]             : AIC=895.532, Time=0.10 sec\n",
      " ARIMA(0,3,2)(0,1,0)[12]             : AIC=897.393, Time=0.05 sec\n",
      " ARIMA(0,3,2)(2,1,0)[12]             : AIC=896.495, Time=0.23 sec\n",
      " ARIMA(0,3,2)(1,1,1)[12]             : AIC=896.221, Time=0.18 sec\n",
      " ARIMA(0,3,2)(0,1,1)[12]             : AIC=896.276, Time=0.12 sec\n",
      " ARIMA(0,3,2)(2,1,1)[12]             : AIC=898.218, Time=0.34 sec\n",
      " ARIMA(1,3,2)(1,1,0)[12]             : AIC=894.113, Time=0.14 sec\n",
      " ARIMA(1,3,2)(0,1,0)[12]             : AIC=inf, Time=0.09 sec\n",
      " ARIMA(1,3,2)(2,1,0)[12]             : AIC=893.616, Time=0.30 sec\n",
      " ARIMA(1,3,2)(2,1,1)[12]             : AIC=895.335, Time=0.44 sec\n",
      " ARIMA(1,3,2)(1,1,1)[12]             : AIC=893.335, Time=0.25 sec\n",
      " ARIMA(1,3,2)(0,1,1)[12]             : AIC=896.668, Time=0.15 sec\n",
      " ARIMA(1,3,2)(1,1,2)[12]             : AIC=895.335, Time=0.43 sec\n",
      " ARIMA(1,3,2)(0,1,2)[12]             : AIC=893.961, Time=0.28 sec\n",
      " ARIMA(1,3,2)(2,1,2)[12]             : AIC=897.325, Time=0.64 sec\n",
      " ARIMA(1,3,1)(1,1,1)[12]             : AIC=897.175, Time=0.15 sec\n",
      " ARIMA(2,3,2)(1,1,1)[12]             : AIC=894.265, Time=0.28 sec\n",
      " ARIMA(2,3,1)(1,1,1)[12]             : AIC=896.651, Time=0.26 sec\n",
      " ARIMA(1,3,2)(1,1,1)[12] intercept   : AIC=897.450, Time=0.18 sec\n",
      "\n",
      "Best model:  ARIMA(1,3,2)(1,1,1)[12]          \n",
      "Total fit time: 5.770 seconds\n"
     ]
    },
    {
     "data": {
      "text/html": [
       "<table class=\"simpletable\">\n",
       "<caption>SARIMAX Results</caption>\n",
       "<tr>\n",
       "  <th>Dep. Variable:</th>                   <td>y</td>                <th>  No. Observations:  </th>    <td>48</td>   \n",
       "</tr>\n",
       "<tr>\n",
       "  <th>Model:</th>           <td>SARIMAX(1, 3, 2)x(1, 1, [1], 12)</td> <th>  Log Likelihood     </th> <td>-440.668</td>\n",
       "</tr>\n",
       "<tr>\n",
       "  <th>Date:</th>                    <td>Tue, 20 Dec 2022</td>         <th>  AIC                </th>  <td>893.335</td>\n",
       "</tr>\n",
       "<tr>\n",
       "  <th>Time:</th>                        <td>10:35:44</td>             <th>  BIC                </th>  <td>902.314</td>\n",
       "</tr>\n",
       "<tr>\n",
       "  <th>Sample:</th>                     <td>01-01-2015</td>            <th>  HQIC               </th>  <td>896.356</td>\n",
       "</tr>\n",
       "<tr>\n",
       "  <th></th>                           <td>- 12-01-2018</td>           <th>                     </th>     <td> </td>   \n",
       "</tr>\n",
       "<tr>\n",
       "  <th>Covariance Type:</th>                <td>opg</td>               <th>                     </th>     <td> </td>   \n",
       "</tr>\n",
       "</table>\n",
       "<table class=\"simpletable\">\n",
       "<tr>\n",
       "      <td></td>        <th>coef</th>     <th>std err</th>      <th>z</th>      <th>P>|z|</th>  <th>[0.025</th>    <th>0.975]</th>  \n",
       "</tr>\n",
       "<tr>\n",
       "  <th>ar.L1</th>    <td>   -0.8223</td> <td>    0.546</td> <td>   -1.506</td> <td> 0.132</td> <td>   -1.892</td> <td>    0.248</td>\n",
       "</tr>\n",
       "<tr>\n",
       "  <th>ma.L1</th>    <td>   -0.1124</td> <td>    0.589</td> <td>   -0.191</td> <td> 0.849</td> <td>   -1.266</td> <td>    1.042</td>\n",
       "</tr>\n",
       "<tr>\n",
       "  <th>ma.L2</th>    <td>   -0.8486</td> <td>    0.536</td> <td>   -1.583</td> <td> 0.113</td> <td>   -1.899</td> <td>    0.202</td>\n",
       "</tr>\n",
       "<tr>\n",
       "  <th>ar.S.L12</th> <td>   -0.7463</td> <td>    0.651</td> <td>   -1.147</td> <td> 0.251</td> <td>   -2.022</td> <td>    0.529</td>\n",
       "</tr>\n",
       "<tr>\n",
       "  <th>ma.S.L12</th> <td>    0.6104</td> <td>    0.792</td> <td>    0.771</td> <td> 0.441</td> <td>   -0.941</td> <td>    2.162</td>\n",
       "</tr>\n",
       "<tr>\n",
       "  <th>sigma2</th>   <td> 3.324e+10</td> <td> 1.69e-11</td> <td> 1.96e+21</td> <td> 0.000</td> <td> 3.32e+10</td> <td> 3.32e+10</td>\n",
       "</tr>\n",
       "</table>\n",
       "<table class=\"simpletable\">\n",
       "<tr>\n",
       "  <th>Ljung-Box (L1) (Q):</th>     <td>1.20</td> <th>  Jarque-Bera (JB):  </th> <td>0.06</td> \n",
       "</tr>\n",
       "<tr>\n",
       "  <th>Prob(Q):</th>                <td>0.27</td> <th>  Prob(JB):          </th> <td>0.97</td> \n",
       "</tr>\n",
       "<tr>\n",
       "  <th>Heteroskedasticity (H):</th> <td>1.56</td> <th>  Skew:              </th> <td>-0.10</td>\n",
       "</tr>\n",
       "<tr>\n",
       "  <th>Prob(H) (two-sided):</th>    <td>0.47</td> <th>  Kurtosis:          </th> <td>2.99</td> \n",
       "</tr>\n",
       "</table><br/><br/>Warnings:<br/>[1] Covariance matrix calculated using the outer product of gradients (complex-step).<br/>[2] Covariance matrix is singular or near-singular, with condition number 2.85e+37. Standard errors may be unstable."
      ],
      "text/plain": [
       "<class 'statsmodels.iolib.summary.Summary'>\n",
       "\"\"\"\n",
       "                                      SARIMAX Results                                       \n",
       "============================================================================================\n",
       "Dep. Variable:                                    y   No. Observations:                   48\n",
       "Model:             SARIMAX(1, 3, 2)x(1, 1, [1], 12)   Log Likelihood                -440.668\n",
       "Date:                              Tue, 20 Dec 2022   AIC                            893.335\n",
       "Time:                                      10:35:44   BIC                            902.314\n",
       "Sample:                                  01-01-2015   HQIC                           896.356\n",
       "                                       - 12-01-2018                                         \n",
       "Covariance Type:                                opg                                         \n",
       "==============================================================================\n",
       "                 coef    std err          z      P>|z|      [0.025      0.975]\n",
       "------------------------------------------------------------------------------\n",
       "ar.L1         -0.8223      0.546     -1.506      0.132      -1.892       0.248\n",
       "ma.L1         -0.1124      0.589     -0.191      0.849      -1.266       1.042\n",
       "ma.L2         -0.8486      0.536     -1.583      0.113      -1.899       0.202\n",
       "ar.S.L12      -0.7463      0.651     -1.147      0.251      -2.022       0.529\n",
       "ma.S.L12       0.6104      0.792      0.771      0.441      -0.941       2.162\n",
       "sigma2      3.324e+10   1.69e-11   1.96e+21      0.000    3.32e+10    3.32e+10\n",
       "===================================================================================\n",
       "Ljung-Box (L1) (Q):                   1.20   Jarque-Bera (JB):                 0.06\n",
       "Prob(Q):                              0.27   Prob(JB):                         0.97\n",
       "Heteroskedasticity (H):               1.56   Skew:                            -0.10\n",
       "Prob(H) (two-sided):                  0.47   Kurtosis:                         2.99\n",
       "===================================================================================\n",
       "\n",
       "Warnings:\n",
       "[1] Covariance matrix calculated using the outer product of gradients (complex-step).\n",
       "[2] Covariance matrix is singular or near-singular, with condition number 2.85e+37. Standard errors may be unstable.\n",
       "\"\"\""
      ]
     },
     "execution_count": 33,
     "metadata": {},
     "output_type": "execute_result"
    }
   ],
   "source": [
    "model = auto_arima(train,\n",
    "                   d = 3,\n",
    "                   start_p = 1,\n",
    "                   max_p = 13,\n",
    "                   start_q = 0,\n",
    "                   max_q = 2,\n",
    "                   m = 12,\n",
    "                   seasonal = True,\n",
    "                   trace = True)\n",
    "model.summary()"
   ]
  },
  {
   "cell_type": "code",
   "execution_count": 34,
   "id": "82755cf3",
   "metadata": {},
   "outputs": [],
   "source": [
    "# Predict using the best model from auto_arima:\n",
    "test['predict'] = pd.Series(model.predict(12).astype('int64'))"
   ]
  },
  {
   "cell_type": "code",
   "execution_count": 35,
   "id": "b3409e05",
   "metadata": {},
   "outputs": [
    {
     "data": {
      "text/html": [
       "<div>\n",
       "<style scoped>\n",
       "    .dataframe tbody tr th:only-of-type {\n",
       "        vertical-align: middle;\n",
       "    }\n",
       "\n",
       "    .dataframe tbody tr th {\n",
       "        vertical-align: top;\n",
       "    }\n",
       "\n",
       "    .dataframe thead th {\n",
       "        text-align: right;\n",
       "    }\n",
       "</style>\n",
       "<table border=\"1\" class=\"dataframe\">\n",
       "  <thead>\n",
       "    <tr style=\"text-align: right;\">\n",
       "      <th></th>\n",
       "      <th>TTT</th>\n",
       "      <th>predict</th>\n",
       "    </tr>\n",
       "  </thead>\n",
       "  <tbody>\n",
       "    <tr>\n",
       "      <th>2019-01-01</th>\n",
       "      <td>2680573</td>\n",
       "      <td>2764231</td>\n",
       "    </tr>\n",
       "    <tr>\n",
       "      <th>2019-02-01</th>\n",
       "      <td>2860436</td>\n",
       "      <td>2841604</td>\n",
       "    </tr>\n",
       "    <tr>\n",
       "      <th>2019-03-01</th>\n",
       "      <td>3061302</td>\n",
       "      <td>3128380</td>\n",
       "    </tr>\n",
       "    <tr>\n",
       "      <th>2019-04-01</th>\n",
       "      <td>3045879</td>\n",
       "      <td>3159322</td>\n",
       "    </tr>\n",
       "    <tr>\n",
       "      <th>2019-05-01</th>\n",
       "      <td>3230488</td>\n",
       "      <td>3294846</td>\n",
       "    </tr>\n",
       "    <tr>\n",
       "      <th>2019-06-01</th>\n",
       "      <td>3627333</td>\n",
       "      <td>3595730</td>\n",
       "    </tr>\n",
       "    <tr>\n",
       "      <th>2019-07-01</th>\n",
       "      <td>3775263</td>\n",
       "      <td>3763007</td>\n",
       "    </tr>\n",
       "    <tr>\n",
       "      <th>2019-08-01</th>\n",
       "      <td>3151724</td>\n",
       "      <td>3318390</td>\n",
       "    </tr>\n",
       "    <tr>\n",
       "      <th>2019-09-01</th>\n",
       "      <td>2789760</td>\n",
       "      <td>2942155</td>\n",
       "    </tr>\n",
       "    <tr>\n",
       "      <th>2019-10-01</th>\n",
       "      <td>2966733</td>\n",
       "      <td>3010190</td>\n",
       "    </tr>\n",
       "    <tr>\n",
       "      <th>2019-11-01</th>\n",
       "      <td>2966422</td>\n",
       "      <td>2988571</td>\n",
       "    </tr>\n",
       "    <tr>\n",
       "      <th>2019-12-01</th>\n",
       "      <td>3164888</td>\n",
       "      <td>3234202</td>\n",
       "    </tr>\n",
       "  </tbody>\n",
       "</table>\n",
       "</div>"
      ],
      "text/plain": [
       "                TTT  predict\n",
       "2019-01-01  2680573  2764231\n",
       "2019-02-01  2860436  2841604\n",
       "2019-03-01  3061302  3128380\n",
       "2019-04-01  3045879  3159322\n",
       "2019-05-01  3230488  3294846\n",
       "2019-06-01  3627333  3595730\n",
       "2019-07-01  3775263  3763007\n",
       "2019-08-01  3151724  3318390\n",
       "2019-09-01  2789760  2942155\n",
       "2019-10-01  2966733  3010190\n",
       "2019-11-01  2966422  2988571\n",
       "2019-12-01  3164888  3234202"
      ]
     },
     "execution_count": 35,
     "metadata": {},
     "output_type": "execute_result"
    }
   ],
   "source": [
    "test"
   ]
  },
  {
   "cell_type": "code",
   "execution_count": 36,
   "id": "b8767f07",
   "metadata": {},
   "outputs": [
    {
     "data": {
      "image/png": "[encoded data removed]",
      "text/plain": [
       "<Figure size 864x288 with 1 Axes>"
      ]
     },
     "metadata": {
      "needs_background": "light"
     },
     "output_type": "display_data"
    }
   ],
   "source": [
    "# Plot test vs forecast\n",
    "plt.figure(figsize=(12,4))\n",
    "plt.plot(train, label='test')\n",
    "plt.plot(model.predict_in_sample(), label='forecast')\n",
    "plt.legend(loc='best')\n",
    "plt.show()"
   ]
  },
  {
   "cell_type": "code",
   "execution_count": 37,
   "id": "e33b1bf1",
   "metadata": {},
   "outputs": [
    {
     "data": {
      "image/png": "[encoded data removed]",
      "text/plain": [
       "<Figure size 864x288 with 1 Axes>"
      ]
     },
     "metadata": {
      "needs_background": "light"
     },
     "output_type": "display_data"
    }
   ],
   "source": [
    "# Plot test vs forecast\n",
    "plt.figure(figsize=(12,4))\n",
    "plt.plot(test['TTT'], label='test')\n",
    "plt.plot(test['predict'], label='predict')\n",
    "plt.legend(loc='best')\n",
    "plt.show()"
   ]
  },
  {
   "cell_type": "code",
   "execution_count": 38,
   "id": "35bdee9d",
   "metadata": {},
   "outputs": [
    {
     "name": "stdout",
     "output_type": "stream",
     "text": [
      "85731.31\n"
     ]
    }
   ],
   "source": [
    "rmse = np.sqrt(mean_squared_error(test['TTT'], test['predict'])).round(2)\n",
    "print(rmse)"
   ]
  },
  {
   "cell_type": "code",
   "execution_count": 39,
   "id": "d0e7a4a4",
   "metadata": {},
   "outputs": [
    {
     "name": "stdout",
     "output_type": "stream",
     "text": [
      "2.34\n"
     ]
    }
   ],
   "source": [
    "mape = np.round(np.mean(np.abs(test['TTT']-test['predict'])/test['TTT'])*100,2)\n",
    "print(mape)"
   ]
  },
  {
   "cell_type": "markdown",
   "id": "82cd8c40",
   "metadata": {},
   "source": [
    "## 3.2. ARIMA with boxcox"
   ]
  },
  {
   "cell_type": "code",
   "execution_count": 40,
   "id": "c2158dc6",
   "metadata": {},
   "outputs": [
    {
     "data": {
      "image/png": "[encoded data removed]",
      "text/plain": [
       "<Figure size 864x288 with 1 Axes>"
      ]
     },
     "metadata": {
      "needs_background": "light"
     },
     "output_type": "display_data"
    }
   ],
   "source": [
    "data_boxcox = pd.Series(boxcox(data['TTT'], lmbda=0), index = data.index)\n",
    "\n",
    "plt.figure(figsize=(12,4))\n",
    "plt.plot(data_boxcox, label='After Box Cox tranformation')\n",
    "plt.legend(loc='best')\n",
    "plt.title('After Box Cox transform')\n",
    "plt.show()"
   ]
  },
  {
   "cell_type": "code",
   "execution_count": 41,
   "id": "fdc07e25",
   "metadata": {},
   "outputs": [
    {
     "name": "stdout",
     "output_type": "stream",
     "text": [
      "ADF Statistic: -3.447518\n",
      "Critical Values at 0.05: -2.92\n",
      "p-value: 0.009442\n",
      "Stationary\n"
     ]
    }
   ],
   "source": [
    "# Stationarity test:\n",
    "result = adfuller(data_boxcox)\n",
    "print('ADF Statistic: %f' % result[0])\n",
    "print('Critical Values at 0.05: %.2f' % result[4]['5%'])\n",
    "print('p-value: %f' % result[1])\n",
    "if result[1] <= 0.05:\n",
    "    print('Stationary')\n",
    "else:\n",
    "    print('Not stationary')"
   ]
  },
  {
   "cell_type": "code",
   "execution_count": 42,
   "id": "d57a3cc1",
   "metadata": {},
   "outputs": [
    {
     "name": "stdout",
     "output_type": "stream",
     "text": [
      "KPSS Statistic: 1.066233\n",
      "Critical Values at 0.05: 0.46\n",
      "p-value: 0.010000\n",
      "Not stationary\n"
     ]
    },
    {
     "name": "stderr",
     "output_type": "stream",
     "text": [
      "C:\\Users\\namtrantuan\\Anaconda3\\lib\\site-packages\\statsmodels\\tsa\\stattools.py:2018: InterpolationWarning: The test statistic is outside of the range of p-values available in the\n",
      "look-up table. The actual p-value is smaller than the p-value returned.\n",
      "\n",
      "  warnings.warn(\n"
     ]
    }
   ],
   "source": [
    "kpss_test = kpss(data_boxcox)\n",
    "\n",
    "print('KPSS Statistic: %f' % kpss_test[0])\n",
    "print('Critical Values at 0.05: %.2f' % kpss_test[3]['5%'])\n",
    "print('p-value: %f' % kpss_test[1])\n",
    "if result[1] > 0.05:\n",
    "    print('Stationary')\n",
    "else:\n",
    "    print('Not stationary')"
   ]
  },
  {
   "cell_type": "code",
   "execution_count": 43,
   "id": "b26f1e6a",
   "metadata": {},
   "outputs": [
    {
     "data": {
      "image/png": "[encoded data removed]",
      "text/plain": [
       "<Figure size 864x288 with 1 Axes>"
      ]
     },
     "metadata": {
      "needs_background": "light"
     },
     "output_type": "display_data"
    }
   ],
   "source": [
    "data_boxcox_diff = pd.Series(data_boxcox - data_boxcox.shift(), data.index)\n",
    "plt.figure(figsize=(12,4))\n",
    "plt.plot(data_boxcox_diff, label='After Box Cox tranformation and differencing')\n",
    "plt.legend(loc='best')\n",
    "plt.title('After Box Cox transform and differencing')\n",
    "plt.show()"
   ]
  },
  {
   "cell_type": "code",
   "execution_count": 45,
   "id": "6811608f",
   "metadata": {},
   "outputs": [],
   "source": [
    "data_boxcox_diff.dropna(inplace=True)"
   ]
  },
  {
   "cell_type": "code",
   "execution_count": 46,
   "id": "751896c9",
   "metadata": {},
   "outputs": [
    {
     "name": "stdout",
     "output_type": "stream",
     "text": [
      "ADF Statistic: -1.631673\n",
      "Critical Values at 0.05: -2.93\n",
      "p-value: 0.466615\n",
      "Not stationary\n"
     ]
    }
   ],
   "source": [
    "# Stationarity test:\n",
    "result = adfuller(data_boxcox_diff)\n",
    "print('ADF Statistic: %f' % result[0])\n",
    "print('Critical Values at 0.05: %.2f' % result[4]['5%'])\n",
    "print('p-value: %f' % result[1])\n",
    "if result[1] <= 0.05:\n",
    "    print('Stationary')\n",
    "else:\n",
    "    print('Not stationary')"
   ]
  },
  {
   "cell_type": "code",
   "execution_count": null,
   "id": "0d617744",
   "metadata": {},
   "outputs": [],
   "source": []
  }
 ],
 "metadata": {
  "kernelspec": {
   "display_name": "Python 3 (ipykernel)",
   "language": "python",
   "name": "python3"
  },
  "language_info": {
   "codemirror_mode": {
    "name": "ipython",
    "version": 3
   },
   "file_extension": ".py",
   "mimetype": "text/x-python",
   "name": "python",
   "nbconvert_exporter": "python",
   "pygments_lexer": "ipython3",
   "version": "3.9.7"
  }
 },
 "nbformat": 4,
 "nbformat_minor": 5
}
