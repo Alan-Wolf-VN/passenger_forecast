{
 "cells": [
  {
   "cell_type": "markdown",
   "id": "349e4f84",
   "metadata": {},
   "source": [
    "# 1. Import libraries and data"
   ]
  },
  {
   "cell_type": "code",
   "execution_count": 1,
   "id": "3c9d1b5e",
   "metadata": {},
   "outputs": [],
   "source": [
    "import numpy as np\n",
    "import pandas as pd\n",
    "import matplotlib.pyplot as plt\n",
    "import seaborn as sns\n",
    "from pylab import rcParams\n",
    "import statsmodels.api as sm\n",
    "from sklearn.metrics import mean_squared_error, mean_absolute_error\n",
    "from statsmodels.tsa.stattools import adfuller\n",
    "from statsmodels.tsa.stattools import kpss\n",
    "from scipy.stats import boxcox\n",
    "from scipy.special import inv_boxcox\n",
    "from statsmodels.graphics.tsaplots import plot_acf, plot_pacf\n",
    "from statsmodels.tsa.statespace.sarimax import SARIMAX\n",
    "from statsmodels.tsa.vector_ar.vecm import coint_johansen\n",
    "from pmdarima.arima import auto_arima"
   ]
  },
  {
   "cell_type": "code",
   "execution_count": 2,
   "id": "1ce20eac",
   "metadata": {},
   "outputs": [],
   "source": [
    "data = pd.read_excel('data.xlsx')"
   ]
  },
  {
   "cell_type": "code",
   "execution_count": 3,
   "id": "e885bf46",
   "metadata": {},
   "outputs": [],
   "source": [
    "data.set_index(pd.to_datetime(data[[\"YEAR\", \"MONTH\"]].assign(DAY=1)), inplace = True)"
   ]
  },
  {
   "cell_type": "code",
   "execution_count": 4,
   "id": "9fbcc58a",
   "metadata": {},
   "outputs": [],
   "source": [
    "data.drop(['YEAR','MONTH','HANSGN'], axis = 1, inplace = True)"
   ]
  },
  {
   "cell_type": "code",
   "execution_count": 5,
   "id": "4a68433d",
   "metadata": {},
   "outputs": [
    {
     "data": {
      "text/html": [
       "<div>\n",
       "<style scoped>\n",
       "    .dataframe tbody tr th:only-of-type {\n",
       "        vertical-align: middle;\n",
       "    }\n",
       "\n",
       "    .dataframe tbody tr th {\n",
       "        vertical-align: top;\n",
       "    }\n",
       "\n",
       "    .dataframe thead th {\n",
       "        text-align: right;\n",
       "    }\n",
       "</style>\n",
       "<table border=\"1\" class=\"dataframe\">\n",
       "  <thead>\n",
       "    <tr style=\"text-align: right;\">\n",
       "      <th></th>\n",
       "      <th>TTT</th>\n",
       "    </tr>\n",
       "  </thead>\n",
       "  <tbody>\n",
       "    <tr>\n",
       "      <th>2015-01-01</th>\n",
       "      <td>1436819</td>\n",
       "    </tr>\n",
       "    <tr>\n",
       "      <th>2015-02-01</th>\n",
       "      <td>1541333</td>\n",
       "    </tr>\n",
       "    <tr>\n",
       "      <th>2015-03-01</th>\n",
       "      <td>1680903</td>\n",
       "    </tr>\n",
       "    <tr>\n",
       "      <th>2015-04-01</th>\n",
       "      <td>1684774</td>\n",
       "    </tr>\n",
       "    <tr>\n",
       "      <th>2015-05-01</th>\n",
       "      <td>1772993</td>\n",
       "    </tr>\n",
       "  </tbody>\n",
       "</table>\n",
       "</div>"
      ],
      "text/plain": [
       "                TTT\n",
       "2015-01-01  1436819\n",
       "2015-02-01  1541333\n",
       "2015-03-01  1680903\n",
       "2015-04-01  1684774\n",
       "2015-05-01  1772993"
      ]
     },
     "execution_count": 5,
     "metadata": {},
     "output_type": "execute_result"
    }
   ],
   "source": [
    "data.head(5)"
   ]
  },
  {
   "cell_type": "code",
   "execution_count": 6,
   "id": "26262a5b",
   "metadata": {},
   "outputs": [
    {
     "data": {
      "text/plain": [
       "<AxesSubplot:>"
      ]
     },
     "execution_count": 6,
     "metadata": {},
     "output_type": "execute_result"
    },
    {
     "data": {
      "image/png": "[encoded data removed]",
      "text/plain": [
       "<Figure size 432x288 with 1 Axes>"
      ]
     },
     "metadata": {
      "needs_background": "light"
     },
     "output_type": "display_data"
    }
   ],
   "source": [
    "data['TTT'].plot()"
   ]
  },
  {
   "cell_type": "code",
   "execution_count": 7,
   "id": "2ea9c21f",
   "metadata": {},
   "outputs": [],
   "source": [
    "train = data[:-12].copy()\n",
    "test = data[-12:].copy() # last 12 months as test set"
   ]
  },
  {
   "cell_type": "code",
   "execution_count": 8,
   "id": "47791e15",
   "metadata": {},
   "outputs": [
    {
     "data": {
      "text/html": [
       "<div>\n",
       "<style scoped>\n",
       "    .dataframe tbody tr th:only-of-type {\n",
       "        vertical-align: middle;\n",
       "    }\n",
       "\n",
       "    .dataframe tbody tr th {\n",
       "        vertical-align: top;\n",
       "    }\n",
       "\n",
       "    .dataframe thead th {\n",
       "        text-align: right;\n",
       "    }\n",
       "</style>\n",
       "<table border=\"1\" class=\"dataframe\">\n",
       "  <thead>\n",
       "    <tr style=\"text-align: right;\">\n",
       "      <th></th>\n",
       "      <th>TTT</th>\n",
       "    </tr>\n",
       "  </thead>\n",
       "  <tbody>\n",
       "    <tr>\n",
       "      <th>2019-01-01</th>\n",
       "      <td>2680573</td>\n",
       "    </tr>\n",
       "    <tr>\n",
       "      <th>2019-02-01</th>\n",
       "      <td>2860436</td>\n",
       "    </tr>\n",
       "    <tr>\n",
       "      <th>2019-03-01</th>\n",
       "      <td>3061302</td>\n",
       "    </tr>\n",
       "    <tr>\n",
       "      <th>2019-04-01</th>\n",
       "      <td>3045879</td>\n",
       "    </tr>\n",
       "    <tr>\n",
       "      <th>2019-05-01</th>\n",
       "      <td>3230488</td>\n",
       "    </tr>\n",
       "    <tr>\n",
       "      <th>2019-06-01</th>\n",
       "      <td>3627333</td>\n",
       "    </tr>\n",
       "    <tr>\n",
       "      <th>2019-07-01</th>\n",
       "      <td>3775263</td>\n",
       "    </tr>\n",
       "    <tr>\n",
       "      <th>2019-08-01</th>\n",
       "      <td>3151724</td>\n",
       "    </tr>\n",
       "    <tr>\n",
       "      <th>2019-09-01</th>\n",
       "      <td>2789760</td>\n",
       "    </tr>\n",
       "    <tr>\n",
       "      <th>2019-10-01</th>\n",
       "      <td>2966733</td>\n",
       "    </tr>\n",
       "    <tr>\n",
       "      <th>2019-11-01</th>\n",
       "      <td>2966422</td>\n",
       "    </tr>\n",
       "    <tr>\n",
       "      <th>2019-12-01</th>\n",
       "      <td>3164888</td>\n",
       "    </tr>\n",
       "  </tbody>\n",
       "</table>\n",
       "</div>"
      ],
      "text/plain": [
       "                TTT\n",
       "2019-01-01  2680573\n",
       "2019-02-01  2860436\n",
       "2019-03-01  3061302\n",
       "2019-04-01  3045879\n",
       "2019-05-01  3230488\n",
       "2019-06-01  3627333\n",
       "2019-07-01  3775263\n",
       "2019-08-01  3151724\n",
       "2019-09-01  2789760\n",
       "2019-10-01  2966733\n",
       "2019-11-01  2966422\n",
       "2019-12-01  3164888"
      ]
     },
     "execution_count": 8,
     "metadata": {},
     "output_type": "execute_result"
    }
   ],
   "source": [
    "test"
   ]
  },
  {
   "cell_type": "markdown",
   "id": "5dc94b07",
   "metadata": {},
   "source": [
    "# 2. Time Series Analysis"
   ]
  },
  {
   "cell_type": "code",
   "execution_count": 9,
   "id": "cd7890ea",
   "metadata": {},
   "outputs": [
    {
     "name": "stdout",
     "output_type": "stream",
     "text": [
      "ADF Statistic: -3.968342\n",
      "Critical Values at 0.05: -2.94\n",
      "p-value: 0.001586\n",
      "Stationary\n"
     ]
    }
   ],
   "source": [
    "# Stationarity test:\n",
    "result = adfuller(train)\n",
    "print('ADF Statistic: %f' % result[0])\n",
    "print('Critical Values at 0.05: %.2f' % result[4]['5%'])\n",
    "print('p-value: %f' % result[1])\n",
    "if result[1] <= 0.05:\n",
    "    print('Stationary')\n",
    "else:\n",
    "    print('Not stationary')"
   ]
  },
  {
   "cell_type": "code",
   "execution_count": 10,
   "id": "60a694b0",
   "metadata": {},
   "outputs": [
    {
     "name": "stdout",
     "output_type": "stream",
     "text": [
      "KPSS Statistic: 0.795515\n",
      "Critical Values at 0.05: 0.46\n",
      "p-value: 0.010000\n",
      "Not stationary\n"
     ]
    },
    {
     "name": "stderr",
     "output_type": "stream",
     "text": [
      "C:\\Users\\namtrantuan\\Anaconda3\\lib\\site-packages\\statsmodels\\tsa\\stattools.py:2018: InterpolationWarning: The test statistic is outside of the range of p-values available in the\n",
      "look-up table. The actual p-value is smaller than the p-value returned.\n",
      "\n",
      "  warnings.warn(\n"
     ]
    }
   ],
   "source": [
    "kpss_test = kpss(train)\n",
    "\n",
    "print('KPSS Statistic: %f' % kpss_test[0])\n",
    "print('Critical Values at 0.05: %.2f' % kpss_test[3]['5%'])\n",
    "print('p-value: %f' % kpss_test[1])\n",
    "if kpss_test[1] > 0.05:\n",
    "    print('Stationary')\n",
    "else:\n",
    "    print('Not stationary')"
   ]
  },
  {
   "cell_type": "code",
   "execution_count": 11,
   "id": "7422eb67",
   "metadata": {},
   "outputs": [
    {
     "data": {
      "text/plain": [
       "<AxesSubplot:>"
      ]
     },
     "execution_count": 11,
     "metadata": {},
     "output_type": "execute_result"
    },
    {
     "data": {
      "image/png": "[encoded data removed]",
      "text/plain": [
       "<Figure size 432x288 with 1 Axes>"
      ]
     },
     "metadata": {
      "needs_background": "light"
     },
     "output_type": "display_data"
    }
   ],
   "source": [
    "train1 = train - train.shift(1)\n",
    "train1.plot()"
   ]
  },
  {
   "cell_type": "code",
   "execution_count": 12,
   "id": "fd09fcb6",
   "metadata": {},
   "outputs": [
    {
     "name": "stdout",
     "output_type": "stream",
     "text": [
      "ADF Statistic: -6.515841\n",
      "p-value: 0.000000\n",
      "Stationary\n"
     ]
    }
   ],
   "source": [
    "# unit-root (\"difference stationary\") test:\n",
    "# Difference-stationary: If a time series can be made stationary by differencing, it is said to contain a unit root.\n",
    "# In essence, this means that the current value of a series yt is equal to its last value yt−1 plus an error ϵt\n",
    "# i.e. yt=ayt−1+ϵt with |a|=1\n",
    "# Variables that show this behaviour are also said to be integrated of order d, or I(d)\n",
    "# which means that d differences are neccesary to render a series stationary.\n",
    "result = adfuller(train1.dropna())\n",
    "print('ADF Statistic: %f' % result[0])\n",
    "print('p-value: %f' % result[1])\n",
    "if result[1] <= 0.05:\n",
    "    print('Stationary')\n",
    "else:\n",
    "    print('Not stationary')"
   ]
  },
  {
   "cell_type": "code",
   "execution_count": 13,
   "id": "f9a92cdc",
   "metadata": {},
   "outputs": [
    {
     "name": "stdout",
     "output_type": "stream",
     "text": [
      "KPSS Statistic: 0.071539\n",
      "Critical Values @ 0.05: 0.46\n",
      "p-value: 0.100000\n",
      "Stationary\n"
     ]
    },
    {
     "name": "stderr",
     "output_type": "stream",
     "text": [
      "C:\\Users\\namtrantuan\\Anaconda3\\lib\\site-packages\\statsmodels\\tsa\\stattools.py:2022: InterpolationWarning: The test statistic is outside of the range of p-values available in the\n",
      "look-up table. The actual p-value is greater than the p-value returned.\n",
      "\n",
      "  warnings.warn(\n"
     ]
    }
   ],
   "source": [
    "# trend-stationary test:\n",
    "kpss_test = kpss(train1.dropna())\n",
    "\n",
    "print('KPSS Statistic: %f' % kpss_test[0])\n",
    "print('Critical Values @ 0.05: %.2f' % kpss_test[3]['5%'])\n",
    "print('p-value: %f' % kpss_test[1])\n",
    "if kpss_test[1] > 0.05:\n",
    "    print('Stationary')\n",
    "else:\n",
    "    print('Not stationary')"
   ]
  },
  {
   "cell_type": "code",
   "execution_count": 14,
   "id": "b5908790",
   "metadata": {},
   "outputs": [
    {
     "data": {
      "image/png": "[encoded data removed]",
      "text/plain": [
       "<Figure size 864x288 with 1 Axes>"
      ]
     },
     "metadata": {
      "needs_background": "light"
     },
     "output_type": "display_data"
    }
   ],
   "source": [
    "# Check ACF and PACF:\n",
    "plt.figure(figsize=(12,4))\n",
    "plot_acf(train, ax=plt.gca(), lags = 30)\n",
    "plt.show()"
   ]
  },
  {
   "cell_type": "code",
   "execution_count": 15,
   "id": "18be9cf8",
   "metadata": {},
   "outputs": [
    {
     "name": "stderr",
     "output_type": "stream",
     "text": [
      "C:\\Users\\namtrantuan\\Anaconda3\\lib\\site-packages\\statsmodels\\graphics\\tsaplots.py:348: FutureWarning: The default method 'yw' can produce PACF values outside of the [-1,1] interval. After 0.13, the default will change tounadjusted Yule-Walker ('ywm'). You can use this method now by setting method='ywm'.\n",
      "  warnings.warn(\n"
     ]
    },
    {
     "data": {
      "image/png": "[encoded data removed]",
      "text/plain": [
       "<Figure size 864x288 with 1 Axes>"
      ]
     },
     "metadata": {
      "needs_background": "light"
     },
     "output_type": "display_data"
    }
   ],
   "source": [
    "plt.figure(figsize=(12,4))\n",
    "plot_pacf(train, ax=plt.gca(), lags = 20)\n",
    "plt.show()"
   ]
  },
  {
   "cell_type": "markdown",
   "id": "07cdcd3a",
   "metadata": {},
   "source": [
    "Conclusion:\n",
    "- Because the time series is stationary after 1 differencing, d value should be 1\n",
    "- Based on ACF plot, q value should be 3\n",
    "- Based on PACF plot, p value should be 1"
   ]
  },
  {
   "cell_type": "markdown",
   "id": "d9b59cd0",
   "metadata": {},
   "source": [
    "# 3. Build models"
   ]
  },
  {
   "cell_type": "markdown",
   "id": "2866266d",
   "metadata": {},
   "source": [
    "## 3.1. ARIMA without boxcox"
   ]
  },
  {
   "cell_type": "code",
   "execution_count": 16,
   "id": "c1b66718",
   "metadata": {},
   "outputs": [
    {
     "name": "stdout",
     "output_type": "stream",
     "text": [
      "Performing stepwise search to minimize aic\n",
      " ARIMA(0,3,0)(1,1,1)[12]             : AIC=919.036, Time=0.25 sec\n",
      " ARIMA(0,3,0)(0,1,0)[12]             : AIC=935.270, Time=0.02 sec\n",
      " ARIMA(1,3,0)(1,1,0)[12]             : AIC=913.656, Time=0.07 sec\n",
      " ARIMA(0,3,1)(0,1,1)[12]             : AIC=897.827, Time=0.11 sec\n",
      " ARIMA(0,3,1)(0,1,0)[12]             : AIC=902.378, Time=0.05 sec\n",
      " ARIMA(0,3,1)(1,1,1)[12]             : AIC=896.241, Time=0.15 sec\n",
      " ARIMA(0,3,1)(1,1,0)[12]             : AIC=896.091, Time=0.12 sec\n",
      " ARIMA(0,3,1)(2,1,0)[12]             : AIC=896.415, Time=0.29 sec\n",
      " ARIMA(0,3,1)(2,1,1)[12]             : AIC=898.237, Time=0.57 sec\n",
      " ARIMA(0,3,0)(1,1,0)[12]             : AIC=914.310, Time=0.05 sec\n",
      " ARIMA(1,3,1)(1,1,0)[12]             : AIC=897.064, Time=0.12 sec\n",
      " ARIMA(0,3,2)(1,1,0)[12]             : AIC=895.532, Time=0.15 sec\n",
      " ARIMA(0,3,2)(0,1,0)[12]             : AIC=897.393, Time=0.05 sec\n",
      " ARIMA(0,3,2)(2,1,0)[12]             : AIC=896.495, Time=0.36 sec\n",
      " ARIMA(0,3,2)(1,1,1)[12]             : AIC=896.221, Time=0.26 sec\n",
      " ARIMA(0,3,2)(0,1,1)[12]             : AIC=896.276, Time=0.15 sec\n",
      " ARIMA(0,3,2)(2,1,1)[12]             : AIC=898.218, Time=0.52 sec\n",
      " ARIMA(1,3,2)(1,1,0)[12]             : AIC=894.113, Time=0.17 sec\n",
      " ARIMA(1,3,2)(0,1,0)[12]             : AIC=inf, Time=0.11 sec\n",
      " ARIMA(1,3,2)(2,1,0)[12]             : AIC=893.616, Time=0.45 sec\n",
      " ARIMA(1,3,2)(2,1,1)[12]             : AIC=895.335, Time=0.69 sec\n",
      " ARIMA(1,3,2)(1,1,1)[12]             : AIC=893.335, Time=0.35 sec\n",
      " ARIMA(1,3,2)(0,1,1)[12]             : AIC=896.668, Time=0.22 sec\n",
      " ARIMA(1,3,2)(1,1,2)[12]             : AIC=895.335, Time=0.61 sec\n",
      " ARIMA(1,3,2)(0,1,2)[12]             : AIC=893.961, Time=0.46 sec\n",
      " ARIMA(1,3,2)(2,1,2)[12]             : AIC=897.325, Time=0.92 sec\n",
      " ARIMA(1,3,1)(1,1,1)[12]             : AIC=897.175, Time=0.22 sec\n",
      " ARIMA(2,3,2)(1,1,1)[12]             : AIC=894.265, Time=0.44 sec\n",
      " ARIMA(2,3,1)(1,1,1)[12]             : AIC=896.651, Time=0.32 sec\n",
      " ARIMA(1,3,2)(1,1,1)[12] intercept   : AIC=897.450, Time=0.28 sec\n",
      "\n",
      "Best model:  ARIMA(1,3,2)(1,1,1)[12]          \n",
      "Total fit time: 8.530 seconds\n"
     ]
    },
    {
     "data": {
      "text/html": [
       "<table class=\"simpletable\">\n",
       "<caption>SARIMAX Results</caption>\n",
       "<tr>\n",
       "  <th>Dep. Variable:</th>                   <td>y</td>                <th>  No. Observations:  </th>    <td>48</td>   \n",
       "</tr>\n",
       "<tr>\n",
       "  <th>Model:</th>           <td>SARIMAX(1, 3, 2)x(1, 1, [1], 12)</td> <th>  Log Likelihood     </th> <td>-440.668</td>\n",
       "</tr>\n",
       "<tr>\n",
       "  <th>Date:</th>                    <td>Fri, 03 Feb 2023</td>         <th>  AIC                </th>  <td>893.335</td>\n",
       "</tr>\n",
       "<tr>\n",
       "  <th>Time:</th>                        <td>11:34:52</td>             <th>  BIC                </th>  <td>902.314</td>\n",
       "</tr>\n",
       "<tr>\n",
       "  <th>Sample:</th>                     <td>01-01-2015</td>            <th>  HQIC               </th>  <td>896.356</td>\n",
       "</tr>\n",
       "<tr>\n",
       "  <th></th>                           <td>- 12-01-2018</td>           <th>                     </th>     <td> </td>   \n",
       "</tr>\n",
       "<tr>\n",
       "  <th>Covariance Type:</th>                <td>opg</td>               <th>                     </th>     <td> </td>   \n",
       "</tr>\n",
       "</table>\n",
       "<table class=\"simpletable\">\n",
       "<tr>\n",
       "      <td></td>        <th>coef</th>     <th>std err</th>      <th>z</th>      <th>P>|z|</th>  <th>[0.025</th>    <th>0.975]</th>  \n",
       "</tr>\n",
       "<tr>\n",
       "  <th>ar.L1</th>    <td>   -0.8223</td> <td>    0.546</td> <td>   -1.506</td> <td> 0.132</td> <td>   -1.892</td> <td>    0.248</td>\n",
       "</tr>\n",
       "<tr>\n",
       "  <th>ma.L1</th>    <td>   -0.1124</td> <td>    0.589</td> <td>   -0.191</td> <td> 0.849</td> <td>   -1.266</td> <td>    1.042</td>\n",
       "</tr>\n",
       "<tr>\n",
       "  <th>ma.L2</th>    <td>   -0.8486</td> <td>    0.536</td> <td>   -1.583</td> <td> 0.113</td> <td>   -1.899</td> <td>    0.202</td>\n",
       "</tr>\n",
       "<tr>\n",
       "  <th>ar.S.L12</th> <td>   -0.7463</td> <td>    0.651</td> <td>   -1.147</td> <td> 0.251</td> <td>   -2.022</td> <td>    0.529</td>\n",
       "</tr>\n",
       "<tr>\n",
       "  <th>ma.S.L12</th> <td>    0.6104</td> <td>    0.792</td> <td>    0.771</td> <td> 0.441</td> <td>   -0.941</td> <td>    2.162</td>\n",
       "</tr>\n",
       "<tr>\n",
       "  <th>sigma2</th>   <td> 3.324e+10</td> <td> 1.69e-11</td> <td> 1.96e+21</td> <td> 0.000</td> <td> 3.32e+10</td> <td> 3.32e+10</td>\n",
       "</tr>\n",
       "</table>\n",
       "<table class=\"simpletable\">\n",
       "<tr>\n",
       "  <th>Ljung-Box (L1) (Q):</th>     <td>1.20</td> <th>  Jarque-Bera (JB):  </th> <td>0.06</td> \n",
       "</tr>\n",
       "<tr>\n",
       "  <th>Prob(Q):</th>                <td>0.27</td> <th>  Prob(JB):          </th> <td>0.97</td> \n",
       "</tr>\n",
       "<tr>\n",
       "  <th>Heteroskedasticity (H):</th> <td>1.56</td> <th>  Skew:              </th> <td>-0.10</td>\n",
       "</tr>\n",
       "<tr>\n",
       "  <th>Prob(H) (two-sided):</th>    <td>0.47</td> <th>  Kurtosis:          </th> <td>2.99</td> \n",
       "</tr>\n",
       "</table><br/><br/>Warnings:<br/>[1] Covariance matrix calculated using the outer product of gradients (complex-step).<br/>[2] Covariance matrix is singular or near-singular, with condition number 7.66e+37. Standard errors may be unstable."
      ],
      "text/plain": [
       "<class 'statsmodels.iolib.summary.Summary'>\n",
       "\"\"\"\n",
       "                                      SARIMAX Results                                       \n",
       "============================================================================================\n",
       "Dep. Variable:                                    y   No. Observations:                   48\n",
       "Model:             SARIMAX(1, 3, 2)x(1, 1, [1], 12)   Log Likelihood                -440.668\n",
       "Date:                              Fri, 03 Feb 2023   AIC                            893.335\n",
       "Time:                                      11:34:52   BIC                            902.314\n",
       "Sample:                                  01-01-2015   HQIC                           896.356\n",
       "                                       - 12-01-2018                                         \n",
       "Covariance Type:                                opg                                         \n",
       "==============================================================================\n",
       "                 coef    std err          z      P>|z|      [0.025      0.975]\n",
       "------------------------------------------------------------------------------\n",
       "ar.L1         -0.8223      0.546     -1.506      0.132      -1.892       0.248\n",
       "ma.L1         -0.1124      0.589     -0.191      0.849      -1.266       1.042\n",
       "ma.L2         -0.8486      0.536     -1.583      0.113      -1.899       0.202\n",
       "ar.S.L12      -0.7463      0.651     -1.147      0.251      -2.022       0.529\n",
       "ma.S.L12       0.6104      0.792      0.771      0.441      -0.941       2.162\n",
       "sigma2      3.324e+10   1.69e-11   1.96e+21      0.000    3.32e+10    3.32e+10\n",
       "===================================================================================\n",
       "Ljung-Box (L1) (Q):                   1.20   Jarque-Bera (JB):                 0.06\n",
       "Prob(Q):                              0.27   Prob(JB):                         0.97\n",
       "Heteroskedasticity (H):               1.56   Skew:                            -0.10\n",
       "Prob(H) (two-sided):                  0.47   Kurtosis:                         2.99\n",
       "===================================================================================\n",
       "\n",
       "Warnings:\n",
       "[1] Covariance matrix calculated using the outer product of gradients (complex-step).\n",
       "[2] Covariance matrix is singular or near-singular, with condition number 7.66e+37. Standard errors may be unstable.\n",
       "\"\"\""
      ]
     },
     "execution_count": 16,
     "metadata": {},
     "output_type": "execute_result"
    }
   ],
   "source": [
    "model = auto_arima(train,\n",
    "                   d = 3,\n",
    "                   start_p = 0,\n",
    "                   max_p = 13,\n",
    "                   start_q = 0,\n",
    "                   max_q = 2,\n",
    "                   m = 12,\n",
    "                   seasonal = True,\n",
    "                   trace = True)\n",
    "model.summary()"
   ]
  },
  {
   "cell_type": "code",
   "execution_count": 17,
   "id": "82755cf3",
   "metadata": {},
   "outputs": [],
   "source": [
    "# Predict using the best model from auto_arima:\n",
    "test['predict'] = pd.Series(model.predict(12).astype('int64'))"
   ]
  },
  {
   "cell_type": "code",
   "execution_count": 18,
   "id": "b3409e05",
   "metadata": {},
   "outputs": [
    {
     "data": {
      "text/html": [
       "<div>\n",
       "<style scoped>\n",
       "    .dataframe tbody tr th:only-of-type {\n",
       "        vertical-align: middle;\n",
       "    }\n",
       "\n",
       "    .dataframe tbody tr th {\n",
       "        vertical-align: top;\n",
       "    }\n",
       "\n",
       "    .dataframe thead th {\n",
       "        text-align: right;\n",
       "    }\n",
       "</style>\n",
       "<table border=\"1\" class=\"dataframe\">\n",
       "  <thead>\n",
       "    <tr style=\"text-align: right;\">\n",
       "      <th></th>\n",
       "      <th>TTT</th>\n",
       "      <th>predict</th>\n",
       "    </tr>\n",
       "  </thead>\n",
       "  <tbody>\n",
       "    <tr>\n",
       "      <th>2019-01-01</th>\n",
       "      <td>2680573</td>\n",
       "      <td>2764231</td>\n",
       "    </tr>\n",
       "    <tr>\n",
       "      <th>2019-02-01</th>\n",
       "      <td>2860436</td>\n",
       "      <td>2841604</td>\n",
       "    </tr>\n",
       "    <tr>\n",
       "      <th>2019-03-01</th>\n",
       "      <td>3061302</td>\n",
       "      <td>3128380</td>\n",
       "    </tr>\n",
       "    <tr>\n",
       "      <th>2019-04-01</th>\n",
       "      <td>3045879</td>\n",
       "      <td>3159322</td>\n",
       "    </tr>\n",
       "    <tr>\n",
       "      <th>2019-05-01</th>\n",
       "      <td>3230488</td>\n",
       "      <td>3294846</td>\n",
       "    </tr>\n",
       "    <tr>\n",
       "      <th>2019-06-01</th>\n",
       "      <td>3627333</td>\n",
       "      <td>3595730</td>\n",
       "    </tr>\n",
       "    <tr>\n",
       "      <th>2019-07-01</th>\n",
       "      <td>3775263</td>\n",
       "      <td>3763007</td>\n",
       "    </tr>\n",
       "    <tr>\n",
       "      <th>2019-08-01</th>\n",
       "      <td>3151724</td>\n",
       "      <td>3318390</td>\n",
       "    </tr>\n",
       "    <tr>\n",
       "      <th>2019-09-01</th>\n",
       "      <td>2789760</td>\n",
       "      <td>2942155</td>\n",
       "    </tr>\n",
       "    <tr>\n",
       "      <th>2019-10-01</th>\n",
       "      <td>2966733</td>\n",
       "      <td>3010190</td>\n",
       "    </tr>\n",
       "    <tr>\n",
       "      <th>2019-11-01</th>\n",
       "      <td>2966422</td>\n",
       "      <td>2988571</td>\n",
       "    </tr>\n",
       "    <tr>\n",
       "      <th>2019-12-01</th>\n",
       "      <td>3164888</td>\n",
       "      <td>3234202</td>\n",
       "    </tr>\n",
       "  </tbody>\n",
       "</table>\n",
       "</div>"
      ],
      "text/plain": [
       "                TTT  predict\n",
       "2019-01-01  2680573  2764231\n",
       "2019-02-01  2860436  2841604\n",
       "2019-03-01  3061302  3128380\n",
       "2019-04-01  3045879  3159322\n",
       "2019-05-01  3230488  3294846\n",
       "2019-06-01  3627333  3595730\n",
       "2019-07-01  3775263  3763007\n",
       "2019-08-01  3151724  3318390\n",
       "2019-09-01  2789760  2942155\n",
       "2019-10-01  2966733  3010190\n",
       "2019-11-01  2966422  2988571\n",
       "2019-12-01  3164888  3234202"
      ]
     },
     "execution_count": 18,
     "metadata": {},
     "output_type": "execute_result"
    }
   ],
   "source": [
    "test"
   ]
  },
  {
   "cell_type": "code",
   "execution_count": 19,
   "id": "b8767f07",
   "metadata": {},
   "outputs": [
    {
     "data": {
      "image/png": "[encoded data removed]",
      "text/plain": [
       "<Figure size 864x288 with 1 Axes>"
      ]
     },
     "metadata": {
      "needs_background": "light"
     },
     "output_type": "display_data"
    }
   ],
   "source": [
    "# Plot train vs forecast\n",
    "plt.figure(figsize=(12,4))\n",
    "plt.plot(train, label='test')\n",
    "plt.plot(model.predict_in_sample(), label='forecast')\n",
    "plt.legend(loc='best')\n",
    "plt.show()"
   ]
  },
  {
   "cell_type": "code",
   "execution_count": 20,
   "id": "e33b1bf1",
   "metadata": {},
   "outputs": [
    {
     "data": {
      "image/png": "[encoded data removed]",
      "text/plain": [
       "<Figure size 864x288 with 1 Axes>"
      ]
     },
     "metadata": {
      "needs_background": "light"
     },
     "output_type": "display_data"
    }
   ],
   "source": [
    "# Plot test vs forecast\n",
    "plt.figure(figsize=(12,4))\n",
    "plt.plot(test['TTT'], label='test')\n",
    "plt.plot(test['predict'], label='predict')\n",
    "plt.legend(loc='best')\n",
    "plt.show()"
   ]
  },
  {
   "cell_type": "code",
   "execution_count": 21,
   "id": "35bdee9d",
   "metadata": {},
   "outputs": [],
   "source": [
    "# Calculate rmse and mape:\n",
    "rmse = np.sqrt(mean_squared_error(test['TTT'], test['predict'])).round(2)\n",
    "mape = np.round(np.mean(np.abs(test['TTT']-test['predict'])/test['TTT'])*100,2)"
   ]
  },
  {
   "cell_type": "code",
   "execution_count": 22,
   "id": "0584fcc6",
   "metadata": {},
   "outputs": [
    {
     "data": {
      "text/html": [
       "<div>\n",
       "<style scoped>\n",
       "    .dataframe tbody tr th:only-of-type {\n",
       "        vertical-align: middle;\n",
       "    }\n",
       "\n",
       "    .dataframe tbody tr th {\n",
       "        vertical-align: top;\n",
       "    }\n",
       "\n",
       "    .dataframe thead th {\n",
       "        text-align: right;\n",
       "    }\n",
       "</style>\n",
       "<table border=\"1\" class=\"dataframe\">\n",
       "  <thead>\n",
       "    <tr style=\"text-align: right;\">\n",
       "      <th></th>\n",
       "      <th>Method</th>\n",
       "      <th>MAPE</th>\n",
       "      <th>RMSE</th>\n",
       "    </tr>\n",
       "  </thead>\n",
       "  <tbody>\n",
       "    <tr>\n",
       "      <th>0</th>\n",
       "      <td>ARIMA</td>\n",
       "      <td>2.34</td>\n",
       "      <td>85731.31</td>\n",
       "    </tr>\n",
       "  </tbody>\n",
       "</table>\n",
       "</div>"
      ],
      "text/plain": [
       "  Method  MAPE      RMSE\n",
       "0  ARIMA  2.34  85731.31"
      ]
     },
     "execution_count": 22,
     "metadata": {},
     "output_type": "execute_result"
    }
   ],
   "source": [
    "results = pd.DataFrame({'Method':'ARIMA', 'MAPE': [mape], 'RMSE': [rmse]})\n",
    "results"
   ]
  },
  {
   "cell_type": "markdown",
   "id": "82cd8c40",
   "metadata": {},
   "source": [
    "## 3.2. ARIMA with boxcox (trend stationary)"
   ]
  },
  {
   "cell_type": "code",
   "execution_count": 23,
   "id": "c2158dc6",
   "metadata": {},
   "outputs": [
    {
     "data": {
      "image/png": "[encoded data removed]",
      "text/plain": [
       "<Figure size 864x288 with 1 Axes>"
      ]
     },
     "metadata": {
      "needs_background": "light"
     },
     "output_type": "display_data"
    }
   ],
   "source": [
    "data_boxcox = pd.Series(boxcox(data['TTT'])[0], index = data.index)\n",
    "\n",
    "plt.figure(figsize=(12,4))\n",
    "plt.plot(data_boxcox, label='After Box Cox tranformation')\n",
    "plt.legend(loc='best')\n",
    "plt.title('After Box Cox transform')\n",
    "plt.show()"
   ]
  },
  {
   "cell_type": "code",
   "execution_count": 24,
   "id": "fdc07e25",
   "metadata": {},
   "outputs": [
    {
     "name": "stdout",
     "output_type": "stream",
     "text": [
      "ADF Statistic: -2.315488\n",
      "Critical Values at 0.05: -2.92\n",
      "p-value: 0.167021\n",
      "Not stationary\n"
     ]
    }
   ],
   "source": [
    "# Stationarity test:\n",
    "result = adfuller(data_boxcox)\n",
    "print('ADF Statistic: %f' % result[0])\n",
    "print('Critical Values at 0.05: %.2f' % result[4]['5%'])\n",
    "print('p-value: %f' % result[1])\n",
    "if result[1] <= 0.05:\n",
    "    print('Stationary')\n",
    "else:\n",
    "    print('Not stationary')"
   ]
  },
  {
   "cell_type": "code",
   "execution_count": 25,
   "id": "d57a3cc1",
   "metadata": {},
   "outputs": [
    {
     "name": "stdout",
     "output_type": "stream",
     "text": [
      "KPSS Statistic: 1.059631\n",
      "Critical Values at 0.05: 0.46\n",
      "p-value: 0.010000\n",
      "Not stationary\n"
     ]
    },
    {
     "name": "stderr",
     "output_type": "stream",
     "text": [
      "C:\\Users\\namtrantuan\\Anaconda3\\lib\\site-packages\\statsmodels\\tsa\\stattools.py:2018: InterpolationWarning: The test statistic is outside of the range of p-values available in the\n",
      "look-up table. The actual p-value is smaller than the p-value returned.\n",
      "\n",
      "  warnings.warn(\n"
     ]
    }
   ],
   "source": [
    "kpss_test = kpss(data_boxcox)\n",
    "\n",
    "print('KPSS Statistic: %f' % kpss_test[0])\n",
    "print('Critical Values at 0.05: %.2f' % kpss_test[3]['5%'])\n",
    "print('p-value: %f' % kpss_test[1])\n",
    "if kpss_test[1] > 0.05:\n",
    "    print('Stationary')\n",
    "else:\n",
    "    print('Not stationary')"
   ]
  },
  {
   "cell_type": "code",
   "execution_count": 26,
   "id": "b26f1e6a",
   "metadata": {},
   "outputs": [
    {
     "data": {
      "image/png": "[encoded data removed]",
      "text/plain": [
       "<Figure size 864x288 with 1 Axes>"
      ]
     },
     "metadata": {
      "needs_background": "light"
     },
     "output_type": "display_data"
    }
   ],
   "source": [
    "data_boxcox_diff = pd.Series(data_boxcox - data_boxcox.shift(1), data.index)\n",
    "plt.figure(figsize=(12,4))\n",
    "plt.plot(data_boxcox_diff, label='After Box Cox tranformation and differencing')\n",
    "plt.legend(loc='best')\n",
    "plt.title('After Box Cox transform and differencing')\n",
    "plt.show()"
   ]
  },
  {
   "cell_type": "code",
   "execution_count": 27,
   "id": "6811608f",
   "metadata": {},
   "outputs": [],
   "source": [
    "data_boxcox_diff.dropna(inplace=True)"
   ]
  },
  {
   "cell_type": "code",
   "execution_count": 28,
   "id": "751896c9",
   "metadata": {},
   "outputs": [
    {
     "name": "stdout",
     "output_type": "stream",
     "text": [
      "ADF Statistic: -1.697966\n",
      "Critical Values at 0.05: -2.93\n",
      "p-value: 0.432161\n",
      "Not stationary\n"
     ]
    }
   ],
   "source": [
    "# Stationarity test:\n",
    "result = adfuller(data_boxcox_diff)\n",
    "print('ADF Statistic: %f' % result[0])\n",
    "print('Critical Values at 0.05: %.2f' % result[4]['5%'])\n",
    "print('p-value: %f' % result[1])\n",
    "if result[1] <= 0.05:\n",
    "    print('Stationary')\n",
    "else:\n",
    "    print('Not stationary')"
   ]
  },
  {
   "cell_type": "code",
   "execution_count": 29,
   "id": "0d617744",
   "metadata": {},
   "outputs": [
    {
     "name": "stdout",
     "output_type": "stream",
     "text": [
      "KPSS Statistic: 0.049471\n",
      "Critical Values at 0.05: 0.46\n",
      "p-value: 0.100000\n",
      "Stationary\n"
     ]
    },
    {
     "name": "stderr",
     "output_type": "stream",
     "text": [
      "C:\\Users\\namtrantuan\\Anaconda3\\lib\\site-packages\\statsmodels\\tsa\\stattools.py:2022: InterpolationWarning: The test statistic is outside of the range of p-values available in the\n",
      "look-up table. The actual p-value is greater than the p-value returned.\n",
      "\n",
      "  warnings.warn(\n"
     ]
    }
   ],
   "source": [
    "kpss_test = kpss(data_boxcox_diff)\n",
    "\n",
    "print('KPSS Statistic: %f' % kpss_test[0])\n",
    "print('Critical Values at 0.05: %.2f' % kpss_test[3]['5%'])\n",
    "print('p-value: %f' % kpss_test[1])\n",
    "if kpss_test[1] > 0.05:\n",
    "    print('Stationary')\n",
    "else:\n",
    "    print('Not stationary')"
   ]
  },
  {
   "cell_type": "code",
   "execution_count": 30,
   "id": "562f4499",
   "metadata": {},
   "outputs": [
    {
     "data": {
      "image/png": "[encoded data removed]",
      "text/plain": [
       "<Figure size 864x288 with 1 Axes>"
      ]
     },
     "metadata": {
      "needs_background": "light"
     },
     "output_type": "display_data"
    }
   ],
   "source": [
    "data_boxcox_diff2 = pd.Series(data_boxcox_diff - data_boxcox_diff.shift(1), data.index)\n",
    "plt.figure(figsize=(12,4))\n",
    "plt.plot(data_boxcox_diff2, label='After Box Cox tranformation and 2 differencing')\n",
    "plt.legend(loc='best')\n",
    "plt.title('After Box Cox transform and differencing')\n",
    "plt.show()"
   ]
  },
  {
   "cell_type": "code",
   "execution_count": 31,
   "id": "d97bf0c8",
   "metadata": {},
   "outputs": [],
   "source": [
    "data_boxcox_diff2.dropna(inplace=True)"
   ]
  },
  {
   "cell_type": "code",
   "execution_count": 32,
   "id": "37b4471a",
   "metadata": {},
   "outputs": [
    {
     "name": "stdout",
     "output_type": "stream",
     "text": [
      "ADF Statistic: -10.868264\n",
      "Critical Values at 0.05: -2.93\n",
      "p-value: 0.000000\n",
      "Stationary\n"
     ]
    }
   ],
   "source": [
    "# Stationarity test:\n",
    "result = adfuller(data_boxcox_diff2)\n",
    "print('ADF Statistic: %f' % result[0])\n",
    "print('Critical Values at 0.05: %.2f' % result[4]['5%'])\n",
    "print('p-value: %f' % result[1])\n",
    "if result[1] <= 0.05:\n",
    "    print('Stationary')\n",
    "else:\n",
    "    print('Not stationary')"
   ]
  },
  {
   "cell_type": "code",
   "execution_count": 33,
   "id": "8aea2cc0",
   "metadata": {},
   "outputs": [
    {
     "name": "stdout",
     "output_type": "stream",
     "text": [
      "KPSS Statistic: 0.362500\n",
      "Critical Values at 0.05: 0.46\n",
      "p-value: 0.093319\n",
      "Stationary\n"
     ]
    }
   ],
   "source": [
    "kpss_test = kpss(data_boxcox_diff2)\n",
    "\n",
    "print('KPSS Statistic: %f' % kpss_test[0])\n",
    "print('Critical Values at 0.05: %.2f' % kpss_test[3]['5%'])\n",
    "print('p-value: %f' % kpss_test[1])\n",
    "if kpss_test[1] > 0.05:\n",
    "    print('Stationary')\n",
    "else:\n",
    "    print('Not stationary')"
   ]
  },
  {
   "cell_type": "code",
   "execution_count": 34,
   "id": "9e33e108",
   "metadata": {},
   "outputs": [
    {
     "data": {
      "text/plain": [
       "2019-08-01   -24333.806447\n",
       "2019-09-01     7867.386826\n",
       "2019-10-01    17698.487960\n",
       "2019-11-01    -5849.762106\n",
       "2019-12-01     6464.926196\n",
       "dtype: float64"
      ]
     },
     "execution_count": 34,
     "metadata": {},
     "output_type": "execute_result"
    }
   ],
   "source": [
    "data_boxcox_diff2.tail()"
   ]
  },
  {
   "cell_type": "code",
   "execution_count": 35,
   "id": "2b5ca254",
   "metadata": {},
   "outputs": [
    {
     "data": {
      "image/png": "[encoded data removed]",
      "text/plain": [
       "<Figure size 864x288 with 1 Axes>"
      ]
     },
     "metadata": {
      "needs_background": "light"
     },
     "output_type": "display_data"
    }
   ],
   "source": [
    "# Check ACF and PACF:\n",
    "plt.figure(figsize=(12,4))\n",
    "plot_acf(data_boxcox_diff2, ax=plt.gca(), lags = 30)\n",
    "plt.show()"
   ]
  },
  {
   "cell_type": "code",
   "execution_count": 36,
   "id": "16d17684",
   "metadata": {},
   "outputs": [
    {
     "name": "stderr",
     "output_type": "stream",
     "text": [
      "C:\\Users\\namtrantuan\\Anaconda3\\lib\\site-packages\\statsmodels\\graphics\\tsaplots.py:348: FutureWarning: The default method 'yw' can produce PACF values outside of the [-1,1] interval. After 0.13, the default will change tounadjusted Yule-Walker ('ywm'). You can use this method now by setting method='ywm'.\n",
      "  warnings.warn(\n"
     ]
    },
    {
     "data": {
      "image/png": "[encoded data removed]",
      "text/plain": [
       "<Figure size 864x288 with 1 Axes>"
      ]
     },
     "metadata": {
      "needs_background": "light"
     },
     "output_type": "display_data"
    }
   ],
   "source": [
    "plt.figure(figsize=(12,4))\n",
    "plot_pacf(train, ax=plt.gca(), lags = 20)\n",
    "plt.show()"
   ]
  },
  {
   "cell_type": "markdown",
   "id": "deeb7db0",
   "metadata": {},
   "source": [
    "Conclusion:\n",
    "- Because the time series is stationary after 2 differencing, d value should be 2\n",
    "- Based on ACF plot, q value should be 0\n",
    "- Based on PACF plot, p value should be 1"
   ]
  },
  {
   "cell_type": "code",
   "execution_count": 37,
   "id": "5110942c",
   "metadata": {},
   "outputs": [],
   "source": [
    "train_data_boxcox_diff = data_boxcox[:-12]\n",
    "test_data_boxcox_diff = data_boxcox[-12:]"
   ]
  },
  {
   "cell_type": "code",
   "execution_count": 38,
   "id": "e696cb56",
   "metadata": {},
   "outputs": [
    {
     "data": {
      "text/plain": [
       "2019-01-01    116659.622426\n",
       "2019-02-01    122646.749958\n",
       "2019-03-01    129231.894689\n",
       "2019-04-01    128729.861157\n",
       "2019-05-01    134701.756453\n",
       "2019-06-01    147282.469108\n",
       "2019-07-01    151889.972178\n",
       "2019-08-01    132163.668800\n",
       "2019-09-01    120304.752248\n",
       "2019-10-01    126144.323656\n",
       "2019-11-01    126134.132959\n",
       "2019-12-01    132588.868457\n",
       "dtype: float64"
      ]
     },
     "execution_count": 38,
     "metadata": {},
     "output_type": "execute_result"
    }
   ],
   "source": [
    "test_data_boxcox_diff"
   ]
  },
  {
   "cell_type": "code",
   "execution_count": 39,
   "id": "4667f2ab",
   "metadata": {},
   "outputs": [
    {
     "name": "stdout",
     "output_type": "stream",
     "text": [
      "Performing stepwise search to minimize aic\n",
      " ARIMA(0,3,0)(1,1,1)[12]             : AIC=695.283, Time=0.09 sec\n",
      " ARIMA(0,3,0)(0,1,0)[12]             : AIC=710.380, Time=0.02 sec\n",
      " ARIMA(1,3,0)(1,1,0)[12]             : AIC=690.005, Time=0.06 sec\n",
      " ARIMA(0,3,1)(0,1,1)[12]             : AIC=inf, Time=0.21 sec\n",
      " ARIMA(1,3,0)(0,1,0)[12]             : AIC=705.476, Time=0.02 sec\n",
      " ARIMA(1,3,0)(2,1,0)[12]             : AIC=689.062, Time=0.19 sec\n",
      " ARIMA(1,3,0)(2,1,1)[12]             : AIC=690.734, Time=0.42 sec\n",
      " ARIMA(1,3,0)(1,1,1)[12]             : AIC=688.755, Time=0.14 sec\n",
      " ARIMA(1,3,0)(0,1,1)[12]             : AIC=693.267, Time=0.07 sec\n",
      " ARIMA(1,3,0)(1,1,2)[12]             : AIC=690.730, Time=0.43 sec\n",
      " ARIMA(1,3,0)(0,1,2)[12]             : AIC=689.419, Time=0.16 sec\n",
      " ARIMA(1,3,0)(2,1,2)[12]             : AIC=692.587, Time=0.73 sec\n",
      " ARIMA(2,3,0)(1,1,1)[12]             : AIC=683.231, Time=0.17 sec\n",
      " ARIMA(2,3,0)(0,1,1)[12]             : AIC=686.891, Time=0.09 sec\n",
      " ARIMA(2,3,0)(1,1,0)[12]             : AIC=684.212, Time=0.09 sec\n",
      " ARIMA(2,3,0)(2,1,1)[12]             : AIC=685.195, Time=0.52 sec\n",
      " ARIMA(2,3,0)(1,1,2)[12]             : AIC=685.188, Time=0.47 sec\n",
      " ARIMA(2,3,0)(0,1,0)[12]             : AIC=695.827, Time=0.05 sec\n",
      " ARIMA(2,3,0)(0,1,2)[12]             : AIC=684.108, Time=0.18 sec\n",
      " ARIMA(2,3,0)(2,1,0)[12]             : AIC=683.662, Time=0.30 sec\n",
      " ARIMA(2,3,0)(2,1,2)[12]             : AIC=686.974, Time=0.83 sec\n",
      " ARIMA(3,3,0)(1,1,1)[12]             : AIC=679.485, Time=0.25 sec\n",
      " ARIMA(3,3,0)(0,1,1)[12]             : AIC=683.501, Time=0.09 sec\n",
      " ARIMA(3,3,0)(1,1,0)[12]             : AIC=680.857, Time=0.14 sec\n",
      " ARIMA(3,3,0)(2,1,1)[12]             : AIC=681.444, Time=0.67 sec\n",
      " ARIMA(3,3,0)(1,1,2)[12]             : AIC=681.435, Time=0.63 sec\n",
      " ARIMA(3,3,0)(0,1,0)[12]             : AIC=691.607, Time=0.05 sec\n",
      " ARIMA(3,3,0)(0,1,2)[12]             : AIC=680.497, Time=0.23 sec\n",
      " ARIMA(3,3,0)(2,1,0)[12]             : AIC=680.023, Time=0.32 sec\n",
      " ARIMA(3,3,0)(2,1,2)[12]             : AIC=683.109, Time=1.09 sec\n",
      " ARIMA(4,3,0)(1,1,1)[12]             : AIC=678.632, Time=0.31 sec\n",
      " ARIMA(4,3,0)(0,1,1)[12]             : AIC=682.773, Time=0.16 sec\n",
      " ARIMA(4,3,0)(1,1,0)[12]             : AIC=679.994, Time=0.18 sec\n",
      " ARIMA(4,3,0)(2,1,1)[12]             : AIC=680.530, Time=0.97 sec\n",
      " ARIMA(4,3,0)(1,1,2)[12]             : AIC=680.507, Time=0.80 sec\n",
      " ARIMA(4,3,0)(0,1,0)[12]             : AIC=691.819, Time=0.08 sec\n",
      " ARIMA(4,3,0)(0,1,2)[12]             : AIC=679.763, Time=0.26 sec\n",
      " ARIMA(4,3,0)(2,1,0)[12]             : AIC=679.221, Time=0.51 sec\n",
      " ARIMA(4,3,0)(2,1,2)[12]             : AIC=682.008, Time=1.26 sec\n",
      " ARIMA(5,3,0)(1,1,1)[12]             : AIC=679.444, Time=0.36 sec\n",
      " ARIMA(4,3,1)(1,1,1)[12]             : AIC=672.423, Time=0.55 sec\n",
      " ARIMA(4,3,1)(0,1,1)[12]             : AIC=674.344, Time=0.36 sec\n",
      " ARIMA(4,3,1)(1,1,0)[12]             : AIC=672.849, Time=0.41 sec\n",
      " ARIMA(4,3,1)(2,1,1)[12]             : AIC=674.409, Time=1.34 sec\n",
      " ARIMA(4,3,1)(1,1,2)[12]             : AIC=674.407, Time=1.10 sec\n",
      " ARIMA(4,3,1)(0,1,0)[12]             : AIC=677.963, Time=0.23 sec\n",
      " ARIMA(4,3,1)(0,1,2)[12]             : AIC=673.136, Time=0.69 sec\n",
      " ARIMA(4,3,1)(2,1,0)[12]             : AIC=672.844, Time=0.83 sec\n",
      " ARIMA(4,3,1)(2,1,2)[12]             : AIC=676.258, Time=1.39 sec\n",
      " ARIMA(3,3,1)(1,1,1)[12]             : AIC=674.864, Time=0.38 sec\n",
      " ARIMA(5,3,1)(1,1,1)[12]             : AIC=671.722, Time=0.63 sec\n",
      " ARIMA(5,3,1)(0,1,1)[12]             : AIC=674.560, Time=0.36 sec\n",
      " ARIMA(5,3,1)(1,1,0)[12]             : AIC=672.883, Time=0.38 sec\n",
      " ARIMA(5,3,1)(2,1,1)[12]             : AIC=673.722, Time=1.39 sec\n",
      " ARIMA(5,3,1)(1,1,2)[12]             : AIC=673.722, Time=1.23 sec\n",
      " ARIMA(5,3,1)(0,1,0)[12]             : AIC=678.276, Time=0.19 sec\n",
      " ARIMA(5,3,1)(0,1,2)[12]             : AIC=672.494, Time=0.64 sec\n",
      " ARIMA(5,3,1)(2,1,0)[12]             : AIC=672.194, Time=0.73 sec\n",
      " ARIMA(5,3,1)(2,1,2)[12]             : AIC=675.679, Time=1.43 sec\n",
      " ARIMA(6,3,1)(1,1,1)[12]             : AIC=667.838, Time=0.92 sec\n",
      " ARIMA(6,3,1)(0,1,1)[12]             : AIC=671.457, Time=0.40 sec\n",
      " ARIMA(6,3,1)(1,1,0)[12]             : AIC=669.485, Time=0.57 sec\n",
      " ARIMA(6,3,1)(2,1,1)[12]             : AIC=669.829, Time=1.90 sec\n",
      " ARIMA(6,3,1)(1,1,2)[12]             : AIC=669.827, Time=0.87 sec\n",
      " ARIMA(6,3,1)(0,1,0)[12]             : AIC=675.977, Time=0.28 sec\n",
      " ARIMA(6,3,1)(0,1,2)[12]             : AIC=668.576, Time=0.80 sec\n",
      " ARIMA(6,3,1)(2,1,0)[12]             : AIC=668.281, Time=0.84 sec\n",
      " ARIMA(6,3,1)(2,1,2)[12]             : AIC=671.728, Time=1.75 sec\n",
      " ARIMA(6,3,0)(1,1,1)[12]             : AIC=669.081, Time=0.43 sec\n",
      " ARIMA(7,3,1)(1,1,1)[12]             : AIC=668.247, Time=1.04 sec\n",
      " ARIMA(6,3,2)(1,1,1)[12]             : AIC=669.678, Time=0.97 sec\n",
      " ARIMA(5,3,2)(1,1,1)[12]             : AIC=673.338, Time=0.66 sec\n",
      " ARIMA(7,3,0)(1,1,1)[12]             : AIC=669.780, Time=0.53 sec\n",
      " ARIMA(7,3,2)(1,1,1)[12]             : AIC=670.702, Time=1.03 sec\n",
      " ARIMA(6,3,1)(1,1,1)[12] intercept   : AIC=671.459, Time=0.80 sec\n",
      "\n",
      "Best model:  ARIMA(6,3,1)(1,1,1)[12]          \n",
      "Total fit time: 41.634 seconds\n"
     ]
    },
    {
     "data": {
      "text/html": [
       "<table class=\"simpletable\">\n",
       "<caption>SARIMAX Results</caption>\n",
       "<tr>\n",
       "  <th>Dep. Variable:</th>                  <td>y</td>               <th>  No. Observations:  </th>    <td>48</td>   \n",
       "</tr>\n",
       "<tr>\n",
       "  <th>Model:</th>           <td>SARIMAX(6, 3, 1)x(1, 1, 1, 12)</td> <th>  Log Likelihood     </th> <td>-323.919</td>\n",
       "</tr>\n",
       "<tr>\n",
       "  <th>Date:</th>                   <td>Fri, 03 Feb 2023</td>        <th>  AIC                </th>  <td>667.838</td>\n",
       "</tr>\n",
       "<tr>\n",
       "  <th>Time:</th>                       <td>11:35:36</td>            <th>  BIC                </th>  <td>682.803</td>\n",
       "</tr>\n",
       "<tr>\n",
       "  <th>Sample:</th>                    <td>01-01-2015</td>           <th>  HQIC               </th>  <td>672.874</td>\n",
       "</tr>\n",
       "<tr>\n",
       "  <th></th>                          <td>- 12-01-2018</td>          <th>                     </th>     <td> </td>   \n",
       "</tr>\n",
       "<tr>\n",
       "  <th>Covariance Type:</th>               <td>opg</td>              <th>                     </th>     <td> </td>   \n",
       "</tr>\n",
       "</table>\n",
       "<table class=\"simpletable\">\n",
       "<tr>\n",
       "      <td></td>        <th>coef</th>     <th>std err</th>      <th>z</th>      <th>P>|z|</th>  <th>[0.025</th>    <th>0.975]</th>  \n",
       "</tr>\n",
       "<tr>\n",
       "  <th>ar.L1</th>    <td>   -0.4507</td> <td>    0.451</td> <td>   -0.998</td> <td> 0.318</td> <td>   -1.336</td> <td>    0.434</td>\n",
       "</tr>\n",
       "<tr>\n",
       "  <th>ar.L2</th>    <td>   -0.3397</td> <td>    0.450</td> <td>   -0.755</td> <td> 0.450</td> <td>   -1.222</td> <td>    0.543</td>\n",
       "</tr>\n",
       "<tr>\n",
       "  <th>ar.L3</th>    <td>   -0.3030</td> <td>    0.389</td> <td>   -0.779</td> <td> 0.436</td> <td>   -1.065</td> <td>    0.459</td>\n",
       "</tr>\n",
       "<tr>\n",
       "  <th>ar.L4</th>    <td>   -0.3184</td> <td>    0.354</td> <td>   -0.899</td> <td> 0.368</td> <td>   -1.012</td> <td>    0.376</td>\n",
       "</tr>\n",
       "<tr>\n",
       "  <th>ar.L5</th>    <td>   -0.2776</td> <td>    0.323</td> <td>   -0.859</td> <td> 0.390</td> <td>   -0.911</td> <td>    0.356</td>\n",
       "</tr>\n",
       "<tr>\n",
       "  <th>ar.L6</th>    <td>   -0.1533</td> <td>    0.264</td> <td>   -0.581</td> <td> 0.561</td> <td>   -0.670</td> <td>    0.364</td>\n",
       "</tr>\n",
       "<tr>\n",
       "  <th>ma.L1</th>    <td>   -0.9183</td> <td>    0.461</td> <td>   -1.993</td> <td> 0.046</td> <td>   -1.822</td> <td>   -0.015</td>\n",
       "</tr>\n",
       "<tr>\n",
       "  <th>ar.S.L12</th> <td>   -0.7797</td> <td>    1.216</td> <td>   -0.641</td> <td> 0.521</td> <td>   -3.163</td> <td>    1.604</td>\n",
       "</tr>\n",
       "<tr>\n",
       "  <th>ma.S.L12</th> <td>    0.6728</td> <td>    1.379</td> <td>    0.488</td> <td> 0.626</td> <td>   -2.031</td> <td>    3.376</td>\n",
       "</tr>\n",
       "<tr>\n",
       "  <th>sigma2</th>   <td> 3.004e+07</td> <td> 1.84e-08</td> <td> 1.64e+15</td> <td> 0.000</td> <td>    3e+07</td> <td>    3e+07</td>\n",
       "</tr>\n",
       "</table>\n",
       "<table class=\"simpletable\">\n",
       "<tr>\n",
       "  <th>Ljung-Box (L1) (Q):</th>     <td>0.04</td> <th>  Jarque-Bera (JB):  </th> <td>0.32</td> \n",
       "</tr>\n",
       "<tr>\n",
       "  <th>Prob(Q):</th>                <td>0.84</td> <th>  Prob(JB):          </th> <td>0.85</td> \n",
       "</tr>\n",
       "<tr>\n",
       "  <th>Heteroskedasticity (H):</th> <td>2.35</td> <th>  Skew:              </th> <td>-0.23</td>\n",
       "</tr>\n",
       "<tr>\n",
       "  <th>Prob(H) (two-sided):</th>    <td>0.17</td> <th>  Kurtosis:          </th> <td>2.87</td> \n",
       "</tr>\n",
       "</table><br/><br/>Warnings:<br/>[1] Covariance matrix calculated using the outer product of gradients (complex-step).<br/>[2] Covariance matrix is singular or near-singular, with condition number 2.21e+32. Standard errors may be unstable."
      ],
      "text/plain": [
       "<class 'statsmodels.iolib.summary.Summary'>\n",
       "\"\"\"\n",
       "                                     SARIMAX Results                                      \n",
       "==========================================================================================\n",
       "Dep. Variable:                                  y   No. Observations:                   48\n",
       "Model:             SARIMAX(6, 3, 1)x(1, 1, 1, 12)   Log Likelihood                -323.919\n",
       "Date:                            Fri, 03 Feb 2023   AIC                            667.838\n",
       "Time:                                    11:35:36   BIC                            682.803\n",
       "Sample:                                01-01-2015   HQIC                           672.874\n",
       "                                     - 12-01-2018                                         \n",
       "Covariance Type:                              opg                                         \n",
       "==============================================================================\n",
       "                 coef    std err          z      P>|z|      [0.025      0.975]\n",
       "------------------------------------------------------------------------------\n",
       "ar.L1         -0.4507      0.451     -0.998      0.318      -1.336       0.434\n",
       "ar.L2         -0.3397      0.450     -0.755      0.450      -1.222       0.543\n",
       "ar.L3         -0.3030      0.389     -0.779      0.436      -1.065       0.459\n",
       "ar.L4         -0.3184      0.354     -0.899      0.368      -1.012       0.376\n",
       "ar.L5         -0.2776      0.323     -0.859      0.390      -0.911       0.356\n",
       "ar.L6         -0.1533      0.264     -0.581      0.561      -0.670       0.364\n",
       "ma.L1         -0.9183      0.461     -1.993      0.046      -1.822      -0.015\n",
       "ar.S.L12      -0.7797      1.216     -0.641      0.521      -3.163       1.604\n",
       "ma.S.L12       0.6728      1.379      0.488      0.626      -2.031       3.376\n",
       "sigma2      3.004e+07   1.84e-08   1.64e+15      0.000       3e+07       3e+07\n",
       "===================================================================================\n",
       "Ljung-Box (L1) (Q):                   0.04   Jarque-Bera (JB):                 0.32\n",
       "Prob(Q):                              0.84   Prob(JB):                         0.85\n",
       "Heteroskedasticity (H):               2.35   Skew:                            -0.23\n",
       "Prob(H) (two-sided):                  0.17   Kurtosis:                         2.87\n",
       "===================================================================================\n",
       "\n",
       "Warnings:\n",
       "[1] Covariance matrix calculated using the outer product of gradients (complex-step).\n",
       "[2] Covariance matrix is singular or near-singular, with condition number 2.21e+32. Standard errors may be unstable.\n",
       "\"\"\""
      ]
     },
     "execution_count": 39,
     "metadata": {},
     "output_type": "execute_result"
    }
   ],
   "source": [
    "model = auto_arima(train_data_boxcox_diff,\n",
    "                   d = 3,\n",
    "                   start_p = 0,\n",
    "                   max_p = 13,\n",
    "                   start_q = 0,\n",
    "                   max_q = 2,\n",
    "                   m = 12,\n",
    "                   seasonal = True,\n",
    "                   trace = True)\n",
    "model.summary()"
   ]
  },
  {
   "cell_type": "code",
   "execution_count": 40,
   "id": "bca1baec",
   "metadata": {},
   "outputs": [],
   "source": [
    "# Predict using the best model from auto_arima:\n",
    "# data['TTT']\n",
    "# inv_boxcox(boxcox(data['TTT'])[0],boxcox(data['TTT'])[1])\n",
    "test['predict_boxcox'] = pd.Series(model.predict(12).astype('int64'))\n",
    "test['predict'] = inv_boxcox(test['predict_boxcox'],boxcox(data['TTT'])[1])"
   ]
  },
  {
   "cell_type": "code",
   "execution_count": 41,
   "id": "eeb344e1",
   "metadata": {},
   "outputs": [
    {
     "data": {
      "text/html": [
       "<div>\n",
       "<style scoped>\n",
       "    .dataframe tbody tr th:only-of-type {\n",
       "        vertical-align: middle;\n",
       "    }\n",
       "\n",
       "    .dataframe tbody tr th {\n",
       "        vertical-align: top;\n",
       "    }\n",
       "\n",
       "    .dataframe thead th {\n",
       "        text-align: right;\n",
       "    }\n",
       "</style>\n",
       "<table border=\"1\" class=\"dataframe\">\n",
       "  <thead>\n",
       "    <tr style=\"text-align: right;\">\n",
       "      <th></th>\n",
       "      <th>TTT</th>\n",
       "      <th>predict</th>\n",
       "      <th>predict_boxcox</th>\n",
       "    </tr>\n",
       "  </thead>\n",
       "  <tbody>\n",
       "    <tr>\n",
       "      <th>2019-01-01</th>\n",
       "      <td>2680573</td>\n",
       "      <td>2.769473e+06</td>\n",
       "      <td>119630</td>\n",
       "    </tr>\n",
       "    <tr>\n",
       "      <th>2019-02-01</th>\n",
       "      <td>2860436</td>\n",
       "      <td>2.860867e+06</td>\n",
       "      <td>122661</td>\n",
       "    </tr>\n",
       "    <tr>\n",
       "      <th>2019-03-01</th>\n",
       "      <td>3061302</td>\n",
       "      <td>3.178714e+06</td>\n",
       "      <td>133035</td>\n",
       "    </tr>\n",
       "    <tr>\n",
       "      <th>2019-04-01</th>\n",
       "      <td>3045879</td>\n",
       "      <td>3.219545e+06</td>\n",
       "      <td>134350</td>\n",
       "    </tr>\n",
       "    <tr>\n",
       "      <th>2019-05-01</th>\n",
       "      <td>3230488</td>\n",
       "      <td>3.360893e+06</td>\n",
       "      <td>138873</td>\n",
       "    </tr>\n",
       "    <tr>\n",
       "      <th>2019-06-01</th>\n",
       "      <td>3627333</td>\n",
       "      <td>3.671002e+06</td>\n",
       "      <td>148647</td>\n",
       "    </tr>\n",
       "    <tr>\n",
       "      <th>2019-07-01</th>\n",
       "      <td>3775263</td>\n",
       "      <td>3.870457e+06</td>\n",
       "      <td>154833</td>\n",
       "    </tr>\n",
       "    <tr>\n",
       "      <th>2019-08-01</th>\n",
       "      <td>3151724</td>\n",
       "      <td>3.439992e+06</td>\n",
       "      <td>141385</td>\n",
       "    </tr>\n",
       "    <tr>\n",
       "      <th>2019-09-01</th>\n",
       "      <td>2789760</td>\n",
       "      <td>3.088968e+06</td>\n",
       "      <td>130131</td>\n",
       "    </tr>\n",
       "    <tr>\n",
       "      <th>2019-10-01</th>\n",
       "      <td>2966733</td>\n",
       "      <td>3.213172e+06</td>\n",
       "      <td>134145</td>\n",
       "    </tr>\n",
       "    <tr>\n",
       "      <th>2019-11-01</th>\n",
       "      <td>2966422</td>\n",
       "      <td>3.246688e+06</td>\n",
       "      <td>135222</td>\n",
       "    </tr>\n",
       "    <tr>\n",
       "      <th>2019-12-01</th>\n",
       "      <td>3164888</td>\n",
       "      <td>3.571585e+06</td>\n",
       "      <td>145535</td>\n",
       "    </tr>\n",
       "  </tbody>\n",
       "</table>\n",
       "</div>"
      ],
      "text/plain": [
       "                TTT       predict  predict_boxcox\n",
       "2019-01-01  2680573  2.769473e+06          119630\n",
       "2019-02-01  2860436  2.860867e+06          122661\n",
       "2019-03-01  3061302  3.178714e+06          133035\n",
       "2019-04-01  3045879  3.219545e+06          134350\n",
       "2019-05-01  3230488  3.360893e+06          138873\n",
       "2019-06-01  3627333  3.671002e+06          148647\n",
       "2019-07-01  3775263  3.870457e+06          154833\n",
       "2019-08-01  3151724  3.439992e+06          141385\n",
       "2019-09-01  2789760  3.088968e+06          130131\n",
       "2019-10-01  2966733  3.213172e+06          134145\n",
       "2019-11-01  2966422  3.246688e+06          135222\n",
       "2019-12-01  3164888  3.571585e+06          145535"
      ]
     },
     "execution_count": 41,
     "metadata": {},
     "output_type": "execute_result"
    }
   ],
   "source": [
    "test"
   ]
  },
  {
   "cell_type": "code",
   "execution_count": 42,
   "id": "c105e549",
   "metadata": {},
   "outputs": [
    {
     "data": {
      "image/png": "[encoded data removed]",
      "text/plain": [
       "<Figure size 864x288 with 1 Axes>"
      ]
     },
     "metadata": {
      "needs_background": "light"
     },
     "output_type": "display_data"
    }
   ],
   "source": [
    "# Plot train vs forecast\n",
    "plt.figure(figsize=(12,4))\n",
    "plt.plot(train_data_boxcox_diff, label='test')\n",
    "plt.plot(model.predict_in_sample(), label='forecast')\n",
    "plt.legend(loc='best')\n",
    "plt.show()"
   ]
  },
  {
   "cell_type": "code",
   "execution_count": 43,
   "id": "ed5b30bd",
   "metadata": {},
   "outputs": [
    {
     "data": {
      "image/png": "[encoded data removed]",
      "text/plain": [
       "<Figure size 864x288 with 1 Axes>"
      ]
     },
     "metadata": {
      "needs_background": "light"
     },
     "output_type": "display_data"
    }
   ],
   "source": [
    "# Plot test vs forecast\n",
    "plt.figure(figsize=(12,4))\n",
    "plt.plot(test['TTT'], label='test')\n",
    "plt.plot(test['predict'], label='predict')\n",
    "plt.legend(loc='best')\n",
    "plt.show()"
   ]
  },
  {
   "cell_type": "code",
   "execution_count": 44,
   "id": "050906ca",
   "metadata": {},
   "outputs": [
    {
     "data": {
      "text/html": [
       "<div>\n",
       "<style scoped>\n",
       "    .dataframe tbody tr th:only-of-type {\n",
       "        vertical-align: middle;\n",
       "    }\n",
       "\n",
       "    .dataframe tbody tr th {\n",
       "        vertical-align: top;\n",
       "    }\n",
       "\n",
       "    .dataframe thead th {\n",
       "        text-align: right;\n",
       "    }\n",
       "</style>\n",
       "<table border=\"1\" class=\"dataframe\">\n",
       "  <thead>\n",
       "    <tr style=\"text-align: right;\">\n",
       "      <th></th>\n",
       "      <th>Method</th>\n",
       "      <th>MAPE</th>\n",
       "      <th>RMSE</th>\n",
       "    </tr>\n",
       "  </thead>\n",
       "  <tbody>\n",
       "    <tr>\n",
       "      <th>0</th>\n",
       "      <td>ARIMA</td>\n",
       "      <td>2.34</td>\n",
       "      <td>85731.31</td>\n",
       "    </tr>\n",
       "    <tr>\n",
       "      <th>0</th>\n",
       "      <td>ARIMA with boxcox</td>\n",
       "      <td>5.93</td>\n",
       "      <td>215470.54</td>\n",
       "    </tr>\n",
       "  </tbody>\n",
       "</table>\n",
       "</div>"
      ],
      "text/plain": [
       "              Method  MAPE       RMSE\n",
       "0              ARIMA  2.34   85731.31\n",
       "0  ARIMA with boxcox  5.93  215470.54"
      ]
     },
     "execution_count": 44,
     "metadata": {},
     "output_type": "execute_result"
    }
   ],
   "source": [
    "# Calculate rmse and mape:\n",
    "rmse = np.sqrt(mean_squared_error(test['TTT'], test['predict'])).round(2)\n",
    "mape = np.round(np.mean(np.abs(test['TTT']-test['predict'])/test['TTT'])*100,2)\n",
    "tempResults = pd.DataFrame({'Method':'ARIMA with boxcox', 'RMSE': [rmse],'MAPE': [mape] })\n",
    "results = pd.concat([results, tempResults])\n",
    "results"
   ]
  },
  {
   "cell_type": "markdown",
   "id": "cfef641a",
   "metadata": {},
   "source": [
    "## 3.3. Prophet"
   ]
  },
  {
   "cell_type": "code",
   "execution_count": 45,
   "id": "56160de2",
   "metadata": {},
   "outputs": [],
   "source": [
    "from prophet import Prophet"
   ]
  },
  {
   "cell_type": "code",
   "execution_count": 47,
   "id": "16c1ac2d",
   "metadata": {},
   "outputs": [
    {
     "name": "stdout",
     "output_type": "stream",
     "text": [
      "Help on class Prophet in module prophet.forecaster:\n",
      "\n",
      "class Prophet(builtins.object)\n",
      " |  Prophet(growth='linear', changepoints=None, n_changepoints=25, changepoint_range=0.8, yearly_seasonality='auto', weekly_seasonality='auto', daily_seasonality='auto', holidays=None, seasonality_mode='additive', seasonality_prior_scale=10.0, holidays_prior_scale=10.0, changepoint_prior_scale=0.05, mcmc_samples=0, interval_width=0.8, uncertainty_samples=1000, stan_backend=None)\n",
      " |  \n",
      " |  Prophet forecaster.\n",
      " |  \n",
      " |  Parameters\n",
      " |  ----------\n",
      " |  growth: String 'linear', 'logistic' or 'flat' to specify a linear, logistic or\n",
      " |      flat trend.\n",
      " |  changepoints: List of dates at which to include potential changepoints. If\n",
      " |      not specified, potential changepoints are selected automatically.\n",
      " |  n_changepoints: Number of potential changepoints to include. Not used\n",
      " |      if input `changepoints` is supplied. If `changepoints` is not supplied,\n",
      " |      then n_changepoints potential changepoints are selected uniformly from\n",
      " |      the first `changepoint_range` proportion of the history.\n",
      " |  changepoint_range: Proportion of history in which trend changepoints will\n",
      " |      be estimated. Defaults to 0.8 for the first 80%. Not used if\n",
      " |      `changepoints` is specified.\n",
      " |  yearly_seasonality: Fit yearly seasonality.\n",
      " |      Can be 'auto', True, False, or a number of Fourier terms to generate.\n",
      " |  weekly_seasonality: Fit weekly seasonality.\n",
      " |      Can be 'auto', True, False, or a number of Fourier terms to generate.\n",
      " |  daily_seasonality: Fit daily seasonality.\n",
      " |      Can be 'auto', True, False, or a number of Fourier terms to generate.\n",
      " |  holidays: pd.DataFrame with columns holiday (string) and ds (date type)\n",
      " |      and optionally columns lower_window and upper_window which specify a\n",
      " |      range of days around the date to be included as holidays.\n",
      " |      lower_window=-2 will include 2 days prior to the date as holidays. Also\n",
      " |      optionally can have a column prior_scale specifying the prior scale for\n",
      " |      that holiday.\n",
      " |  seasonality_mode: 'additive' (default) or 'multiplicative'.\n",
      " |  seasonality_prior_scale: Parameter modulating the strength of the\n",
      " |      seasonality model. Larger values allow the model to fit larger seasonal\n",
      " |      fluctuations, smaller values dampen the seasonality. Can be specified\n",
      " |      for individual seasonalities using add_seasonality.\n",
      " |  holidays_prior_scale: Parameter modulating the strength of the holiday\n",
      " |      components model, unless overridden in the holidays input.\n",
      " |  changepoint_prior_scale: Parameter modulating the flexibility of the\n",
      " |      automatic changepoint selection. Large values will allow many\n",
      " |      changepoints, small values will allow few changepoints.\n",
      " |  mcmc_samples: Integer, if greater than 0, will do full Bayesian inference\n",
      " |      with the specified number of MCMC samples. If 0, will do MAP\n",
      " |      estimation.\n",
      " |  interval_width: Float, width of the uncertainty intervals provided\n",
      " |      for the forecast. If mcmc_samples=0, this will be only the uncertainty\n",
      " |      in the trend using the MAP estimate of the extrapolated generative\n",
      " |      model. If mcmc.samples>0, this will be integrated over all model\n",
      " |      parameters, which will include uncertainty in seasonality.\n",
      " |  uncertainty_samples: Number of simulated draws used to estimate\n",
      " |      uncertainty intervals. Settings this value to 0 or False will disable\n",
      " |      uncertainty estimation and speed up the calculation.\n",
      " |  stan_backend: str as defined in StanBackendEnum default: None - will try to\n",
      " |      iterate over all available backends and find the working one\n",
      " |  \n",
      " |  Methods defined here:\n",
      " |  \n",
      " |  __init__(self, growth='linear', changepoints=None, n_changepoints=25, changepoint_range=0.8, yearly_seasonality='auto', weekly_seasonality='auto', daily_seasonality='auto', holidays=None, seasonality_mode='additive', seasonality_prior_scale=10.0, holidays_prior_scale=10.0, changepoint_prior_scale=0.05, mcmc_samples=0, interval_width=0.8, uncertainty_samples=1000, stan_backend=None)\n",
      " |      Initialize self.  See help(type(self)) for accurate signature.\n",
      " |  \n",
      " |  add_country_holidays(self, country_name)\n",
      " |      Add in built-in holidays for the specified country.\n",
      " |      \n",
      " |      These holidays will be included in addition to any specified on model\n",
      " |      initialization.\n",
      " |      \n",
      " |      Holidays will be calculated for arbitrary date ranges in the history\n",
      " |      and future. See the online documentation for the list of countries with\n",
      " |      built-in holidays.\n",
      " |      \n",
      " |      Built-in country holidays can only be set for a single country.\n",
      " |      \n",
      " |      Parameters\n",
      " |      ----------\n",
      " |      country_name: Name of the country, like 'UnitedStates' or 'US'\n",
      " |      \n",
      " |      Returns\n",
      " |      -------\n",
      " |      The prophet object.\n",
      " |  \n",
      " |  add_group_component(self, components, name, group)\n",
      " |      Adds a component with given name that contains all of the components\n",
      " |      in group.\n",
      " |      \n",
      " |      Parameters\n",
      " |      ----------\n",
      " |      components: Dataframe with components.\n",
      " |      name: Name of new group component.\n",
      " |      group: List of components that form the group.\n",
      " |      \n",
      " |      Returns\n",
      " |      -------\n",
      " |      Dataframe with components.\n",
      " |  \n",
      " |  add_regressor(self, name, prior_scale=None, standardize='auto', mode=None)\n",
      " |      Add an additional regressor to be used for fitting and predicting.\n",
      " |      \n",
      " |      The dataframe passed to `fit` and `predict` will have a column with the\n",
      " |      specified name to be used as a regressor. When standardize='auto', the\n",
      " |      regressor will be standardized unless it is binary. The regression\n",
      " |      coefficient is given a prior with the specified scale parameter.\n",
      " |      Decreasing the prior scale will add additional regularization. If no\n",
      " |      prior scale is provided, self.holidays_prior_scale will be used.\n",
      " |      Mode can be specified as either 'additive' or 'multiplicative'. If not\n",
      " |      specified, self.seasonality_mode will be used. 'additive' means the\n",
      " |      effect of the regressor will be added to the trend, 'multiplicative'\n",
      " |      means it will multiply the trend.\n",
      " |      \n",
      " |      Parameters\n",
      " |      ----------\n",
      " |      name: string name of the regressor.\n",
      " |      prior_scale: optional float scale for the normal prior. If not\n",
      " |          provided, self.holidays_prior_scale will be used.\n",
      " |      standardize: optional, specify whether this regressor will be\n",
      " |          standardized prior to fitting. Can be 'auto' (standardize if not\n",
      " |          binary), True, or False.\n",
      " |      mode: optional, 'additive' or 'multiplicative'. Defaults to\n",
      " |          self.seasonality_mode.\n",
      " |      \n",
      " |      Returns\n",
      " |      -------\n",
      " |      The prophet object.\n",
      " |  \n",
      " |  add_seasonality(self, name, period, fourier_order, prior_scale=None, mode=None, condition_name=None)\n",
      " |      Add a seasonal component with specified period, number of Fourier\n",
      " |      components, and prior scale.\n",
      " |      \n",
      " |      Increasing the number of Fourier components allows the seasonality to\n",
      " |      change more quickly (at risk of overfitting). Default values for yearly\n",
      " |      and weekly seasonalities are 10 and 3 respectively.\n",
      " |      \n",
      " |      Increasing prior scale will allow this seasonality component more\n",
      " |      flexibility, decreasing will dampen it. If not provided, will use the\n",
      " |      seasonality_prior_scale provided on Prophet initialization (defaults\n",
      " |      to 10).\n",
      " |      \n",
      " |      Mode can be specified as either 'additive' or 'multiplicative'. If not\n",
      " |      specified, self.seasonality_mode will be used (defaults to additive).\n",
      " |      Additive means the seasonality will be added to the trend,\n",
      " |      multiplicative means it will multiply the trend.\n",
      " |      \n",
      " |      If condition_name is provided, the dataframe passed to `fit` and\n",
      " |      `predict` should have a column with the specified condition_name\n",
      " |      containing booleans which decides when to apply seasonality.\n",
      " |      \n",
      " |      Parameters\n",
      " |      ----------\n",
      " |      name: string name of the seasonality component.\n",
      " |      period: float number of days in one period.\n",
      " |      fourier_order: int number of Fourier components to use.\n",
      " |      prior_scale: optional float prior scale for this component.\n",
      " |      mode: optional 'additive' or 'multiplicative'\n",
      " |      condition_name: string name of the seasonality condition.\n",
      " |      \n",
      " |      Returns\n",
      " |      -------\n",
      " |      The prophet object.\n",
      " |  \n",
      " |  construct_holiday_dataframe(self, dates)\n",
      " |      Construct a dataframe of holiday dates.\n",
      " |      \n",
      " |      Will combine self.holidays with the built-in country holidays\n",
      " |      corresponding to input dates, if self.country_holidays is set.\n",
      " |      \n",
      " |      Parameters\n",
      " |      ----------\n",
      " |      dates: pd.Series containing timestamps used for computing seasonality.\n",
      " |      \n",
      " |      Returns\n",
      " |      -------\n",
      " |      dataframe of holiday dates, in holiday dataframe format used in\n",
      " |      initialization.\n",
      " |  \n",
      " |  fit(self, df, **kwargs)\n",
      " |      Fit the Prophet model.\n",
      " |      \n",
      " |      This sets self.params to contain the fitted model parameters. It is a\n",
      " |      dictionary parameter names as keys and the following items:\n",
      " |          k (Mx1 array): M posterior samples of the initial slope.\n",
      " |          m (Mx1 array): The initial intercept.\n",
      " |          delta (MxN array): The slope change at each of N changepoints.\n",
      " |          beta (MxK matrix): Coefficients for K seasonality features.\n",
      " |          sigma_obs (Mx1 array): Noise level.\n",
      " |      Note that M=1 if MAP estimation.\n",
      " |      \n",
      " |      Parameters\n",
      " |      ----------\n",
      " |      df: pd.DataFrame containing the history. Must have columns ds (date\n",
      " |          type) and y, the time series. If self.growth is 'logistic', then\n",
      " |          df must also have a column cap that specifies the capacity at\n",
      " |          each ds.\n",
      " |      kwargs: Additional arguments passed to the optimizing or sampling\n",
      " |          functions in Stan.\n",
      " |      \n",
      " |      Returns\n",
      " |      -------\n",
      " |      The fitted Prophet object.\n",
      " |  \n",
      " |  initialize_scales(self, initialize_scales, df)\n",
      " |      Initialize model scales.\n",
      " |      \n",
      " |      Sets model scaling factors using df.\n",
      " |      \n",
      " |      Parameters\n",
      " |      ----------\n",
      " |      initialize_scales: Boolean set the scales or not.\n",
      " |      df: pd.DataFrame for setting scales.\n",
      " |  \n",
      " |  make_all_seasonality_features(self, df)\n",
      " |      Dataframe with seasonality features.\n",
      " |      \n",
      " |      Includes seasonality features, holiday features, and added regressors.\n",
      " |      \n",
      " |      Parameters\n",
      " |      ----------\n",
      " |      df: pd.DataFrame with dates for computing seasonality features and any\n",
      " |          added regressors.\n",
      " |      \n",
      " |      Returns\n",
      " |      -------\n",
      " |      pd.DataFrame with regression features.\n",
      " |      list of prior scales for each column of the features dataframe.\n",
      " |      Dataframe with indicators for which regression components correspond to\n",
      " |          which columns.\n",
      " |      Dictionary with keys 'additive' and 'multiplicative' listing the\n",
      " |          component names for each mode of seasonality.\n",
      " |  \n",
      " |  make_future_dataframe(self, periods, freq='D', include_history=True)\n",
      " |      Simulate the trend using the extrapolated generative model.\n",
      " |      \n",
      " |      Parameters\n",
      " |      ----------\n",
      " |      periods: Int number of periods to forecast forward.\n",
      " |      freq: Any valid frequency for pd.date_range, such as 'D' or 'M'.\n",
      " |      include_history: Boolean to include the historical dates in the data\n",
      " |          frame for predictions.\n",
      " |      \n",
      " |      Returns\n",
      " |      -------\n",
      " |      pd.Dataframe that extends forward from the end of self.history for the\n",
      " |      requested number of periods.\n",
      " |  \n",
      " |  make_holiday_features(self, dates, holidays)\n",
      " |      Construct a dataframe of holiday features.\n",
      " |      \n",
      " |      Parameters\n",
      " |      ----------\n",
      " |      dates: pd.Series containing timestamps used for computing seasonality.\n",
      " |      holidays: pd.Dataframe containing holidays, as returned by\n",
      " |          construct_holiday_dataframe.\n",
      " |      \n",
      " |      Returns\n",
      " |      -------\n",
      " |      holiday_features: pd.DataFrame with a column for each holiday.\n",
      " |      prior_scale_list: List of prior scales for each holiday column.\n",
      " |      holiday_names: List of names of holidays\n",
      " |  \n",
      " |  parse_seasonality_args(self, name, arg, auto_disable, default_order)\n",
      " |      Get number of fourier components for built-in seasonalities.\n",
      " |      \n",
      " |      Parameters\n",
      " |      ----------\n",
      " |      name: string name of the seasonality component.\n",
      " |      arg: 'auto', True, False, or number of fourier components as provided.\n",
      " |      auto_disable: bool if seasonality should be disabled when 'auto'.\n",
      " |      default_order: int default fourier order\n",
      " |      \n",
      " |      Returns\n",
      " |      -------\n",
      " |      Number of fourier components, or 0 for disabled.\n",
      " |  \n",
      " |  percentile(self, a, *args, **kwargs)\n",
      " |      We rely on np.nanpercentile in the rare instances where there\n",
      " |      are a small number of bad samples with MCMC that contain NaNs.\n",
      " |      However, since np.nanpercentile is far slower than np.percentile,\n",
      " |      we only fall back to it if the array contains NaNs. See\n",
      " |      https://github.com/facebook/prophet/issues/1310 for more details.\n",
      " |  \n",
      " |  plot(self, fcst, ax=None, uncertainty=True, plot_cap=True, xlabel='ds', ylabel='y', figsize=(10, 6), include_legend=False)\n",
      " |      Plot the Prophet forecast.\n",
      " |      \n",
      " |      Parameters\n",
      " |      ----------\n",
      " |      fcst: pd.DataFrame output of self.predict.\n",
      " |      ax: Optional matplotlib axes on which to plot.\n",
      " |      uncertainty: Optional boolean to plot uncertainty intervals.\n",
      " |      plot_cap: Optional boolean indicating if the capacity should be shown\n",
      " |          in the figure, if available.\n",
      " |      xlabel: Optional label name on X-axis\n",
      " |      ylabel: Optional label name on Y-axis\n",
      " |      figsize: Optional tuple width, height in inches.\n",
      " |      include_legend: Optional boolean to add legend to the plot.\n",
      " |      \n",
      " |      Returns\n",
      " |      -------\n",
      " |      A matplotlib figure.\n",
      " |  \n",
      " |  plot_components(self, fcst, uncertainty=True, plot_cap=True, weekly_start=0, yearly_start=0, figsize=None)\n",
      " |      Plot the Prophet forecast components.\n",
      " |      \n",
      " |      Will plot whichever are available of: trend, holidays, weekly\n",
      " |      seasonality, and yearly seasonality.\n",
      " |      \n",
      " |      Parameters\n",
      " |      ----------\n",
      " |      fcst: pd.DataFrame output of self.predict.\n",
      " |      uncertainty: Optional boolean to plot uncertainty intervals.\n",
      " |      plot_cap: Optional boolean indicating if the capacity should be shown\n",
      " |          in the figure, if available.\n",
      " |      weekly_start: Optional int specifying the start day of the weekly\n",
      " |          seasonality plot. 0 (default) starts the week on Sunday. 1 shifts\n",
      " |          by 1 day to Monday, and so on.\n",
      " |      yearly_start: Optional int specifying the start day of the yearly\n",
      " |          seasonality plot. 0 (default) starts the year on Jan 1. 1 shifts\n",
      " |          by 1 day to Jan 2, and so on.\n",
      " |      figsize: Optional tuple width, height in inches.\n",
      " |      \n",
      " |      Returns\n",
      " |      -------\n",
      " |      A matplotlib figure.\n",
      " |  \n",
      " |  predict(self, df: pandas.core.frame.DataFrame = None, vectorized: bool = True) -> pandas.core.frame.DataFrame\n",
      " |      Predict using the prophet model.\n",
      " |      \n",
      " |      Parameters\n",
      " |      ----------\n",
      " |      df: pd.DataFrame with dates for predictions (column ds), and capacity\n",
      " |          (column cap) if logistic growth. If not provided, predictions are\n",
      " |          made on the history.\n",
      " |      vectorized: Whether to use a vectorized method to compute uncertainty intervals. Suggest using\n",
      " |          True (the default) for much faster runtimes in most cases,\n",
      " |          except when (growth = 'logistic' and mcmc_samples > 0).\n",
      " |      \n",
      " |      Returns\n",
      " |      -------\n",
      " |      A pd.DataFrame with the forecast components.\n",
      " |  \n",
      " |  predict_seasonal_components(self, df)\n",
      " |      Predict seasonality components, holidays, and added regressors.\n",
      " |      \n",
      " |      Parameters\n",
      " |      ----------\n",
      " |      df: Prediction dataframe.\n",
      " |      \n",
      " |      Returns\n",
      " |      -------\n",
      " |      Dataframe with seasonal components.\n",
      " |  \n",
      " |  predict_trend(self, df)\n",
      " |      Predict trend using the prophet model.\n",
      " |      \n",
      " |      Parameters\n",
      " |      ----------\n",
      " |      df: Prediction dataframe.\n",
      " |      \n",
      " |      Returns\n",
      " |      -------\n",
      " |      Vector with trend on prediction dates.\n",
      " |  \n",
      " |  predict_uncertainty(self, df: pandas.core.frame.DataFrame, vectorized: bool) -> pandas.core.frame.DataFrame\n",
      " |      Prediction intervals for yhat and trend.\n",
      " |      \n",
      " |      Parameters\n",
      " |      ----------\n",
      " |      df: Prediction dataframe.\n",
      " |      vectorized: Whether to use a vectorized method for generating future draws.\n",
      " |      \n",
      " |      Returns\n",
      " |      -------\n",
      " |      Dataframe with uncertainty intervals.\n",
      " |  \n",
      " |  predictive_samples(self, df: pandas.core.frame.DataFrame, vectorized: bool = True)\n",
      " |      Sample from the posterior predictive distribution. Returns samples\n",
      " |      for the main estimate yhat, and for the trend component. The shape of\n",
      " |      each output will be (nforecast x nsamples), where nforecast is the\n",
      " |      number of points being forecasted (the number of rows in the input\n",
      " |      dataframe) and nsamples is the number of posterior samples drawn.\n",
      " |      This is the argument `uncertainty_samples` in the Prophet constructor,\n",
      " |      which defaults to 1000.\n",
      " |      \n",
      " |      Parameters\n",
      " |      ----------\n",
      " |      df: Dataframe with dates for predictions (column ds), and capacity\n",
      " |          (column cap) if logistic growth.\n",
      " |      vectorized: Whether to use a vectorized method to compute possible draws. Suggest using\n",
      " |          True (the default) for much faster runtimes in most cases,\n",
      " |          except when (growth = 'logistic' and mcmc_samples > 0).\n",
      " |      \n",
      " |      Returns\n",
      " |      -------\n",
      " |      Dictionary with keys \"trend\" and \"yhat\" containing\n",
      " |      posterior predictive samples for that component.\n",
      " |  \n",
      " |  regressor_column_matrix(self, seasonal_features, modes)\n",
      " |      Dataframe indicating which columns of the feature matrix correspond\n",
      " |      to which seasonality/regressor components.\n",
      " |      \n",
      " |      Includes combination components, like 'additive_terms'. These\n",
      " |      combination components will be added to the 'modes' input.\n",
      " |      \n",
      " |      Parameters\n",
      " |      ----------\n",
      " |      seasonal_features: Constructed seasonal features dataframe\n",
      " |      modes: Dictionary with keys 'additive' and 'multiplicative' listing the\n",
      " |          component names for each mode of seasonality.\n",
      " |      \n",
      " |      Returns\n",
      " |      -------\n",
      " |      component_cols: A binary indicator dataframe with columns seasonal\n",
      " |          components and rows columns in seasonal_features. Entry is 1 if\n",
      " |          that columns is used in that component.\n",
      " |      modes: Updated input with combination components.\n",
      " |  \n",
      " |  sample_model(self, df, seasonal_features, iteration, s_a, s_m) -> Dict[str, numpy.ndarray]\n",
      " |      Simulate observations from the extrapolated generative model.\n",
      " |      \n",
      " |      Parameters\n",
      " |      ----------\n",
      " |      df: Prediction dataframe.\n",
      " |      seasonal_features: pd.DataFrame of seasonal features.\n",
      " |      iteration: Int sampling iteration to use parameters from.\n",
      " |      s_a: Indicator vector for additive components\n",
      " |      s_m: Indicator vector for multiplicative components\n",
      " |      \n",
      " |      Returns\n",
      " |      -------\n",
      " |      Dictionary with `yhat` and `trend`, each like df['t'].\n",
      " |  \n",
      " |  sample_model_vectorized(self, df: pandas.core.frame.DataFrame, seasonal_features: pandas.core.frame.DataFrame, iteration: int, s_a: numpy.ndarray, s_m: numpy.ndarray, n_samples: int) -> List[Dict[str, numpy.ndarray]]\n",
      " |      Simulate observations from the extrapolated generative model. Vectorized version of sample_model().\n",
      " |      \n",
      " |      Returns\n",
      " |      -------\n",
      " |      List (length n_samples) of dictionaries with arrays for trend and yhat, each ordered like df['t'].\n",
      " |  \n",
      " |  sample_posterior_predictive(self, df: pandas.core.frame.DataFrame, vectorized: bool) -> Dict[str, numpy.ndarray]\n",
      " |      Prophet posterior predictive samples.\n",
      " |      \n",
      " |      Parameters\n",
      " |      ----------\n",
      " |      df: Prediction dataframe.\n",
      " |      vectorized: Whether to use a vectorized method to generate future draws.\n",
      " |      \n",
      " |      Returns\n",
      " |      -------\n",
      " |      Dictionary with posterior predictive samples for the forecast yhat and\n",
      " |      for the trend component.\n",
      " |  \n",
      " |  sample_predictive_trend(self, df, iteration)\n",
      " |      Simulate the trend using the extrapolated generative model.\n",
      " |      \n",
      " |      Parameters\n",
      " |      ----------\n",
      " |      df: Prediction dataframe.\n",
      " |      iteration: Int sampling iteration to use parameters from.\n",
      " |      \n",
      " |      Returns\n",
      " |      -------\n",
      " |      np.array of simulated trend over df['t'].\n",
      " |  \n",
      " |  sample_predictive_trend_vectorized(self, df: pandas.core.frame.DataFrame, n_samples: int, iteration: int = 0) -> numpy.ndarray\n",
      " |      Sample draws of the future trend values. Vectorized version of sample_predictive_trend().\n",
      " |      \n",
      " |      Returns\n",
      " |      -------\n",
      " |      Draws of the trend values with shape (n_samples, len(df)). Values are on the scale of the original data.\n",
      " |  \n",
      " |  set_auto_seasonalities(self)\n",
      " |      Set seasonalities that were left on auto.\n",
      " |      \n",
      " |      Turns on yearly seasonality if there is >=2 years of history.\n",
      " |      Turns on weekly seasonality if there is >=2 weeks of history, and the\n",
      " |      spacing between dates in the history is <7 days.\n",
      " |      Turns on daily seasonality if there is >=2 days of history, and the\n",
      " |      spacing between dates in the history is <1 day.\n",
      " |  \n",
      " |  set_changepoints(self)\n",
      " |      Set changepoints\n",
      " |      \n",
      " |      Sets m$changepoints to the dates of changepoints. Either:\n",
      " |      1) The changepoints were passed in explicitly.\n",
      " |          A) They are empty.\n",
      " |          B) They are not empty, and need validation.\n",
      " |      2) We are generating a grid of them.\n",
      " |      3) The user prefers no changepoints be used.\n",
      " |  \n",
      " |  setup_dataframe(self, df, initialize_scales=False)\n",
      " |      Prepare dataframe for fitting or predicting.\n",
      " |      \n",
      " |      Adds a time index and scales y. Creates auxiliary columns 't', 't_ix',\n",
      " |      'y_scaled', and 'cap_scaled'. These columns are used during both\n",
      " |      fitting and predicting.\n",
      " |      \n",
      " |      Parameters\n",
      " |      ----------\n",
      " |      df: pd.DataFrame with columns ds, y, and cap if logistic growth. Any\n",
      " |          specified additional regressors must also be present.\n",
      " |      initialize_scales: Boolean set scaling factors in self from df.\n",
      " |      \n",
      " |      Returns\n",
      " |      -------\n",
      " |      pd.DataFrame prepared for fitting or predicting.\n",
      " |  \n",
      " |  validate_column_name(self, name, check_holidays=True, check_seasonalities=True, check_regressors=True)\n",
      " |      Validates the name of a seasonality, holiday, or regressor.\n",
      " |      \n",
      " |      Parameters\n",
      " |      ----------\n",
      " |      name: string\n",
      " |      check_holidays: bool check if name already used for holiday\n",
      " |      check_seasonalities: bool check if name already used for seasonality\n",
      " |      check_regressors: bool check if name already used for regressor\n",
      " |  \n",
      " |  validate_inputs(self)\n",
      " |      Validates the inputs to Prophet.\n",
      " |  \n",
      " |  ----------------------------------------------------------------------\n",
      " |  Class methods defined here:\n",
      " |  \n",
      " |  make_seasonality_features(dates, period, series_order, prefix) from builtins.type\n",
      " |      Data frame with seasonality features.\n",
      " |      \n",
      " |      Parameters\n",
      " |      ----------\n",
      " |      cls: Prophet class.\n",
      " |      dates: pd.Series containing timestamps.\n",
      " |      period: Number of days of the period.\n",
      " |      series_order: Number of components.\n",
      " |      prefix: Column name prefix.\n",
      " |      \n",
      " |      Returns\n",
      " |      -------\n",
      " |      pd.DataFrame with seasonality features.\n",
      " |  \n",
      " |  ----------------------------------------------------------------------\n",
      " |  Static methods defined here:\n",
      " |  \n",
      " |  flat_growth_init(df)\n",
      " |      Initialize flat growth.\n",
      " |      \n",
      " |      Provides a strong initialization for flat growth. Sets the growth to 0\n",
      " |      and offset parameter as mean of history y_scaled values.\n",
      " |      \n",
      " |      Parameters\n",
      " |      ----------\n",
      " |      df: pd.DataFrame with columns ds (date), y_scaled (scaled time series),\n",
      " |          and t (scaled time).\n",
      " |      \n",
      " |      Returns\n",
      " |      -------\n",
      " |      A tuple (k, m) with the rate (k) and offset (m) of the linear growth\n",
      " |      function.\n",
      " |  \n",
      " |  flat_trend(t, m)\n",
      " |      Evaluate the flat trend function.\n",
      " |      \n",
      " |      Parameters\n",
      " |      ----------\n",
      " |      t: np.array of times on which the function is evaluated.\n",
      " |      m: Float initial offset.\n",
      " |      \n",
      " |      Returns\n",
      " |      -------\n",
      " |      Vector y(t).\n",
      " |  \n",
      " |  fourier_series(dates: pandas.core.series.Series, period: Union[int, float], series_order: int) -> numpy.ndarray\n",
      " |      Provides Fourier series components with the specified frequency\n",
      " |      and order.\n",
      " |      \n",
      " |      Parameters\n",
      " |      ----------\n",
      " |      dates: pd.Series containing timestamps.\n",
      " |      period: Number of days of the period.\n",
      " |      series_order: Number of components.\n",
      " |      \n",
      " |      Returns\n",
      " |      -------\n",
      " |      Matrix with seasonality features.\n",
      " |  \n",
      " |  linear_growth_init(df)\n",
      " |      Initialize linear growth.\n",
      " |      \n",
      " |      Provides a strong initialization for linear growth by calculating the\n",
      " |      growth and offset parameters that pass the function through the first\n",
      " |      and last points in the time series.\n",
      " |      \n",
      " |      Parameters\n",
      " |      ----------\n",
      " |      df: pd.DataFrame with columns ds (date), y_scaled (scaled time series),\n",
      " |          and t (scaled time).\n",
      " |      \n",
      " |      Returns\n",
      " |      -------\n",
      " |      A tuple (k, m) with the rate (k) and offset (m) of the linear growth\n",
      " |      function.\n",
      " |  \n",
      " |  logistic_growth_init(df)\n",
      " |      Initialize logistic growth.\n",
      " |      \n",
      " |      Provides a strong initialization for logistic growth by calculating the\n",
      " |      growth and offset parameters that pass the function through the first\n",
      " |      and last points in the time series.\n",
      " |      \n",
      " |      Parameters\n",
      " |      ----------\n",
      " |      df: pd.DataFrame with columns ds (date), cap_scaled (scaled capacity),\n",
      " |          y_scaled (scaled time series), and t (scaled time).\n",
      " |      \n",
      " |      Returns\n",
      " |      -------\n",
      " |      A tuple (k, m) with the rate (k) and offset (m) of the logistic growth\n",
      " |      function.\n",
      " |  \n",
      " |  piecewise_linear(t, deltas, k, m, changepoint_ts)\n",
      " |      Evaluate the piecewise linear function.\n",
      " |      \n",
      " |      Parameters\n",
      " |      ----------\n",
      " |      t: np.array of times on which the function is evaluated.\n",
      " |      deltas: np.array of rate changes at each changepoint.\n",
      " |      k: Float initial rate.\n",
      " |      m: Float initial offset.\n",
      " |      changepoint_ts: np.array of changepoint times.\n",
      " |      \n",
      " |      Returns\n",
      " |      -------\n",
      " |      Vector y(t).\n",
      " |  \n",
      " |  piecewise_logistic(t, cap, deltas, k, m, changepoint_ts)\n",
      " |      Evaluate the piecewise logistic function.\n",
      " |      \n",
      " |      Parameters\n",
      " |      ----------\n",
      " |      t: np.array of times on which the function is evaluated.\n",
      " |      cap: np.array of capacities at each t.\n",
      " |      deltas: np.array of rate changes at each changepoint.\n",
      " |      k: Float initial rate.\n",
      " |      m: Float initial offset.\n",
      " |      changepoint_ts: np.array of changepoint times.\n",
      " |      \n",
      " |      Returns\n",
      " |      -------\n",
      " |      Vector y(t).\n",
      " |  \n",
      " |  ----------------------------------------------------------------------\n",
      " |  Data descriptors defined here:\n",
      " |  \n",
      " |  __dict__\n",
      " |      dictionary for instance variables (if defined)\n",
      " |  \n",
      " |  __weakref__\n",
      " |      list of weak references to the object (if defined)\n",
      "\n"
     ]
    }
   ],
   "source": [
    "help(Prophet)"
   ]
  },
  {
   "cell_type": "code",
   "execution_count": 48,
   "id": "ec690183",
   "metadata": {},
   "outputs": [
    {
     "name": "stdout",
     "output_type": "stream",
     "text": [
      "Help on function fit in module prophet.forecaster:\n",
      "\n",
      "fit(self, df, **kwargs)\n",
      "    Fit the Prophet model.\n",
      "    \n",
      "    This sets self.params to contain the fitted model parameters. It is a\n",
      "    dictionary parameter names as keys and the following items:\n",
      "        k (Mx1 array): M posterior samples of the initial slope.\n",
      "        m (Mx1 array): The initial intercept.\n",
      "        delta (MxN array): The slope change at each of N changepoints.\n",
      "        beta (MxK matrix): Coefficients for K seasonality features.\n",
      "        sigma_obs (Mx1 array): Noise level.\n",
      "    Note that M=1 if MAP estimation.\n",
      "    \n",
      "    Parameters\n",
      "    ----------\n",
      "    df: pd.DataFrame containing the history. Must have columns ds (date\n",
      "        type) and y, the time series. If self.growth is 'logistic', then\n",
      "        df must also have a column cap that specifies the capacity at\n",
      "        each ds.\n",
      "    kwargs: Additional arguments passed to the optimizing or sampling\n",
      "        functions in Stan.\n",
      "    \n",
      "    Returns\n",
      "    -------\n",
      "    The fitted Prophet object.\n",
      "\n"
     ]
    }
   ],
   "source": [
    "help(Prophet.fit)"
   ]
  },
  {
   "cell_type": "code",
   "execution_count": null,
   "id": "be923643",
   "metadata": {},
   "outputs": [],
   "source": []
  }
 ],
 "metadata": {
  "kernelspec": {
   "display_name": "Python 3 (ipykernel)",
   "language": "python",
   "name": "python3"
  },
  "language_info": {
   "codemirror_mode": {
    "name": "ipython",
    "version": 3
   },
   "file_extension": ".py",
   "mimetype": "text/x-python",
   "name": "python",
   "nbconvert_exporter": "python",
   "pygments_lexer": "ipython3",
   "version": "3.9.7"
  }
 },
 "nbformat": 4,
 "nbformat_minor": 5
}
